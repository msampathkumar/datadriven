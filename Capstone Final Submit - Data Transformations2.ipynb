{
 "cells": [
  {
   "cell_type": "markdown",
   "metadata": {},
   "source": [
    "# Data Transformations2"
   ]
  },
  {
   "cell_type": "markdown",
   "metadata": {},
   "source": [
    "**Introduction:**\n",
    "Using the data gathered from Taarifa and the Tanzanian Ministry of Water, can we predict which pumps are functional, which need some repairs, and which don't work at all? Predicting one of these three classes based and a smart understanding of which waterpoints will fail, can improve the maintenance operations and ensure that clean, potable water is available to communities across Tanzania.\n",
    "\n",
    "This is also an intermediate-level competition by [DataDriven][1]! All code & support scripts are in [Github Repo][2]\n",
    "\n",
    "[1]: https://www.drivendata.org/competitions/7/ \"Link to Competetion Page\"\n",
    "[2]: https://github.com/msampathkumar/datadriven_pumpit \"User Code\""
   ]
  },
  {
   "cell_type": "code",
   "execution_count": 1,
   "metadata": {
    "collapsed": true
   },
   "outputs": [],
   "source": [
    "import numpy as np\n",
    "import pandas as pd\n",
    "import matplotlib.pyplot as plt\n",
    "import seaborn as sns\n",
    "import pickle\n",
    "\n",
    "from scripts.sam_value_counts import sam_dataframe_cols_value_count_analysis, sam_dataframe_markup_value_counts\n",
    "from scripts.sam_confusion_matrix import sam_plot_confusion_matrix, sam_confusion_maxtrix\n",
    "from scripts.sam_variance_check import get_low_variance_columns\n",
    "from scripts.tools import check_metric, data_transformations, df_check_stats, game, sam_pickle_save, sam_pickle_load\n",
    "\n",
    "from sklearn.model_selection import train_test_split\n",
    "from sklearn.feature_selection import SelectKBest\n",
    "from sklearn.feature_selection import chi2\n",
    "\n",
    "from sklearn.decomposition import PCA\n",
    "\n",
    "np.set_printoptions(precision=5)\n",
    "np.random.seed(69572)\n",
    "plt.style.use('ggplot')\n",
    "sns.set(color_codes=True)\n",
    "\n",
    "%matplotlib inline"
   ]
  },
  {
   "cell_type": "code",
   "execution_count": 2,
   "metadata": {
    "collapsed": false,
    "scrolled": true
   },
   "outputs": [
    {
     "name": "stdout",
     "output_type": "stream",
     "text": [
      "LOAD PREFIX USED:  tmp/Iteration2_final_\n",
      "Data Frame Shape: (59400, 43) TotColumns: 43 ObjectCols: 0\n",
      "Numpy Array Size: 59400\n",
      "Data Frame Shape: (14850, 43) TotColumns: 43 ObjectCols: 0\n"
     ]
    }
   ],
   "source": [
    "X, y, TEST_X = sam_pickle_load(prefix=\"tmp/Iteration2_final_\")\n",
    "df_check_stats(X, y, TEST_X)"
   ]
  },
  {
   "cell_type": "code",
   "execution_count": 3,
   "metadata": {
    "collapsed": false,
    "scrolled": true
   },
   "outputs": [
    {
     "name": "stdout",
     "output_type": "stream",
     "text": [
      "------------------------------------------------\n",
      "AC Score: 0.985342312009 F1 Score: 0.985408921295\n",
      "------------------------------------------------\n",
      "AC Score: 0.800673400673 F1 Score: 0.806862879864\n"
     ]
    }
   ],
   "source": [
    "# benchmark\n",
    "X_train, X_test, y_train, y_test = train_test_split(X, y, test_size=0.25,random_state=42, stratify=y)\n",
    "clf = game(X_train, X_test, y_train, y_test, algo='rf', )"
   ]
  },
  {
   "cell_type": "code",
   "execution_count": 4,
   "metadata": {
    "collapsed": false
   },
   "outputs": [
    {
     "name": "stdout",
     "output_type": "stream",
     "text": [
      "------------------------------------------------\n",
      "AC Score: 0.758451178451 F1 Score: 0.77953282745\n",
      "------------------------------------------------\n",
      "AC Score: 0.755420875421 F1 Score: 0.777454236688\n"
     ]
    }
   ],
   "source": [
    "# benchmark\n",
    "gbt_clf = game(X_train, X_test, y_train, y_test, algo='gb')"
   ]
  },
  {
   "cell_type": "code",
   "execution_count": 5,
   "metadata": {
    "collapsed": false
   },
   "outputs": [
    {
     "name": "stdout",
     "output_type": "stream",
     "text": [
      "------------------------------------------------\n",
      "AC Score: 0.725768799102 F1 Score: 0.734891191246\n",
      "------------------------------------------------\n",
      "AC Score: 0.603703703704 F1 Score: 0.616254144617\n"
     ]
    }
   ],
   "source": [
    "knn_clf = game(X_train, X_test, y_train, y_test, algo='knn')"
   ]
  },
  {
   "cell_type": "code",
   "execution_count": 6,
   "metadata": {
    "collapsed": false,
    "scrolled": true
   },
   "outputs": [
    {
     "name": "stdout",
     "output_type": "stream",
     "text": [
      "Data Frame Shape: (59400, 43) TotColumns: 43 ObjectCols: 0\n",
      "Numpy Array Size: 59400\n",
      "Data Frame Shape: (14850, 43) TotColumns: 43 ObjectCols: 0\n"
     ]
    }
   ],
   "source": [
    "df_check_stats(X, y, TEST_X)"
   ]
  },
  {
   "cell_type": "code",
   "execution_count": 7,
   "metadata": {
    "collapsed": false
   },
   "outputs": [
    {
     "name": "stdout",
     "output_type": "stream",
     "text": [
      "Finding low-variance features.\n",
      "Found 2 low-variance columns.\n",
      "                \n",
      "Removing low-variance features.\n",
      "Reassembling the dataframe (with low-variance features removed).\n",
      "Succesfully removed low-variance columns.\n"
     ]
    }
   ],
   "source": [
    "# Variance Threshold\n",
    "X, removed_features, ranking_variance_thresholds = get_low_variance_columns(dframe=X, threshold=(0.85 * (1 - 0.85)), autoremove=True)\n",
    "TEST_X.drop(removed_features, axis=1, inplace=True)"
   ]
  },
  {
   "cell_type": "code",
   "execution_count": 8,
   "metadata": {
    "collapsed": false,
    "scrolled": true
   },
   "outputs": [
    {
     "name": "stdout",
     "output_type": "stream",
     "text": [
      "['public_meeting', 'recorded_by']\n"
     ]
    }
   ],
   "source": [
    "print(removed_features)"
   ]
  },
  {
   "cell_type": "code",
   "execution_count": 9,
   "metadata": {
    "collapsed": false,
    "scrolled": true
   },
   "outputs": [
    {
     "name": "stdout",
     "output_type": "stream",
     "text": [
      "SAVE PREFIX USED:  tmp/Iteration2_vt_\n"
     ]
    }
   ],
   "source": [
    "sam_pickle_save(X, y, TEST_X, prefix=\"tmp/Iteration2_vt_\")"
   ]
  },
  {
   "cell_type": "code",
   "execution_count": 10,
   "metadata": {
    "collapsed": false
   },
   "outputs": [
    {
     "name": "stdout",
     "output_type": "stream",
     "text": [
      "LOAD PREFIX USED:  tmp/Iteration2_vt_\n",
      "Data Frame Shape: (59400, 41) TotColumns: 41 ObjectCols: 0\n",
      "Numpy Array Size: 59400\n",
      "Data Frame Shape: (14850, 41) TotColumns: 41 ObjectCols: 0\n"
     ]
    }
   ],
   "source": [
    "X, y, TEST_X = sam_pickle_load(prefix='tmp/Iteration2_vt_')\n",
    "\n",
    "df_check_stats(X, y, TEST_X)"
   ]
  },
  {
   "cell_type": "code",
   "execution_count": 11,
   "metadata": {
    "collapsed": false
   },
   "outputs": [
    {
     "name": "stdout",
     "output_type": "stream",
     "text": [
      "------------------------------------------------\n",
      "AC Score: 0.985005611672 F1 Score: 0.98507197283\n",
      "------------------------------------------------\n",
      "AC Score: 0.797643097643 F1 Score: 0.80432839796\n"
     ]
    }
   ],
   "source": [
    "# benchmark\n",
    "X_train, X_test, y_train, y_test = train_test_split(X, y, test_size=0.25,random_state=42, stratify=y)\n",
    "clf = game(X_train, X_test, y_train, y_test, algo='rf', )"
   ]
  },
  {
   "cell_type": "code",
   "execution_count": 12,
   "metadata": {
    "collapsed": false
   },
   "outputs": [
    {
     "name": "stdout",
     "output_type": "stream",
     "text": [
      "------------------------------------------------\n",
      "AC Score: 0.756363636364 F1 Score: 0.778053353403\n",
      "------------------------------------------------\n",
      "AC Score: 0.756228956229 F1 Score: 0.778492089528\n"
     ]
    }
   ],
   "source": [
    "# benchmark\n",
    "clf = game(X_train, X_test, y_train, y_test, algo='gb', )"
   ]
  },
  {
   "cell_type": "code",
   "execution_count": 13,
   "metadata": {
    "collapsed": true
   },
   "outputs": [],
   "source": [
    "# KBest Selection\n",
    "def find_kbest_cols_count(start=10, stop=37, step=3):\n",
    "    for kbest_cols in range(start, stop, step):\n",
    "        print('============================================================', kbest_cols)\n",
    "\n",
    "        # Load Data\n",
    "        X, y, TEST_X = sam_pickle_load(prefix='tmp/Iteration2_vt_')\n",
    "\n",
    "        fit = SelectKBest(score_func=chi2, k=kbest_cols).fit(X, y)\n",
    "        cols_names = X.columns\n",
    "        kbest_selected_cols =  [_ for _ in cols_names[:kbest_cols]]\n",
    "\n",
    "        # transformation\n",
    "        X = pd.DataFrame(fit.transform(X))\n",
    "        TEST_X = pd.DataFrame(fit.transform(TEST_X))\n",
    "\n",
    "        # check\n",
    "        # df_check_stats(X, y)\n",
    "\n",
    "        # benchmark\n",
    "        X_train, X_test, y_train, y_test = train_test_split(X, y, test_size=0.25,random_state=42, stratify=y)\n",
    "        clf = game(X_train, X_test, y_train, y_test, algo='rf', show_train_scores=False)\n",
    "    return fit, kbest_selected_cols"
   ]
  },
  {
   "cell_type": "code",
   "execution_count": 14,
   "metadata": {
    "collapsed": false
   },
   "outputs": [
    {
     "name": "stdout",
     "output_type": "stream",
     "text": [
      "============================================================ 10\n",
      "LOAD PREFIX USED:  tmp/Iteration2_vt_\n",
      "------------------------------------------------\n",
      "AC Score: 0.714141414141 F1 Score: 0.720517619642\n",
      "============================================================ 13\n",
      "LOAD PREFIX USED:  tmp/Iteration2_vt_\n",
      "------------------------------------------------\n",
      "AC Score: 0.726599326599 F1 Score: 0.732670572958\n",
      "============================================================ 16\n",
      "LOAD PREFIX USED:  tmp/Iteration2_vt_\n",
      "------------------------------------------------\n",
      "AC Score: 0.762828282828 F1 Score: 0.769713959304\n",
      "============================================================ 19\n",
      "LOAD PREFIX USED:  tmp/Iteration2_vt_\n",
      "------------------------------------------------\n",
      "AC Score: 0.761818181818 F1 Score: 0.768987911336\n",
      "============================================================ 22\n",
      "LOAD PREFIX USED:  tmp/Iteration2_vt_\n",
      "------------------------------------------------\n",
      "AC Score: 0.76404040404 F1 Score: 0.770400446676\n",
      "============================================================ 25\n",
      "LOAD PREFIX USED:  tmp/Iteration2_vt_\n",
      "------------------------------------------------\n",
      "AC Score: 0.798855218855 F1 Score: 0.805350106632\n",
      "============================================================ 28\n",
      "LOAD PREFIX USED:  tmp/Iteration2_vt_\n",
      "------------------------------------------------\n",
      "AC Score: 0.79797979798 F1 Score: 0.804237759375\n",
      "============================================================ 31\n",
      "LOAD PREFIX USED:  tmp/Iteration2_vt_\n",
      "------------------------------------------------\n",
      "AC Score: 0.800269360269 F1 Score: 0.807073661833\n",
      "============================================================ 34\n",
      "LOAD PREFIX USED:  tmp/Iteration2_vt_\n",
      "------------------------------------------------\n",
      "AC Score: 0.799528619529 F1 Score: 0.805954184926\n",
      "============================================================ 37\n",
      "LOAD PREFIX USED:  tmp/Iteration2_vt_\n",
      "------------------------------------------------\n",
      "AC Score: 0.799393939394 F1 Score: 0.805938744577\n",
      "============================================================ 40\n",
      "LOAD PREFIX USED:  tmp/Iteration2_vt_\n",
      "------------------------------------------------\n",
      "AC Score: 0.800538720539 F1 Score: 0.806586827304\n"
     ]
    }
   ],
   "source": [
    "fit, cols =  find_kbest_cols_count(start=10, stop=len(X.columns), step=3)"
   ]
  },
  {
   "cell_type": "code",
   "execution_count": 15,
   "metadata": {
    "collapsed": false
   },
   "outputs": [
    {
     "name": "stdout",
     "output_type": "stream",
     "text": [
      "============================================================ 29\n",
      "LOAD PREFIX USED:  tmp/Iteration2_vt_\n",
      "------------------------------------------------\n",
      "AC Score: 0.799461279461 F1 Score: 0.805923109705\n",
      "============================================================ 30\n",
      "LOAD PREFIX USED:  tmp/Iteration2_vt_\n",
      "------------------------------------------------\n",
      "AC Score: 0.796161616162 F1 Score: 0.802754311432\n",
      "============================================================ 31\n",
      "LOAD PREFIX USED:  tmp/Iteration2_vt_\n",
      "------------------------------------------------\n",
      "AC Score: 0.800269360269 F1 Score: 0.807073661833\n",
      "============================================================ 32\n",
      "LOAD PREFIX USED:  tmp/Iteration2_vt_\n",
      "------------------------------------------------\n",
      "AC Score: 0.799730639731 F1 Score: 0.80587359584\n",
      "============================================================ 33\n",
      "LOAD PREFIX USED:  tmp/Iteration2_vt_\n",
      "------------------------------------------------\n",
      "AC Score: 0.798383838384 F1 Score: 0.805126076692\n"
     ]
    }
   ],
   "source": [
    "fit, cols =  find_kbest_cols_count(start=29, stop=34, step=1)"
   ]
  },
  {
   "cell_type": "code",
   "execution_count": 16,
   "metadata": {
    "collapsed": false
   },
   "outputs": [
    {
     "name": "stdout",
     "output_type": "stream",
     "text": [
      "============================================================ 23\n",
      "LOAD PREFIX USED:  tmp/Iteration2_vt_\n",
      "------------------------------------------------\n",
      "AC Score: 0.796430976431 F1 Score: 0.803540520517\n",
      "============================================================ 24\n",
      "LOAD PREFIX USED:  tmp/Iteration2_vt_\n",
      "------------------------------------------------\n",
      "AC Score: 0.796835016835 F1 Score: 0.803498486511\n",
      "============================================================ 25\n",
      "LOAD PREFIX USED:  tmp/Iteration2_vt_\n",
      "------------------------------------------------\n",
      "AC Score: 0.798855218855 F1 Score: 0.805350106632\n",
      "============================================================ 26\n",
      "LOAD PREFIX USED:  tmp/Iteration2_vt_\n",
      "------------------------------------------------\n",
      "AC Score: 0.800606060606 F1 Score: 0.807100310293\n"
     ]
    }
   ],
   "source": [
    "fit, cols =  find_kbest_cols_count(start=23, stop=27, step=1)"
   ]
  },
  {
   "cell_type": "code",
   "execution_count": 18,
   "metadata": {
    "collapsed": false
   },
   "outputs": [
    {
     "data": {
      "text/plain": [
       "<matplotlib.text.Text at 0x113758198>"
      ]
     },
     "execution_count": 18,
     "metadata": {},
     "output_type": "execute_result"
    },
    {
     "data": {
      "image/png": "[encoded data removed]",
      "text/plain": [
       "<matplotlib.figure.Figure at 0x10e6058d0>"
      ]
     },
     "metadata": {},
     "output_type": "display_data"
    }
   ],
   "source": [
    "data = '''\n",
    "============================================================ 10\n",
    "LOAD PREFIX USED:  tmp/Iteration2_vt_\n",
    "------------------------------------------------\n",
    "AC Score: 0.714141414141 F1 Score: 0.720517619642\n",
    "============================================================ 13\n",
    "LOAD PREFIX USED:  tmp/Iteration2_vt_\n",
    "------------------------------------------------\n",
    "AC Score: 0.726599326599 F1 Score: 0.732670572958\n",
    "============================================================ 16\n",
    "LOAD PREFIX USED:  tmp/Iteration2_vt_\n",
    "------------------------------------------------\n",
    "AC Score: 0.762828282828 F1 Score: 0.769713959304\n",
    "============================================================ 19\n",
    "LOAD PREFIX USED:  tmp/Iteration2_vt_\n",
    "------------------------------------------------\n",
    "AC Score: 0.761818181818 F1 Score: 0.768987911336\n",
    "============================================================ 22\n",
    "LOAD PREFIX USED:  tmp/Iteration2_vt_\n",
    "------------------------------------------------\n",
    "AC Score: 0.76404040404 F1 Score: 0.770400446676\n",
    "============================================================ 23\n",
    "LOAD PREFIX USED:  tmp/Iteration2_vt_\n",
    "------------------------------------------------\n",
    "AC Score: 0.796430976431 F1 Score: 0.803540520517\n",
    "============================================================ 24\n",
    "LOAD PREFIX USED:  tmp/Iteration2_vt_\n",
    "------------------------------------------------\n",
    "AC Score: 0.796835016835 F1 Score: 0.803498486511\n",
    "============================================================ 25\n",
    "LOAD PREFIX USED:  tmp/Iteration2_vt_\n",
    "------------------------------------------------\n",
    "AC Score: 0.798855218855 F1 Score: 0.805350106632\n",
    "============================================================ 26\n",
    "LOAD PREFIX USED:  tmp/Iteration2_vt_\n",
    "------------------------------------------------\n",
    "AC Score: 0.800606060606 F1 Score: 0.807100310293\n",
    "============================================================ 28\n",
    "LOAD PREFIX USED:  tmp/Iteration2_vt_\n",
    "------------------------------------------------\n",
    "AC Score: 0.79797979798 F1 Score: 0.804237759375\n",
    "============================================================ 29\n",
    "LOAD PREFIX USED:  tmp/Iteration2_vt_\n",
    "------------------------------------------------\n",
    "AC Score: 0.799461279461 F1 Score: 0.805923109705\n",
    "============================================================ 30\n",
    "LOAD PREFIX USED:  tmp/Iteration2_vt_\n",
    "------------------------------------------------\n",
    "AC Score: 0.796161616162 F1 Score: 0.802754311432\n",
    "============================================================ 31\n",
    "LOAD PREFIX USED:  tmp/Iteration2_vt_\n",
    "------------------------------------------------\n",
    "AC Score: 0.800269360269 F1 Score: 0.807073661833\n",
    "============================================================ 32\n",
    "LOAD PREFIX USED:  tmp/Iteration2_vt_\n",
    "------------------------------------------------\n",
    "AC Score: 0.799730639731 F1 Score: 0.80587359584\n",
    "============================================================ 33\n",
    "LOAD PREFIX USED:  tmp/Iteration2_vt_\n",
    "------------------------------------------------\n",
    "AC Score: 0.798383838384 F1 Score: 0.805126076692\n",
    "============================================================ 34\n",
    "LOAD PREFIX USED:  tmp/Iteration2_vt_\n",
    "------------------------------------------------\n",
    "AC Score: 0.799528619529 F1 Score: 0.805954184926\n",
    "============================================================ 37\n",
    "LOAD PREFIX USED:  tmp/Iteration2_vt_\n",
    "------------------------------------------------\n",
    "AC Score: 0.799393939394 F1 Score: 0.805938744577\n",
    "============================================================ 40\n",
    "LOAD PREFIX USED:  tmp/Iteration2_vt_\n",
    "------------------------------------------------\n",
    "AC Score: 0.800538720539 F1 Score: 0.806586827304\n",
    "'''.strip()\n",
    "\n",
    "data_k_selections = []\n",
    "data_k_ac_scores = []\n",
    "data_k_f1_scores = []\n",
    "\n",
    "for line in data.strip().splitlines():\n",
    "    if line.startswith('===='):\n",
    "        data_k_selections.append(int(line.split()[-1]))\n",
    "    if line.startswith('AC Score'):\n",
    "        line = line.split()\n",
    "        data_k_ac_scores.append(float(line[2]))\n",
    "        data_k_f1_scores.append(float(line[-1]))\n",
    "\n",
    "# print(data_k_selections)\n",
    "# print(data_k_ac_scores)\n",
    "# print(data_k_f1_scores)\n",
    "\n",
    "plt.figure(figsize=(12, 3))\n",
    "plt.plot(data_k_selections, data_k_ac_scores)\n",
    "plt.xticks(data_k_selections)\n",
    "plt.xlabel('No.of Columns')\n",
    "plt.ylabel('Scores')\n",
    "plt.title('KBest Columns Selection')"
   ]
  },
  {
   "cell_type": "code",
   "execution_count": 19,
   "metadata": {
    "collapsed": false
   },
   "outputs": [
    {
     "data": {
      "text/plain": [
       "<matplotlib.text.Text at 0x1141fff98>"
      ]
     },
     "execution_count": 19,
     "metadata": {},
     "output_type": "execute_result"
    },
    {
     "data": {
      "image/png": "[encoded data removed]",
      "text/plain": [
       "<matplotlib.figure.Figure at 0x111725390>"
      ]
     },
     "metadata": {},
     "output_type": "display_data"
    }
   ],
   "source": [
    "show_tick_from_point = 5\n",
    "\n",
    "plt.figure(figsize=(12, 3))\n",
    "plt.plot(data_k_selections[show_tick_from_point:], data_k_ac_scores[show_tick_from_point:])\n",
    "plt.xticks(data_k_selections[show_tick_from_point:])\n",
    "plt.xlabel('No.of Columns')\n",
    "plt.ylabel('Scores')\n",
    "plt.title('KBest Columns Selection')"
   ]
  },
  {
   "cell_type": "code",
   "execution_count": 20,
   "metadata": {
    "collapsed": false,
    "scrolled": false
   },
   "outputs": [
    {
     "name": "stdout",
     "output_type": "stream",
     "text": [
      "============================================================ 26\n",
      "LOAD PREFIX USED:  tmp/Iteration2_vt_\n",
      "Data Frame Shape: (59400, 41) TotColumns: 41 ObjectCols: 0\n",
      "Numpy Array Size: 59400\n",
      "Data Frame Shape: (14850, 41) TotColumns: 41 ObjectCols: 0\n"
     ]
    }
   ],
   "source": [
    "# KBEST SELECTION\n",
    "\n",
    "# # AC Score: 0.801144781145 F1 Score: 0.808254959747\n",
    "# kbest_cols = 25\n",
    "\n",
    "# # AC Score: 0.80202020202 F1 Score: 0.808465348624\n",
    "kbest_cols = 26\n",
    "\n",
    "print('============================================================', kbest_cols)\n",
    "\n",
    "# Load Data\n",
    "X, y, TEST_X = sam_pickle_load(prefix='tmp/Iteration2_vt_')\n",
    "df_check_stats(X, y, TEST_X)\n",
    "\n",
    "fit = SelectKBest(score_func=chi2, k=kbest_cols).fit(X, y)\n",
    "cols_names = X.columns\n",
    "kbest_selected_cols =  [_ for _ in cols_names[:kbest_cols]]\n",
    "\n",
    "# transformation\n",
    "X = pd.DataFrame(fit.transform(X))\n",
    "TEST_X = pd.DataFrame(fit.transform(TEST_X))"
   ]
  },
  {
   "cell_type": "code",
   "execution_count": 21,
   "metadata": {
    "collapsed": false
   },
   "outputs": [
    {
     "name": "stdout",
     "output_type": "stream",
     "text": [
      "------------------------------------------------\n",
      "AC Score: 0.984466891134 F1 Score: 0.984531775973\n",
      "------------------------------------------------\n",
      "AC Score: 0.800606060606 F1 Score: 0.807100310293\n"
     ]
    }
   ],
   "source": [
    "# benchmark\n",
    "X_train, X_test, y_train, y_test = train_test_split(X, y, test_size=0.25,random_state=42, stratify=y)\n",
    "clf = game(X_train, X_test, y_train, y_test, algo='rf') #, show_train_scores=False)"
   ]
  },
  {
   "cell_type": "code",
   "execution_count": 22,
   "metadata": {
    "collapsed": false
   },
   "outputs": [
    {
     "name": "stdout",
     "output_type": "stream",
     "text": [
      "------------------------------------------------\n",
      "AC Score: 0.754500561167 F1 Score: 0.775325264771\n",
      "------------------------------------------------\n",
      "AC Score: 0.755084175084 F1 Score: 0.776717384512\n"
     ]
    }
   ],
   "source": [
    "clf = game(X_train, X_test, y_train, y_test, algo='gb') # , show_train_scores=False)"
   ]
  },
  {
   "cell_type": "code",
   "execution_count": 40,
   "metadata": {
    "collapsed": false
   },
   "outputs": [
    {
     "name": "stdout",
     "output_type": "stream",
     "text": [
      "SAVE PREFIX USED:  tmp/Iteration2_vt_kb_\n"
     ]
    }
   ],
   "source": [
    "sam_pickle_save(X, y, TEST_X, prefix='tmp/Iteration2_vt_kb_')"
   ]
  },
  {
   "cell_type": "code",
   "execution_count": 41,
   "metadata": {
    "collapsed": false
   },
   "outputs": [
    {
     "name": "stdout",
     "output_type": "stream",
     "text": [
      "LOAD PREFIX USED:  tmp/Iteration2_vt_kb_\n",
      "Data Frame Shape: (59400, 33) TotColumns: 33 ObjectCols: 0\n",
      "Numpy Array Size: 59400\n",
      "Data Frame Shape: (14850, 33) TotColumns: 33 ObjectCols: 0\n"
     ]
    }
   ],
   "source": [
    "X, y, TEST_X = sam_pickle_load(prefix='tmp/Iteration2_vt_kb_')\n",
    "df_check_stats(X, y, TEST_X)"
   ]
  },
  {
   "cell_type": "code",
   "execution_count": 42,
   "metadata": {
    "collapsed": true
   },
   "outputs": [],
   "source": [
    "# PCA\n",
    "from sklearn.decomposition import PCA"
   ]
  },
  {
   "cell_type": "code",
   "execution_count": 43,
   "metadata": {
    "collapsed": false
   },
   "outputs": [],
   "source": [
    "pca = PCA()\n",
    "fit = pca.fit(X)\n",
    "\n",
    "X = fit.transform(X)"
   ]
  },
  {
   "cell_type": "code",
   "execution_count": 44,
   "metadata": {
    "collapsed": false,
    "scrolled": true
   },
   "outputs": [
    {
     "name": "stdout",
     "output_type": "stream",
     "text": [
      "------------------------------------------------\n",
      "AC Score: 0.985432098765 F1 Score: 0.985497694018\n",
      "------------------------------------------------\n",
      "AC Score: 0.778787878788 F1 Score: 0.786607357931\n"
     ]
    }
   ],
   "source": [
    "# benchmark\n",
    "X_train, X_test, y_train, y_test = train_test_split(X, y, test_size=0.25,random_state=42, stratify=y)\n",
    "clf = game(X_train, X_test, y_train, y_test, algo='rf')# , show_train_scores=False)"
   ]
  },
  {
   "cell_type": "code",
   "execution_count": 45,
   "metadata": {
    "collapsed": false
   },
   "outputs": [
    {
     "name": "stdout",
     "output_type": "stream",
     "text": [
      "------------------------------------------------\n",
      "AC Score: 0.744511784512 F1 Score: 0.766021357427\n",
      "------------------------------------------------\n",
      "AC Score: 0.737306397306 F1 Score: 0.761164447365\n"
     ]
    }
   ],
   "source": [
    "clf = game(X_train, X_test, y_train, y_test, algo='gb')# , show_train_scores=False)"
   ]
  },
  {
   "cell_type": "markdown",
   "metadata": {},
   "source": [
    "# Analysis"
   ]
  },
  {
   "cell_type": "code",
   "execution_count": 76,
   "metadata": {
    "collapsed": true
   },
   "outputs": [],
   "source": [
    "names = ['Benchmark(Iteration2_dt1_)', 'First DT', 'Second DT(Iteration2_final_)',\n",
    "        'VT(Iteration2_vt_)', 'KBest(Iteration2_vt_kb_)', 'PCA',]\n",
    "\n",
    "\n",
    "# rf - random forest\n",
    "rf_tr_scores = [0.985162738496, 0.985005611672, 0.985342312009,\n",
    "                0.985005611672, 0.984287317621, 0.985432098765,]\n",
    "\n",
    "rf_te_scores = [0.800538720539, 0.801212121212, 0.800740740741,\n",
    "                0.797643097643, 0.798383838384, 0.778787878788]\n",
    "\n",
    "rf_diff = [ a - b for a, b in zip(rf_tr_scores, rf_te_scores)]"
   ]
  },
  {
   "cell_type": "code",
   "execution_count": 86,
   "metadata": {
    "collapsed": false
   },
   "outputs": [
    {
     "data": {
      "text/plain": [
       "(array([ 0.   ,  0.001,  0.002,  0.003,  0.004,  0.005,  0.006,  0.007,\n",
       "         0.008]), <a list of 9 Text yticklabel objects>)"
      ]
     },
     "execution_count": 86,
     "metadata": {},
     "output_type": "execute_result"
    },
    {
     "data": {
      "image/png": "[encoded data removed]",
      "text/plain": [
       "<matplotlib.figure.Figure at 0x112309b70>"
      ]
     },
     "metadata": {},
     "output_type": "display_data"
    },
    {
     "data": {
      "image/png": "[encoded data removed]",
      "text/plain": [
       "<matplotlib.figure.Figure at 0x11346b978>"
      ]
     },
     "metadata": {},
     "output_type": "display_data"
    }
   ],
   "source": [
    "plot_size = (8, 3)\n",
    "\n",
    "plt.figure(figsize=plot_size)\n",
    "plt.plot(range(len(names)), gb_tr_scores)\n",
    "plt.plot(range(len(names)), gb_te_scores)\n",
    "plt.title('GB Test-Train Score growth with Data Transformation', fontsize=8)\n",
    "plt.yticks(fontsize=8)\n",
    "plt.xticks(np.arange(len(names)) + .0004, names, fontsize=8)\n",
    "\n",
    "plt.figure(figsize=plot_size)\n",
    "plt.bar(np.arange(len(names)), gb_diff)\n",
    "plt.plot(np.arange(len(names)) + .4, gb_diff, '--')\n",
    "plt.xticks(np.arange(len(names)) + .4, names, fontsize=8)\n",
    "plt.title('GB Test-Train Score Differences during Data Transformation(DT) stages', fontsize=8)\n",
    "plt.yticks(fontsize=8)"
   ]
  },
  {
   "cell_type": "code",
   "execution_count": 51,
   "metadata": {
    "collapsed": false
   },
   "outputs": [
    {
     "ename": "ValueError",
     "evalue": "x and y must have same first dimension",
     "output_type": "error",
     "traceback": [
      "\u001b[0;31m---------------------------------------------------------------------------\u001b[0m",
      "\u001b[0;31mValueError\u001b[0m                                Traceback (most recent call last)",
      "\u001b[0;32m<ipython-input-51-3cbb5e3b0c12>\u001b[0m in \u001b[0;36m<module>\u001b[0;34m()\u001b[0m\n\u001b[1;32m      1\u001b[0m \u001b[0mplt\u001b[0m\u001b[0;34m.\u001b[0m\u001b[0mfigure\u001b[0m\u001b[0;34m(\u001b[0m\u001b[0mfigsize\u001b[0m\u001b[0;34m=\u001b[0m\u001b[0;34m(\u001b[0m\u001b[0;36m5\u001b[0m\u001b[0;34m,\u001b[0m \u001b[0;36m3\u001b[0m\u001b[0;34m)\u001b[0m\u001b[0;34m)\u001b[0m\u001b[0;34m\u001b[0m\u001b[0m\n\u001b[0;32m----> 2\u001b[0;31m \u001b[0mplt\u001b[0m\u001b[0;34m.\u001b[0m\u001b[0mplot\u001b[0m\u001b[0;34m(\u001b[0m\u001b[0mrange\u001b[0m\u001b[0;34m(\u001b[0m\u001b[0;36m3\u001b[0m\u001b[0;34m)\u001b[0m\u001b[0;34m,\u001b[0m \u001b[0mrf_tr_scores\u001b[0m\u001b[0;34m)\u001b[0m\u001b[0;34m\u001b[0m\u001b[0m\n\u001b[0m\u001b[1;32m      3\u001b[0m \u001b[0mplt\u001b[0m\u001b[0;34m.\u001b[0m\u001b[0mplot\u001b[0m\u001b[0;34m(\u001b[0m\u001b[0mrange\u001b[0m\u001b[0;34m(\u001b[0m\u001b[0;36m3\u001b[0m\u001b[0;34m)\u001b[0m\u001b[0;34m,\u001b[0m \u001b[0mrf_te_scores\u001b[0m\u001b[0;34m)\u001b[0m\u001b[0;34m\u001b[0m\u001b[0m\n\u001b[1;32m      4\u001b[0m \u001b[0mplt\u001b[0m\u001b[0;34m.\u001b[0m\u001b[0mtitle\u001b[0m\u001b[0;34m(\u001b[0m\u001b[0;34m'GB Test-Train Score growth with Data Transformation'\u001b[0m\u001b[0;34m,\u001b[0m \u001b[0mfontsize\u001b[0m\u001b[0;34m=\u001b[0m\u001b[0;36m8\u001b[0m\u001b[0;34m)\u001b[0m\u001b[0;34m\u001b[0m\u001b[0m\n\u001b[1;32m      5\u001b[0m \u001b[0mplt\u001b[0m\u001b[0;34m.\u001b[0m\u001b[0myticks\u001b[0m\u001b[0;34m(\u001b[0m\u001b[0mfontsize\u001b[0m\u001b[0;34m=\u001b[0m\u001b[0;36m8\u001b[0m\u001b[0;34m)\u001b[0m\u001b[0;34m\u001b[0m\u001b[0m\n",
      "\u001b[0;32m/Users/sampathm/miniconda3/lib/python3.5/site-packages/matplotlib/pyplot.py\u001b[0m in \u001b[0;36mplot\u001b[0;34m(*args, **kwargs)\u001b[0m\n\u001b[1;32m   3159\u001b[0m         \u001b[0max\u001b[0m\u001b[0;34m.\u001b[0m\u001b[0mhold\u001b[0m\u001b[0;34m(\u001b[0m\u001b[0mhold\u001b[0m\u001b[0;34m)\u001b[0m\u001b[0;34m\u001b[0m\u001b[0m\n\u001b[1;32m   3160\u001b[0m     \u001b[0;32mtry\u001b[0m\u001b[0;34m:\u001b[0m\u001b[0;34m\u001b[0m\u001b[0m\n\u001b[0;32m-> 3161\u001b[0;31m         \u001b[0mret\u001b[0m \u001b[0;34m=\u001b[0m \u001b[0max\u001b[0m\u001b[0;34m.\u001b[0m\u001b[0mplot\u001b[0m\u001b[0;34m(\u001b[0m\u001b[0;34m*\u001b[0m\u001b[0margs\u001b[0m\u001b[0;34m,\u001b[0m \u001b[0;34m**\u001b[0m\u001b[0mkwargs\u001b[0m\u001b[0;34m)\u001b[0m\u001b[0;34m\u001b[0m\u001b[0m\n\u001b[0m\u001b[1;32m   3162\u001b[0m     \u001b[0;32mfinally\u001b[0m\u001b[0;34m:\u001b[0m\u001b[0;34m\u001b[0m\u001b[0m\n\u001b[1;32m   3163\u001b[0m         \u001b[0max\u001b[0m\u001b[0;34m.\u001b[0m\u001b[0mhold\u001b[0m\u001b[0;34m(\u001b[0m\u001b[0mwashold\u001b[0m\u001b[0;34m)\u001b[0m\u001b[0;34m\u001b[0m\u001b[0m\n",
      "\u001b[0;32m/Users/sampathm/miniconda3/lib/python3.5/site-packages/matplotlib/__init__.py\u001b[0m in \u001b[0;36minner\u001b[0;34m(ax, *args, **kwargs)\u001b[0m\n\u001b[1;32m   1817\u001b[0m                     warnings.warn(msg % (label_namer, func.__name__),\n\u001b[1;32m   1818\u001b[0m                                   RuntimeWarning, stacklevel=2)\n\u001b[0;32m-> 1819\u001b[0;31m             \u001b[0;32mreturn\u001b[0m \u001b[0mfunc\u001b[0m\u001b[0;34m(\u001b[0m\u001b[0max\u001b[0m\u001b[0;34m,\u001b[0m \u001b[0;34m*\u001b[0m\u001b[0margs\u001b[0m\u001b[0;34m,\u001b[0m \u001b[0;34m**\u001b[0m\u001b[0mkwargs\u001b[0m\u001b[0;34m)\u001b[0m\u001b[0;34m\u001b[0m\u001b[0m\n\u001b[0m\u001b[1;32m   1820\u001b[0m         \u001b[0mpre_doc\u001b[0m \u001b[0;34m=\u001b[0m \u001b[0minner\u001b[0m\u001b[0;34m.\u001b[0m\u001b[0m__doc__\u001b[0m\u001b[0;34m\u001b[0m\u001b[0m\n\u001b[1;32m   1821\u001b[0m         \u001b[0;32mif\u001b[0m \u001b[0mpre_doc\u001b[0m \u001b[0;32mis\u001b[0m \u001b[0;32mNone\u001b[0m\u001b[0;34m:\u001b[0m\u001b[0;34m\u001b[0m\u001b[0m\n",
      "\u001b[0;32m/Users/sampathm/miniconda3/lib/python3.5/site-packages/matplotlib/axes/_axes.py\u001b[0m in \u001b[0;36mplot\u001b[0;34m(self, *args, **kwargs)\u001b[0m\n\u001b[1;32m   1380\u001b[0m         \u001b[0mkwargs\u001b[0m \u001b[0;34m=\u001b[0m \u001b[0mcbook\u001b[0m\u001b[0;34m.\u001b[0m\u001b[0mnormalize_kwargs\u001b[0m\u001b[0;34m(\u001b[0m\u001b[0mkwargs\u001b[0m\u001b[0;34m,\u001b[0m \u001b[0m_alias_map\u001b[0m\u001b[0;34m)\u001b[0m\u001b[0;34m\u001b[0m\u001b[0m\n\u001b[1;32m   1381\u001b[0m \u001b[0;34m\u001b[0m\u001b[0m\n\u001b[0;32m-> 1382\u001b[0;31m         \u001b[0;32mfor\u001b[0m \u001b[0mline\u001b[0m \u001b[0;32min\u001b[0m \u001b[0mself\u001b[0m\u001b[0;34m.\u001b[0m\u001b[0m_get_lines\u001b[0m\u001b[0;34m(\u001b[0m\u001b[0;34m*\u001b[0m\u001b[0margs\u001b[0m\u001b[0;34m,\u001b[0m \u001b[0;34m**\u001b[0m\u001b[0mkwargs\u001b[0m\u001b[0;34m)\u001b[0m\u001b[0;34m:\u001b[0m\u001b[0;34m\u001b[0m\u001b[0m\n\u001b[0m\u001b[1;32m   1383\u001b[0m             \u001b[0mself\u001b[0m\u001b[0;34m.\u001b[0m\u001b[0madd_line\u001b[0m\u001b[0;34m(\u001b[0m\u001b[0mline\u001b[0m\u001b[0;34m)\u001b[0m\u001b[0;34m\u001b[0m\u001b[0m\n\u001b[1;32m   1384\u001b[0m             \u001b[0mlines\u001b[0m\u001b[0;34m.\u001b[0m\u001b[0mappend\u001b[0m\u001b[0;34m(\u001b[0m\u001b[0mline\u001b[0m\u001b[0;34m)\u001b[0m\u001b[0;34m\u001b[0m\u001b[0m\n",
      "\u001b[0;32m/Users/sampathm/miniconda3/lib/python3.5/site-packages/matplotlib/axes/_base.py\u001b[0m in \u001b[0;36m_grab_next_args\u001b[0;34m(self, *args, **kwargs)\u001b[0m\n\u001b[1;32m    379\u001b[0m                 \u001b[0;32mreturn\u001b[0m\u001b[0;34m\u001b[0m\u001b[0m\n\u001b[1;32m    380\u001b[0m             \u001b[0;32mif\u001b[0m \u001b[0mlen\u001b[0m\u001b[0;34m(\u001b[0m\u001b[0mremaining\u001b[0m\u001b[0;34m)\u001b[0m \u001b[0;34m<=\u001b[0m \u001b[0;36m3\u001b[0m\u001b[0;34m:\u001b[0m\u001b[0;34m\u001b[0m\u001b[0m\n\u001b[0;32m--> 381\u001b[0;31m                 \u001b[0;32mfor\u001b[0m \u001b[0mseg\u001b[0m \u001b[0;32min\u001b[0m \u001b[0mself\u001b[0m\u001b[0;34m.\u001b[0m\u001b[0m_plot_args\u001b[0m\u001b[0;34m(\u001b[0m\u001b[0mremaining\u001b[0m\u001b[0;34m,\u001b[0m \u001b[0mkwargs\u001b[0m\u001b[0;34m)\u001b[0m\u001b[0;34m:\u001b[0m\u001b[0;34m\u001b[0m\u001b[0m\n\u001b[0m\u001b[1;32m    382\u001b[0m                     \u001b[0;32myield\u001b[0m \u001b[0mseg\u001b[0m\u001b[0;34m\u001b[0m\u001b[0m\n\u001b[1;32m    383\u001b[0m                 \u001b[0;32mreturn\u001b[0m\u001b[0;34m\u001b[0m\u001b[0m\n",
      "\u001b[0;32m/Users/sampathm/miniconda3/lib/python3.5/site-packages/matplotlib/axes/_base.py\u001b[0m in \u001b[0;36m_plot_args\u001b[0;34m(self, tup, kwargs)\u001b[0m\n\u001b[1;32m    357\u001b[0m             \u001b[0mx\u001b[0m\u001b[0;34m,\u001b[0m \u001b[0my\u001b[0m \u001b[0;34m=\u001b[0m \u001b[0mindex_of\u001b[0m\u001b[0;34m(\u001b[0m\u001b[0mtup\u001b[0m\u001b[0;34m[\u001b[0m\u001b[0;34m-\u001b[0m\u001b[0;36m1\u001b[0m\u001b[0;34m]\u001b[0m\u001b[0;34m)\u001b[0m\u001b[0;34m\u001b[0m\u001b[0m\n\u001b[1;32m    358\u001b[0m \u001b[0;34m\u001b[0m\u001b[0m\n\u001b[0;32m--> 359\u001b[0;31m         \u001b[0mx\u001b[0m\u001b[0;34m,\u001b[0m \u001b[0my\u001b[0m \u001b[0;34m=\u001b[0m \u001b[0mself\u001b[0m\u001b[0;34m.\u001b[0m\u001b[0m_xy_from_xy\u001b[0m\u001b[0;34m(\u001b[0m\u001b[0mx\u001b[0m\u001b[0;34m,\u001b[0m \u001b[0my\u001b[0m\u001b[0;34m)\u001b[0m\u001b[0;34m\u001b[0m\u001b[0m\n\u001b[0m\u001b[1;32m    360\u001b[0m \u001b[0;34m\u001b[0m\u001b[0m\n\u001b[1;32m    361\u001b[0m         \u001b[0;32mif\u001b[0m \u001b[0mself\u001b[0m\u001b[0;34m.\u001b[0m\u001b[0mcommand\u001b[0m \u001b[0;34m==\u001b[0m \u001b[0;34m'plot'\u001b[0m\u001b[0;34m:\u001b[0m\u001b[0;34m\u001b[0m\u001b[0m\n",
      "\u001b[0;32m/Users/sampathm/miniconda3/lib/python3.5/site-packages/matplotlib/axes/_base.py\u001b[0m in \u001b[0;36m_xy_from_xy\u001b[0;34m(self, x, y)\u001b[0m\n\u001b[1;32m    217\u001b[0m         \u001b[0my\u001b[0m \u001b[0;34m=\u001b[0m \u001b[0m_check_1d\u001b[0m\u001b[0;34m(\u001b[0m\u001b[0my\u001b[0m\u001b[0;34m)\u001b[0m\u001b[0;34m\u001b[0m\u001b[0m\n\u001b[1;32m    218\u001b[0m         \u001b[0;32mif\u001b[0m \u001b[0mx\u001b[0m\u001b[0;34m.\u001b[0m\u001b[0mshape\u001b[0m\u001b[0;34m[\u001b[0m\u001b[0;36m0\u001b[0m\u001b[0;34m]\u001b[0m \u001b[0;34m!=\u001b[0m \u001b[0my\u001b[0m\u001b[0;34m.\u001b[0m\u001b[0mshape\u001b[0m\u001b[0;34m[\u001b[0m\u001b[0;36m0\u001b[0m\u001b[0;34m]\u001b[0m\u001b[0;34m:\u001b[0m\u001b[0;34m\u001b[0m\u001b[0m\n\u001b[0;32m--> 219\u001b[0;31m             \u001b[0;32mraise\u001b[0m \u001b[0mValueError\u001b[0m\u001b[0;34m(\u001b[0m\u001b[0;34m\"x and y must have same first dimension\"\u001b[0m\u001b[0;34m)\u001b[0m\u001b[0;34m\u001b[0m\u001b[0m\n\u001b[0m\u001b[1;32m    220\u001b[0m         \u001b[0;32mif\u001b[0m \u001b[0mx\u001b[0m\u001b[0;34m.\u001b[0m\u001b[0mndim\u001b[0m \u001b[0;34m>\u001b[0m \u001b[0;36m2\u001b[0m \u001b[0;32mor\u001b[0m \u001b[0my\u001b[0m\u001b[0;34m.\u001b[0m\u001b[0mndim\u001b[0m \u001b[0;34m>\u001b[0m \u001b[0;36m2\u001b[0m\u001b[0;34m:\u001b[0m\u001b[0;34m\u001b[0m\u001b[0m\n\u001b[1;32m    221\u001b[0m             \u001b[0;32mraise\u001b[0m \u001b[0mValueError\u001b[0m\u001b[0;34m(\u001b[0m\u001b[0;34m\"x and y can be no greater than 2-D\"\u001b[0m\u001b[0;34m)\u001b[0m\u001b[0;34m\u001b[0m\u001b[0m\n",
      "\u001b[0;31mValueError\u001b[0m: x and y must have same first dimension"
     ]
    },
    {
     "data": {
      "image/png": "[encoded data removed]",
      "text/plain": [
       "<matplotlib.figure.Figure at 0x1123ea1d0>"
      ]
     },
     "metadata": {},
     "output_type": "display_data"
    }
   ],
   "source": [
    "plt.figure(figsize=(5, 3))\n",
    "plt.plot(range(3), rf_tr_scores)\n",
    "plt.plot(range(3), rf_te_scores)\n",
    "plt.title('GB Test-Train Score growth with Data Transformation', fontsize=8)\n",
    "plt.yticks(fontsize=8)\n",
    "\n",
    "plt.figure(figsize=(5, 3))\n",
    "plt.bar(range(3), rf_diff)\n",
    "plt.title('GB Test-Train Score Differences during Data Transformation(DT) stages', fontsize=8)\n",
    "plt.xticks(np.arange(len(names)) + .4, names, fontsize=8)\n",
    "plt.yticks(fontsize=8)"
   ]
  },
  {
   "cell_type": "code",
   "execution_count": null,
   "metadata": {
    "collapsed": true
   },
   "outputs": [],
   "source": []
  },
  {
   "cell_type": "code",
   "execution_count": null,
   "metadata": {
    "collapsed": true
   },
   "outputs": [],
   "source": []
  }
 ],
 "metadata": {
  "kernelspec": {
   "display_name": "Python 3",
   "language": "python",
   "name": "python3"
  },
  "language_info": {
   "codemirror_mode": {
    "name": "ipython",
    "version": 3
   },
   "file_extension": ".py",
   "mimetype": "text/x-python",
   "name": "python",
   "nbconvert_exporter": "python",
   "pygments_lexer": "ipython3",
   "version": "3.5.2"
  }
 },
 "nbformat": 4,
 "nbformat_minor": 2
}
