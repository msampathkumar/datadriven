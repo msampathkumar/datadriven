{
 "cells": [
  {
   "cell_type": "markdown",
   "metadata": {
    "collapsed": false
   },
   "source": [
    "# PUMP IT"
   ]
  },
  {
   "cell_type": "markdown",
   "metadata": {},
   "source": [
    "Using data from Taarifa and the Tanzanian Ministry of Water, can you predict which pumps are functional, which need some repairs, and which don't work at all? This is an intermediate-level practice competition. Predict one of these three classes based on a number of variables about what kind of pump is operating, when it was installed, and how it is managed. A smart understanding of which waterpoints will fail can improve maintenance operations and ensure that clean, potable water is available to communities across Tanzania.\n",
    "\n",
    "An interactive course exploring this dataset is currently offered by DataCamp.com!\n",
    "\n",
    "Competition End Date: Jan. 28, 2017, 11:59 p.m.\n",
    "\n",
    "This competition is for learning and exploring, so the deadline may be extended in the future.\n",
    "\n",
    "\n",
    "* [Git Hub Repo](https://github.com/msampathkumar/datadriven_pumpit)\n",
    "* [Git Hub Report](https://github.com/msampathkumar/datadriven_pumpit/blob/master/capstone_proposal.mdown)\n",
    "* [Features Details](https://www.drivendata.org/competitions/7/page/25/)\n",
    "\n"
   ]
  },
  {
   "cell_type": "markdown",
   "metadata": {},
   "source": [
    "## Import Libraries"
   ]
  },
  {
   "cell_type": "code",
   "execution_count": 1,
   "metadata": {
    "collapsed": false
   },
   "outputs": [
    {
     "name": "stdout",
     "output_type": "stream",
     "text": [
      "'writeandexecute' magic loaded.\n"
     ]
    }
   ],
   "source": [
    "import numpy as np\n",
    "import pandas as pd\n",
    "import matplotlib.pyplot as plt\n",
    "import seaborn as sns\n",
    "sns.set(color_codes=True)\n",
    "\n",
    "np.random.seed(69572)\n",
    "\n",
    "%matplotlib inline\n",
    "\n",
    "%load_ext writeandexecute\n",
    "\n",
    "# plt.figure(figsize=(120,10))\n",
    "\n",
    "small = (4,3)\n",
    "mid = (10, 8)\n",
    "large = (12, 8)"
   ]
  },
  {
   "cell_type": "markdown",
   "metadata": {},
   "source": [
    "## Custom Functions"
   ]
  },
  {
   "cell_type": "markdown",
   "metadata": {},
   "source": [
    "### MarkUP Fns"
   ]
  },
  {
   "cell_type": "code",
   "execution_count": 2,
   "metadata": {
    "collapsed": true
   },
   "outputs": [],
   "source": [
    "from __future__ import absolute_import\n",
    "from IPython.core.getipython import get_ipython\n",
    "from IPython.core.magic import (Magics, magics_class,  cell_magic)\n",
    "import sys\n",
    "from StringIO import StringIO\n",
    "from markdown import markdown\n",
    "from IPython.core.display import HTML\n",
    " \n",
    "@magics_class\n",
    "class MarkdownMagics(Magics):\n",
    " \n",
    "    @cell_magic\n",
    "    def asmarkdown(self, line, cell):\n",
    "        buffer = StringIO()\n",
    "        stdout = sys.stdout\n",
    "        sys.stdout = buffer\n",
    "        try:\n",
    "            exec(cell, locals(), self.shell.user_ns)\n",
    "        except:\n",
    "            sys.stdout = stdout\n",
    "            raise\n",
    "        sys.stdout = stdout\n",
    "        return HTML(\"<p>{}</p>\".format(markdown(buffer.getvalue(), extensions=['markdown.extensions.extra'])))\n",
    "        return buffer.getvalue() + 'test'\n",
    " \n",
    "get_ipython().register_magics(MarkdownMagics)"
   ]
  },
  {
   "cell_type": "markdown",
   "metadata": {},
   "source": [
    "### DataFrame Value Counts"
   ]
  },
  {
   "cell_type": "code",
   "execution_count": 3,
   "metadata": {
    "collapsed": true
   },
   "outputs": [],
   "source": [
    "def raw_markup_value_counts(dataframe, max_print_value_counts=30, show_plots=False):\n",
    "    '''\n",
    "    prints value counts of each feature in data frame\n",
    "    '''\n",
    "    mydf = pd.DataFrame.copy(dataframe)\n",
    "    i = 0\n",
    "    raw_markup_data = []\n",
    "    pp = raw_markup_data.append\n",
    "    pp('''|Col ID|Col Name|UniqCount|Col Values|UniqValCount|''')\n",
    "    pp('''|------|--------|---------|----------|------------|''')\n",
    "    for col in mydf.dtypes.index:\n",
    "        i += 1\n",
    "        sam = mydf[col]\n",
    "        tmp = len(sam.value_counts())\n",
    "        if tmp < max_print_value_counts:\n",
    "            flag = True\n",
    "            for key, val in dict(sam.value_counts()).iteritems():\n",
    "                if flag:\n",
    "                    pp('|%i|%s|%i|%s|%s|' % (\n",
    "                            i, col, len(sam.value_counts()), key, val))\n",
    "                    flag = False\n",
    "                else:\n",
    "                    pp('||-|-|%s|%s|' % (key, val))\n",
    "            if show_plots:\n",
    "                plt.figure(i)\n",
    "                ax = sam.value_counts().plot(kind='barh', figsize=(12, 5))\n",
    "                _ = plt.title(col.upper())\n",
    "                _ = plt.xlabel('counts')\n",
    "        else:\n",
    "            pp('|%i|%s|%i|||' % (i, col, len(sam.value_counts())))\n",
    "    return raw_markup_data"
   ]
  },
  {
   "cell_type": "markdown",
   "metadata": {},
   "source": [
    "#### Confusion Matrix"
   ]
  },
  {
   "cell_type": "code",
   "execution_count": 4,
   "metadata": {
    "collapsed": false
   },
   "outputs": [],
   "source": [
    "from __future__ import division\n",
    "import itertools\n",
    "from sklearn.metrics import confusion_matrix\n",
    "\n",
    "\n",
    "def plot_confusion_matrix(cm, classes,\n",
    "                          normalize=False,\n",
    "                          title='Confusion matrix',\n",
    "                          cmap=plt.cm.Blues):\n",
    "    \"\"\"\n",
    "    This function prints and plots the confusion matrix.\n",
    "    Normalization can be applied by setting `normalize=True`.\n",
    "    \"\"\"\n",
    "    plt.imshow(cm, interpolation='nearest', cmap=cmap)\n",
    "    plt.title(title)\n",
    "    plt.colorbar()\n",
    "    tick_marks = np.arange(len(classes))\n",
    "    plt.xticks(tick_marks, classes, rotation=45)\n",
    "    plt.yticks(tick_marks, classes)\n",
    "\n",
    "    if normalize:\n",
    "        cm = cm.astype('float') / cm.sum(axis=1)[:, np.newaxis]\n",
    "        print(\"Normalized confusion matrix\")\n",
    "    else:\n",
    "        print('Confusion matrix, without normalization')\n",
    "\n",
    "    print(cm)\n",
    "\n",
    "    thresh = cm.max() / 2.\n",
    "    for i, j in itertools.product(range(cm.shape[0]), range(cm.shape[1])):\n",
    "        plt.text(j, i, cm[i, j],\n",
    "                 horizontalalignment=\"center\",\n",
    "                 color=\"white\" if cm[i, j] > thresh else \"black\")\n",
    "\n",
    "    plt.tight_layout()\n",
    "    plt.ylabel('True label')\n",
    "    plt.xlabel('Predicted label')    \n",
    "\n",
    "    \n",
    "def confusion_maxtrix_stuff(y_test, y_pred, class_names):\n",
    "    '''\n",
    "    Example\n",
    "    >>> confusion_maxtrix_stuff(y_test,\n",
    "                                y_pred,\n",
    "                                class_names=RAW_y.status_group.value_counts().keys()\n",
    "                                ):\n",
    "    '''\n",
    "    # Compute confusion matrix\n",
    "    cnf_matrix = confusion_matrix(y_test, y_pred)\n",
    "    np.set_printoptions(precision=2)\n",
    "    # Plot non-normalized confusion matrix\n",
    "    plt.figure(figsize=(8,8))\n",
    "    plot_confusion_matrix(cnf_matrix, classes=class_names,\n",
    "                          title='Confusion matrix, without normalization')\n",
    "    # Plot normalized confusion matrix\n",
    "    plt.figure(figsize=(8,8))\n",
    "    plot_confusion_matrix(cnf_matrix, classes=class_names, normalize=True,\n",
    "                          title='Normalized confusion matrix')\n",
    "    plt.show()"
   ]
  },
  {
   "cell_type": "markdown",
   "metadata": {},
   "source": [
    "## Import & Explore Data"
   ]
  },
  {
   "cell_type": "code",
   "execution_count": 5,
   "metadata": {
    "collapsed": false
   },
   "outputs": [],
   "source": [
    "RAW_X = pd.read_csv('traning_set_values.csv', index_col='id')\n",
    "RAW_y = pd.read_csv('training_set_labels.csv', index_col='id')\n",
    "RAW_TEST_X = pd.read_csv('test_set_values.csv', index_col='id')"
   ]
  },
  {
   "cell_type": "raw",
   "metadata": {
    "collapsed": false,
    "scrolled": false
   },
   "source": [
    "%%asmarkdown\n",
    "\n",
    "# show me the graphs\n",
    "tmp = raw_markup_value_counts(RAW_X, 10, True)"
   ]
  },
  {
   "cell_type": "markdown",
   "metadata": {},
   "source": [
    "## Pre Processing"
   ]
  },
  {
   "cell_type": "markdown",
   "metadata": {},
   "source": [
    "Log_Lat_Help: [Link](http://gis.stackexchange.com/questions/8650/measuring-accuracy-of-latitude-and-longitude)"
   ]
  },
  {
   "cell_type": "markdown",
   "metadata": {},
   "source": [
    "#### Num Data Tranformation\n",
    "\n",
    "* date_recorded --> Int\n",
    "* longitude --> Float(less precision)\n",
    "* latitude --> Float(less precision)\n",
    "* public_meeting --> Bool\n",
    "* permit --> Bool"
   ]
  },
  {
   "cell_type": "code",
   "execution_count": 6,
   "metadata": {
    "collapsed": false
   },
   "outputs": [],
   "source": [
    "from datetime import datetime\n",
    "strptime = datetime.strptime\n",
    "\n",
    "DATE_FORMAT = \"%Y-%m-%d\"\n",
    "REFERENCE_DATE_POINT = strptime('2000-01-01', DATE_FORMAT)\n",
    "\n",
    "# Reducing geo location precision to 11 meters\n",
    "LONG_LAT_PRECISION = 0.001\n",
    "\n",
    "def sam_datetime_to_number(x):\n",
    "    return (strptime(str(x), DATE_FORMAT) - REFERENCE_DATE_POINT).days\n",
    "\n",
    "\n",
    "# Transforming Date to Int.\n",
    "if RAW_X.date_recorded.dtype == 'O':\n",
    "    RAW_X.date_recorded = RAW_X.date_recorded.map(sam_datetime_to_number)\n",
    "    RAW_TEST_X.date_recorded = RAW_TEST_X.date_recorded.map(sam_datetime_to_number)\n",
    "\n",
    "\n",
    "# Filling Missing/OUTLIAR Values\n",
    "_ = np.mean(RAW_X[u'latitude'][RAW_X.latitude < -1.0].values)\n",
    "if not RAW_X.loc[RAW_X.latitude >= -1.0, u'latitude'].empty:\n",
    "    RAW_X.loc[RAW_X.latitude >= -1.0, u'latitude'] = _\n",
    "    RAW_TEST_X.loc[RAW_TEST_X.latitude >= -1.0, u'latitude'] = _\n",
    "\n",
    "\n",
    "# Filling Missing/OUTLIAR Values\n",
    "_ = np.mean(RAW_X[u'longitude'][RAW_X[u'longitude'] > 1.0].values)\n",
    "if not RAW_X.loc[RAW_X[u'longitude'] <= 1.0, u'longitude'].empty:\n",
    "    RAW_X.loc[RAW_X[u'longitude'] <= 1.0, u'longitude'] = _\n",
    "    RAW_TEST_X.loc[RAW_TEST_X[u'longitude'] <= 1.0, u'longitude'] = _\n",
    "\n",
    "\n",
    "# Reducing Precision of Lat.\n",
    "if RAW_X.longitude.mean() < 50:\n",
    "    RAW_X.longitude = RAW_X.longitude // LONG_LAT_PRECISION\n",
    "    RAW_X.latitude = RAW_X.latitude // LONG_LAT_PRECISION\n",
    "    RAW_TEST_X.longitude = RAW_TEST_X.longitude // LONG_LAT_PRECISION\n",
    "    RAW_TEST_X.latitude = RAW_TEST_X.latitude // LONG_LAT_PRECISION\n",
    "\n",
    "    \n",
    "# Filling Missing/OUTLIAR Values\n",
    "if RAW_X.public_meeting.dtype != 'bool':\n",
    "    RAW_X.public_meeting = RAW_X.public_meeting == True\n",
    "    RAW_TEST_X.public_meeting = RAW_TEST_X.public_meeting == True\n",
    "\n",
    "\n",
    "if RAW_X.permit.dtype != 'bool':\n",
    "    RAW_X.permit = RAW_X.permit == True\n",
    "    RAW_TEST_X.permit = RAW_TEST_X.permit == True"
   ]
  },
  {
   "cell_type": "code",
   "execution_count": 7,
   "metadata": {
    "collapsed": true
   },
   "outputs": [],
   "source": [
    "if list(RAW_TEST_X.dtypes[RAW_TEST_X.dtypes != RAW_X.dtypes]):\n",
    "    raise Exception('RAW_X.dtypes and RAW_TEST_X.dtypes are not in Sync')"
   ]
  },
  {
   "cell_type": "markdown",
   "metadata": {},
   "source": [
    "#### Text Data Tranformations"
   ]
  },
  {
   "cell_type": "code",
   "execution_count": 8,
   "metadata": {
    "collapsed": false
   },
   "outputs": [
    {
     "name": "stdout",
     "output_type": "stream",
     "text": [
      "funder 1898 1881\n",
      "installer 2146 1867\n",
      "wpt_name 37400 36717\n",
      "subvillage 19288 19176\n",
      "scheme_name 2697 2485\n"
     ]
    }
   ],
   "source": [
    "def text_transformation(name):\n",
    "    if name:\n",
    "        name = name.lower().strip()\n",
    "        name = ''.join([i if 96 < ord(i) < 128 else ' ' for i in name])\n",
    "        if 'and' in name:\n",
    "            name = name.replace('and', ' ')\n",
    "        if '/' in name:\n",
    "            name = name.replace('/', ' ')\n",
    "        while '  ' in name:\n",
    "            name = name.replace('  ', ' ')\n",
    "        return name.strip()\n",
    "    return\n",
    "\n",
    "for col in RAW_X.dtypes[RAW_X.dtypes == object].index:\n",
    "    aa = len(RAW_X[col].unique())\n",
    "    RAW_X[col] = RAW_X[col].fillna('').apply(text_transformation)\n",
    "    RAW_TEST_X[col] = RAW_TEST_X[col].fillna('').apply(text_transformation)\n",
    "    bb = len(RAW_X[col].unique())\n",
    "    if aa != bb:\n",
    "        print col, aa, bb"
   ]
  },
  {
   "cell_type": "raw",
   "metadata": {
    "collapsed": false
   },
   "source": [
    "RAW_X.funder.unique()"
   ]
  },
  {
   "cell_type": "raw",
   "metadata": {
    "collapsed": false
   },
   "source": [
    "\"setting a limit factor of 100 categorical values are allowed\"\n",
    "\n",
    "MAX_CATEGORICAL_GROUPS_LIMIT = 150\n",
    "\n",
    "icols = {}\n",
    "for col in RAW_X.dtypes[RAW_X.dtypes == object].index:\n",
    "    tmp = len(RAW_X[col].unique())\n",
    "    if tmp > MAX_CATEGORICAL_GROUPS_LIMIT:\n",
    "        icols[col] = tmp\n",
    "\n",
    "icols"
   ]
  },
  {
   "cell_type": "raw",
   "metadata": {
    "collapsed": true
   },
   "source": [
    "from collections import Counter\n",
    "import pickle"
   ]
  },
  {
   "cell_type": "raw",
   "metadata": {
    "collapsed": true
   },
   "source": [
    "funder_dict =  Counter(RAW_X.funder)\n",
    "tmp = funder_dict.keys()\n",
    "tmp.sort()\n",
    "pickle.dump(funder_dict, open('funder.pkl', 'w'))"
   ]
  },
  {
   "cell_type": "raw",
   "metadata": {
    "collapsed": false
   },
   "source": [
    "%pprint on"
   ]
  },
  {
   "cell_type": "raw",
   "metadata": {
    "collapsed": false,
    "scrolled": false
   },
   "source": [
    "tmp2 = funder_dict.keys()\n",
    "\n",
    "tmp2 = Counter(tmp).values()\n",
    "tmp2.sort()\n",
    "tmp2 = np.array(tmp2)\n",
    "_ = plt.plot(tmp2)"
   ]
  },
  {
   "cell_type": "markdown",
   "metadata": {},
   "source": [
    "#### Cols vs Uniq distribution"
   ]
  },
  {
   "cell_type": "raw",
   "metadata": {
    "collapsed": false
   },
   "source": [
    "x = []\n",
    "y = []\n",
    "i = 0\n",
    "for col in RAW_X.dtypes[RAW_X.dtypes == object].index:\n",
    "    # print col, len(RAW_X[col].unique())\n",
    "    i += 1\n",
    "    x.append(i)\n",
    "    y.append(len(RAW_X[col].unique()))\n",
    "\n",
    "\n",
    "y.sort()\n",
    "\n",
    "plt.figure(figsize=(12, 2))\n",
    "plt.title('Cols vs Uniq categorical lables')\n",
    "plt.xlabel('Columns ID\\'s')\n",
    "plt.ylabel('Uniq values')\n",
    "_ = plt.semilogy(x, np.array(y))"
   ]
  },
  {
   "cell_type": "raw",
   "metadata": {
    "collapsed": false
   },
   "source": [
    "_ = plt.semilogy(x, np.array(y))"
   ]
  },
  {
   "cell_type": "raw",
   "metadata": {
    "collapsed": false
   },
   "source": [
    "y = np.array(sorted(y))\n",
    "plt.hist(np.log(y))"
   ]
  },
  {
   "cell_type": "raw",
   "metadata": {
    "collapsed": false
   },
   "source": [
    "_ = plt.scatter(np.arange(len(y)), y)"
   ]
  },
  {
   "cell_type": "markdown",
   "metadata": {},
   "source": [
    "### Data Distribution"
   ]
  },
  {
   "cell_type": "raw",
   "metadata": {
    "collapsed": false
   },
   "source": [
    "y = np.log(dict(RAW_X.installer.value_counts()).values())\n",
    "\n",
    "print 'Total no.of unique values', len(y)\n",
    "print 'Max', y.max()\n",
    "print 'Min', y.min()\n",
    "print 'Values more than 1', len(y[y > 0])\n",
    "\n",
    "#_ = plt.plot(np.arange(len(y)), y)"
   ]
  },
  {
   "cell_type": "raw",
   "metadata": {
    "collapsed": false
   },
   "source": [
    "# discard all minor values\n",
    "y1 = y[y > 0]\n",
    "\n",
    "# find the max limt for accepting\n",
    "print y1.mean(), y1.std()\n",
    "# _ = plt.hist(y1)\n",
    "\n",
    "print 'with restpect to mean, 2 standard deviation', y1.mean() + (2 * y1.std())"
   ]
  },
  {
   "cell_type": "raw",
   "metadata": {
    "collapsed": false
   },
   "source": [
    "y = np.log(dict(RAW_X.installer.value_counts()).values())\n",
    "\n",
    "# Discard all values appeared only once.\n",
    "y = y[y > 0]\n",
    "\n",
    "y = y[y <= 5.13106006715]\n",
    "\n",
    "print 'with restpect to mean, 2 standard deviation', y1.mean() + (2 * y1.std())\n",
    "\n",
    "plt.hist(y)"
   ]
  },
  {
   "cell_type": "raw",
   "metadata": {
    "collapsed": false
   },
   "source": [
    "m = y1.mean()\n",
    "s = y1.std()\n",
    "\n",
    "for i in range(3):\n",
    "    print m - (s * i), m + (s * i)"
   ]
  },
  {
   "cell_type": "raw",
   "metadata": {
    "collapsed": false
   },
   "source": [
    "x = np.array([1, 2, 3, 4, 5])\n",
    "y = np.power(x, 2) # Effectively y = x**2\n",
    "e = np.array([1.5, 2.6, 3.7, 4.6, 5.5])\n",
    "\n",
    "plt.errorbar(x, y, e, linestyle='None', marker='^')\n",
    "\n",
    "plt.show()"
   ]
  },
  {
   "cell_type": "raw",
   "metadata": {},
   "source": [
    "Finding closely matching words"
   ]
  },
  {
   "cell_type": "raw",
   "metadata": {
    "collapsed": false
   },
   "source": [
    "import difflib\n",
    "\n",
    "tmp2 = difflib.get_close_matches('govern', tmp1, n=100, cutoff=0.66)\n",
    "for each in tmp2:\n",
    "    print '%s : %s' % (each, tmp[each])"
   ]
  },
  {
   "cell_type": "markdown",
   "metadata": {},
   "source": [
    "## Vector Transformation\n",
    "\n",
    "\n",
    "* Feature Selection:\n",
    "    http://machinelearningmastery.com/feature-selection-machine-learning-python/"
   ]
  },
  {
   "cell_type": "code",
   "execution_count": 9,
   "metadata": {
    "collapsed": false,
    "scrolled": true
   },
   "outputs": [],
   "source": [
    "from collections import defaultdict\n",
    "from sklearn import preprocessing\n",
    "\n",
    "# http://stackoverflow.com/questions/24458645/label-encoding-across-multiple-columns-in-scikit-learn\n",
    "d = defaultdict(preprocessing.LabelEncoder)\n",
    "\n",
    "# Labels Fit\n",
    "sam = pd.concat([RAW_X, RAW_TEST_X]).apply(lambda x: d[x.name].fit(x))\n",
    "\n",
    "# Labels Transform - Training Data\n",
    "X = RAW_X.apply(lambda x: d[x.name].transform(x))\n",
    "TEST_X = RAW_TEST_X.apply(lambda x: d[x.name].transform(x))\n",
    "\n",
    "le = preprocessing.LabelEncoder().fit(RAW_y[u'status_group'])\n",
    "y = le.transform(RAW_y[u'status_group'])"
   ]
  },
  {
   "cell_type": "code",
   "execution_count": null,
   "metadata": {
    "collapsed": false
   },
   "outputs": [],
   "source": [
    "# g = sns.PairGrid(X[:1000])\n",
    "# g.map(plt.scatter);"
   ]
  },
  {
   "cell_type": "markdown",
   "metadata": {},
   "source": [
    "### UniVariate Analysis"
   ]
  },
  {
   "cell_type": "code",
   "execution_count": 10,
   "metadata": {
    "collapsed": true
   },
   "outputs": [],
   "source": [
    "from sklearn.feature_selection import SelectKBest\n",
    "from sklearn.feature_selection import chi2"
   ]
  },
  {
   "cell_type": "code",
   "execution_count": 11,
   "metadata": {
    "collapsed": false
   },
   "outputs": [
    {
     "name": "stdout",
     "output_type": "stream",
     "text": [
      "[  7.49e+04   9.58e+03   7.19e+04   5.13e+05   2.42e+04   4.86e+05\n",
      "   5.24e+04   1.18e+05   2.11e+02   2.66e+02   1.36e+04   1.81e+03\n",
      "   1.70e+03   6.45e+02   9.15e+03   3.11e+03   5.16e+03   4.42e+01\n",
      "        nan   4.39e+02   7.78e+04   2.15e+01   2.43e+04   2.64e+03\n",
      "   3.43e+03   4.96e+03   1.77e+02   3.02e+01   8.66e+02   4.63e+02\n",
      "   9.91e-01   4.23e+02   6.73e+02   6.73e+02   4.59e+02   5.68e+02\n",
      "   3.95e+02   3.35e+03   2.54e+03] 39\n"
     ]
    }
   ],
   "source": [
    "test = SelectKBest(score_func=chi2, k=30)\n",
    "fit = test.fit(X, y)\n",
    "cols_names = RAW_X.columns\n",
    "\n",
    "np.set_printoptions(precision=2)\n",
    "print(fit.scores_), len(fit.scores_)\n",
    "\n",
    "col_importances = list(zip(fit.scores_, cols_names))\n",
    "col_importances.sort(reverse=True)\n",
    "selected_cols =  [_[-1] for _ in col_importances[:30] ]"
   ]
  },
  {
   "cell_type": "code",
   "execution_count": 12,
   "metadata": {
    "collapsed": true
   },
   "outputs": [],
   "source": [
    "features = pd.DataFrame(fit.transform(X))\n",
    "features.columns = selected_cols"
   ]
  },
  {
   "cell_type": "code",
   "execution_count": 13,
   "metadata": {
    "collapsed": false
   },
   "outputs": [
    {
     "name": "stdout",
     "output_type": "stream",
     "text": [
      "39 (59400, 30) 59400\n"
     ]
    }
   ],
   "source": [
    "print len(X.columns), features.shape, len(y)"
   ]
  },
  {
   "cell_type": "code",
   "execution_count": 16,
   "metadata": {
    "collapsed": false
   },
   "outputs": [],
   "source": [
    "X = pd.DataFrame(fit.transform(X))\n",
    "TEST_X = pd.DataFrame(fit.transform(TEST_X))\n",
    "\n",
    "X.columns = selected_cols\n",
    "TEST_X.columns = selected_cols"
   ]
  },
  {
   "cell_type": "markdown",
   "metadata": {},
   "source": [
    "### PCA"
   ]
  },
  {
   "cell_type": "code",
   "execution_count": null,
   "metadata": {
    "collapsed": false
   },
   "outputs": [],
   "source": [
    "from sklearn.decomposition import PCA"
   ]
  },
  {
   "cell_type": "code",
   "execution_count": null,
   "metadata": {
    "collapsed": false
   },
   "outputs": [],
   "source": [
    "# feature extraction\n",
    "pca = PCA(n_components=18)\n",
    "fit = pca.fit(X)"
   ]
  },
  {
   "cell_type": "code",
   "execution_count": null,
   "metadata": {
    "collapsed": false
   },
   "outputs": [],
   "source": [
    "plt.scatter (range(len(fit.explained_variance_ratio_)), fit.explained_variance_ratio_.cumsum())"
   ]
  },
  {
   "cell_type": "code",
   "execution_count": null,
   "metadata": {
    "collapsed": true
   },
   "outputs": [],
   "source": [
    "X = pca.transform(X)\n",
    "TEST_X = pca.transform(TEST_X)"
   ]
  },
  {
   "cell_type": "markdown",
   "metadata": {},
   "source": [
    "## Test-Train Split"
   ]
  },
  {
   "cell_type": "code",
   "execution_count": 17,
   "metadata": {
    "collapsed": false
   },
   "outputs": [],
   "source": [
    "from sklearn.model_selection import train_test_split\n",
    "\n",
    "X_train, X_test, y_train, y_test = train_test_split(X, y, test_size=0.20, random_state=42, stratify=y)\n",
    "\n",
    "# X_train, X_test, y_train, y_test = train_test_split(features, y, test_size=0.25, random_state=42, stratify=y)"
   ]
  },
  {
   "cell_type": "raw",
   "metadata": {
    "collapsed": false,
    "scrolled": false
   },
   "source": [
    "# X_train.boxplot()\n",
    "plt.figure(figsize=(12,10))\n",
    "_ = sns.boxplot(X_train)"
   ]
  },
  {
   "cell_type": "markdown",
   "metadata": {},
   "source": [
    "## Model Training"
   ]
  },
  {
   "cell_type": "markdown",
   "metadata": {},
   "source": [
    "## Random Forest"
   ]
  },
  {
   "cell_type": "code",
   "execution_count": 85,
   "metadata": {
    "collapsed": true
   },
   "outputs": [],
   "source": [
    "from sklearn.ensemble import RandomForestClassifier\n",
    "\n",
    "clf = RandomForestClassifier(n_estimators=100, class_weight=\"balanced_subsample\", n_jobs=-1)\n",
    "# class_weight=\"balanced_subsample\"/\"balanced\"\n",
    "# criterion=\"gini\"/\"entropy\""
   ]
  },
  {
   "cell_type": "code",
   "execution_count": 86,
   "metadata": {
    "collapsed": false
   },
   "outputs": [
    {
     "data": {
      "text/plain": [
       "RandomForestClassifier(bootstrap=True, class_weight='balanced_subsample',\n",
       "            criterion='gini', max_depth=None, max_features='auto',\n",
       "            max_leaf_nodes=None, min_impurity_split=1e-07,\n",
       "            min_samples_leaf=1, min_samples_split=2,\n",
       "            min_weight_fraction_leaf=0.0, n_estimators=100, n_jobs=-1,\n",
       "            oob_score=False, random_state=None, verbose=0,\n",
       "            warm_start=False)"
      ]
     },
     "execution_count": 86,
     "metadata": {},
     "output_type": "execute_result"
    }
   ],
   "source": [
    "clf"
   ]
  },
  {
   "cell_type": "code",
   "execution_count": 87,
   "metadata": {
    "collapsed": false
   },
   "outputs": [
    {
     "data": {
      "text/plain": [
       "0.81186868686868685"
      ]
     },
     "execution_count": 87,
     "metadata": {},
     "output_type": "execute_result"
    }
   ],
   "source": [
    "clf = clf.fit(X_train, y_train)\n",
    "pred = clf.predict_proba(X_test)\n",
    "clf.score(X_test, y_test) # 0.79303132333435367 # 0.80252525252525253 # 0.80303030303030298 # 0.80345117845117842\n",
    "\n",
    "# 0.79814814814814816\n",
    "# (n_estimators=100, class_weight=\"balanced_subsample\", n_jobs=-1) 0.80782828282828278\n",
    "# (n_estimators=100, class_weight=\"balanced_subsample\", n_jobs=-1) 0.81186868686868685"
   ]
  },
  {
   "cell_type": "code",
   "execution_count": 81,
   "metadata": {
    "collapsed": false
   },
   "outputs": [],
   "source": [
    "clf?"
   ]
  },
  {
   "cell_type": "code",
   "execution_count": 55,
   "metadata": {
    "collapsed": false
   },
   "outputs": [
    {
     "data": {
      "image/png": "[encoded data removed]",
      "text/plain": [
       "<matplotlib.figure.Figure at 0x125e99190>"
      ]
     },
     "metadata": {},
     "output_type": "display_data"
    }
   ],
   "source": [
    "plt.figure(figsize=(12, 3))\n",
    "\n",
    "# making importance relative\n",
    "a, b = min(clf.feature_importances_), max(clf.feature_importances_)\n",
    "cols_imp = (clf.feature_importances_ - a) /b\n",
    "_ = plt.scatter(range(30), cols_imp)\n",
    "_ = plt.plot((0, 29), (0.05,0.05), '-r')\n",
    "_ = plt.xlabel('Columns')\n",
    "_ = plt.ylabel('Relative Col Importance')"
   ]
  },
  {
   "cell_type": "markdown",
   "metadata": {},
   "source": [
    "## Scoring"
   ]
  },
  {
   "cell_type": "markdown",
   "metadata": {},
   "source": [
    "### Random Forest Score"
   ]
  },
  {
   "cell_type": "code",
   "execution_count": null,
   "metadata": {
    "collapsed": true
   },
   "outputs": [],
   "source": [
    "from sklearn import metrics"
   ]
  },
  {
   "cell_type": "code",
   "execution_count": 59,
   "metadata": {
    "collapsed": false
   },
   "outputs": [
    {
     "name": "stdout",
     "output_type": "stream",
     "text": [
      "[11880, 11880]\n"
     ]
    },
    {
     "data": {
      "text/plain": [
       "0.80025252525252522"
      ]
     },
     "execution_count": 59,
     "metadata": {},
     "output_type": "execute_result"
    }
   ],
   "source": [
    "print map(lambda x: len(x), [X_test, y_test])\n",
    "\n",
    "clf.score(X_test, y_test) # 0.79303132333435367 # 0.80252525252525253 # 0.80303030303030298 # 0.80345117845117842"
   ]
  },
  {
   "cell_type": "code",
   "execution_count": 60,
   "metadata": {
    "collapsed": false
   },
   "outputs": [
    {
     "name": "stdout",
     "output_type": "stream",
     "text": [
      "-0.0104198551168\n",
      "0.0250488215488 0.0354686766656\n"
     ]
    }
   ],
   "source": [
    "print .79303132333435367 - 0.80345117845117842\n",
    "\n",
    "print .8285 - 0.80345117845117842, .8285 - .79303132333435367"
   ]
  },
  {
   "cell_type": "raw",
   "metadata": {
    "collapsed": false,
    "scrolled": false
   },
   "source": [
    "confusion_maxtrix_stuff(y_test, clf.predict(X_test))"
   ]
  },
  {
   "cell_type": "markdown",
   "metadata": {},
   "source": [
    "### XGBOOST"
   ]
  },
  {
   "cell_type": "raw",
   "metadata": {
    "collapsed": true
   },
   "source": [
    "import xgboost as xgb"
   ]
  },
  {
   "cell_type": "raw",
   "metadata": {
    "collapsed": false
   },
   "source": [
    "\n",
    "# gbm = xgb.XGBClassifier(max_depth=3, n_estimators=300, learning_rate=0.05).fit(X_train, y_train)\n",
    "gbm = xgb.XGBClassifier(max_depth=3, n_estimators=100, learning_rate=0.05).fit(X_train, y_train)\n",
    "\n",
    "gbm_predictions = gbm.predict(X_test)\n",
    "\n",
    "print sum(gbm_predictions == y_test)/ len(y_pred) # 0.7279461279461279\n",
    "\n",
    "\n",
    "confusion_maxtrix_stuff(y_test, predictions)"
   ]
  },
  {
   "cell_type": "markdown",
   "metadata": {},
   "source": [
    "## Submission"
   ]
  },
  {
   "cell_type": "code",
   "execution_count": 88,
   "metadata": {
    "collapsed": false
   },
   "outputs": [
    {
     "name": "stdout",
     "output_type": "stream",
     "text": [
      "(14850,)\n"
     ]
    },
    {
     "data": {
      "text/html": [
       "<div>\n",
       "<table border=\"1\" class=\"dataframe\">\n",
       "  <thead>\n",
       "    <tr style=\"text-align: right;\">\n",
       "      <th></th>\n",
       "      <th>id</th>\n",
       "      <th>status_group</th>\n",
       "    </tr>\n",
       "  </thead>\n",
       "  <tbody>\n",
       "    <tr>\n",
       "      <th>0</th>\n",
       "      <td>50785</td>\n",
       "      <td>non functional</td>\n",
       "    </tr>\n",
       "    <tr>\n",
       "      <th>1</th>\n",
       "      <td>51630</td>\n",
       "      <td>functional</td>\n",
       "    </tr>\n",
       "    <tr>\n",
       "      <th>2</th>\n",
       "      <td>17168</td>\n",
       "      <td>functional</td>\n",
       "    </tr>\n",
       "    <tr>\n",
       "      <th>3</th>\n",
       "      <td>45559</td>\n",
       "      <td>non functional</td>\n",
       "    </tr>\n",
       "    <tr>\n",
       "      <th>4</th>\n",
       "      <td>49871</td>\n",
       "      <td>functional</td>\n",
       "    </tr>\n",
       "  </tbody>\n",
       "</table>\n",
       "</div>"
      ],
      "text/plain": [
       "      id    status_group\n",
       "0  50785  non functional\n",
       "1  51630      functional\n",
       "2  17168      functional\n",
       "3  45559  non functional\n",
       "4  49871      functional"
      ]
     },
     "execution_count": 88,
     "metadata": {},
     "output_type": "execute_result"
    }
   ],
   "source": [
    "\n",
    "test_ids = RAW_TEST_X.index\n",
    "\n",
    "predictions = clf.predict(TEST_X)\n",
    "print (predictions.shape)\n",
    "predictions_labels = le.inverse_transform(predictions)\n",
    "# sub = pd.DataFrame(predictions, columns=list(le.classes_))\n",
    "sub = pd.DataFrame(predictions_labels, columns=['status_group'])\n",
    "sub.head()\n",
    "\n",
    "\n",
    "sub.insert(0, 'id', test_ids)\n",
    "sub.reset_index()\n",
    "sub.to_csv('submit.csv', index = False)\n",
    "sub.head()"
   ]
  },
  {
   "cell_type": "code",
   "execution_count": 89,
   "metadata": {
    "collapsed": false
   },
   "outputs": [
    {
     "data": {
      "text/plain": [
       "(59400, 30)"
      ]
     },
     "execution_count": 89,
     "metadata": {},
     "output_type": "execute_result"
    }
   ],
   "source": [
    "X.shape"
   ]
  },
  {
   "cell_type": "code",
   "execution_count": null,
   "metadata": {
    "collapsed": true
   },
   "outputs": [],
   "source": []
  },
  {
   "cell_type": "code",
   "execution_count": null,
   "metadata": {
    "collapsed": true
   },
   "outputs": [],
   "source": []
  }
 ],
 "metadata": {
  "anaconda-cloud": {},
  "kernelspec": {
   "display_name": "Python [default]",
   "language": "python",
   "name": "python2"
  },
  "language_info": {
   "codemirror_mode": {
    "name": "ipython",
    "version": 2
   },
   "file_extension": ".py",
   "mimetype": "text/x-python",
   "name": "python",
   "nbconvert_exporter": "python",
   "pygments_lexer": "ipython2",
   "version": "2.7.12"
  }
 },
 "nbformat": 4,
 "nbformat_minor": 0
}
