{
 "cells": [
  {
   "cell_type": "markdown",
   "metadata": {},
   "source": [
    "# Data Transformations2"
   ]
  },
  {
   "cell_type": "markdown",
   "metadata": {},
   "source": [
    "**Introduction:**\n",
    "Using the data gathered from Taarifa and the Tanzanian Ministry of Water, can we predict which pumps are functional, which need some repairs, and which don't work at all? Predicting one of these three classes based and a smart understanding of which waterpoints will fail, can improve the maintenance operations and ensure that clean, potable water is available to communities across Tanzania.\n",
    "\n",
    "This is also an intermediate-level competition by [DataDriven][1]! All code & support scripts are in [Github Repo][2]\n",
    "\n",
    "[1]: https://www.drivendata.org/competitions/7/ \"Link to Competetion Page\"\n",
    "[2]: https://github.com/msampathkumar/datadriven_pumpit \"User Code\""
   ]
  },
  {
   "cell_type": "code",
   "execution_count": 37,
   "metadata": {
    "collapsed": true
   },
   "outputs": [],
   "source": [
    "import numpy as np\n",
    "import pandas as pd\n",
    "import matplotlib.pyplot as plt\n",
    "import seaborn as sns\n",
    "\n",
    "from sklearn.model_selection import train_test_split\n",
    "from sklearn.feature_selection import SelectKBest\n",
    "from sklearn.feature_selection import chi2\n",
    "from sklearn.decomposition import PCA\n",
    "\n",
    "from scripts.sam_variance_check import get_low_variance_columns\n",
    "from scripts.tools import check_metric, data_transformations\n",
    "from scripts.tools import df_check_stats, game, sam_pickle_save, sam_pickle_load\n",
    "\n",
    "%matplotlib inline\n",
    "\n",
    "\n",
    "np.set_printoptions(precision=5)\n",
    "np.random.seed(69572)\n",
    "plt.style.use('ggplot')\n",
    "sns.set(color_codes=True)\n",
    "\n",
    "crazy_list = ()"
   ]
  },
  {
   "cell_type": "code",
   "execution_count": 2,
   "metadata": {
    "collapsed": false,
    "scrolled": true
   },
   "outputs": [
    {
     "name": "stdout",
     "output_type": "stream",
     "text": [
      "LOAD PREFIX USED:  tmp/Iteration2_final_\n",
      "Data Frame Shape: (59400, 25) TotColumns: 25 ObjectCols: 0\n",
      "Numpy Array Size: 59400\n",
      "Data Frame Shape: (14850, 25) TotColumns: 25 ObjectCols: 0\n"
     ]
    }
   ],
   "source": [
    "for each in dir():\n",
    "    if each not in crazy_list:\n",
    "        del each\n",
    "\n",
    "# Loading data from previos\n",
    "X, y, TEST_X = sam_pickle_load(prefix=\"tmp/Iteration2_final_\")\n",
    "df_check_stats(X, y, TEST_X)"
   ]
  },
  {
   "cell_type": "code",
   "execution_count": 14,
   "metadata": {
    "collapsed": true
   },
   "outputs": [],
   "source": [
    "from sklearn import svm\n",
    "\n",
    "# from sklearn.datasets import samples_generator\n",
    "from sklearn.feature_selection import SelectKBest\n",
    "from sklearn.feature_selection import f_regression, chi2\n",
    "from sklearn.pipeline import Pipeline"
   ]
  },
  {
   "cell_type": "code",
   "execution_count": 15,
   "metadata": {
    "collapsed": false
   },
   "outputs": [
    {
     "data": {
      "text/plain": [
       "array([ True,  True,  True,  True,  True,  True,  True,  True,  True,\n",
       "       False,  True, False,  True,  True, False,  True, False,  True,\n",
       "        True,  True,  True,  True, False,  True,  True], dtype=bool)"
      ]
     },
     "execution_count": 15,
     "metadata": {},
     "output_type": "execute_result"
    }
   ],
   "source": [
    "X = X.head(1000)\n",
    "y = y[:1000]\n",
    "\n",
    "# ANOVA SVM-C\n",
    "anova_filter = SelectKBest(chi2, k=5)\n",
    "clf = svm.SVC(kernel='linear')\n",
    "anova_svm = Pipeline([('anova', anova_filter), ('svc', clf)])\n",
    "# You can set the parameters using the names issued\n",
    "# For instance, fit using a k of 10 in the SelectKBest\n",
    "# and a parameter 'C' of the svm\n",
    "anova_svm.set_params(anova__k=20, svc__C=.1).fit(X, y)\n",
    "                                             \n",
    "\n",
    "prediction = anova_svm.predict(X)\n",
    "anova_svm.score(X, y)                        \n",
    "\n",
    "# getting the selected features chosen by anova_filter\n",
    "anova_svm.named_steps['anova'].get_support()"
   ]
  },
  {
   "cell_type": "raw",
   "metadata": {},
   "source": [
    "anova_svm.score(X,y)"
   ]
  },
  {
   "cell_type": "code",
   "execution_count": 24,
   "metadata": {
    "collapsed": true
   },
   "outputs": [],
   "source": [
    "from sklearn.dummy import DummyClassifier\n",
    "\n",
    "clf = DummyClassifier(strategy='most_frequent',random_state=0)\n",
    "clf.fit(X, y)\n",
    "print (each, clf.score(X, y))"
   ]
  },
  {
   "cell_type": "code",
   "execution_count": 20,
   "metadata": {
    "collapsed": false
   },
   "outputs": [
    {
     "data": {
      "text/plain": [
       "(Index(['date_recorded', 'funder', 'gps_height', 'installer', 'longitude',\n",
       "        'latitude', 'basin', 'region', 'population', 'public_meeting',\n",
       "        'scheme_management', 'permit', 'construction_year', 'extraction_type',\n",
       "        'management', 'payment_type', 'quality_group', 'quantity',\n",
       "        'quantity_group', 'source', 'waterpoint_type', 'date_recorded_month',\n",
       "        'Area', 'Population02', 'Population12'],\n",
       "       dtype='object'),\n",
       " 25,\n",
       " Index(['date_recorded', 'funder', 'gps_height', 'installer', 'longitude',\n",
       "        'latitude', 'basin', 'region', 'population', 'scheme_management',\n",
       "        'construction_year', 'extraction_type', 'payment_type', 'quantity',\n",
       "        'quantity_group', 'source', 'waterpoint_type', 'date_recorded_month',\n",
       "        'Population02', 'Population12'],\n",
       "       dtype='object'),\n",
       " 20)"
      ]
     },
     "execution_count": 20,
     "metadata": {},
     "output_type": "execute_result"
    }
   ],
   "source": [
    "X.columns, len(X.columns), X.columns[anova_svm.named_steps['anova'].get_support()], len(X.columns[anova_svm.named_steps['anova'].get_support()])"
   ]
  },
  {
   "cell_type": "code",
   "execution_count": 49,
   "metadata": {
    "collapsed": false,
    "scrolled": true
   },
   "outputs": [],
   "source": [
    "# Test-Train Split\n",
    "X_train, X_test, y_train, y_test = train_test_split(X, y, test_size=0.3,random_state=42, stratify=y)"
   ]
  },
  {
   "cell_type": "code",
   "execution_count": 50,
   "metadata": {
    "collapsed": false
   },
   "outputs": [
    {
     "name": "stdout",
     "output_type": "stream",
     "text": [
      "------------------------------------------------\n",
      "AC Score: 0.799797979798 F1 Score: 0.805134443816\n"
     ]
    }
   ],
   "source": [
    "# RF\n",
    "clf = game(X_train, X_test, y_train, y_test, algo='rf')"
   ]
  },
  {
   "cell_type": "code",
   "execution_count": 51,
   "metadata": {
    "collapsed": false
   },
   "outputs": [
    {
     "name": "stdout",
     "output_type": "stream",
     "text": [
      "------------------------------------------------\n",
      "AC Score: 0.750976430976 F1 Score: 0.775322264654\n"
     ]
    }
   ],
   "source": [
    "# GBT\n",
    "gbt_clf = game(X_train, X_test, y_train, y_test, algo='gb')"
   ]
  },
  {
   "cell_type": "code",
   "execution_count": 52,
   "metadata": {
    "collapsed": false
   },
   "outputs": [
    {
     "name": "stdout",
     "output_type": "stream",
     "text": [
      "------------------------------------------------\n",
      "AC Score: 0.705454545455 F1 Score: 0.712548891875\n"
     ]
    }
   ],
   "source": [
    "# KNN\n",
    "knn_clf = game(X_train, X_test, y_train, y_test, algo='knn')"
   ]
  },
  {
   "cell_type": "markdown",
   "metadata": {},
   "source": [
    "## Variance Threshold"
   ]
  },
  {
   "cell_type": "code",
   "execution_count": 53,
   "metadata": {
    "collapsed": false
   },
   "outputs": [
    {
     "name": "stdout",
     "output_type": "stream",
     "text": [
      "Finding low-variance features.\n",
      "Found 1 low-variance columns.\n",
      "                \n",
      "Removing low-variance features.\n",
      "Reassembling the dataframe (with low-variance features removed).\n",
      "Succesfully removed low-variance columns.\n"
     ]
    }
   ],
   "source": [
    "# Variance Threshold\n",
    "X, removed_features, ranking_variance_thresholds = get_low_variance_columns(\n",
    "    dframe=X, threshold=(0.85 * (1 - 0.85)), autoremove=True)\n",
    "TEST_X.drop(removed_features, axis=1, inplace=True)"
   ]
  },
  {
   "cell_type": "code",
   "execution_count": 54,
   "metadata": {
    "collapsed": false,
    "scrolled": true
   },
   "outputs": [
    {
     "name": "stdout",
     "output_type": "stream",
     "text": [
      "['public_meeting']\n"
     ]
    }
   ],
   "source": [
    "print(removed_features)"
   ]
  },
  {
   "cell_type": "code",
   "execution_count": 55,
   "metadata": {
    "collapsed": false,
    "scrolled": true
   },
   "outputs": [
    {
     "name": "stdout",
     "output_type": "stream",
     "text": [
      "SAVE PREFIX USED:  tmp/Iteration2_vt_\n"
     ]
    }
   ],
   "source": [
    "sam_pickle_save(X, y, TEST_X, prefix=\"tmp/Iteration2_vt_\")"
   ]
  },
  {
   "cell_type": "code",
   "execution_count": 56,
   "metadata": {
    "collapsed": false
   },
   "outputs": [
    {
     "name": "stdout",
     "output_type": "stream",
     "text": [
      "LOAD PREFIX USED:  tmp/Iteration2_vt_\n",
      "Data Frame Shape: (59400, 24) TotColumns: 24 ObjectCols: 0\n",
      "Numpy Array Size: 59400\n",
      "Data Frame Shape: (14850, 24) TotColumns: 24 ObjectCols: 0\n"
     ]
    }
   ],
   "source": [
    "for each in dir():\n",
    "    if each not in crazy_list:\n",
    "        del each\n",
    "\n",
    "X, y, TEST_X = sam_pickle_load(prefix='tmp/Iteration2_vt_')\n",
    "\n",
    "df_check_stats(X, y, TEST_X)"
   ]
  },
  {
   "cell_type": "code",
   "execution_count": 57,
   "metadata": {
    "collapsed": false
   },
   "outputs": [],
   "source": [
    "# Test Train split\n",
    "X_train, X_test, y_train, y_test = train_test_split(X, y, test_size=0.25,random_state=42, stratify=y)"
   ]
  },
  {
   "cell_type": "code",
   "execution_count": 58,
   "metadata": {
    "collapsed": false
   },
   "outputs": [
    {
     "name": "stdout",
     "output_type": "stream",
     "text": [
      "------------------------------------------------\n",
      "AC Score: 0.798922558923 F1 Score: 0.804858831616\n"
     ]
    }
   ],
   "source": [
    "# RF\n",
    "clf = game(X_train, X_test, y_train, y_test, algo='rf', )"
   ]
  },
  {
   "cell_type": "code",
   "execution_count": 59,
   "metadata": {
    "collapsed": false
   },
   "outputs": [
    {
     "name": "stdout",
     "output_type": "stream",
     "text": [
      "------------------------------------------------\n",
      "AC Score: 0.752188552189 F1 Score: 0.775768094424\n"
     ]
    }
   ],
   "source": [
    "# GBT\n",
    "clf = game(X_train, X_test, y_train, y_test, algo='gb', )"
   ]
  },
  {
   "cell_type": "markdown",
   "metadata": {},
   "source": [
    "Effects of Variance Threshold\n",
    "\n",
    "* For RF, score reduce from .799 to 798 \n",
    "* For GBT, score improved from .7509 to .7521"
   ]
  },
  {
   "cell_type": "markdown",
   "metadata": {},
   "source": [
    "## K Best Selection"
   ]
  },
  {
   "cell_type": "code",
   "execution_count": 61,
   "metadata": {
    "collapsed": false
   },
   "outputs": [
    {
     "name": "stdout",
     "output_type": "stream",
     "text": [
      "LOAD PREFIX USED:  tmp/Iteration2_vt_\n",
      "Data Frame Shape: (59400, 24) TotColumns: 24 ObjectCols: 0\n"
     ]
    },
    {
     "data": {
      "text/html": [
       "<div>\n",
       "<table border=\"1\" class=\"dataframe\">\n",
       "  <thead>\n",
       "    <tr style=\"text-align: right;\">\n",
       "      <th></th>\n",
       "      <th>date_recorded</th>\n",
       "      <th>funder</th>\n",
       "      <th>gps_height</th>\n",
       "      <th>installer</th>\n",
       "      <th>longitude</th>\n",
       "      <th>latitude</th>\n",
       "      <th>basin</th>\n",
       "      <th>region</th>\n",
       "      <th>population</th>\n",
       "      <th>scheme_management</th>\n",
       "      <th>...</th>\n",
       "      <th>payment_type</th>\n",
       "      <th>quality_group</th>\n",
       "      <th>quantity</th>\n",
       "      <th>quantity_group</th>\n",
       "      <th>source</th>\n",
       "      <th>waterpoint_type</th>\n",
       "      <th>date_recorded_month</th>\n",
       "      <th>Area</th>\n",
       "      <th>Population02</th>\n",
       "      <th>Population12</th>\n",
       "    </tr>\n",
       "    <tr>\n",
       "      <th>id</th>\n",
       "      <th></th>\n",
       "      <th></th>\n",
       "      <th></th>\n",
       "      <th></th>\n",
       "      <th></th>\n",
       "      <th></th>\n",
       "      <th></th>\n",
       "      <th></th>\n",
       "      <th></th>\n",
       "      <th></th>\n",
       "      <th></th>\n",
       "      <th></th>\n",
       "      <th></th>\n",
       "      <th></th>\n",
       "      <th></th>\n",
       "      <th></th>\n",
       "      <th></th>\n",
       "      <th></th>\n",
       "      <th></th>\n",
       "      <th></th>\n",
       "      <th></th>\n",
       "    </tr>\n",
       "  </thead>\n",
       "  <tbody>\n",
       "    <tr>\n",
       "      <th>50785</th>\n",
       "      <td>292</td>\n",
       "      <td>175</td>\n",
       "      <td>2049</td>\n",
       "      <td>207</td>\n",
       "      <td>35933</td>\n",
       "      <td>45025</td>\n",
       "      <td>0</td>\n",
       "      <td>8</td>\n",
       "      <td>319</td>\n",
       "      <td>4</td>\n",
       "      <td>...</td>\n",
       "      <td>2</td>\n",
       "      <td>2</td>\n",
       "      <td>3</td>\n",
       "      <td>3</td>\n",
       "      <td>5</td>\n",
       "      <td>6</td>\n",
       "      <td>1</td>\n",
       "      <td>14</td>\n",
       "      <td>4</td>\n",
       "      <td>7</td>\n",
       "    </tr>\n",
       "    <tr>\n",
       "      <th>51630</th>\n",
       "      <td>292</td>\n",
       "      <td>250</td>\n",
       "      <td>1622</td>\n",
       "      <td>219</td>\n",
       "      <td>44888</td>\n",
       "      <td>53443</td>\n",
       "      <td>5</td>\n",
       "      <td>0</td>\n",
       "      <td>299</td>\n",
       "      <td>8</td>\n",
       "      <td>...</td>\n",
       "      <td>2</td>\n",
       "      <td>2</td>\n",
       "      <td>2</td>\n",
       "      <td>2</td>\n",
       "      <td>8</td>\n",
       "      <td>1</td>\n",
       "      <td>1</td>\n",
       "      <td>12</td>\n",
       "      <td>9</td>\n",
       "      <td>10</td>\n",
       "    </tr>\n",
       "    <tr>\n",
       "      <th>17168</th>\n",
       "      <td>289</td>\n",
       "      <td>569</td>\n",
       "      <td>1620</td>\n",
       "      <td>597</td>\n",
       "      <td>31619</td>\n",
       "      <td>35757</td>\n",
       "      <td>0</td>\n",
       "      <td>18</td>\n",
       "      <td>477</td>\n",
       "      <td>8</td>\n",
       "      <td>...</td>\n",
       "      <td>2</td>\n",
       "      <td>2</td>\n",
       "      <td>2</td>\n",
       "      <td>2</td>\n",
       "      <td>5</td>\n",
       "      <td>6</td>\n",
       "      <td>1</td>\n",
       "      <td>15</td>\n",
       "      <td>5</td>\n",
       "      <td>5</td>\n",
       "    </tr>\n",
       "    <tr>\n",
       "      <th>45559</th>\n",
       "      <td>279</td>\n",
       "      <td>222</td>\n",
       "      <td>319</td>\n",
       "      <td>242</td>\n",
       "      <td>57636</td>\n",
       "      <td>9125</td>\n",
       "      <td>7</td>\n",
       "      <td>7</td>\n",
       "      <td>250</td>\n",
       "      <td>8</td>\n",
       "      <td>...</td>\n",
       "      <td>6</td>\n",
       "      <td>2</td>\n",
       "      <td>0</td>\n",
       "      <td>0</td>\n",
       "      <td>7</td>\n",
       "      <td>6</td>\n",
       "      <td>0</td>\n",
       "      <td>18</td>\n",
       "      <td>1</td>\n",
       "      <td>0</td>\n",
       "    </tr>\n",
       "    <tr>\n",
       "      <th>49871</th>\n",
       "      <td>343</td>\n",
       "      <td>73</td>\n",
       "      <td>1313</td>\n",
       "      <td>83</td>\n",
       "      <td>34320</td>\n",
       "      <td>1346</td>\n",
       "      <td>7</td>\n",
       "      <td>16</td>\n",
       "      <td>60</td>\n",
       "      <td>10</td>\n",
       "      <td>...</td>\n",
       "      <td>1</td>\n",
       "      <td>2</td>\n",
       "      <td>1</td>\n",
       "      <td>1</td>\n",
       "      <td>8</td>\n",
       "      <td>1</td>\n",
       "      <td>2</td>\n",
       "      <td>17</td>\n",
       "      <td>6</td>\n",
       "      <td>6</td>\n",
       "    </tr>\n",
       "  </tbody>\n",
       "</table>\n",
       "<p>5 rows × 24 columns</p>\n",
       "</div>"
      ],
      "text/plain": [
       "       date_recorded  funder  gps_height  installer  longitude  latitude  \\\n",
       "id                                                                         \n",
       "50785            292     175        2049        207      35933     45025   \n",
       "51630            292     250        1622        219      44888     53443   \n",
       "17168            289     569        1620        597      31619     35757   \n",
       "45559            279     222         319        242      57636      9125   \n",
       "49871            343      73        1313         83      34320      1346   \n",
       "\n",
       "       basin  region  population  scheme_management      ...       \\\n",
       "id                                                       ...        \n",
       "50785      0       8         319                  4      ...        \n",
       "51630      5       0         299                  8      ...        \n",
       "17168      0      18         477                  8      ...        \n",
       "45559      7       7         250                  8      ...        \n",
       "49871      7      16          60                 10      ...        \n",
       "\n",
       "       payment_type  quality_group  quantity  quantity_group  source  \\\n",
       "id                                                                     \n",
       "50785             2              2         3               3       5   \n",
       "51630             2              2         2               2       8   \n",
       "17168             2              2         2               2       5   \n",
       "45559             6              2         0               0       7   \n",
       "49871             1              2         1               1       8   \n",
       "\n",
       "       waterpoint_type  date_recorded_month  Area  Population02  Population12  \n",
       "id                                                                             \n",
       "50785                6                    1    14             4             7  \n",
       "51630                1                    1    12             9            10  \n",
       "17168                6                    1    15             5             5  \n",
       "45559                6                    0    18             1             0  \n",
       "49871                1                    2    17             6             6  \n",
       "\n",
       "[5 rows x 24 columns]"
      ]
     },
     "execution_count": 61,
     "metadata": {},
     "output_type": "execute_result"
    }
   ],
   "source": [
    "for each in dir():\n",
    "    if each not in crazy_list:\n",
    "        del each\n",
    "\n",
    "X, y, TEST_X = sam_pickle_load(prefix='tmp/Iteration2_vt_')\n",
    "\n",
    "df_check_stats(X)\n",
    "\n",
    "TEST_X.head()"
   ]
  },
  {
   "cell_type": "raw",
   "metadata": {
    "collapsed": true
   },
   "source": [
    "# KBest Selection\n",
    "def find_kbest_cols_count(start=10, stop=24, step=3):\n",
    "    for kbest_cols in range(start, stop, step):\n",
    "        print('============================================================', kbest_cols)\n",
    "\n",
    "        # Load Data\n",
    "        X, y, TEST_X = sam_pickle_load(prefix='tmp/Iteration2_vt_')\n",
    "\n",
    "        fit = SelectKBest(score_func=chi2, k=kbest_cols).fit(X, y)\n",
    "        cols_names = X.columns\n",
    "        kbest_selected_cols =  [_ for _ in cols_names[:kbest_cols]]\n",
    "\n",
    "        # transformation\n",
    "        X = pd.DataFrame(fit.transform(X))\n",
    "        TEST_X = pd.DataFrame(fit.transform(TEST_X))\n",
    "\n",
    "        # check\n",
    "        # df_check_stats(X, y)\n",
    "\n",
    "        # benchmark\n",
    "        X_train, X_test, y_train, y_test = train_test_split(X, y, test_size=0.25,random_state=42, stratify=y)\n",
    "        clf = game(X_train, X_test, y_train, y_test, algo='rf', show_train_scores=False)\n",
    "    return fit, kbest_selected_cols"
   ]
  },
  {
   "cell_type": "raw",
   "metadata": {
    "collapsed": false
   },
   "source": [
    "fit, cols =  find_kbest_cols_count(start=10, stop=len(X.columns), step=3)"
   ]
  },
  {
   "cell_type": "raw",
   "metadata": {
    "collapsed": false
   },
   "source": [
    "fit, cols =  find_kbest_cols_count(start=17, stop=22, step=1)"
   ]
  },
  {
   "cell_type": "code",
   "execution_count": 62,
   "metadata": {
    "collapsed": false
   },
   "outputs": [
    {
     "data": {
      "text/plain": [
       "<matplotlib.text.Text at 0x1124eb0b8>"
      ]
     },
     "execution_count": 62,
     "metadata": {},
     "output_type": "execute_result"
    },
    {
     "data": {
      "image/png": "[encoded data removed]",
      "text/plain": [
       "<matplotlib.figure.Figure at 0x110fa5be0>"
      ]
     },
     "metadata": {},
     "output_type": "display_data"
    }
   ],
   "source": [
    "# Logs from above are organised nicely here\n",
    "\n",
    "data = '''\n",
    "============================================================ 10\n",
    "LOAD PREFIX USED:  tmp/Iteration2_vt_\n",
    "------------------------------------------------\n",
    "AC Score: 0.758585858586 F1 Score: 0.764190112954\n",
    "============================================================ 13\n",
    "LOAD PREFIX USED:  tmp/Iteration2_vt_\n",
    "------------------------------------------------\n",
    "AC Score: 0.75771043771 F1 Score: 0.762772800662\n",
    "============================================================ 16\n",
    "LOAD PREFIX USED:  tmp/Iteration2_vt_\n",
    "------------------------------------------------\n",
    "AC Score: 0.796296296296 F1 Score: 0.802379385314\n",
    "============================================================ 17\n",
    "LOAD PREFIX USED:  tmp/Iteration2_vt_\n",
    "------------------------------------------------\n",
    "AC Score: 0.79898989899 F1 Score: 0.804890015569\n",
    "============================================================ 18\n",
    "LOAD PREFIX USED:  tmp/Iteration2_vt_\n",
    "------------------------------------------------\n",
    "AC Score: 0.798181818182 F1 Score: 0.803884003093\n",
    "============================================================ 19\n",
    "LOAD PREFIX USED:  tmp/Iteration2_vt_\n",
    "------------------------------------------------\n",
    "AC Score: 0.800134680135 F1 Score: 0.805811215543\n",
    "============================================================ 20\n",
    "LOAD PREFIX USED:  tmp/Iteration2_vt_\n",
    "------------------------------------------------\n",
    "AC Score: 0.799663299663 F1 Score: 0.805597807791\n",
    "============================================================ 21\n",
    "LOAD PREFIX USED:  tmp/Iteration2_vt_\n",
    "------------------------------------------------\n",
    "AC Score: 0.798787878788 F1 Score: 0.804484395135\n",
    "============================================================ 22\n",
    "LOAD PREFIX USED:  tmp/Iteration2_vt_\n",
    "------------------------------------------------\n",
    "AC Score: 0.799663299663 F1 Score: 0.805620208961\n",
    "\n",
    "'''.strip()\n",
    "\n",
    "data_k_selections = []\n",
    "data_k_ac_scores = []\n",
    "data_k_f1_scores = []\n",
    "\n",
    "for line in data.strip().splitlines():\n",
    "    if line.startswith('===='):\n",
    "        data_k_selections.append(int(line.split()[-1]))\n",
    "    if line.startswith('AC Score'):\n",
    "        line = line.split()\n",
    "        data_k_ac_scores.append(float(line[2]))\n",
    "        data_k_f1_scores.append(float(line[-1]))\n",
    "\n",
    "plt.figure(figsize=(12, 3))\n",
    "plt.plot(data_k_selections, data_k_ac_scores)\n",
    "plt.xticks(data_k_selections)\n",
    "plt.xlabel('No.of Columns')\n",
    "plt.ylabel('Scores')\n",
    "plt.title('KBest Columns Selection')"
   ]
  },
  {
   "cell_type": "code",
   "execution_count": 28,
   "metadata": {
    "collapsed": false
   },
   "outputs": [
    {
     "data": {
      "text/plain": [
       "<matplotlib.text.Text at 0x114958278>"
      ]
     },
     "execution_count": 28,
     "metadata": {},
     "output_type": "execute_result"
    },
    {
     "data": {
      "image/png": "[encoded data removed]",
      "text/plain": [
       "<matplotlib.figure.Figure at 0x111668470>"
      ]
     },
     "metadata": {},
     "output_type": "display_data"
    }
   ],
   "source": [
    "show_tick_from_point = 3 # select the tick index from above graph\n",
    "\n",
    "plt.figure(figsize=(12, 3))\n",
    "plt.plot(data_k_selections[show_tick_from_point:], data_k_ac_scores[show_tick_from_point:])\n",
    "plt.xticks(data_k_selections[show_tick_from_point:])\n",
    "plt.xlabel('No.of Columns')\n",
    "plt.ylabel('Scores')\n",
    "plt.title('KBest Columns Selection')"
   ]
  },
  {
   "cell_type": "raw",
   "metadata": {},
   "source": [
    "============================================================ 19\n",
    "LOAD PREFIX USED:  tmp/Iteration2_vt_\n",
    "------------------------------------------------\n",
    "AC Score: 0.800134680135 F1 Score: 0.805811215543"
   ]
  },
  {
   "cell_type": "code",
   "execution_count": 80,
   "metadata": {
    "collapsed": false
   },
   "outputs": [
    {
     "name": "stdout",
     "output_type": "stream",
     "text": [
      "LOAD PREFIX USED:  tmp/Iteration2_vt_\n",
      "Data Frame Shape: (59400, 24) TotColumns: 24 ObjectCols: 0\n"
     ]
    },
    {
     "data": {
      "text/html": [
       "<div>\n",
       "<table border=\"1\" class=\"dataframe\">\n",
       "  <thead>\n",
       "    <tr style=\"text-align: right;\">\n",
       "      <th></th>\n",
       "      <th>date_recorded</th>\n",
       "      <th>funder</th>\n",
       "      <th>gps_height</th>\n",
       "      <th>installer</th>\n",
       "      <th>longitude</th>\n",
       "      <th>latitude</th>\n",
       "      <th>basin</th>\n",
       "      <th>region</th>\n",
       "      <th>population</th>\n",
       "      <th>scheme_management</th>\n",
       "      <th>...</th>\n",
       "      <th>payment_type</th>\n",
       "      <th>quality_group</th>\n",
       "      <th>quantity</th>\n",
       "      <th>quantity_group</th>\n",
       "      <th>source</th>\n",
       "      <th>waterpoint_type</th>\n",
       "      <th>date_recorded_month</th>\n",
       "      <th>Area</th>\n",
       "      <th>Population02</th>\n",
       "      <th>Population12</th>\n",
       "    </tr>\n",
       "    <tr>\n",
       "      <th>id</th>\n",
       "      <th></th>\n",
       "      <th></th>\n",
       "      <th></th>\n",
       "      <th></th>\n",
       "      <th></th>\n",
       "      <th></th>\n",
       "      <th></th>\n",
       "      <th></th>\n",
       "      <th></th>\n",
       "      <th></th>\n",
       "      <th></th>\n",
       "      <th></th>\n",
       "      <th></th>\n",
       "      <th></th>\n",
       "      <th></th>\n",
       "      <th></th>\n",
       "      <th></th>\n",
       "      <th></th>\n",
       "      <th></th>\n",
       "      <th></th>\n",
       "      <th></th>\n",
       "    </tr>\n",
       "  </thead>\n",
       "  <tbody>\n",
       "    <tr>\n",
       "      <th>50785</th>\n",
       "      <td>292</td>\n",
       "      <td>175</td>\n",
       "      <td>2049</td>\n",
       "      <td>207</td>\n",
       "      <td>35933</td>\n",
       "      <td>45025</td>\n",
       "      <td>0</td>\n",
       "      <td>8</td>\n",
       "      <td>319</td>\n",
       "      <td>4</td>\n",
       "      <td>...</td>\n",
       "      <td>2</td>\n",
       "      <td>2</td>\n",
       "      <td>3</td>\n",
       "      <td>3</td>\n",
       "      <td>5</td>\n",
       "      <td>6</td>\n",
       "      <td>1</td>\n",
       "      <td>14</td>\n",
       "      <td>4</td>\n",
       "      <td>7</td>\n",
       "    </tr>\n",
       "    <tr>\n",
       "      <th>51630</th>\n",
       "      <td>292</td>\n",
       "      <td>250</td>\n",
       "      <td>1622</td>\n",
       "      <td>219</td>\n",
       "      <td>44888</td>\n",
       "      <td>53443</td>\n",
       "      <td>5</td>\n",
       "      <td>0</td>\n",
       "      <td>299</td>\n",
       "      <td>8</td>\n",
       "      <td>...</td>\n",
       "      <td>2</td>\n",
       "      <td>2</td>\n",
       "      <td>2</td>\n",
       "      <td>2</td>\n",
       "      <td>8</td>\n",
       "      <td>1</td>\n",
       "      <td>1</td>\n",
       "      <td>12</td>\n",
       "      <td>9</td>\n",
       "      <td>10</td>\n",
       "    </tr>\n",
       "    <tr>\n",
       "      <th>17168</th>\n",
       "      <td>289</td>\n",
       "      <td>569</td>\n",
       "      <td>1620</td>\n",
       "      <td>597</td>\n",
       "      <td>31619</td>\n",
       "      <td>35757</td>\n",
       "      <td>0</td>\n",
       "      <td>18</td>\n",
       "      <td>477</td>\n",
       "      <td>8</td>\n",
       "      <td>...</td>\n",
       "      <td>2</td>\n",
       "      <td>2</td>\n",
       "      <td>2</td>\n",
       "      <td>2</td>\n",
       "      <td>5</td>\n",
       "      <td>6</td>\n",
       "      <td>1</td>\n",
       "      <td>15</td>\n",
       "      <td>5</td>\n",
       "      <td>5</td>\n",
       "    </tr>\n",
       "    <tr>\n",
       "      <th>45559</th>\n",
       "      <td>279</td>\n",
       "      <td>222</td>\n",
       "      <td>319</td>\n",
       "      <td>242</td>\n",
       "      <td>57636</td>\n",
       "      <td>9125</td>\n",
       "      <td>7</td>\n",
       "      <td>7</td>\n",
       "      <td>250</td>\n",
       "      <td>8</td>\n",
       "      <td>...</td>\n",
       "      <td>6</td>\n",
       "      <td>2</td>\n",
       "      <td>0</td>\n",
       "      <td>0</td>\n",
       "      <td>7</td>\n",
       "      <td>6</td>\n",
       "      <td>0</td>\n",
       "      <td>18</td>\n",
       "      <td>1</td>\n",
       "      <td>0</td>\n",
       "    </tr>\n",
       "    <tr>\n",
       "      <th>49871</th>\n",
       "      <td>343</td>\n",
       "      <td>73</td>\n",
       "      <td>1313</td>\n",
       "      <td>83</td>\n",
       "      <td>34320</td>\n",
       "      <td>1346</td>\n",
       "      <td>7</td>\n",
       "      <td>16</td>\n",
       "      <td>60</td>\n",
       "      <td>10</td>\n",
       "      <td>...</td>\n",
       "      <td>1</td>\n",
       "      <td>2</td>\n",
       "      <td>1</td>\n",
       "      <td>1</td>\n",
       "      <td>8</td>\n",
       "      <td>1</td>\n",
       "      <td>2</td>\n",
       "      <td>17</td>\n",
       "      <td>6</td>\n",
       "      <td>6</td>\n",
       "    </tr>\n",
       "  </tbody>\n",
       "</table>\n",
       "<p>5 rows × 24 columns</p>\n",
       "</div>"
      ],
      "text/plain": [
       "       date_recorded  funder  gps_height  installer  longitude  latitude  \\\n",
       "id                                                                         \n",
       "50785            292     175        2049        207      35933     45025   \n",
       "51630            292     250        1622        219      44888     53443   \n",
       "17168            289     569        1620        597      31619     35757   \n",
       "45559            279     222         319        242      57636      9125   \n",
       "49871            343      73        1313         83      34320      1346   \n",
       "\n",
       "       basin  region  population  scheme_management      ...       \\\n",
       "id                                                       ...        \n",
       "50785      0       8         319                  4      ...        \n",
       "51630      5       0         299                  8      ...        \n",
       "17168      0      18         477                  8      ...        \n",
       "45559      7       7         250                  8      ...        \n",
       "49871      7      16          60                 10      ...        \n",
       "\n",
       "       payment_type  quality_group  quantity  quantity_group  source  \\\n",
       "id                                                                     \n",
       "50785             2              2         3               3       5   \n",
       "51630             2              2         2               2       8   \n",
       "17168             2              2         2               2       5   \n",
       "45559             6              2         0               0       7   \n",
       "49871             1              2         1               1       8   \n",
       "\n",
       "       waterpoint_type  date_recorded_month  Area  Population02  Population12  \n",
       "id                                                                             \n",
       "50785                6                    1    14             4             7  \n",
       "51630                1                    1    12             9            10  \n",
       "17168                6                    1    15             5             5  \n",
       "45559                6                    0    18             1             0  \n",
       "49871                1                    2    17             6             6  \n",
       "\n",
       "[5 rows x 24 columns]"
      ]
     },
     "execution_count": 80,
     "metadata": {},
     "output_type": "execute_result"
    }
   ],
   "source": [
    "for each in dir():\n",
    "    if each not in crazy_list:\n",
    "        del each\n",
    "\n",
    "\n",
    "X, y, TEST_X = sam_pickle_load(prefix='tmp/Iteration2_vt_')\n",
    "\n",
    "df_check_stats(X)\n",
    "\n",
    "TEST_X.head()"
   ]
  },
  {
   "cell_type": "code",
   "execution_count": 83,
   "metadata": {
    "collapsed": true
   },
   "outputs": [],
   "source": [
    "fit = SelectKBest(score_func=chi2, k=kbest_cols).fit(X, y)\n",
    "cols_names = X.columns\n",
    "kbest_selected_cols =  [_ for _ in cols_names[:kbest_cols]]\n",
    "\n",
    "test_ids = TEST_X.index\n",
    "\n",
    "# transformation\n",
    "X = pd.DataFrame(fit.transform(X))\n",
    "TEST_X = pd.DataFrame(fit.transform(TEST_X), index=test_ids)"
   ]
  },
  {
   "cell_type": "code",
   "execution_count": 84,
   "metadata": {
    "collapsed": false
   },
   "outputs": [],
   "source": [
    "# Test-Train Split\n",
    "X_train, X_test, y_train, y_test = train_test_split(X, y, test_size=0.25,random_state=42, stratify=y)"
   ]
  },
  {
   "cell_type": "code",
   "execution_count": 85,
   "metadata": {
    "collapsed": false
   },
   "outputs": [
    {
     "name": "stdout",
     "output_type": "stream",
     "text": [
      "------------------------------------------------\n",
      "AC Score: 0.800134680135 F1 Score: 0.805811215543\n"
     ]
    }
   ],
   "source": [
    "# RF\n",
    "clf = game(X_train, X_test, y_train, y_test, algo='rf')"
   ]
  },
  {
   "cell_type": "code",
   "execution_count": 86,
   "metadata": {
    "collapsed": false
   },
   "outputs": [
    {
     "name": "stdout",
     "output_type": "stream",
     "text": [
      "------------------------------------------------\n",
      "AC Score: 0.751313131313 F1 Score: 0.774869584539\n"
     ]
    }
   ],
   "source": [
    "# GBT\n",
    "clf = game(X_train, X_test, y_train, y_test, algo='gb')"
   ]
  },
  {
   "cell_type": "code",
   "execution_count": 87,
   "metadata": {
    "collapsed": false
   },
   "outputs": [
    {
     "name": "stdout",
     "output_type": "stream",
     "text": [
      "SAVE PREFIX USED:  tmp/Iteration2_vt_kb_\n"
     ]
    }
   ],
   "source": [
    "sam_pickle_save(X, y, TEST_X, prefix='tmp/Iteration2_vt_kb_')"
   ]
  },
  {
   "cell_type": "markdown",
   "metadata": {},
   "source": [
    "## PCA"
   ]
  },
  {
   "cell_type": "code",
   "execution_count": 24,
   "metadata": {
    "collapsed": false,
    "scrolled": true
   },
   "outputs": [
    {
     "name": "stdout",
     "output_type": "stream",
     "text": [
      "LOAD PREFIX USED:  tmp/Iteration2_vt_kb_\n",
      "Data Frame Shape: (59400, 19) TotColumns: 19 ObjectCols: 0\n",
      "Numpy Array Size: 59400\n",
      "Data Frame Shape: (14850, 19) TotColumns: 19 ObjectCols: 0\n"
     ]
    }
   ],
   "source": [
    "for each in dir():\n",
    "    if each not in crazy_list:\n",
    "        del each\n",
    "\n",
    "X, y, TEST_X = sam_pickle_load(prefix='tmp/Iteration2_vt_kb_')\n",
    "df_check_stats(X, y, TEST_X)"
   ]
  },
  {
   "cell_type": "code",
   "execution_count": 26,
   "metadata": {
    "collapsed": false
   },
   "outputs": [],
   "source": [
    "# PCA\n",
    "from sklearn.decomposition import PCA\n",
    "\n",
    "# defaults\n",
    "pca = PCA(n_components=15)\n",
    "fit = pca.fit(X)\n",
    "\n",
    "X = fit.transform(X)"
   ]
  },
  {
   "cell_type": "code",
   "execution_count": 27,
   "metadata": {
    "collapsed": false,
    "scrolled": true
   },
   "outputs": [
    {
     "name": "stdout",
     "output_type": "stream",
     "text": [
      "------------------------------------------------\n",
      "AC Score: 0.760067340067 F1 Score: 0.766591022239\n"
     ]
    }
   ],
   "source": [
    "# benchmark\n",
    "X_train, X_test, y_train, y_test = train_test_split(X, y, test_size=0.25,random_state=42, stratify=y)\n",
    "clf = game(X_train, X_test, y_train, y_test, algo='rf')"
   ]
  },
  {
   "cell_type": "code",
   "execution_count": 28,
   "metadata": {
    "collapsed": false
   },
   "outputs": [
    {
     "name": "stdout",
     "output_type": "stream",
     "text": [
      "------------------------------------------------\n",
      "AC Score: 0.685858585859 F1 Score: 0.712095898786\n"
     ]
    }
   ],
   "source": [
    "clf = game(X_train, X_test, y_train, y_test, algo='gb')"
   ]
  },
  {
   "cell_type": "code",
   "execution_count": 29,
   "metadata": {
    "collapsed": false
   },
   "outputs": [
    {
     "name": "stdout",
     "output_type": "stream",
     "text": [
      "Numpy Array Size: 59400\n",
      "Numpy Array Size: 59400\n",
      "Data Frame Shape: (14850, 19) TotColumns: 19 ObjectCols: 0\n"
     ]
    }
   ],
   "source": [
    "df_check_stats(X, y, TEST_X)"
   ]
  },
  {
   "cell_type": "markdown",
   "metadata": {},
   "source": [
    "Clearly we can see that rather than improved the performance has reduce compartively to what happened in VT or KBest stages. So we are not saving the data."
   ]
  },
  {
   "cell_type": "markdown",
   "metadata": {},
   "source": [
    "# Analysis"
   ]
  },
  {
   "cell_type": "code",
   "execution_count": 30,
   "metadata": {
    "collapsed": false
   },
   "outputs": [],
   "source": [
    "# Random Forest\n",
    "rf_data = '''\n",
    "AC Score: 0.799797979798 F1 Score: 0.805134443816 # benchmark\n",
    "AC Score: 0.798922558923 F1 Score: 0.804858831616 # vt\n",
    "AC Score: 0.800134680135 F1 Score: 0.805811215543 # k best\n",
    "AC Score: 0.760067340067 F1 Score: 0.766591022239 # p c a\n",
    "'''.strip().splitlines()\n",
    "\n",
    "# GBT\n",
    "gb_data = '''\n",
    "AC Score: 0.750976430976 F1 Score: 0.775322264654 # benchmark\n",
    "AC Score: 0.752188552189 F1 Score: 0.775768094424 # vt\n",
    "AC Score: 0.751313131313 F1 Score: 0.774869584539 # k best\n",
    "AC Score: 0.685858585859 F1 Score: 0.712095898786 # p c a\n",
    "'''.strip().splitlines()"
   ]
  },
  {
   "cell_type": "code",
   "execution_count": 31,
   "metadata": {
    "collapsed": false
   },
   "outputs": [],
   "source": [
    "def log_parser(log_data):\n",
    "    ac_scores = []\n",
    "    rf_scores = []\n",
    "    for each in log_data:\n",
    "        each = each.split()\n",
    "        ac_scores.append(each[2])\n",
    "        rf_scores.append(each[5])\n",
    "    return ac_scores, rf_scores\n",
    "\n",
    "rf_ac_scores, rf_f1_scores = log_parser(rf_data)\n",
    "gb_ac_scores, gb_f1_scores = log_parser(gb_data)"
   ]
  },
  {
   "cell_type": "code",
   "execution_count": 32,
   "metadata": {
    "collapsed": true
   },
   "outputs": [],
   "source": [
    "names = '''\n",
    "Benchmark\n",
    "VarThresh\n",
    "K-BestSel\n",
    "P.C.A\n",
    "'''.strip().split()"
   ]
  },
  {
   "cell_type": "code",
   "execution_count": 33,
   "metadata": {
    "collapsed": false
   },
   "outputs": [
    {
     "data": {
      "text/plain": [
       "<matplotlib.legend.Legend at 0x110aa1048>"
      ]
     },
     "execution_count": 33,
     "metadata": {},
     "output_type": "execute_result"
    },
    {
     "data": {
      "image/png": "[encoded data removed]",
      "text/plain": [
       "<matplotlib.figure.Figure at 0x1127d41d0>"
      ]
     },
     "metadata": {},
     "output_type": "display_data"
    }
   ],
   "source": [
    "plot_size = (12, 3)\n",
    "\n",
    "plt.figure(figsize=plot_size)\n",
    "plt.plot(range(len(names)), rf_ac_scores)\n",
    "plt.plot(range(len(names)), rf_f1_scores)\n",
    "plt.plot(range(len(names)), gb_ac_scores)\n",
    "plt.plot(range(len(names)), gb_f1_scores)\n",
    "plt.title('GB Test-Train Score growth with Data Transformation', fontsize=8)\n",
    "plt.yticks(fontsize=8)\n",
    "plt.xticks(np.arange(len(names)) + .0004, names, fontsize=8)\n",
    "plt.legend(['RF AC', 'RF F1', 'GB AC', 'GB F1'])"
   ]
  },
  {
   "cell_type": "raw",
   "metadata": {},
   "source": [
    "## overall conclusion\n",
    "\n",
    "### our best score\n",
    "\n",
    "============================================================ 19\n",
    "LOAD PREFIX USED:  tmp/Iteration2_vt_\n",
    "------------------------------------------------\n",
    "AC Score: 0.800134680135 F1 Score: 0.805811215543\n",
    "\n",
    "### saved with prefix\n",
    "\n",
    "SAVE PREFIX USED:  tmp/Iteration2_vt_kb_"
   ]
  },
  {
   "cell_type": "code",
   "execution_count": 34,
   "metadata": {
    "collapsed": false
   },
   "outputs": [
    {
     "data": {
      "text/html": [
       "<div>\n",
       "<table border=\"1\" class=\"dataframe\">\n",
       "  <thead>\n",
       "    <tr style=\"text-align: right;\">\n",
       "      <th></th>\n",
       "      <th>0</th>\n",
       "      <th>1</th>\n",
       "      <th>2</th>\n",
       "      <th>3</th>\n",
       "      <th>4</th>\n",
       "      <th>5</th>\n",
       "      <th>6</th>\n",
       "      <th>7</th>\n",
       "      <th>8</th>\n",
       "      <th>9</th>\n",
       "      <th>10</th>\n",
       "      <th>11</th>\n",
       "      <th>12</th>\n",
       "      <th>13</th>\n",
       "      <th>14</th>\n",
       "      <th>15</th>\n",
       "      <th>16</th>\n",
       "      <th>17</th>\n",
       "      <th>18</th>\n",
       "    </tr>\n",
       "  </thead>\n",
       "  <tbody>\n",
       "    <tr>\n",
       "      <th>0</th>\n",
       "      <td>292</td>\n",
       "      <td>175</td>\n",
       "      <td>2049</td>\n",
       "      <td>207</td>\n",
       "      <td>35933</td>\n",
       "      <td>45025</td>\n",
       "      <td>8</td>\n",
       "      <td>319</td>\n",
       "      <td>4</td>\n",
       "      <td>14</td>\n",
       "      <td>9</td>\n",
       "      <td>2</td>\n",
       "      <td>2</td>\n",
       "      <td>3</td>\n",
       "      <td>3</td>\n",
       "      <td>5</td>\n",
       "      <td>6</td>\n",
       "      <td>4</td>\n",
       "      <td>7</td>\n",
       "    </tr>\n",
       "    <tr>\n",
       "      <th>1</th>\n",
       "      <td>292</td>\n",
       "      <td>250</td>\n",
       "      <td>1622</td>\n",
       "      <td>219</td>\n",
       "      <td>44888</td>\n",
       "      <td>53443</td>\n",
       "      <td>0</td>\n",
       "      <td>299</td>\n",
       "      <td>8</td>\n",
       "      <td>11</td>\n",
       "      <td>3</td>\n",
       "      <td>2</td>\n",
       "      <td>2</td>\n",
       "      <td>2</td>\n",
       "      <td>2</td>\n",
       "      <td>8</td>\n",
       "      <td>1</td>\n",
       "      <td>9</td>\n",
       "      <td>10</td>\n",
       "    </tr>\n",
       "    <tr>\n",
       "      <th>2</th>\n",
       "      <td>289</td>\n",
       "      <td>569</td>\n",
       "      <td>1620</td>\n",
       "      <td>597</td>\n",
       "      <td>31619</td>\n",
       "      <td>35757</td>\n",
       "      <td>18</td>\n",
       "      <td>477</td>\n",
       "      <td>8</td>\n",
       "      <td>13</td>\n",
       "      <td>9</td>\n",
       "      <td>2</td>\n",
       "      <td>2</td>\n",
       "      <td>2</td>\n",
       "      <td>2</td>\n",
       "      <td>5</td>\n",
       "      <td>6</td>\n",
       "      <td>5</td>\n",
       "      <td>5</td>\n",
       "    </tr>\n",
       "    <tr>\n",
       "      <th>3</th>\n",
       "      <td>279</td>\n",
       "      <td>222</td>\n",
       "      <td>319</td>\n",
       "      <td>242</td>\n",
       "      <td>57636</td>\n",
       "      <td>9125</td>\n",
       "      <td>7</td>\n",
       "      <td>250</td>\n",
       "      <td>8</td>\n",
       "      <td>7</td>\n",
       "      <td>9</td>\n",
       "      <td>6</td>\n",
       "      <td>2</td>\n",
       "      <td>0</td>\n",
       "      <td>0</td>\n",
       "      <td>7</td>\n",
       "      <td>6</td>\n",
       "      <td>1</td>\n",
       "      <td>0</td>\n",
       "    </tr>\n",
       "    <tr>\n",
       "      <th>4</th>\n",
       "      <td>343</td>\n",
       "      <td>73</td>\n",
       "      <td>1313</td>\n",
       "      <td>83</td>\n",
       "      <td>34320</td>\n",
       "      <td>1346</td>\n",
       "      <td>16</td>\n",
       "      <td>60</td>\n",
       "      <td>10</td>\n",
       "      <td>11</td>\n",
       "      <td>3</td>\n",
       "      <td>1</td>\n",
       "      <td>2</td>\n",
       "      <td>1</td>\n",
       "      <td>1</td>\n",
       "      <td>8</td>\n",
       "      <td>1</td>\n",
       "      <td>6</td>\n",
       "      <td>6</td>\n",
       "    </tr>\n",
       "  </tbody>\n",
       "</table>\n",
       "</div>"
      ],
      "text/plain": [
       "    0    1     2    3      4      5   6    7   8   9   10  11  12  13  14  15  \\\n",
       "0  292  175  2049  207  35933  45025   8  319   4  14   9   2   2   3   3   5   \n",
       "1  292  250  1622  219  44888  53443   0  299   8  11   3   2   2   2   2   8   \n",
       "2  289  569  1620  597  31619  35757  18  477   8  13   9   2   2   2   2   5   \n",
       "3  279  222   319  242  57636   9125   7  250   8   7   9   6   2   0   0   7   \n",
       "4  343   73  1313   83  34320   1346  16   60  10  11   3   1   2   1   1   8   \n",
       "\n",
       "   16  17  18  \n",
       "0   6   4   7  \n",
       "1   1   9  10  \n",
       "2   6   5   5  \n",
       "3   6   1   0  \n",
       "4   1   6   6  "
      ]
     },
     "execution_count": 34,
     "metadata": {},
     "output_type": "execute_result"
    }
   ],
   "source": [
    "TEST_X.head()"
   ]
  },
  {
   "cell_type": "code",
   "execution_count": null,
   "metadata": {
    "collapsed": true
   },
   "outputs": [],
   "source": []
  }
 ],
 "metadata": {
  "kernelspec": {
   "display_name": "Python 3",
   "language": "python",
   "name": "python3"
  },
  "language_info": {
   "codemirror_mode": {
    "name": "ipython",
    "version": 3
   },
   "file_extension": ".py",
   "mimetype": "text/x-python",
   "name": "python",
   "nbconvert_exporter": "python",
   "pygments_lexer": "ipython3",
   "version": "3.5.2"
  }
 },
 "nbformat": 4,
 "nbformat_minor": 2
}
