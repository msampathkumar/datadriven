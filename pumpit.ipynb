{
 "cells": [
  {
   "cell_type": "markdown",
   "metadata": {
    "collapsed": false
   },
   "source": [
    "# PUMP IT"
   ]
  },
  {
   "cell_type": "markdown",
   "metadata": {},
   "source": [
    "Using data from Taarifa and the Tanzanian Ministry of Water, can you predict which pumps are functional, which need some repairs, and which don't work at all? This is an intermediate-level practice competition. Predict one of these three classes based on a number of variables about what kind of pump is operating, when it was installed, and how it is managed. A smart understanding of which waterpoints will fail can improve maintenance operations and ensure that clean, potable water is available to communities across Tanzania.\n",
    "\n",
    "An interactive course exploring this dataset is currently offered by DataCamp.com!\n",
    "\n",
    "Competition End Date: Jan. 28, 2017, 11:59 p.m.\n",
    "\n",
    "This competition is for learning and exploring, so the deadline may be extended in the future.\n",
    "\n",
    "\n",
    "* [Git Hub Repo](https://github.com/msampathkumar/datadriven_pumpit)\n",
    "* [Git Hub Report](https://github.com/msampathkumar/datadriven_pumpit/blob/master/capstone_proposal.mdown)\n",
    "* [Features Details](https://www.drivendata.org/competitions/7/page/25/)\n",
    "\n"
   ]
  },
  {
   "cell_type": "markdown",
   "metadata": {},
   "source": [
    "## Global Imports"
   ]
  },
  {
   "cell_type": "code",
   "execution_count": 1,
   "metadata": {
    "collapsed": false
   },
   "outputs": [
    {
     "name": "stdout",
     "output_type": "stream",
     "text": [
      "'writeandexecute' magic loaded.\n"
     ]
    }
   ],
   "source": [
    "import numpy as np\n",
    "import pandas as pd\n",
    "import matplotlib.pyplot as plt\n",
    "import seaborn as sns\n",
    "\n",
    "np.random.seed(69572)\n",
    "\n",
    "%matplotlib inline\n",
    "\n",
    "%load_ext writeandexecute\n",
    "\n",
    "# plt.figure(figsize=(120,10))\n",
    "\n",
    "# plot figsize\n",
    "small = (4,3)\n",
    "mid = (10, 8)\n",
    "large = (12, 8)"
   ]
  },
  {
   "cell_type": "markdown",
   "metadata": {},
   "source": [
    "## Custom Functions"
   ]
  },
  {
   "cell_type": "markdown",
   "metadata": {},
   "source": [
    "### MarkUP Fns"
   ]
  },
  {
   "cell_type": "code",
   "execution_count": 2,
   "metadata": {
    "collapsed": true
   },
   "outputs": [],
   "source": [
    "from __future__ import absolute_import\n",
    "from IPython.core.getipython import get_ipython\n",
    "from IPython.core.magic import (Magics, magics_class,  cell_magic)\n",
    "import sys\n",
    "from StringIO import StringIO\n",
    "from markdown import markdown\n",
    "from IPython.core.display import HTML\n",
    " \n",
    "@magics_class\n",
    "class MarkdownMagics(Magics):\n",
    " \n",
    "    @cell_magic\n",
    "    def asmarkdown(self, line, cell):\n",
    "        buffer = StringIO()\n",
    "        stdout = sys.stdout\n",
    "        sys.stdout = buffer\n",
    "        try:\n",
    "            exec(cell, locals(), self.shell.user_ns)\n",
    "        except:\n",
    "            sys.stdout = stdout\n",
    "            raise\n",
    "        sys.stdout = stdout\n",
    "        return HTML(\"<p>{}</p>\".format(markdown(buffer.getvalue(), extensions=['markdown.extensions.extra'])))\n",
    "        return buffer.getvalue() + 'test'\n",
    " \n",
    "get_ipython().register_magics(MarkdownMagics)"
   ]
  },
  {
   "cell_type": "markdown",
   "metadata": {},
   "source": [
    "### DataFrame Value Counts"
   ]
  },
  {
   "cell_type": "code",
   "execution_count": 3,
   "metadata": {
    "collapsed": true
   },
   "outputs": [],
   "source": [
    "import pandas as pd\n",
    "\n",
    "def raw_markup_value_counts(dataframe, max_print_value_counts=30, show_plots=False):\n",
    "    '''\n",
    "    prints value counts of each feature in data frame\n",
    "    '''\n",
    "    mydf = pd.DataFrame.copy(dataframe)\n",
    "    i = 0\n",
    "    raw_markup_data = []\n",
    "    pp = raw_markup_data.append\n",
    "    pp('''|Col ID|Col Name|UniqCount|Col Values|UniqValCount|''')\n",
    "    pp('''|------|--------|---------|----------|------------|''')\n",
    "    for col in mydf.dtypes.index:\n",
    "        i += 1\n",
    "        sam = mydf[col]\n",
    "        tmp = len(sam.value_counts())\n",
    "        if tmp < max_print_value_counts:\n",
    "            flag = True\n",
    "            for key, val in dict(sam.value_counts()).iteritems():\n",
    "                if flag:\n",
    "                    pp('|%i|%s|%i|%s|%s|' % (\n",
    "                            i, col, len(sam.value_counts()), key, val))\n",
    "                    flag = False\n",
    "                else:\n",
    "                    pp('||-|-|%s|%s|' % (key, val))\n",
    "            if show_plots:\n",
    "                plt.figure(i)\n",
    "                ax = sam.value_counts().plot(kind='barh', figsize=(12, 5))\n",
    "                _ = plt.title(col.upper())\n",
    "                _ = plt.xlabel('counts')\n",
    "        else:\n",
    "            pp('|%i|%s|%i|||' % (i, col, len(sam.value_counts())))\n",
    "    return raw_markup_data"
   ]
  },
  {
   "cell_type": "markdown",
   "metadata": {},
   "source": [
    "#### Confusion Matrix"
   ]
  },
  {
   "cell_type": "code",
   "execution_count": 4,
   "metadata": {
    "collapsed": false
   },
   "outputs": [],
   "source": [
    "from sklearn.metrics import confusion_matrix\n",
    "\n",
    "import itertools\n",
    "\n",
    "from __future__ import division\n",
    "\n",
    "def plot_confusion_matrix(cm, classes,\n",
    "                          normalize=False,\n",
    "                          title='Confusion matrix',\n",
    "                          cmap=plt.cm.Blues):\n",
    "    \"\"\"\n",
    "    This function prints and plots the confusion matrix.\n",
    "    Normalization can be applied by setting `normalize=True`.\n",
    "    \"\"\"\n",
    "    plt.imshow(cm, interpolation='nearest', cmap=cmap)\n",
    "    plt.title(title)\n",
    "    plt.colorbar()\n",
    "    tick_marks = np.arange(len(classes))\n",
    "    plt.xticks(tick_marks, classes, rotation=45)\n",
    "    plt.yticks(tick_marks, classes)\n",
    "\n",
    "    if normalize:\n",
    "        cm = cm.astype('float') / cm.sum(axis=1)[:, np.newaxis]\n",
    "        print(\"Normalized confusion matrix\")\n",
    "    else:\n",
    "        print('Confusion matrix, without normalization')\n",
    "\n",
    "    print(cm)\n",
    "\n",
    "    thresh = cm.max() / 2.\n",
    "    for i, j in itertools.product(range(cm.shape[0]), range(cm.shape[1])):\n",
    "        plt.text(j, i, cm[i, j],\n",
    "                 horizontalalignment=\"center\",\n",
    "                 color=\"white\" if cm[i, j] > thresh else \"black\")\n",
    "\n",
    "    plt.tight_layout()\n",
    "    plt.ylabel('True label')\n",
    "    plt.xlabel('Predicted label')    \n",
    "\n",
    "    \n",
    "# def confusion_maxtrix_stuff(y_test, y_pred, class_names=RAW_y.status_group.value_counts().keys()):\n",
    "def confusion_maxtrix_stuff(y_test, y_pred, class_names):\n",
    "    # Compute confusion matrix\n",
    "    cnf_matrix = confusion_matrix(y_test, y_pred)\n",
    "    np.set_printoptions(precision=2)\n",
    "\n",
    "    # Plot non-normalized confusion matrix\n",
    "    plt.figure(figsize=(8,8))\n",
    "    plot_confusion_matrix(cnf_matrix, classes=class_names,\n",
    "                          title='Confusion matrix, without normalization')\n",
    "\n",
    "    # Plot normalized confusion matrix\n",
    "    plt.figure(figsize=(8,8))\n",
    "    plot_confusion_matrix(cnf_matrix, classes=class_names, normalize=True,\n",
    "                          title='Normalized confusion matrix')\n",
    "\n",
    "    plt.show()"
   ]
  },
  {
   "cell_type": "markdown",
   "metadata": {},
   "source": [
    "## Import & Explore Data"
   ]
  },
  {
   "cell_type": "code",
   "execution_count": 5,
   "metadata": {
    "collapsed": false
   },
   "outputs": [],
   "source": [
    "RAW_X = pd.read_csv('traning_set_values.csv', index_col='id')\n",
    "RAW_y = pd.read_csv('training_set_labels.csv', index_col='id')\n",
    "test_submission = pd.read_csv('test_set_values.csv', index_col='id')"
   ]
  },
  {
   "cell_type": "code",
   "execution_count": 6,
   "metadata": {
    "collapsed": false
   },
   "outputs": [
    {
     "data": {
      "text/html": [
       "<div>\n",
       "<table border=\"1\" class=\"dataframe\">\n",
       "  <thead>\n",
       "    <tr style=\"text-align: right;\">\n",
       "      <th></th>\n",
       "      <th>amount_tsh</th>\n",
       "      <th>gps_height</th>\n",
       "      <th>longitude</th>\n",
       "      <th>latitude</th>\n",
       "      <th>num_private</th>\n",
       "      <th>region_code</th>\n",
       "      <th>district_code</th>\n",
       "      <th>population</th>\n",
       "      <th>construction_year</th>\n",
       "    </tr>\n",
       "  </thead>\n",
       "  <tbody>\n",
       "    <tr>\n",
       "      <th>count</th>\n",
       "      <td>59400.000000</td>\n",
       "      <td>59400.000000</td>\n",
       "      <td>59400.000000</td>\n",
       "      <td>5.940000e+04</td>\n",
       "      <td>59400.000000</td>\n",
       "      <td>59400.000000</td>\n",
       "      <td>59400.000000</td>\n",
       "      <td>59400.000000</td>\n",
       "      <td>59400.000000</td>\n",
       "    </tr>\n",
       "    <tr>\n",
       "      <th>mean</th>\n",
       "      <td>317.650385</td>\n",
       "      <td>668.297239</td>\n",
       "      <td>34.077427</td>\n",
       "      <td>-5.706033e+00</td>\n",
       "      <td>0.474141</td>\n",
       "      <td>15.297003</td>\n",
       "      <td>5.629747</td>\n",
       "      <td>179.909983</td>\n",
       "      <td>1300.652475</td>\n",
       "    </tr>\n",
       "    <tr>\n",
       "      <th>std</th>\n",
       "      <td>2997.574558</td>\n",
       "      <td>693.116350</td>\n",
       "      <td>6.567432</td>\n",
       "      <td>2.946019e+00</td>\n",
       "      <td>12.236230</td>\n",
       "      <td>17.587406</td>\n",
       "      <td>9.633649</td>\n",
       "      <td>471.482176</td>\n",
       "      <td>951.620547</td>\n",
       "    </tr>\n",
       "    <tr>\n",
       "      <th>min</th>\n",
       "      <td>0.000000</td>\n",
       "      <td>-90.000000</td>\n",
       "      <td>0.000000</td>\n",
       "      <td>-1.164944e+01</td>\n",
       "      <td>0.000000</td>\n",
       "      <td>1.000000</td>\n",
       "      <td>0.000000</td>\n",
       "      <td>0.000000</td>\n",
       "      <td>0.000000</td>\n",
       "    </tr>\n",
       "    <tr>\n",
       "      <th>25%</th>\n",
       "      <td>0.000000</td>\n",
       "      <td>0.000000</td>\n",
       "      <td>33.090347</td>\n",
       "      <td>-8.540621e+00</td>\n",
       "      <td>0.000000</td>\n",
       "      <td>5.000000</td>\n",
       "      <td>2.000000</td>\n",
       "      <td>0.000000</td>\n",
       "      <td>0.000000</td>\n",
       "    </tr>\n",
       "    <tr>\n",
       "      <th>50%</th>\n",
       "      <td>0.000000</td>\n",
       "      <td>369.000000</td>\n",
       "      <td>34.908743</td>\n",
       "      <td>-5.021597e+00</td>\n",
       "      <td>0.000000</td>\n",
       "      <td>12.000000</td>\n",
       "      <td>3.000000</td>\n",
       "      <td>25.000000</td>\n",
       "      <td>1986.000000</td>\n",
       "    </tr>\n",
       "    <tr>\n",
       "      <th>75%</th>\n",
       "      <td>20.000000</td>\n",
       "      <td>1319.250000</td>\n",
       "      <td>37.178387</td>\n",
       "      <td>-3.326156e+00</td>\n",
       "      <td>0.000000</td>\n",
       "      <td>17.000000</td>\n",
       "      <td>5.000000</td>\n",
       "      <td>215.000000</td>\n",
       "      <td>2004.000000</td>\n",
       "    </tr>\n",
       "    <tr>\n",
       "      <th>max</th>\n",
       "      <td>350000.000000</td>\n",
       "      <td>2770.000000</td>\n",
       "      <td>40.345193</td>\n",
       "      <td>-2.000000e-08</td>\n",
       "      <td>1776.000000</td>\n",
       "      <td>99.000000</td>\n",
       "      <td>80.000000</td>\n",
       "      <td>30500.000000</td>\n",
       "      <td>2013.000000</td>\n",
       "    </tr>\n",
       "  </tbody>\n",
       "</table>\n",
       "</div>"
      ],
      "text/plain": [
       "          amount_tsh    gps_height     longitude      latitude   num_private  \\\n",
       "count   59400.000000  59400.000000  59400.000000  5.940000e+04  59400.000000   \n",
       "mean      317.650385    668.297239     34.077427 -5.706033e+00      0.474141   \n",
       "std      2997.574558    693.116350      6.567432  2.946019e+00     12.236230   \n",
       "min         0.000000    -90.000000      0.000000 -1.164944e+01      0.000000   \n",
       "25%         0.000000      0.000000     33.090347 -8.540621e+00      0.000000   \n",
       "50%         0.000000    369.000000     34.908743 -5.021597e+00      0.000000   \n",
       "75%        20.000000   1319.250000     37.178387 -3.326156e+00      0.000000   \n",
       "max    350000.000000   2770.000000     40.345193 -2.000000e-08   1776.000000   \n",
       "\n",
       "        region_code  district_code    population  construction_year  \n",
       "count  59400.000000   59400.000000  59400.000000       59400.000000  \n",
       "mean      15.297003       5.629747    179.909983        1300.652475  \n",
       "std       17.587406       9.633649    471.482176         951.620547  \n",
       "min        1.000000       0.000000      0.000000           0.000000  \n",
       "25%        5.000000       2.000000      0.000000           0.000000  \n",
       "50%       12.000000       3.000000     25.000000        1986.000000  \n",
       "75%       17.000000       5.000000    215.000000        2004.000000  \n",
       "max       99.000000      80.000000  30500.000000        2013.000000  "
      ]
     },
     "execution_count": 6,
     "metadata": {},
     "output_type": "execute_result"
    }
   ],
   "source": [
    "RAW_X.describe()"
   ]
  },
  {
   "cell_type": "code",
   "execution_count": 7,
   "metadata": {
    "collapsed": false,
    "scrolled": false
   },
   "outputs": [
    {
     "data": {
      "text/plain": [
       "date_recorded            object\n",
       "funder                   object\n",
       "installer                object\n",
       "wpt_name                 object\n",
       "basin                    object\n",
       "subvillage               object\n",
       "region                   object\n",
       "lga                      object\n",
       "ward                     object\n",
       "public_meeting           object\n",
       "recorded_by              object\n",
       "scheme_management        object\n",
       "scheme_name              object\n",
       "permit                   object\n",
       "extraction_type          object\n",
       "extraction_type_group    object\n",
       "extraction_type_class    object\n",
       "management               object\n",
       "management_group         object\n",
       "payment                  object\n",
       "payment_type             object\n",
       "water_quality            object\n",
       "quality_group            object\n",
       "quantity                 object\n",
       "quantity_group           object\n",
       "source                   object\n",
       "source_type              object\n",
       "source_class             object\n",
       "waterpoint_type          object\n",
       "waterpoint_type_group    object\n",
       "dtype: object"
      ]
     },
     "execution_count": 7,
     "metadata": {},
     "output_type": "execute_result"
    }
   ],
   "source": [
    "RAW_X.dtypes[RAW_X.dtypes == object]"
   ]
  },
  {
   "cell_type": "raw",
   "metadata": {
    "collapsed": false,
    "scrolled": false
   },
   "source": [
    "%%asmarkdown\n",
    "\n",
    "# show me the graphs\n",
    "tmp = raw_markup_value_counts(RAW_X, 10, True)"
   ]
  },
  {
   "cell_type": "markdown",
   "metadata": {},
   "source": [
    "## Pre Processing"
   ]
  },
  {
   "cell_type": "markdown",
   "metadata": {},
   "source": [
    "\n",
    "\n",
    "1. Start_date\n",
    "\n",
    "    Converting start_date from object type to integer, `2012-10-01` ==> 20121001\n",
    "\n",
    "2. Longitude & Latitude\n",
    "\n",
    "    Thirteen decimal places will pin down the location to 111,111/10^13 = about 1 angstrom, around half the thickness of a small atom.\n",
    "    The sign tells us whether we are north or south, east or west on the globe.\n",
    "    * A nonzero hundreds digit tells us we're using longitude, not latitude!\n",
    "    * The tens digit gives a position to about 1,000 kilometers. It gives us useful information about what continent or ocean we are on.\n",
    "    * The units digit (one decimal degree) gives a position up to 111 kilometers (60 nautical miles, about 69 miles). It can tell us roughly what large state or country we are in.\n",
    "    * The first decimal place is worth up to 11.1 km: it can distinguish the position of one large city from a neighboring large city.\n",
    "    * The second decimal place is worth up to 1.1 km: it can separate one village from the next.\n",
    "    * The third decimal place is worth up to 110 m: it can identify a large agricultural field or institutional campus.\n",
    "    * The fourth decimal place is worth up to 11 m: it can identify a parcel of land. It is comparable to the typical accuracy of an uncorrected GPS unit with no interference.\n",
    "\n",
    "    As we dont need a higher accuracy than 4 digits, we are going trim to 4 digits.\n",
    "\n",
    "\n",
    "Source: [Link](http://gis.stackexchange.com/questions/8650/measuring-accuracy-of-latitude-and-longitude)"
   ]
  },
  {
   "cell_type": "markdown",
   "metadata": {},
   "source": [
    "#### DateTime to Int"
   ]
  },
  {
   "cell_type": "code",
   "execution_count": 8,
   "metadata": {
    "collapsed": false
   },
   "outputs": [
    {
     "name": "stdout",
     "output_type": "stream",
     "text": [
      "4776\n"
     ]
    }
   ],
   "source": [
    "from datetime import datetime\n",
    "date_format = \"%Y-%m-%d\"\n",
    "a = datetime.strptime('2000-01-01', date_format)\n",
    "b = datetime.strptime('2013-01-28', date_format)\n",
    "delta = b - a\n",
    "print delta.days # that's it"
   ]
  },
  {
   "cell_type": "code",
   "execution_count": 9,
   "metadata": {
    "collapsed": false
   },
   "outputs": [
    {
     "data": {
      "text/plain": [
       "id\n",
       "69572    2011-03-14\n",
       "8776     2013-03-06\n",
       "34310    2013-02-25\n",
       "67743    2013-01-28\n",
       "19728    2011-07-13\n",
       "Name: date_recorded, dtype: object"
      ]
     },
     "execution_count": 9,
     "metadata": {},
     "output_type": "execute_result"
    }
   ],
   "source": [
    "RAW_X.date_recorded.head()"
   ]
  },
  {
   "cell_type": "code",
   "execution_count": 10,
   "metadata": {
    "collapsed": false
   },
   "outputs": [],
   "source": [
    "date_format = \"%Y-%m-%d\"\n",
    "a_start_date = datetime.strptime('2000-01-01', date_format)\n",
    "\n",
    "RAW_X.date_recorded = RAW_X.date_recorded.map(lambda x: (datetime.strptime(str(x), date_format) - a_start_date).days)"
   ]
  },
  {
   "cell_type": "markdown",
   "metadata": {},
   "source": [
    "#### Logititude and Latitude"
   ]
  },
  {
   "cell_type": "code",
   "execution_count": 11,
   "metadata": {
    "collapsed": false
   },
   "outputs": [
    {
     "data": {
      "image/png": "[encoded data removed]",
      "text/plain": [
       "<matplotlib.figure.Figure at 0x111550890>"
      ]
     },
     "metadata": {},
     "output_type": "display_data"
    }
   ],
   "source": [
    "_ = plt.scatter(RAW_X[u'latitude'], RAW_X[u'longitude'])\n",
    "\n",
    "# plt.figure(figsize=small)\n",
    "# _ = plt.scatter(RAW_X[u'latitude'][RAW_X.latitude >= -1.0], RAW_X[u'longitude'][RAW_X.latitude >= -1.0])"
   ]
  },
  {
   "cell_type": "code",
   "execution_count": 12,
   "metadata": {
    "collapsed": false
   },
   "outputs": [
    {
     "name": "stdout",
     "output_type": "stream",
     "text": [
      "Outliers Count: 1819\n",
      "Outliers Count: 1812\n"
     ]
    },
    {
     "data": {
      "image/png": "[encoded data removed]",
      "text/plain": [
       "<matplotlib.figure.Figure at 0x1102ece50>"
      ]
     },
     "metadata": {},
     "output_type": "display_data"
    }
   ],
   "source": [
    "# Fixing the Outliers\n",
    "print 'Outliers Count:', len(RAW_X[u'latitude'][RAW_X[u'latitude'] >= -1.0])\n",
    "print 'Outliers Count:', len(RAW_X[u'longitude'][RAW_X[u'longitude'] <= 1.0])\n",
    "\n",
    "\n",
    "_ = np.mean(RAW_X[u'latitude'][RAW_X.latitude < -1.0].values)\n",
    "RAW_X.loc[RAW_X.latitude >= -1.0, u'latitude'] = _\n",
    "\n",
    "\n",
    "_ = np.mean(RAW_X[u'longitude'][RAW_X[u'longitude'] > 1.0].values)\n",
    "RAW_X.loc[RAW_X[u'longitude'] <= 1.0, u'longitude'] = _\n",
    "\n",
    "_ = plt.scatter(RAW_X[u'latitude'], RAW_X[u'longitude'])"
   ]
  },
  {
   "cell_type": "code",
   "execution_count": 13,
   "metadata": {
    "collapsed": true
   },
   "outputs": [],
   "source": [
    "# reducing geo location precision to 11 meters\n",
    "\n",
    "long_lat_precision = 1/10 ** 3\n",
    "\n",
    "RAW_X.longitude = RAW_X.longitude// 0.0001\n",
    "RAW_X.latitude = RAW_X.latitude// 0.0001"
   ]
  },
  {
   "cell_type": "markdown",
   "metadata": {},
   "source": [
    "#### Fixing Boolean Values"
   ]
  },
  {
   "cell_type": "code",
   "execution_count": 14,
   "metadata": {
    "collapsed": true
   },
   "outputs": [],
   "source": [
    "RAW_X.public_meeting = RAW_X.public_meeting == True\n",
    "RAW_X.permit = RAW_X.permit == True"
   ]
  },
  {
   "cell_type": "markdown",
   "metadata": {},
   "source": [
    "#### Text issues"
   ]
  },
  {
   "cell_type": "code",
   "execution_count": 15,
   "metadata": {
    "collapsed": false
   },
   "outputs": [
    {
     "name": "stdout",
     "output_type": "stream",
     "text": [
      "funder 1898 1881\n",
      "installer 2146 1867\n",
      "wpt_name 37400 36717\n",
      "subvillage 19288 19176\n",
      "scheme_name 2697 2485\n"
     ]
    }
   ],
   "source": [
    "def text_transformation(name):\n",
    "    if name:\n",
    "        name = name.lower().strip()\n",
    "        name = ''.join([i if 96 < ord(i) < 128 else ' ' for i in name])\n",
    "        if 'and' in name:\n",
    "            name = name.replace('and', ' ')\n",
    "        while '  ' in name:\n",
    "            name = name.replace('  ', ' ')\n",
    "        return name.strip()\n",
    "    return \n",
    "\n",
    "for col in RAW_X.dtypes[RAW_X.dtypes == object].index:\n",
    "    aa = len(RAW_X[col].unique())\n",
    "    RAW_X[col] = RAW_X[col].fillna('').apply( lambda x : text_transformation(x))\n",
    "    bb = len(RAW_X[col].unique())\n",
    "    if aa != bb:\n",
    "        print col, aa, bb"
   ]
  },
  {
   "cell_type": "raw",
   "metadata": {
    "collapsed": false
   },
   "source": [
    "\"setting a limit factor of 100 categorical values are allowed\"\n",
    "\n",
    "MAX_CATEGORICAL_GROUPS_LIMIT = 150\n",
    "\n",
    "icols = {}\n",
    "for col in RAW_X.dtypes[RAW_X.dtypes == object].index:\n",
    "    tmp = len(RAW_X[col].unique())\n",
    "    if tmp > MAX_CATEGORICAL_GROUPS_LIMIT:\n",
    "        icols[col] = tmp\n",
    "\n",
    "icols"
   ]
  },
  {
   "cell_type": "raw",
   "metadata": {
    "collapsed": false
   },
   "source": [
    "from collections import Counter\n",
    "import pickle"
   ]
  },
  {
   "cell_type": "raw",
   "metadata": {
    "collapsed": false,
    "scrolled": false
   },
   "source": [
    "funder_dict =  Counter(RAW_X.funder)\n",
    "tmp = funder_dict.keys()\n",
    "tmp.sort()\n",
    "pickle.dump(funder_dict, open('funder.pkl', 'w'))"
   ]
  },
  {
   "cell_type": "raw",
   "metadata": {
    "collapsed": false
   },
   "source": [
    "%pprint on"
   ]
  },
  {
   "cell_type": "raw",
   "metadata": {
    "collapsed": false,
    "scrolled": false
   },
   "source": [
    "tmp2 = funder_dict.keys()\n",
    "\n",
    "tmp2 = Counter(tmp).values()\n",
    "tmp2.sort()\n",
    "tmp2 = np.array(tmp2)\n",
    "_ = plt.plot(tmp2)"
   ]
  },
  {
   "cell_type": "markdown",
   "metadata": {},
   "source": [
    "#### Cols vs Uniq distribution"
   ]
  },
  {
   "cell_type": "raw",
   "metadata": {
    "collapsed": false
   },
   "source": [
    "x = []\n",
    "y = []\n",
    "i = 0\n",
    "for col in RAW_X.dtypes[RAW_X.dtypes == object].index:\n",
    "    # print col, len(RAW_X[col].unique())\n",
    "    i += 1\n",
    "    x.append(i)\n",
    "    y.append(len(RAW_X[col].unique()))\n",
    "\n",
    "\n",
    "y.sort()\n",
    "\n",
    "plt.figure(figsize=(12, 2))\n",
    "plt.title('Cols vs Uniq categorical lables')\n",
    "plt.xlabel('Columns ID\\'s')\n",
    "plt.ylabel('Uniq values')\n",
    "_ = plt.semilogy(x, np.array(y))"
   ]
  },
  {
   "cell_type": "raw",
   "metadata": {
    "collapsed": false
   },
   "source": [
    "_ = plt.semilogy(x, np.array(y))"
   ]
  },
  {
   "cell_type": "raw",
   "metadata": {
    "collapsed": false
   },
   "source": [
    "y = np.array(sorted(y))\n",
    "plt.hist(np.log(y))"
   ]
  },
  {
   "cell_type": "raw",
   "metadata": {
    "collapsed": false
   },
   "source": [
    "_ = plt.scatter(np.arange(len(y)), y)"
   ]
  },
  {
   "cell_type": "markdown",
   "metadata": {},
   "source": [
    "#### Boolean Column"
   ]
  },
  {
   "cell_type": "code",
   "execution_count": 16,
   "metadata": {
    "collapsed": false
   },
   "outputs": [],
   "source": [
    "RAW_X.public_meeting = RAW_X.public_meeting == True\n",
    "RAW_X.permit = RAW_X.permit == True"
   ]
  },
  {
   "cell_type": "markdown",
   "metadata": {},
   "source": [
    "### Understanding distribution of data"
   ]
  },
  {
   "cell_type": "raw",
   "metadata": {
    "collapsed": false
   },
   "source": [
    "y = np.log(dict(RAW_X.installer.value_counts()).values())\n",
    "\n",
    "print 'Total no.of unique values', len(y)\n",
    "print 'Max', y.max()\n",
    "print 'Min', y.min()\n",
    "print 'Values more than 1', len(y[y > 0])\n",
    "\n",
    "#_ = plt.plot(np.arange(len(y)), y)"
   ]
  },
  {
   "cell_type": "raw",
   "metadata": {
    "collapsed": false
   },
   "source": [
    "# discard all minor values\n",
    "y1 = y[y > 0]\n",
    "\n",
    "# find the max limt for accepting\n",
    "print y1.mean(), y1.std()\n",
    "# _ = plt.hist(y1)\n",
    "\n",
    "print 'with restpect to mean, 2 standard deviation', y1.mean() + (2 * y1.std())"
   ]
  },
  {
   "cell_type": "raw",
   "metadata": {
    "collapsed": false
   },
   "source": [
    "y = np.log(dict(RAW_X.installer.value_counts()).values())\n",
    "\n",
    "# Discard all values appeared only once.\n",
    "y = y[y > 0]\n",
    "\n",
    "y = y[y <= 5.13106006715]\n",
    "\n",
    "print 'with restpect to mean, 2 standard deviation', y1.mean() + (2 * y1.std())\n",
    "\n",
    "plt.hist(y)"
   ]
  },
  {
   "cell_type": "raw",
   "metadata": {
    "collapsed": false
   },
   "source": [
    "m = y1.mean()\n",
    "s = y1.std()\n",
    "\n",
    "for i in range(3):\n",
    "    print m - (s * i), m + (s * i)"
   ]
  },
  {
   "cell_type": "raw",
   "metadata": {
    "collapsed": false
   },
   "source": [
    "x = np.array([1, 2, 3, 4, 5])\n",
    "y = np.power(x, 2) # Effectively y = x**2\n",
    "e = np.array([1.5, 2.6, 3.7, 4.6, 5.5])\n",
    "\n",
    "plt.errorbar(x, y, e, linestyle='None', marker='^')\n",
    "\n",
    "plt.show()"
   ]
  },
  {
   "cell_type": "raw",
   "metadata": {},
   "source": [
    "Finding closely matching words"
   ]
  },
  {
   "cell_type": "raw",
   "metadata": {
    "collapsed": false
   },
   "source": [
    "import difflib\n",
    "\n",
    "tmp2 = difflib.get_close_matches('govern', tmp1, n=100, cutoff=0.66)\n",
    "for each in tmp2:\n",
    "    print '%s : %s' % (each, tmp[each])"
   ]
  },
  {
   "cell_type": "markdown",
   "metadata": {},
   "source": [
    "## Vector Transformation\n",
    "\n",
    "\n",
    "* Feature Selection:\n",
    "    http://machinelearningmastery.com/feature-selection-machine-learning-python/"
   ]
  },
  {
   "cell_type": "code",
   "execution_count": 17,
   "metadata": {
    "collapsed": false
   },
   "outputs": [
    {
     "name": "stderr",
     "output_type": "stream",
     "text": [
      "/Users/sampathkumarm/anaconda/lib/python2.7/site-packages/numpy/lib/arraysetops.py:200: FutureWarning: numpy not_equal will not check object identity in the future. The comparison did not return the same result as suggested by the identity (`is`)) and will change.\n",
      "  flag = np.concatenate(([True], aux[1:] != aux[:-1]))\n",
      "/Users/sampathkumarm/anaconda/lib/python2.7/site-packages/numpy/lib/arraysetops.py:259: FutureWarning: numpy equal will not check object identity in the future. The comparison did not return the same result as suggested by the identity (`is`)) and will change.\n",
      "  return aux[:-1][aux[1:] == aux[:-1]]\n",
      "/Users/sampathkumarm/anaconda/lib/python2.7/site-packages/sklearn/preprocessing/label.py:112: DataConversionWarning: A column-vector y was passed when a 1d array was expected. Please change the shape of y to (n_samples, ), for example using ravel().\n",
      "  y = column_or_1d(y, warn=True)\n"
     ]
    }
   ],
   "source": [
    "from collections import defaultdict\n",
    "from sklearn import preprocessing\n",
    "\n",
    "# http://stackoverflow.com/questions/24458645/label-encoding-across-multiple-columns-in-scikit-learn\n",
    "d = defaultdict(preprocessing.LabelEncoder)\n",
    "\n",
    "# Labels Fit\n",
    "sam = pd.concat([RAW_X, test_submission]).apply(lambda x: d[x.name].fit(x))\n",
    "\n",
    "# Labels Transform - Training Data\n",
    "X = RAW_X.apply(lambda x: d[x.name].transform(x))\n",
    "\n",
    "# Labels Transform - Submission Data\n",
    "# test_submission = test_submission.apply(lambda x: d[x.name].transform(x))\n",
    "\n",
    "#\n",
    "le = preprocessing.LabelEncoder().fit(RAW_y)\n",
    "y = le.transform(RAW_y[u'status_group'])\n"
   ]
  },
  {
   "cell_type": "code",
   "execution_count": 18,
   "metadata": {
    "collapsed": false
   },
   "outputs": [],
   "source": [
    "# g = sns.PairGrid(X[:1000])\n",
    "# g.map(plt.scatter);"
   ]
  },
  {
   "cell_type": "markdown",
   "metadata": {},
   "source": [
    "### UniVariate Analysis"
   ]
  },
  {
   "cell_type": "code",
   "execution_count": 19,
   "metadata": {
    "collapsed": true
   },
   "outputs": [],
   "source": [
    "from sklearn.feature_selection import SelectKBest\n",
    "from sklearn.feature_selection import chi2"
   ]
  },
  {
   "cell_type": "code",
   "execution_count": 20,
   "metadata": {
    "collapsed": false
   },
   "outputs": [
    {
     "name": "stdout",
     "output_type": "stream",
     "text": [
      "[  7.49e+04   9.62e+03   2.44e+04   5.13e+05   1.10e+04   1.20e+06\n",
      "   2.29e+05   6.31e+04   2.11e+02   8.30e+01   1.25e+04   5.76e+02\n",
      "   1.70e+03   6.45e+02   2.97e+03   1.08e+03   5.16e+03   4.42e+01\n",
      "   0.00e+00   4.06e+02   2.44e+05   1.31e+04   2.43e+04   3.45e+03\n",
      "   4.67e+03   7.67e+03   1.64e+02   3.02e+01   8.66e+02   4.63e+02\n",
      "   4.62e+00   4.23e+02   6.73e+02   6.73e+02   4.16e+02   5.39e+02\n",
      "   3.95e+02   5.67e+03   4.47e+03] 39\n"
     ]
    }
   ],
   "source": [
    "test = SelectKBest(score_func=chi2, k=30)\n",
    "fit = test.fit(X, y)\n",
    "\n",
    "np.set_printoptions(precision=2)\n",
    "print(fit.scores_), len(fit.scores_)\n",
    "\n",
    "col_importances = list(zip(fit.scores_, RAW_X.columns))\n",
    "col_importances.sort(reverse=True)\n",
    "selected_cols =  [_[-1] for _ in col_importances[:30] ]"
   ]
  },
  {
   "cell_type": "code",
   "execution_count": 21,
   "metadata": {
    "collapsed": true
   },
   "outputs": [],
   "source": [
    "features = pd.DataFrame(fit.transform(X))\n",
    "features.columns = selected_cols"
   ]
  },
  {
   "cell_type": "code",
   "execution_count": 22,
   "metadata": {
    "collapsed": false
   },
   "outputs": [
    {
     "name": "stdout",
     "output_type": "stream",
     "text": [
      "39 (59400, 30) 59400\n"
     ]
    }
   ],
   "source": [
    "print len(X.columns), features.shape, len(y)"
   ]
  },
  {
   "cell_type": "markdown",
   "metadata": {},
   "source": [
    "## Test-Train Split"
   ]
  },
  {
   "cell_type": "code",
   "execution_count": 23,
   "metadata": {
    "collapsed": false
   },
   "outputs": [
    {
     "name": "stderr",
     "output_type": "stream",
     "text": [
      "/Users/sampathkumarm/anaconda/lib/python2.7/site-packages/sklearn/cross_validation.py:44: DeprecationWarning: This module was deprecated in version 0.18 in favor of the model_selection module into which all the refactored classes and functions are moved. Also note that the interface of the new CV iterators are different from that of this module. This module will be removed in 0.20.\n",
      "  \"This module will be removed in 0.20.\", DeprecationWarning)\n"
     ]
    }
   ],
   "source": [
    "from sklearn.cross_validation import train_test_split\n",
    "\n",
    "# X_train, X_test, y_train, y_test = train_test_split(X, y, test_size=0.20, random_state=42, stratify=y)\n",
    "\n",
    "X_train, X_test, y_train, y_test = train_test_split(features, y, test_size=0.20, random_state=42, stratify=y)"
   ]
  },
  {
   "cell_type": "raw",
   "metadata": {
    "collapsed": false,
    "scrolled": false
   },
   "source": [
    "# X_train.boxplot()\n",
    "plt.figure(figsize=(12,10))\n",
    "_ = sns.boxplot(X_train)"
   ]
  },
  {
   "cell_type": "markdown",
   "metadata": {},
   "source": [
    "## Model Training"
   ]
  },
  {
   "cell_type": "markdown",
   "metadata": {},
   "source": [
    "## Random Forest"
   ]
  },
  {
   "cell_type": "code",
   "execution_count": 24,
   "metadata": {
    "collapsed": true
   },
   "outputs": [],
   "source": [
    "from sklearn.ensemble import RandomForestClassifier\n",
    "\n",
    "clf = RandomForestClassifier()"
   ]
  },
  {
   "cell_type": "code",
   "execution_count": 25,
   "metadata": {
    "collapsed": false
   },
   "outputs": [],
   "source": [
    "clf = clf.fit(X_train, y_train)\n",
    "pred = clf.predict_proba(X_test)"
   ]
  },
  {
   "cell_type": "code",
   "execution_count": 26,
   "metadata": {
    "collapsed": false
   },
   "outputs": [],
   "source": [
    "cols_imp = list(zip(clf.feature_importances_, X_train.columns))\n",
    "cols_imp.sort(key=lambda x: x[0])\n",
    "\n",
    "# cols_imp"
   ]
  },
  {
   "cell_type": "code",
   "execution_count": 27,
   "metadata": {
    "collapsed": false
   },
   "outputs": [
    {
     "data": {
      "image/png": "[encoded data removed]",
      "text/plain": [
       "<matplotlib.figure.Figure at 0x11e8da050>"
      ]
     },
     "metadata": {},
     "output_type": "display_data"
    }
   ],
   "source": [
    "def plot_feature_importance(columns, importances):\n",
    "    '''\n",
    "    Args:\n",
    "        columns(list): list of strings\n",
    "        importances(list): list of values\n",
    "    Result:\n",
    "        plot_feature_importance(X_train.columns, clf.feature_importances_)\n",
    "    '''\n",
    "    cols_imp = list(zip(clf.feature_importances_, X_train.columns))\n",
    "    cols_imp.sort(key=lambda x: x[0])\n",
    "    cols_imp\n",
    "\n",
    "    plt.figure(figsize=(8, 15))\n",
    "    values = [x[-2] for x in cols_imp]\n",
    "    lables = [x[-1] for x in cols_imp]\n",
    "\n",
    "    _ = plt.barh(range(len(values)), values, alpha=0.3)\n",
    "    _ = plt.yticks([_ + 0.5 for _ in range(len(values))], X_train.columns)\n",
    "\n",
    "\n",
    "#\n",
    "plot_feature_importance(X_train.columns, clf.feature_importances_)"
   ]
  },
  {
   "cell_type": "markdown",
   "metadata": {},
   "source": [
    "## Scoring"
   ]
  },
  {
   "cell_type": "markdown",
   "metadata": {},
   "source": [
    "### Random Forest Score"
   ]
  },
  {
   "cell_type": "code",
   "execution_count": 28,
   "metadata": {
    "collapsed": true
   },
   "outputs": [],
   "source": [
    "from sklearn import metrics"
   ]
  },
  {
   "cell_type": "code",
   "execution_count": 29,
   "metadata": {
    "collapsed": false
   },
   "outputs": [
    {
     "name": "stdout",
     "output_type": "stream",
     "text": [
      "[11880, 11880]\n"
     ]
    },
    {
     "data": {
      "text/plain": [
       "0.80303030303030298"
      ]
     },
     "execution_count": 29,
     "metadata": {},
     "output_type": "execute_result"
    }
   ],
   "source": [
    "print map(lambda x: len(x), [X_test, y_test])\n",
    "\n",
    "clf.score(X_test, y_test) # 0.79303132333435367 # 0.80252525252525253 # 0.80303030303030298 # 0.80345117845117842"
   ]
  },
  {
   "cell_type": "code",
   "execution_count": 30,
   "metadata": {
    "collapsed": false
   },
   "outputs": [
    {
     "name": "stdout",
     "output_type": "stream",
     "text": [
      "-0.0104198551168\n",
      "0.0250488215488 0.0354686766656\n"
     ]
    }
   ],
   "source": [
    "print .79303132333435367 - 0.80345117845117842\n",
    "\n",
    "print .8285 - 0.80345117845117842, .8285 - .79303132333435367\n",
    "\n"
   ]
  },
  {
   "cell_type": "raw",
   "metadata": {
    "collapsed": false,
    "scrolled": false
   },
   "source": [
    "confusion_maxtrix_stuff(y_test, clf.predict(X_test))"
   ]
  },
  {
   "cell_type": "markdown",
   "metadata": {},
   "source": [
    "### XGBOOST"
   ]
  },
  {
   "cell_type": "code",
   "execution_count": 31,
   "metadata": {
    "collapsed": true
   },
   "outputs": [],
   "source": [
    "import xgboost as xgb"
   ]
  },
  {
   "cell_type": "raw",
   "metadata": {
    "collapsed": false
   },
   "source": [
    "\n",
    "# gbm = xgb.XGBClassifier(max_depth=3, n_estimators=300, learning_rate=0.05).fit(X_train, y_train)\n",
    "gbm = xgb.XGBClassifier(max_depth=3, n_estimators=100, learning_rate=0.05).fit(X_train, y_train)\n",
    "\n",
    "gbm_predictions = gbm.predict(X_test)\n",
    "\n",
    "print sum(gbm_predictions == y_test)/ len(y_pred) # 0.7279461279461279\n",
    "\n",
    "\n",
    "confusion_maxtrix_stuff(y_test, predictions)"
   ]
  },
  {
   "cell_type": "markdown",
   "metadata": {},
   "source": [
    "## Submission"
   ]
  },
  {
   "cell_type": "raw",
   "metadata": {
    "collapsed": true
   },
   "source": [
    "\n",
    "test_ids = test_submission.index\n",
    "\n",
    "# predictions = clf.predict_proba(test_submission)\n",
    "predictions = clf.predict(test_submission)\n",
    "print (predictions.shape)\n",
    "predictions_labels = le.inverse_transform(predictions)\n",
    "# sub = pd.DataFrame(predictions, columns=list(le.classes_))\n",
    "sub = pd.DataFrame(predictions_labels, columns=['status_group'])\n",
    "sub.head()\n",
    "\n",
    "\n",
    "sub.insert(0, 'id', test_ids)\n",
    "sub.reset_index()\n",
    "sub.to_csv('submit.csv', index = False)\n",
    "sub.head()"
   ]
  }
 ],
 "metadata": {
  "anaconda-cloud": {},
  "kernelspec": {
   "display_name": "Python [default]",
   "language": "python",
   "name": "python2"
  },
  "language_info": {
   "codemirror_mode": {
    "name": "ipython",
    "version": 2
   },
   "file_extension": ".py",
   "mimetype": "text/x-python",
   "name": "python",
   "nbconvert_exporter": "python",
   "pygments_lexer": "ipython2",
   "version": "2.7.12"
  }
 },
 "nbformat": 4,
 "nbformat_minor": 0
}
