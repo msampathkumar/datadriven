{
 "cells": [
  {
   "cell_type": "markdown",
   "metadata": {
    "collapsed": false
   },
   "source": [
    "# PUMP IT UP\n"
   ]
  },
  {
   "cell_type": "markdown",
   "metadata": {},
   "source": [
    "\n",
    "\n",
    "![Image](http://drivendata.materials.s3.amazonaws.com/pumps/pumping.jpg)\n",
    "\n",
    "Using the data gathered from Taarifa and the Tanzanian Ministry of Water, can we predict which pumps are functional, which need some repairs, and which don't work at all? Predicting one of these three classes based and a smart understanding of which waterpoints will fail, can improve the maintenance operations and ensure that clean, potable water is available to communities across Tanzania.\n",
    "\n",
    "This is also an intermediate-level competition by [DataDriven][1]!\n",
    "\n",
    "\n",
    "\n",
    "[1]: https://www.drivendata.org/competitions/7/ \"Link to Competetion Page\"\n",
    "\n",
    "\n",
    "* [Git Hub Repo](https://github.com/msampathkumar/datadriven_pumpit)\n",
    "* [Git Hub Report](https://github.com/msampathkumar/datadriven_pumpit/blob/master/capstone_proposal.mdown)\n",
    "* [Features Details](https://www.drivendata.org/competitions/7/page/25/)\n",
    "\n",
    "\n",
    "TODO:\n",
    "\n",
    "1. Variance Threshold Dict\n",
    "2. know variance threshold for removed columns in \n"
   ]
  },
  {
   "cell_type": "markdown",
   "metadata": {},
   "source": [
    "# Import Libraries"
   ]
  },
  {
   "cell_type": "code",
   "execution_count": 1,
   "metadata": {
    "collapsed": false
   },
   "outputs": [
    {
     "name": "stdout",
     "output_type": "stream",
     "text": [
      "'writeandexecute' magic loaded.\n"
     ]
    }
   ],
   "source": [
    "import pickle\n",
    "\n",
    "import numpy as np\n",
    "import pandas as pd\n",
    "import matplotlib.pyplot as plt\n",
    "import seaborn as sns\n",
    "\n",
    "\n",
    "%matplotlib inline\n",
    "%load_ext writeandexecute\n",
    "\n",
    "\n",
    "plt.style.use('ggplot')\n",
    "sns.set(color_codes=True)\n",
    "\n",
    "\n",
    "# seed\n",
    "np.random.seed(69572)"
   ]
  },
  {
   "cell_type": "code",
   "execution_count": 2,
   "metadata": {
    "collapsed": true
   },
   "outputs": [],
   "source": [
    "# plt.figure(figsize=(120,10))\n",
    "\n",
    "small = (4,3)\n",
    "mid = (10, 8)\n",
    "large = (12, 8)"
   ]
  },
  {
   "cell_type": "markdown",
   "metadata": {},
   "source": [
    "## Custom Hacks"
   ]
  },
  {
   "cell_type": "code",
   "execution_count": null,
   "metadata": {
    "collapsed": true
   },
   "outputs": [],
   "source": [
    "from sam_values_counts import sam_dataframe_cols_value_count_analysis, sam_dataframe_markup_value_counts\n",
    "\n",
    "from sam_confusion_matrix import sam_plot_confusion_matrix, sam_confusion_maxtrix"
   ]
  },
  {
   "cell_type": "code",
   "execution_count": 4,
   "metadata": {
    "collapsed": false
   },
   "outputs": [],
   "source": [
    "from __future__ import absolute_import\n",
    "from IPython.core.getipython import get_ipython\n",
    "from IPython.core.magic import (Magics, magics_class,  cell_magic)\n",
    "import sys\n",
    "from StringIO import StringIO\n",
    "from markdown import markdown\n",
    "from IPython.core.display import HTML\n",
    "\n",
    "@magics_class\n",
    "class MarkdownMagics(Magics):\n",
    " \n",
    "    @cell_magic\n",
    "    def asmarkdown(self, line, cell):\n",
    "        buffer = StringIO()\n",
    "        stdout = sys.stdout\n",
    "        sys.stdout = buffer\n",
    "        try:\n",
    "            exec(cell, locals(), self.shell.user_ns)\n",
    "        except:\n",
    "            sys.stdout = stdout\n",
    "            raise\n",
    "        sys.stdout = stdout\n",
    "        return HTML(\"<p>{}</p>\".format(markdown(buffer.getvalue(), extensions=['markdown.extensions.extra'])))\n",
    "        return buffer.getvalue() + 'test'\n",
    "    \n",
    "    def timer_message(self, start_time):\n",
    "        print self\n",
    "        time_diff = (now() - start_time).total_seconds()\n",
    "        if time_diff < 0.001:\n",
    "            time_diff = 0\n",
    "            print '\\n<pre>In', time_diff, 'Secs</pre>'\n",
    "        else:\n",
    "            print '\\n<pre>In', time_diff, 'Secs</pre>'\n",
    "\n",
    "    @cell_magic\n",
    "    def timer(self, line, cell):\n",
    "        import datetime\n",
    "        now = datetime.datetime.now\n",
    "        start_time = now()\n",
    "        buffer = StringIO()\n",
    "        stdout = sys.stdout\n",
    "        sys.stdout = buffer\n",
    "        try:\n",
    "            exec(cell, locals(), self.shell.user_ns)\n",
    "            self.timer_message(start_time)\n",
    "        except:\n",
    "            sys.stdout = stdout\n",
    "            raise\n",
    "        sys.stdout = stdout\n",
    "        return HTML(\"<p>{}</p>\".format(markdown(buffer.getvalue(), extensions=['markdown.extensions.extra'])))\n",
    "        return buffer.getvalue() + 'test'\n",
    " \n",
    "get_ipython().register_magics(MarkdownMagics)"
   ]
  },
  {
   "cell_type": "markdown",
   "metadata": {},
   "source": [
    "# Load Data"
   ]
  },
  {
   "cell_type": "code",
   "execution_count": 201,
   "metadata": {
    "collapsed": false
   },
   "outputs": [],
   "source": [
    "RAW_X = pd.read_csv('traning_set_values.csv', index_col='id')\n",
    "RAW_y = pd.read_csv('training_set_labels.csv', index_col='id')\n",
    "RAW_TEST_X = pd.read_csv('test_set_values.csv', index_col='id')"
   ]
  },
  {
   "cell_type": "code",
   "execution_count": 29,
   "metadata": {
    "collapsed": false
   },
   "outputs": [
    {
     "data": {
      "text/plain": [
       "39"
      ]
     },
     "execution_count": 29,
     "metadata": {},
     "output_type": "execute_result"
    }
   ],
   "source": [
    "len(RAW_X.columns)"
   ]
  },
  {
   "cell_type": "code",
   "execution_count": 35,
   "metadata": {
    "collapsed": false
   },
   "outputs": [
    {
     "name": "stdout",
     "output_type": "stream",
     "text": [
      "INT COlS:  9\n",
      "BOOL COLS: 2\n",
      "BOOL COLS: 1\n"
     ]
    }
   ],
   "source": [
    "cols_ints = '''amount_tsh\n",
    "gps_height\n",
    "longitude\n",
    "latitude\n",
    "num_private\n",
    "region_code\n",
    "district_code\n",
    "population\n",
    "construction_year'''.splitlines()\n",
    "\n",
    "cols_bool = 'public_meeting permit'.split()\n",
    "\n",
    "cols_date = ['date_recorded']\n",
    "\n",
    "print 'INT COlS: ', len(cols_ints)\n",
    "print 'BOOL COLS:', len(cols_bool)\n",
    "print 'BOOL COLS:', len(cols_date)"
   ]
  },
  {
   "cell_type": "code",
   "execution_count": 44,
   "metadata": {
    "collapsed": false
   },
   "outputs": [
    {
     "data": {
      "text/plain": [
       "amount_tsh           float64\n",
       "gps_height             int64\n",
       "longitude            float64\n",
       "latitude             float64\n",
       "num_private            int64\n",
       "region_code            int64\n",
       "district_code          int64\n",
       "population             int64\n",
       "construction_year      int64\n",
       "dtype: object"
      ]
     },
     "execution_count": 44,
     "metadata": {},
     "output_type": "execute_result"
    }
   ],
   "source": [
    "(RAW_TEST_X[cols_ints]).dtypes"
   ]
  },
  {
   "cell_type": "code",
   "execution_count": 49,
   "metadata": {
    "collapsed": false
   },
   "outputs": [
    {
     "data": {
      "text/plain": [
       "public_meeting    object\n",
       "permit            object\n",
       "public_meeting    object\n",
       "permit            object\n",
       "dtype: object"
      ]
     },
     "execution_count": 49,
     "metadata": {},
     "output_type": "execute_result"
    }
   ],
   "source": [
    "(RAW_TEST_X[cols_bool + cols_bool]).dtypes # Needs a check"
   ]
  },
  {
   "cell_type": "code",
   "execution_count": 50,
   "metadata": {
    "collapsed": false,
    "scrolled": true
   },
   "outputs": [
    {
     "data": {
      "text/html": [
       "<div>\n",
       "<table border=\"1\" class=\"dataframe\">\n",
       "  <thead>\n",
       "    <tr style=\"text-align: right;\">\n",
       "      <th></th>\n",
       "      <th>amount_tsh</th>\n",
       "      <th>gps_height</th>\n",
       "      <th>longitude</th>\n",
       "      <th>latitude</th>\n",
       "      <th>num_private</th>\n",
       "      <th>region_code</th>\n",
       "      <th>district_code</th>\n",
       "      <th>population</th>\n",
       "      <th>construction_year</th>\n",
       "    </tr>\n",
       "  </thead>\n",
       "  <tbody>\n",
       "    <tr>\n",
       "      <th>count</th>\n",
       "      <td>14850.000000</td>\n",
       "      <td>14850.000000</td>\n",
       "      <td>14850.000000</td>\n",
       "      <td>1.485000e+04</td>\n",
       "      <td>14850.000000</td>\n",
       "      <td>14850.000000</td>\n",
       "      <td>14850.000000</td>\n",
       "      <td>14850.000000</td>\n",
       "      <td>14850.000000</td>\n",
       "    </tr>\n",
       "    <tr>\n",
       "      <th>mean</th>\n",
       "      <td>322.826983</td>\n",
       "      <td>655.147609</td>\n",
       "      <td>34.061605</td>\n",
       "      <td>-5.684724e+00</td>\n",
       "      <td>0.415084</td>\n",
       "      <td>15.139057</td>\n",
       "      <td>5.626397</td>\n",
       "      <td>184.114209</td>\n",
       "      <td>1289.708350</td>\n",
       "    </tr>\n",
       "    <tr>\n",
       "      <th>std</th>\n",
       "      <td>2510.968644</td>\n",
       "      <td>691.261185</td>\n",
       "      <td>6.593034</td>\n",
       "      <td>2.940803e+00</td>\n",
       "      <td>8.167910</td>\n",
       "      <td>17.191329</td>\n",
       "      <td>9.673842</td>\n",
       "      <td>469.499332</td>\n",
       "      <td>955.241087</td>\n",
       "    </tr>\n",
       "    <tr>\n",
       "      <th>min</th>\n",
       "      <td>0.000000</td>\n",
       "      <td>-57.000000</td>\n",
       "      <td>0.000000</td>\n",
       "      <td>-1.156459e+01</td>\n",
       "      <td>0.000000</td>\n",
       "      <td>1.000000</td>\n",
       "      <td>0.000000</td>\n",
       "      <td>0.000000</td>\n",
       "      <td>0.000000</td>\n",
       "    </tr>\n",
       "    <tr>\n",
       "      <th>25%</th>\n",
       "      <td>0.000000</td>\n",
       "      <td>0.000000</td>\n",
       "      <td>33.069455</td>\n",
       "      <td>-8.443970e+00</td>\n",
       "      <td>0.000000</td>\n",
       "      <td>5.000000</td>\n",
       "      <td>2.000000</td>\n",
       "      <td>0.000000</td>\n",
       "      <td>0.000000</td>\n",
       "    </tr>\n",
       "    <tr>\n",
       "      <th>50%</th>\n",
       "      <td>0.000000</td>\n",
       "      <td>344.000000</td>\n",
       "      <td>34.901215</td>\n",
       "      <td>-5.049750e+00</td>\n",
       "      <td>0.000000</td>\n",
       "      <td>12.000000</td>\n",
       "      <td>3.000000</td>\n",
       "      <td>20.000000</td>\n",
       "      <td>1986.000000</td>\n",
       "    </tr>\n",
       "    <tr>\n",
       "      <th>75%</th>\n",
       "      <td>25.000000</td>\n",
       "      <td>1308.000000</td>\n",
       "      <td>37.196594</td>\n",
       "      <td>-3.320594e+00</td>\n",
       "      <td>0.000000</td>\n",
       "      <td>17.000000</td>\n",
       "      <td>5.000000</td>\n",
       "      <td>220.000000</td>\n",
       "      <td>2004.000000</td>\n",
       "    </tr>\n",
       "    <tr>\n",
       "      <th>max</th>\n",
       "      <td>200000.000000</td>\n",
       "      <td>2777.000000</td>\n",
       "      <td>40.325016</td>\n",
       "      <td>-2.000000e-08</td>\n",
       "      <td>669.000000</td>\n",
       "      <td>99.000000</td>\n",
       "      <td>80.000000</td>\n",
       "      <td>11469.000000</td>\n",
       "      <td>2013.000000</td>\n",
       "    </tr>\n",
       "  </tbody>\n",
       "</table>\n",
       "</div>"
      ],
      "text/plain": [
       "          amount_tsh    gps_height     longitude      latitude   num_private  \\\n",
       "count   14850.000000  14850.000000  14850.000000  1.485000e+04  14850.000000   \n",
       "mean      322.826983    655.147609     34.061605 -5.684724e+00      0.415084   \n",
       "std      2510.968644    691.261185      6.593034  2.940803e+00      8.167910   \n",
       "min         0.000000    -57.000000      0.000000 -1.156459e+01      0.000000   \n",
       "25%         0.000000      0.000000     33.069455 -8.443970e+00      0.000000   \n",
       "50%         0.000000    344.000000     34.901215 -5.049750e+00      0.000000   \n",
       "75%        25.000000   1308.000000     37.196594 -3.320594e+00      0.000000   \n",
       "max    200000.000000   2777.000000     40.325016 -2.000000e-08    669.000000   \n",
       "\n",
       "        region_code  district_code    population  construction_year  \n",
       "count  14850.000000   14850.000000  14850.000000       14850.000000  \n",
       "mean      15.139057       5.626397    184.114209        1289.708350  \n",
       "std       17.191329       9.673842    469.499332         955.241087  \n",
       "min        1.000000       0.000000      0.000000           0.000000  \n",
       "25%        5.000000       2.000000      0.000000           0.000000  \n",
       "50%       12.000000       3.000000     20.000000        1986.000000  \n",
       "75%       17.000000       5.000000    220.000000        2004.000000  \n",
       "max       99.000000      80.000000  11469.000000        2013.000000  "
      ]
     },
     "execution_count": 50,
     "metadata": {},
     "output_type": "execute_result"
    }
   ],
   "source": [
    "RAW_TEST_X.describe()"
   ]
  },
  {
   "cell_type": "code",
   "execution_count": 51,
   "metadata": {
    "collapsed": false
   },
   "outputs": [
    {
     "data": {
      "text/html": [
       "<div>\n",
       "<table border=\"1\" class=\"dataframe\">\n",
       "  <thead>\n",
       "    <tr style=\"text-align: right;\">\n",
       "      <th>id</th>\n",
       "      <th>69572</th>\n",
       "      <th>8776</th>\n",
       "      <th>34310</th>\n",
       "      <th>67743</th>\n",
       "      <th>19728</th>\n",
       "    </tr>\n",
       "  </thead>\n",
       "  <tbody>\n",
       "    <tr>\n",
       "      <th>amount_tsh</th>\n",
       "      <td>6000</td>\n",
       "      <td>0</td>\n",
       "      <td>25</td>\n",
       "      <td>0</td>\n",
       "      <td>0</td>\n",
       "    </tr>\n",
       "    <tr>\n",
       "      <th>date_recorded</th>\n",
       "      <td>2011-03-14</td>\n",
       "      <td>2013-03-06</td>\n",
       "      <td>2013-02-25</td>\n",
       "      <td>2013-01-28</td>\n",
       "      <td>2011-07-13</td>\n",
       "    </tr>\n",
       "    <tr>\n",
       "      <th>funder</th>\n",
       "      <td>Roman</td>\n",
       "      <td>Grumeti</td>\n",
       "      <td>Lottery Club</td>\n",
       "      <td>Unicef</td>\n",
       "      <td>Action In A</td>\n",
       "    </tr>\n",
       "    <tr>\n",
       "      <th>gps_height</th>\n",
       "      <td>1390</td>\n",
       "      <td>1399</td>\n",
       "      <td>686</td>\n",
       "      <td>263</td>\n",
       "      <td>0</td>\n",
       "    </tr>\n",
       "    <tr>\n",
       "      <th>installer</th>\n",
       "      <td>Roman</td>\n",
       "      <td>GRUMETI</td>\n",
       "      <td>World vision</td>\n",
       "      <td>UNICEF</td>\n",
       "      <td>Artisan</td>\n",
       "    </tr>\n",
       "    <tr>\n",
       "      <th>longitude</th>\n",
       "      <td>34.9381</td>\n",
       "      <td>34.6988</td>\n",
       "      <td>37.4607</td>\n",
       "      <td>38.4862</td>\n",
       "      <td>31.1308</td>\n",
       "    </tr>\n",
       "    <tr>\n",
       "      <th>latitude</th>\n",
       "      <td>-9.85632</td>\n",
       "      <td>-2.14747</td>\n",
       "      <td>-3.82133</td>\n",
       "      <td>-11.1553</td>\n",
       "      <td>-1.82536</td>\n",
       "    </tr>\n",
       "    <tr>\n",
       "      <th>wpt_name</th>\n",
       "      <td>none</td>\n",
       "      <td>Zahanati</td>\n",
       "      <td>Kwa Mahundi</td>\n",
       "      <td>Zahanati Ya Nanyumbu</td>\n",
       "      <td>Shuleni</td>\n",
       "    </tr>\n",
       "    <tr>\n",
       "      <th>num_private</th>\n",
       "      <td>0</td>\n",
       "      <td>0</td>\n",
       "      <td>0</td>\n",
       "      <td>0</td>\n",
       "      <td>0</td>\n",
       "    </tr>\n",
       "    <tr>\n",
       "      <th>basin</th>\n",
       "      <td>Lake Nyasa</td>\n",
       "      <td>Lake Victoria</td>\n",
       "      <td>Pangani</td>\n",
       "      <td>Ruvuma / Southern Coast</td>\n",
       "      <td>Lake Victoria</td>\n",
       "    </tr>\n",
       "    <tr>\n",
       "      <th>subvillage</th>\n",
       "      <td>Mnyusi B</td>\n",
       "      <td>Nyamara</td>\n",
       "      <td>Majengo</td>\n",
       "      <td>Mahakamani</td>\n",
       "      <td>Kyanyamisa</td>\n",
       "    </tr>\n",
       "    <tr>\n",
       "      <th>region</th>\n",
       "      <td>Iringa</td>\n",
       "      <td>Mara</td>\n",
       "      <td>Manyara</td>\n",
       "      <td>Mtwara</td>\n",
       "      <td>Kagera</td>\n",
       "    </tr>\n",
       "    <tr>\n",
       "      <th>region_code</th>\n",
       "      <td>11</td>\n",
       "      <td>20</td>\n",
       "      <td>21</td>\n",
       "      <td>90</td>\n",
       "      <td>18</td>\n",
       "    </tr>\n",
       "    <tr>\n",
       "      <th>district_code</th>\n",
       "      <td>5</td>\n",
       "      <td>2</td>\n",
       "      <td>4</td>\n",
       "      <td>63</td>\n",
       "      <td>1</td>\n",
       "    </tr>\n",
       "    <tr>\n",
       "      <th>lga</th>\n",
       "      <td>Ludewa</td>\n",
       "      <td>Serengeti</td>\n",
       "      <td>Simanjiro</td>\n",
       "      <td>Nanyumbu</td>\n",
       "      <td>Karagwe</td>\n",
       "    </tr>\n",
       "    <tr>\n",
       "      <th>ward</th>\n",
       "      <td>Mundindi</td>\n",
       "      <td>Natta</td>\n",
       "      <td>Ngorika</td>\n",
       "      <td>Nanyumbu</td>\n",
       "      <td>Nyakasimbi</td>\n",
       "    </tr>\n",
       "    <tr>\n",
       "      <th>population</th>\n",
       "      <td>109</td>\n",
       "      <td>280</td>\n",
       "      <td>250</td>\n",
       "      <td>58</td>\n",
       "      <td>0</td>\n",
       "    </tr>\n",
       "    <tr>\n",
       "      <th>public_meeting</th>\n",
       "      <td>True</td>\n",
       "      <td>NaN</td>\n",
       "      <td>True</td>\n",
       "      <td>True</td>\n",
       "      <td>True</td>\n",
       "    </tr>\n",
       "    <tr>\n",
       "      <th>recorded_by</th>\n",
       "      <td>GeoData Consultants Ltd</td>\n",
       "      <td>GeoData Consultants Ltd</td>\n",
       "      <td>GeoData Consultants Ltd</td>\n",
       "      <td>GeoData Consultants Ltd</td>\n",
       "      <td>GeoData Consultants Ltd</td>\n",
       "    </tr>\n",
       "    <tr>\n",
       "      <th>scheme_management</th>\n",
       "      <td>VWC</td>\n",
       "      <td>Other</td>\n",
       "      <td>VWC</td>\n",
       "      <td>VWC</td>\n",
       "      <td>NaN</td>\n",
       "    </tr>\n",
       "    <tr>\n",
       "      <th>scheme_name</th>\n",
       "      <td>Roman</td>\n",
       "      <td>NaN</td>\n",
       "      <td>Nyumba ya mungu pipe scheme</td>\n",
       "      <td>NaN</td>\n",
       "      <td>NaN</td>\n",
       "    </tr>\n",
       "    <tr>\n",
       "      <th>permit</th>\n",
       "      <td>False</td>\n",
       "      <td>True</td>\n",
       "      <td>True</td>\n",
       "      <td>True</td>\n",
       "      <td>True</td>\n",
       "    </tr>\n",
       "    <tr>\n",
       "      <th>construction_year</th>\n",
       "      <td>1999</td>\n",
       "      <td>2010</td>\n",
       "      <td>2009</td>\n",
       "      <td>1986</td>\n",
       "      <td>0</td>\n",
       "    </tr>\n",
       "    <tr>\n",
       "      <th>extraction_type</th>\n",
       "      <td>gravity</td>\n",
       "      <td>gravity</td>\n",
       "      <td>gravity</td>\n",
       "      <td>submersible</td>\n",
       "      <td>gravity</td>\n",
       "    </tr>\n",
       "    <tr>\n",
       "      <th>extraction_type_group</th>\n",
       "      <td>gravity</td>\n",
       "      <td>gravity</td>\n",
       "      <td>gravity</td>\n",
       "      <td>submersible</td>\n",
       "      <td>gravity</td>\n",
       "    </tr>\n",
       "    <tr>\n",
       "      <th>extraction_type_class</th>\n",
       "      <td>gravity</td>\n",
       "      <td>gravity</td>\n",
       "      <td>gravity</td>\n",
       "      <td>submersible</td>\n",
       "      <td>gravity</td>\n",
       "    </tr>\n",
       "    <tr>\n",
       "      <th>management</th>\n",
       "      <td>vwc</td>\n",
       "      <td>wug</td>\n",
       "      <td>vwc</td>\n",
       "      <td>vwc</td>\n",
       "      <td>other</td>\n",
       "    </tr>\n",
       "    <tr>\n",
       "      <th>management_group</th>\n",
       "      <td>user-group</td>\n",
       "      <td>user-group</td>\n",
       "      <td>user-group</td>\n",
       "      <td>user-group</td>\n",
       "      <td>other</td>\n",
       "    </tr>\n",
       "    <tr>\n",
       "      <th>payment</th>\n",
       "      <td>pay annually</td>\n",
       "      <td>never pay</td>\n",
       "      <td>pay per bucket</td>\n",
       "      <td>never pay</td>\n",
       "      <td>never pay</td>\n",
       "    </tr>\n",
       "    <tr>\n",
       "      <th>payment_type</th>\n",
       "      <td>annually</td>\n",
       "      <td>never pay</td>\n",
       "      <td>per bucket</td>\n",
       "      <td>never pay</td>\n",
       "      <td>never pay</td>\n",
       "    </tr>\n",
       "    <tr>\n",
       "      <th>water_quality</th>\n",
       "      <td>soft</td>\n",
       "      <td>soft</td>\n",
       "      <td>soft</td>\n",
       "      <td>soft</td>\n",
       "      <td>soft</td>\n",
       "    </tr>\n",
       "    <tr>\n",
       "      <th>quality_group</th>\n",
       "      <td>good</td>\n",
       "      <td>good</td>\n",
       "      <td>good</td>\n",
       "      <td>good</td>\n",
       "      <td>good</td>\n",
       "    </tr>\n",
       "    <tr>\n",
       "      <th>quantity</th>\n",
       "      <td>enough</td>\n",
       "      <td>insufficient</td>\n",
       "      <td>enough</td>\n",
       "      <td>dry</td>\n",
       "      <td>seasonal</td>\n",
       "    </tr>\n",
       "    <tr>\n",
       "      <th>quantity_group</th>\n",
       "      <td>enough</td>\n",
       "      <td>insufficient</td>\n",
       "      <td>enough</td>\n",
       "      <td>dry</td>\n",
       "      <td>seasonal</td>\n",
       "    </tr>\n",
       "    <tr>\n",
       "      <th>source</th>\n",
       "      <td>spring</td>\n",
       "      <td>rainwater harvesting</td>\n",
       "      <td>dam</td>\n",
       "      <td>machine dbh</td>\n",
       "      <td>rainwater harvesting</td>\n",
       "    </tr>\n",
       "    <tr>\n",
       "      <th>source_type</th>\n",
       "      <td>spring</td>\n",
       "      <td>rainwater harvesting</td>\n",
       "      <td>dam</td>\n",
       "      <td>borehole</td>\n",
       "      <td>rainwater harvesting</td>\n",
       "    </tr>\n",
       "    <tr>\n",
       "      <th>source_class</th>\n",
       "      <td>groundwater</td>\n",
       "      <td>surface</td>\n",
       "      <td>surface</td>\n",
       "      <td>groundwater</td>\n",
       "      <td>surface</td>\n",
       "    </tr>\n",
       "    <tr>\n",
       "      <th>waterpoint_type</th>\n",
       "      <td>communal standpipe</td>\n",
       "      <td>communal standpipe</td>\n",
       "      <td>communal standpipe multiple</td>\n",
       "      <td>communal standpipe multiple</td>\n",
       "      <td>communal standpipe</td>\n",
       "    </tr>\n",
       "    <tr>\n",
       "      <th>waterpoint_type_group</th>\n",
       "      <td>communal standpipe</td>\n",
       "      <td>communal standpipe</td>\n",
       "      <td>communal standpipe</td>\n",
       "      <td>communal standpipe</td>\n",
       "      <td>communal standpipe</td>\n",
       "    </tr>\n",
       "  </tbody>\n",
       "</table>\n",
       "</div>"
      ],
      "text/plain": [
       "id                                       69572                    8776   \\\n",
       "amount_tsh                                6000                        0   \n",
       "date_recorded                       2011-03-14               2013-03-06   \n",
       "funder                                   Roman                  Grumeti   \n",
       "gps_height                                1390                     1399   \n",
       "installer                                Roman                  GRUMETI   \n",
       "longitude                              34.9381                  34.6988   \n",
       "latitude                              -9.85632                 -2.14747   \n",
       "wpt_name                                  none                 Zahanati   \n",
       "num_private                                  0                        0   \n",
       "basin                               Lake Nyasa            Lake Victoria   \n",
       "subvillage                            Mnyusi B                  Nyamara   \n",
       "region                                  Iringa                     Mara   \n",
       "region_code                                 11                       20   \n",
       "district_code                                5                        2   \n",
       "lga                                     Ludewa                Serengeti   \n",
       "ward                                  Mundindi                    Natta   \n",
       "population                                 109                      280   \n",
       "public_meeting                            True                      NaN   \n",
       "recorded_by            GeoData Consultants Ltd  GeoData Consultants Ltd   \n",
       "scheme_management                          VWC                    Other   \n",
       "scheme_name                              Roman                      NaN   \n",
       "permit                                   False                     True   \n",
       "construction_year                         1999                     2010   \n",
       "extraction_type                        gravity                  gravity   \n",
       "extraction_type_group                  gravity                  gravity   \n",
       "extraction_type_class                  gravity                  gravity   \n",
       "management                                 vwc                      wug   \n",
       "management_group                    user-group               user-group   \n",
       "payment                           pay annually                never pay   \n",
       "payment_type                          annually                never pay   \n",
       "water_quality                             soft                     soft   \n",
       "quality_group                             good                     good   \n",
       "quantity                                enough             insufficient   \n",
       "quantity_group                          enough             insufficient   \n",
       "source                                  spring     rainwater harvesting   \n",
       "source_type                             spring     rainwater harvesting   \n",
       "source_class                       groundwater                  surface   \n",
       "waterpoint_type             communal standpipe       communal standpipe   \n",
       "waterpoint_type_group       communal standpipe       communal standpipe   \n",
       "\n",
       "id                                           34310  \\\n",
       "amount_tsh                                      25   \n",
       "date_recorded                           2013-02-25   \n",
       "funder                                Lottery Club   \n",
       "gps_height                                     686   \n",
       "installer                             World vision   \n",
       "longitude                                  37.4607   \n",
       "latitude                                  -3.82133   \n",
       "wpt_name                               Kwa Mahundi   \n",
       "num_private                                      0   \n",
       "basin                                      Pangani   \n",
       "subvillage                                 Majengo   \n",
       "region                                     Manyara   \n",
       "region_code                                     21   \n",
       "district_code                                    4   \n",
       "lga                                      Simanjiro   \n",
       "ward                                       Ngorika   \n",
       "population                                     250   \n",
       "public_meeting                                True   \n",
       "recorded_by                GeoData Consultants Ltd   \n",
       "scheme_management                              VWC   \n",
       "scheme_name            Nyumba ya mungu pipe scheme   \n",
       "permit                                        True   \n",
       "construction_year                             2009   \n",
       "extraction_type                            gravity   \n",
       "extraction_type_group                      gravity   \n",
       "extraction_type_class                      gravity   \n",
       "management                                     vwc   \n",
       "management_group                        user-group   \n",
       "payment                             pay per bucket   \n",
       "payment_type                            per bucket   \n",
       "water_quality                                 soft   \n",
       "quality_group                                 good   \n",
       "quantity                                    enough   \n",
       "quantity_group                              enough   \n",
       "source                                         dam   \n",
       "source_type                                    dam   \n",
       "source_class                               surface   \n",
       "waterpoint_type        communal standpipe multiple   \n",
       "waterpoint_type_group           communal standpipe   \n",
       "\n",
       "id                                           67743                    19728  \n",
       "amount_tsh                                       0                        0  \n",
       "date_recorded                           2013-01-28               2011-07-13  \n",
       "funder                                      Unicef              Action In A  \n",
       "gps_height                                     263                        0  \n",
       "installer                                   UNICEF                  Artisan  \n",
       "longitude                                  38.4862                  31.1308  \n",
       "latitude                                  -11.1553                 -1.82536  \n",
       "wpt_name                      Zahanati Ya Nanyumbu                  Shuleni  \n",
       "num_private                                      0                        0  \n",
       "basin                      Ruvuma / Southern Coast            Lake Victoria  \n",
       "subvillage                              Mahakamani               Kyanyamisa  \n",
       "region                                      Mtwara                   Kagera  \n",
       "region_code                                     90                       18  \n",
       "district_code                                   63                        1  \n",
       "lga                                       Nanyumbu                  Karagwe  \n",
       "ward                                      Nanyumbu               Nyakasimbi  \n",
       "population                                      58                        0  \n",
       "public_meeting                                True                     True  \n",
       "recorded_by                GeoData Consultants Ltd  GeoData Consultants Ltd  \n",
       "scheme_management                              VWC                      NaN  \n",
       "scheme_name                                    NaN                      NaN  \n",
       "permit                                        True                     True  \n",
       "construction_year                             1986                        0  \n",
       "extraction_type                        submersible                  gravity  \n",
       "extraction_type_group                  submersible                  gravity  \n",
       "extraction_type_class                  submersible                  gravity  \n",
       "management                                     vwc                    other  \n",
       "management_group                        user-group                    other  \n",
       "payment                                  never pay                never pay  \n",
       "payment_type                             never pay                never pay  \n",
       "water_quality                                 soft                     soft  \n",
       "quality_group                                 good                     good  \n",
       "quantity                                       dry                 seasonal  \n",
       "quantity_group                                 dry                 seasonal  \n",
       "source                                 machine dbh     rainwater harvesting  \n",
       "source_type                               borehole     rainwater harvesting  \n",
       "source_class                           groundwater                  surface  \n",
       "waterpoint_type        communal standpipe multiple       communal standpipe  \n",
       "waterpoint_type_group           communal standpipe       communal standpipe  "
      ]
     },
     "execution_count": 51,
     "metadata": {},
     "output_type": "execute_result"
    }
   ],
   "source": [
    "RAW_X.head().T"
   ]
  },
  {
   "cell_type": "markdown",
   "metadata": {},
   "source": [
    "### cols_values_counts_dataframe\n",
    "\n",
    "As we can see in above *describe* output, we seem to have lots of categorical values so let start exploring them a bit.\n",
    "\n",
    "Lets start taking into believe everything is a Categorical Columns and check their data"
   ]
  },
  {
   "cell_type": "code",
   "execution_count": 52,
   "metadata": {
    "collapsed": false
   },
   "outputs": [],
   "source": [
    "columns = RAW_X.columns\n",
    "values_counts_bag = [len(RAW_X[column].value_counts()) for column in columns]"
   ]
  },
  {
   "cell_type": "code",
   "execution_count": 53,
   "metadata": {
    "collapsed": false,
    "scrolled": true
   },
   "outputs": [
    {
     "data": {
      "text/html": [
       "<div>\n",
       "<table border=\"1\" class=\"dataframe\">\n",
       "  <thead>\n",
       "    <tr style=\"text-align: right;\">\n",
       "      <th></th>\n",
       "      <th>amount_tsh</th>\n",
       "      <th>date_recorded</th>\n",
       "      <th>funder</th>\n",
       "      <th>gps_height</th>\n",
       "      <th>installer</th>\n",
       "      <th>longitude</th>\n",
       "      <th>latitude</th>\n",
       "      <th>wpt_name</th>\n",
       "      <th>num_private</th>\n",
       "      <th>basin</th>\n",
       "      <th>...</th>\n",
       "      <th>payment_type</th>\n",
       "      <th>water_quality</th>\n",
       "      <th>quality_group</th>\n",
       "      <th>quantity</th>\n",
       "      <th>quantity_group</th>\n",
       "      <th>source</th>\n",
       "      <th>source_type</th>\n",
       "      <th>source_class</th>\n",
       "      <th>waterpoint_type</th>\n",
       "      <th>waterpoint_type_group</th>\n",
       "    </tr>\n",
       "  </thead>\n",
       "  <tbody>\n",
       "    <tr>\n",
       "      <th>Value Counts</th>\n",
       "      <td>4.584967</td>\n",
       "      <td>5.874931</td>\n",
       "      <td>7.548029</td>\n",
       "      <td>7.794823</td>\n",
       "      <td>7.670895</td>\n",
       "      <td>10.959818</td>\n",
       "      <td>10.959836</td>\n",
       "      <td>10.529426</td>\n",
       "      <td>4.174387</td>\n",
       "      <td>2.197225</td>\n",
       "      <td>...</td>\n",
       "      <td>1.94591</td>\n",
       "      <td>2.079442</td>\n",
       "      <td>1.791759</td>\n",
       "      <td>1.609438</td>\n",
       "      <td>1.609438</td>\n",
       "      <td>2.302585</td>\n",
       "      <td>1.94591</td>\n",
       "      <td>1.098612</td>\n",
       "      <td>1.94591</td>\n",
       "      <td>1.791759</td>\n",
       "    </tr>\n",
       "  </tbody>\n",
       "</table>\n",
       "<p>1 rows × 39 columns</p>\n",
       "</div>"
      ],
      "text/plain": [
       "              amount_tsh  date_recorded    funder  gps_height  installer  \\\n",
       "Value Counts    4.584967       5.874931  7.548029    7.794823   7.670895   \n",
       "\n",
       "              longitude   latitude   wpt_name  num_private     basin  \\\n",
       "Value Counts  10.959818  10.959836  10.529426     4.174387  2.197225   \n",
       "\n",
       "                      ...            payment_type  water_quality  \\\n",
       "Value Counts          ...                 1.94591       2.079442   \n",
       "\n",
       "              quality_group  quantity  quantity_group    source  source_type  \\\n",
       "Value Counts       1.791759  1.609438        1.609438  2.302585      1.94591   \n",
       "\n",
       "              source_class  waterpoint_type  waterpoint_type_group  \n",
       "Value Counts      1.098612          1.94591               1.791759  \n",
       "\n",
       "[1 rows x 39 columns]"
      ]
     },
     "execution_count": 53,
     "metadata": {},
     "output_type": "execute_result"
    }
   ],
   "source": [
    "cols_values_counts_dataframe = pd.DataFrame(np.log(values_counts_bag), index=columns, columns=['Value Counts'])\n",
    "\n",
    "cols_values_counts_dataframe.T"
   ]
  },
  {
   "cell_type": "markdown",
   "metadata": {},
   "source": [
    "** Example of how np-log transforms data**\n",
    "\n",
    "    >>> np.log([0.001, 0.01, 0.1, 1, 10, 100, 1000])\n",
    "\n",
    "    array([-6.90775528, -4.60517019, -2.30258509,  0.        ,  2.30258509,\n",
    "            4.60517019,  6.90775528])\n",
    "\n",
    "As you can see in np-log example, we can learn that when a list of values vary significantly(exponentially) then their logarithms moves linearly. As we(I) feel comfortable in studying linear plot and linear information, we did a np.log to values counts."
   ]
  },
  {
   "cell_type": "code",
   "execution_count": 54,
   "metadata": {
    "collapsed": false
   },
   "outputs": [
    {
     "name": "stdout",
     "output_type": "stream",
     "text": [
      "Values Counts: [98, 356, 1897, 2428, 2145, 57516, 57517, 37400, 65, 9, 19287, 21, 27, 20, 125, 2092, 1049, 2, 1, 12, 2696, 2, 55, 18, 13, 7, 12, 5, 7, 7, 8, 6, 5, 5, 10, 7, 3, 7, 6]\n",
      "\n",
      "Log of Values Counts: [  4.58496748   5.87493073   7.54802897   7.79482315   7.67089483\n",
      "  10.95981845  10.95983584  10.52942598   4.17438727   2.19722458\n",
      "   9.86718657   3.04452244   3.29583687   2.99573227   4.82831374\n",
      "   7.64587583   6.95559261   0.69314718   0.           2.48490665\n",
      "   7.89952447   0.69314718   4.00733319   2.89037176   2.56494936\n",
      "   1.94591015   2.48490665   1.60943791   1.94591015   1.94591015\n",
      "   2.07944154   1.79175947   1.60943791   1.60943791   2.30258509\n",
      "   1.94591015   1.09861229   1.94591015   1.79175947]\n"
     ]
    },
    {
     "data": {
      "image/png": "[encoded data removed]",
      "text/plain": [
       "<matplotlib.figure.Figure at 0x1199d6c10>"
      ]
     },
     "metadata": {},
     "output_type": "display_data"
    }
   ],
   "source": [
    "print 'Values Counts:', values_counts_bag\n",
    "\n",
    "print '\\nLog of Values Counts:', np.log(values_counts_bag)\n",
    "\n",
    "_ = sns.distplot(values_counts_bag)"
   ]
  },
  {
   "cell_type": "code",
   "execution_count": 55,
   "metadata": {
    "collapsed": false
   },
   "outputs": [
    {
     "name": "stdout",
     "output_type": "stream",
     "text": [
      "We seem to have some special categories where value counts are high.\n"
     ]
    },
    {
     "data": {
      "image/png": "[encoded data removed]",
      "text/plain": [
       "<matplotlib.figure.Figure at 0x1199a6410>"
      ]
     },
     "metadata": {},
     "output_type": "display_data"
    }
   ],
   "source": [
    "cols_values_counts_dataframe.plot(kind='barh', figsize=(12, 12))\n",
    "_ = plt.plot((2, 2), (0, 38))\n",
    "_ = plt.plot((4, 4), (0, 38), '-g')\n",
    "_ = plt.plot((6, 6), (0, 38), '-r')\n",
    "print 'We seem to have some special categories where value counts are high.'"
   ]
  },
  {
   "cell_type": "code",
   "execution_count": 56,
   "metadata": {
    "collapsed": false
   },
   "outputs": [
    {
     "name": "stdout",
     "output_type": "stream",
     "text": [
      "1 waterpoint_type_group 24\n",
      "2 basin 24\n",
      "3 region 24\n",
      "4 region_code 24\n",
      "5 district_code 24\n",
      "6 public_meeting 24\n",
      "7 recorded_by 24\n",
      "8 scheme_management 24\n",
      "9 permit 24\n",
      "10 extraction_type 24\n",
      "11 extraction_type_group 24\n",
      "12 extraction_type_class 24\n",
      "13 management 24\n",
      "14 management_group 24\n",
      "15 payment 24\n",
      "16 payment_type 24\n",
      "17 water_quality 24\n",
      "18 quality_group 24\n",
      "19 quantity 24\n",
      "20 quantity_group 24\n",
      "21 source 24\n",
      "22 source_type 24\n",
      "23 source_class 24\n",
      "24 waterpoint_type 24\n",
      "Showing Plot for Columns:\n",
      "['basin', 'region', 'region_code', 'district_code', 'public_meeting', 'recorded_by', 'scheme_management', 'permit', 'extraction_type', 'extraction_type_group', 'extraction_type_class', 'management', 'management_group', 'payment', 'payment_type', 'water_quality', 'quality_group', 'quantity', 'quantity_group', 'source', 'source_type', 'source_class', 'waterpoint_type', 'waterpoint_type_group']\n"
     ]
    },
    {
     "data": {
      "image/png": "[encoded data removed]",
      "text/plain": [
       "<matplotlib.figure.Figure at 0x115737d50>"
      ]
     },
     "metadata": {},
     "output_type": "display_data"
    }
   ],
   "source": [
    "sam_dataframe_cols_value_count_analysis(RAW_X)"
   ]
  },
  {
   "cell_type": "markdown",
   "metadata": {},
   "source": [
    "** Checking Rest of other columns**"
   ]
  },
  {
   "cell_type": "code",
   "execution_count": 110,
   "metadata": {
    "collapsed": false
   },
   "outputs": [
    {
     "name": "stdout",
     "output_type": "stream",
     "text": [
      "Total Number of Records: 59400 - Log val is: 10.9920495054\n",
      "1.0 percent of Number of Records: 594.0  - Log val is: 6.38687931936\n"
     ]
    }
   ],
   "source": [
    "cols_value_count_limit_fraction = 0.01\n",
    "cols_value_count_limit_log_value = np.log(RAW_X.shape[0] * cols_value_count_limit_fraction)\n",
    "\n",
    "\n",
    "print 'Total Number of Records:', RAW_X.shape[0], '- Log val is:', np.log(RAW_X.shape[0])\n",
    "print '%s percent of Number of Records:' % (cols_value_count_limit_fraction * 100),\\\n",
    "      RAW_X.shape[0] * cols_value_count_limit_fraction,\\\n",
    "      ' - Log val is:',  cols_value_count_limit_log_value"
   ]
  },
  {
   "cell_type": "markdown",
   "metadata": {},
   "source": [
    "### cols_categorical_check\n",
    "\n",
    "Here in this project, cols categorical check refers to caution check on too much variety. Reason for this check is we would need more data to explain other columns & target cols with respect to it.\n",
    "\n",
    "Lets consider these columns with more 5% of values as non categorical values and since our problem statement is choosing which category, we will try to minimise the category and see how our performance changes(improves or not)\n",
    "\n",
    "To begin we will consider that those categories with more than `cols_value_count_limit_fraction` percentage as the upper limit allowed. Any column with other data will pruged to become some to other information"
   ]
  },
  {
   "cell_type": "code",
   "execution_count": 76,
   "metadata": {
    "collapsed": false
   },
   "outputs": [
    {
     "data": {
      "text/plain": [
       "amount_tsh           float64\n",
       "gps_height             int64\n",
       "longitude            float64\n",
       "latitude             float64\n",
       "num_private            int64\n",
       "region_code            int64\n",
       "district_code          int64\n",
       "population             int64\n",
       "construction_year      int64\n",
       "dtype: object"
      ]
     },
     "execution_count": 76,
     "metadata": {},
     "output_type": "execute_result"
    }
   ],
   "source": [
    "RAW_X.dtypes[RAW_X.dtypes != object]"
   ]
  },
  {
   "cell_type": "code",
   "execution_count": 77,
   "metadata": {
    "collapsed": false
   },
   "outputs": [
    {
     "data": {
      "text/plain": [
       "date_recorded            object\n",
       "funder                   object\n",
       "installer                object\n",
       "wpt_name                 object\n",
       "basin                    object\n",
       "subvillage               object\n",
       "region                   object\n",
       "lga                      object\n",
       "ward                     object\n",
       "public_meeting           object\n",
       "recorded_by              object\n",
       "scheme_management        object\n",
       "scheme_name              object\n",
       "permit                   object\n",
       "extraction_type          object\n",
       "extraction_type_group    object\n",
       "extraction_type_class    object\n",
       "management               object\n",
       "management_group         object\n",
       "payment                  object\n",
       "payment_type             object\n",
       "water_quality            object\n",
       "quality_group            object\n",
       "quantity                 object\n",
       "quantity_group           object\n",
       "source                   object\n",
       "source_type              object\n",
       "source_class             object\n",
       "waterpoint_type          object\n",
       "waterpoint_type_group    object\n",
       "dtype: object"
      ]
     },
     "execution_count": 77,
     "metadata": {},
     "output_type": "execute_result"
    }
   ],
   "source": [
    "RAW_X.dtypes[RAW_X.dtypes == object]"
   ]
  },
  {
   "cell_type": "code",
   "execution_count": 105,
   "metadata": {
    "collapsed": false
   },
   "outputs": [],
   "source": [
    "cols_non_categorical = RAW_X.dtypes[RAW_X.dtypes == object].index.tolist()\n",
    "\n",
    "cols_date_numerics = RAW_X.dtypes[RAW_X.dtypes != object].index.tolist()"
   ]
  },
  {
   "cell_type": "code",
   "execution_count": 111,
   "metadata": {
    "collapsed": false
   },
   "outputs": [
    {
     "name": "stdout",
     "output_type": "stream",
     "text": [
      "Columns we need to moderate are: ['funder', 'installer', 'wpt_name', 'subvillage', 'ward', 'scheme_name']\n"
     ]
    }
   ],
   "source": [
    "cols_categorical_check = []\n",
    "\n",
    "for col, vc in cols_values_counts_dataframe.iterrows():\n",
    "    if col in cols_non_categorical:\n",
    "        if float(vc) > cols_value_count_limit_log_value:\n",
    "            cols_categorical_check.append(col)\n",
    "\n",
    "print 'Columns we need to moderate are:', cols_categorical_check"
   ]
  },
  {
   "cell_type": "markdown",
   "metadata": {},
   "source": [
    "All cols_date_numerics, are date & other numeric data which can be made into buckets or reducing precision. Thus we can bound number of categories in data as the more variety of data we have, we need more information specific to each category which all might end with **curse of dimensionality**.\n",
    "\n",
    "During pre-processing states we shall do following\n",
    "TODO\n",
    "* limiting check experiments on our **`cols_date_numerics`** & **`cols_categorical_check`** to be under **`cols_value_count_limit_fraction`**"
   ]
  },
  {
   "cell_type": "code",
   "execution_count": 114,
   "metadata": {
    "collapsed": false
   },
   "outputs": [
    {
     "name": "stdout",
     "output_type": "stream",
     "text": [
      "6.38687931936 594.0\n"
     ]
    },
    {
     "data": {
      "text/html": [
       "<div>\n",
       "<table border=\"1\" class=\"dataframe\">\n",
       "  <thead>\n",
       "    <tr style=\"text-align: right;\">\n",
       "      <th></th>\n",
       "      <th>funder</th>\n",
       "      <th>installer</th>\n",
       "      <th>wpt_name</th>\n",
       "      <th>subvillage</th>\n",
       "      <th>ward</th>\n",
       "      <th>scheme_name</th>\n",
       "    </tr>\n",
       "    <tr>\n",
       "      <th>id</th>\n",
       "      <th></th>\n",
       "      <th></th>\n",
       "      <th></th>\n",
       "      <th></th>\n",
       "      <th></th>\n",
       "      <th></th>\n",
       "    </tr>\n",
       "  </thead>\n",
       "  <tbody>\n",
       "    <tr>\n",
       "      <th>69572</th>\n",
       "      <td>Roman</td>\n",
       "      <td>Roman</td>\n",
       "      <td>none</td>\n",
       "      <td>Mnyusi B</td>\n",
       "      <td>Mundindi</td>\n",
       "      <td>Roman</td>\n",
       "    </tr>\n",
       "    <tr>\n",
       "      <th>8776</th>\n",
       "      <td>Grumeti</td>\n",
       "      <td>GRUMETI</td>\n",
       "      <td>Zahanati</td>\n",
       "      <td>Nyamara</td>\n",
       "      <td>Natta</td>\n",
       "      <td>NaN</td>\n",
       "    </tr>\n",
       "    <tr>\n",
       "      <th>34310</th>\n",
       "      <td>Lottery Club</td>\n",
       "      <td>World vision</td>\n",
       "      <td>Kwa Mahundi</td>\n",
       "      <td>Majengo</td>\n",
       "      <td>Ngorika</td>\n",
       "      <td>Nyumba ya mungu pipe scheme</td>\n",
       "    </tr>\n",
       "    <tr>\n",
       "      <th>67743</th>\n",
       "      <td>Unicef</td>\n",
       "      <td>UNICEF</td>\n",
       "      <td>Zahanati Ya Nanyumbu</td>\n",
       "      <td>Mahakamani</td>\n",
       "      <td>Nanyumbu</td>\n",
       "      <td>NaN</td>\n",
       "    </tr>\n",
       "    <tr>\n",
       "      <th>19728</th>\n",
       "      <td>Action In A</td>\n",
       "      <td>Artisan</td>\n",
       "      <td>Shuleni</td>\n",
       "      <td>Kyanyamisa</td>\n",
       "      <td>Nyakasimbi</td>\n",
       "      <td>NaN</td>\n",
       "    </tr>\n",
       "  </tbody>\n",
       "</table>\n",
       "</div>"
      ],
      "text/plain": [
       "             funder     installer              wpt_name  subvillage  \\\n",
       "id                                                                    \n",
       "69572         Roman         Roman                  none    Mnyusi B   \n",
       "8776        Grumeti       GRUMETI              Zahanati     Nyamara   \n",
       "34310  Lottery Club  World vision           Kwa Mahundi     Majengo   \n",
       "67743        Unicef        UNICEF  Zahanati Ya Nanyumbu  Mahakamani   \n",
       "19728   Action In A       Artisan               Shuleni  Kyanyamisa   \n",
       "\n",
       "             ward                  scheme_name  \n",
       "id                                              \n",
       "69572    Mundindi                        Roman  \n",
       "8776        Natta                          NaN  \n",
       "34310     Ngorika  Nyumba ya mungu pipe scheme  \n",
       "67743    Nanyumbu                          NaN  \n",
       "19728  Nyakasimbi                          NaN  "
      ]
     },
     "execution_count": 114,
     "metadata": {},
     "output_type": "execute_result"
    }
   ],
   "source": [
    "print cols_value_count_limit_log_value, cols_value_count_limit_fraction * RAW_X.shape[0]\n",
    "\n",
    "RAW_X[cols_categorical_check].head()"
   ]
  },
  {
   "cell_type": "code",
   "execution_count": 126,
   "metadata": {
    "collapsed": false
   },
   "outputs": [],
   "source": [
    "sns.distplot?"
   ]
  },
  {
   "cell_type": "code",
   "execution_count": 134,
   "metadata": {
    "collapsed": false
   },
   "outputs": [
    {
     "data": {
      "image/png": "[encoded data removed]",
      "text/plain": [
       "<matplotlib.figure.Figure at 0x11290bc50>"
      ]
     },
     "metadata": {},
     "output_type": "display_data"
    }
   ],
   "source": [
    "_ = sns.distplot(RAW_X.gps_height, hist=True, kde=False, rug=False)"
   ]
  },
  {
   "cell_type": "code",
   "execution_count": 135,
   "metadata": {
    "collapsed": false
   },
   "outputs": [
    {
     "data": {
      "image/png": "[encoded data removed]",
      "text/plain": [
       "<matplotlib.figure.Figure at 0x125ee9190>"
      ]
     },
     "metadata": {},
     "output_type": "display_data"
    }
   ],
   "source": [
    "_ = sns.distplot(RAW_X.population, hist=True, kde=False, rug=False)"
   ]
  },
  {
   "cell_type": "markdown",
   "metadata": {},
   "source": [
    "### logitude & latidue data check"
   ]
  },
  {
   "cell_type": "code",
   "execution_count": 116,
   "metadata": {
    "collapsed": false
   },
   "outputs": [
    {
     "data": {
      "image/png": "[encoded data removed]",
      "text/plain": [
       "<matplotlib.figure.Figure at 0x11137c2d0>"
      ]
     },
     "metadata": {},
     "output_type": "display_data"
    }
   ],
   "source": [
    "_ = sns.jointplot(x='longitude', y='latitude', data=RAW_X)"
   ]
  },
  {
   "cell_type": "markdown",
   "metadata": {},
   "source": [
    "# ** Observations & TODO **\n",
    "\n",
    "* Most of the data seems categorical\n",
    "\n",
    "* Need to check **cols_date_numerics**(TODO1)\n",
    "    * we shall convert date -> day, month, year, weekday, total_no_of_day_from_reference_point. These splits for two reasons.\n",
    "        * Reason1: It might be possible that in some location all specific set of complaints are registered on a start/mid/at end of the month. It might also be possible that they are registered on every Monday or so.\n",
    "        * Reason2: Taking as much information as possible.\n",
    "* Need to check **cols_categorical_check**(TODO2) \n",
    "    * longitutude & latitude seem to hold (0,0) instead of NULL which is acting as outlier for now\n",
    "\n",
    "* Following pairs looks closesly related - cleanup (TODO3)\n",
    "    * quantity & quantity_group\n",
    "    * quality_group & water_quality\n",
    "    * extraction_type, extraction_type_class & extraction_type_group\n",
    "\n",
    "* Other - cleanup (TODO4)\n",
    "    * recorded_by, seems to hold only a single value\n",
    "    * population & amount_tsh, values are for some given as zero"
   ]
  },
  {
   "cell_type": "code",
   "execution_count": null,
   "metadata": {
    "collapsed": false,
    "scrolled": false
   },
   "outputs": [],
   "source": [
    "# %%asmarkdown\n",
    "# # To generate a Markup Table\n",
    "# tmp = sam_dataframe_markup_value_counts(dataframe=RAW_X, max_print_value_counts=10, show_plots=False, figsize=(9, 2))"
   ]
  },
  {
   "cell_type": "markdown",
   "metadata": {},
   "source": [
    "# Data Processing"
   ]
  },
  {
   "cell_type": "markdown",
   "metadata": {},
   "source": [
    "** Num/Bool Tranformations **\n",
    "\n",
    "* date_recorded --> Int\n",
    "* longitude --> Float(less precision)\n",
    "* latitude --> Float(less precision)\n",
    "* public_meeting --> Bool\n",
    "* permit --> Bool\n",
    "\n",
    "\n",
    "Precision Description of Longititude and Latitude is available here at below link.\n",
    "* http://gis.stackexchange.com/questions/8650/measuring-accuracy-of-latitude-and-longitude"
   ]
  },
  {
   "cell_type": "code",
   "execution_count": 268,
   "metadata": {
    "collapsed": true
   },
   "outputs": [],
   "source": [
    "# Reloading the data\n",
    "\n",
    "RAW_X = pd.read_csv('traning_set_values.csv', index_col='id')\n",
    "RAW_y = pd.read_csv('training_set_labels.csv', index_col='id')\n",
    "RAW_TEST_X = pd.read_csv('test_set_values.csv', index_col='id')"
   ]
  },
  {
   "cell_type": "code",
   "execution_count": 269,
   "metadata": {
    "collapsed": false
   },
   "outputs": [],
   "source": [
    "import datetime\n",
    "\n",
    "strptime = datetime.datetime.strptime\n",
    "\n",
    "DATE_FORMAT = \"%Y-%m-%d\"\n",
    "REFERENCE_DATE_POINT = strptime('2000-01-01', DATE_FORMAT)"
   ]
  },
  {
   "cell_type": "code",
   "execution_count": 270,
   "metadata": {
    "collapsed": true
   },
   "outputs": [],
   "source": [
    "if RAW_X.date_recorded.dtype == 'O':\n",
    "\n",
    "    # convert it to datetime format\n",
    "    f = lambda x: strptime(str(x), DATE_FORMAT)\n",
    "    RAW_X.date_recorded = RAW_X.date_recorded.apply(f)\n",
    "    RAW_TEST_X.date_recorded = RAW_TEST_X.date_recorded.apply(f)\n",
    "\n",
    "    # week day\n",
    "    f = lambda x: x.weekday()\n",
    "    RAW_X['date_recorded_weekday'] = RAW_X.date_recorded.apply(f)\n",
    "    RAW_TEST_X['date_recorded_weekday'] = RAW_TEST_X.date_recorded.apply(f)\n",
    "\n",
    "    # date\n",
    "    f = lambda x: x.day\n",
    "    RAW_X['date_recorded_date'] = RAW_X.date_recorded.apply(f)\n",
    "    RAW_TEST_X['date_recorded_date'] = RAW_TEST_X.date_recorded.apply(f)\n",
    "\n",
    "    # month\n",
    "    f = lambda x: x.month\n",
    "    RAW_X['date_recorded_month'] = RAW_X.date_recorded.apply(f)\n",
    "    RAW_TEST_X['date_recorded_month'] = RAW_TEST_X.date_recorded.apply(f)\n",
    "\n",
    "    # year\n",
    "    f = lambda x: x.year\n",
    "    RAW_X['date_recorded_year'] = RAW_X.date_recorded.apply(f)\n",
    "    RAW_TEST_X['date_recorded_year'] = RAW_TEST_X.date_recorded.apply(f)\n",
    "\n",
    "    # total days\n",
    "    f = lambda x: (x - REFERENCE_DATE_POINT).days\n",
    "    RAW_X.date_recorded = RAW_X.date_recorded.apply(f)\n",
    "    RAW_TEST_X.date_recorded = RAW_TEST_X.date_recorded.apply(f)"
   ]
  },
  {
   "cell_type": "code",
   "execution_count": 271,
   "metadata": {
    "collapsed": true
   },
   "outputs": [],
   "source": [
    "# Longitude & Latitude -- zero values fix\n",
    "\n",
    "# Filling Missing/OUTLIAR Values\n",
    "_ = np.mean(RAW_X[u'latitude'][RAW_X.latitude < -1.0].values)\n",
    "\n",
    "if not RAW_X.loc[RAW_X.latitude >= -1.0, u'latitude'].empty:\n",
    "    RAW_X.loc[RAW_X.latitude >= -1.0, u'latitude'] = _\n",
    "    RAW_TEST_X.loc[RAW_TEST_X.latitude >= -1.0, u'latitude'] = _\n",
    "\n",
    "\n",
    "# Filling Missing/OUTLIAR Values\n",
    "_ = np.mean(RAW_X[u'longitude'][RAW_X[u'longitude'] > 1.0].values)\n",
    "\n",
    "if not RAW_X.loc[RAW_X[u'longitude'] <= 1.0, u'longitude'].empty:\n",
    "    RAW_X.loc[RAW_X[u'longitude'] <= 1.0, u'longitude'] = _\n",
    "    RAW_TEST_X.loc[RAW_TEST_X[u'longitude'] <= 1.0, u'longitude'] = _"
   ]
  },
  {
   "cell_type": "code",
   "execution_count": 272,
   "metadata": {
    "collapsed": false
   },
   "outputs": [
    {
     "name": "stdout",
     "output_type": "stream",
     "text": [
      "All in Good Shape\n"
     ]
    }
   ],
   "source": [
    "# public_meeting & Permit -- Fixing Missing Values\n",
    "\n",
    "\n",
    "if RAW_X.public_meeting.dtype != 'bool':\n",
    "    # True --> 1\n",
    "    # False --> 0\n",
    "    # Nan --> 2\n",
    "    RAW_X.public_meeting = pd.to_numeric(RAW_X.public_meeting).fillna(2)\n",
    "    RAW_TEST_X.public_meeting = pd.to_numeric(RAW_X.public_meeting).fillna(2)\n",
    "\n",
    "if RAW_X.permit.dtype != 'bool':\n",
    "    # True --> 1\n",
    "    # False --> 0\n",
    "    # Nan --> 2\n",
    "    RAW_X.permit = pd.to_numeric(RAW_X.permit).fillna(2)\n",
    "    RAW_TEST_X.permit = pd.to_numeric(RAW_TEST_X.permit).fillna(2)\n",
    "\n",
    "# checking\n",
    "if list(RAW_TEST_X.dtypes[RAW_TEST_X.dtypes != RAW_X.dtypes]):\n",
    "    raise Exception('RAW_X.dtypes and RAW_TEST_X.dtypes are not in Sync')\n",
    "else:\n",
    "    print 'All in Good Shape'"
   ]
  },
  {
   "cell_type": "code",
   "execution_count": 284,
   "metadata": {
    "collapsed": false
   },
   "outputs": [
    {
     "data": {
      "text/plain": [
       "amount_tsh               float64\n",
       "date_recorded              int64\n",
       "gps_height                 int64\n",
       "longitude                float64\n",
       "latitude                 float64\n",
       "num_private                int64\n",
       "region_code                int64\n",
       "district_code              int64\n",
       "population                 int64\n",
       "public_meeting           float64\n",
       "permit                   float64\n",
       "construction_year          int64\n",
       "date_recorded_weekday      int64\n",
       "date_recorded_date         int64\n",
       "date_recorded_month        int64\n",
       "date_recorded_year         int64\n",
       "dtype: object"
      ]
     },
     "metadata": {},
     "output_type": "display_data"
    }
   ],
   "source": [
    "from __future__ import print_function\n",
    "from ipywidgets import interact, interactive, fixed\n",
    "import ipywidgets as widgets\n",
    "from IPython.display import display\n",
    "\n",
    "def show_object_dtypes(dtype_int):\n",
    "    if dtype_int:\n",
    "        display(RAW_X.dtypes[RAW_X.dtypes != object])\n",
    "    else:\n",
    "        display(RAW_X.dtypes[RAW_X.dtypes == object])\n",
    "\n",
    "\n",
    "interact(show_object_dtypes, dtype_int=True);"
   ]
  },
  {
   "cell_type": "code",
   "execution_count": 302,
   "metadata": {
    "collapsed": true
   },
   "outputs": [],
   "source": [
    "# Reducing geo location precision to 11 meters\n",
    "LONG_LAT_PRECISION = 0.001\n",
    "\n",
    "# Reducing Precision of Lat.\n",
    "if RAW_X.longitude.mean() < 50:\n",
    "    RAW_X.longitude = RAW_X.longitude // LONG_LAT_PRECISION\n",
    "    RAW_X.latitude = RAW_X.latitude // LONG_LAT_PRECISION\n",
    "    RAW_TEST_X.longitude = RAW_TEST_X.longitude // LONG_LAT_PRECISION\n",
    "    RAW_TEST_X.latitude = RAW_TEST_X.latitude // LONG_LAT_PRECISION"
   ]
  },
  {
   "cell_type": "code",
   "execution_count": 303,
   "metadata": {
    "collapsed": false
   },
   "outputs": [
    {
     "data": {
      "image/png": "[encoded data removed]",
      "text/plain": [
       "<matplotlib.figure.Figure at 0x11b76a0d0>"
      ]
     },
     "metadata": {},
     "output_type": "display_data"
    }
   ],
   "source": [
    "_ = sns.jointplot(x='longitude', y='latitude', data=RAW_X)"
   ]
  },
  {
   "cell_type": "markdown",
   "metadata": {},
   "source": [
    "** Text Data Tranformations **\n",
    "\n",
    "For **cols_categorical_check**, we are going to basic clean action like, lower and upper case issue. Clearning of non ascii values."
   ]
  },
  {
   "cell_type": "code",
   "execution_count": 304,
   "metadata": {
    "collapsed": true
   },
   "outputs": [],
   "source": [
    "def text_transformation(name):\n",
    "    if name:\n",
    "        name = name.lower().strip()\n",
    "        name = ''.join([i if 96 < ord(i) < 128 else ' ' for i in name])\n",
    "        if 'and' in name:\n",
    "            name = name.replace('and', ' ')\n",
    "        if '/' in name:\n",
    "            name = name.replace('/', ' ')\n",
    "        while '  ' in name:\n",
    "            name = name.replace('  ', ' ')\n",
    "        return name.strip()\n",
    "    return ''"
   ]
  },
  {
   "cell_type": "code",
   "execution_count": 305,
   "metadata": {
    "collapsed": false,
    "scrolled": true
   },
   "outputs": [
    {
     "data": {
      "text/html": [
       "<p><table>\n",
       "<thead>\n",
       "<tr>\n",
       "<th>Column</th>\n",
       "<th>Prev.</th>\n",
       "<th>Current</th>\n",
       "</tr>\n",
       "</thead>\n",
       "<tbody>\n",
       "<tr>\n",
       "<td>funder</td>\n",
       "<td>1898</td>\n",
       "<td>1880</td>\n",
       "</tr>\n",
       "<tr>\n",
       "<td>installer</td>\n",
       "<td>2146</td>\n",
       "<td>1866</td>\n",
       "</tr>\n",
       "<tr>\n",
       "<td>wpt_name</td>\n",
       "<td>37400</td>\n",
       "<td>36717</td>\n",
       "</tr>\n",
       "<tr>\n",
       "<td>subvillage</td>\n",
       "<td>19288</td>\n",
       "<td>19175</td>\n",
       "</tr>\n",
       "<tr>\n",
       "<td>scheme_name</td>\n",
       "<td>2697</td>\n",
       "<td>2485</td>\n",
       "</tr>\n",
       "</tbody>\n",
       "</table></p>"
      ],
      "text/plain": [
       "<IPython.core.display.HTML object>"
      ]
     },
     "execution_count": 305,
     "metadata": {},
     "output_type": "execute_result"
    }
   ],
   "source": [
    "%%asmarkdown\n",
    "\n",
    "print '''\n",
    "|Column|Prev.|Current|\n",
    "|------|-----|-------|'''\n",
    "for col in cols_categorical_check:\n",
    "    aa = len(RAW_X[col].unique())\n",
    "    RAW_X[col] = RAW_X[col].fillna('').apply(text_transformation)\n",
    "    RAW_TEST_X[col] = RAW_TEST_X[col].fillna('').apply(text_transformation)\n",
    "    bb = len(RAW_X[col].unique())\n",
    "    if aa != bb:\n",
    "        print '|%s|%i|%i|' % (col, aa, bb)"
   ]
  },
  {
   "cell_type": "code",
   "execution_count": null,
   "metadata": {
    "collapsed": true
   },
   "outputs": [],
   "source": []
  },
  {
   "cell_type": "code",
   "execution_count": 307,
   "metadata": {
    "collapsed": false
   },
   "outputs": [
    {
     "data": {
      "text/html": [
       "<div>\n",
       "<table border=\"1\" class=\"dataframe\">\n",
       "  <thead>\n",
       "    <tr style=\"text-align: right;\">\n",
       "      <th></th>\n",
       "      <th>funder</th>\n",
       "      <th>installer</th>\n",
       "      <th>wpt_name</th>\n",
       "      <th>subvillage</th>\n",
       "      <th>ward</th>\n",
       "      <th>scheme_name</th>\n",
       "    </tr>\n",
       "    <tr>\n",
       "      <th>id</th>\n",
       "      <th></th>\n",
       "      <th></th>\n",
       "      <th></th>\n",
       "      <th></th>\n",
       "      <th></th>\n",
       "      <th></th>\n",
       "    </tr>\n",
       "  </thead>\n",
       "  <tbody>\n",
       "    <tr>\n",
       "      <th>69572</th>\n",
       "      <td>roman</td>\n",
       "      <td>roman</td>\n",
       "      <td>none</td>\n",
       "      <td>mnyusi b</td>\n",
       "      <td>mundindi</td>\n",
       "      <td>roman</td>\n",
       "    </tr>\n",
       "    <tr>\n",
       "      <th>8776</th>\n",
       "      <td>grumeti</td>\n",
       "      <td>grumeti</td>\n",
       "      <td>zahanati</td>\n",
       "      <td>nyamara</td>\n",
       "      <td>natta</td>\n",
       "      <td></td>\n",
       "    </tr>\n",
       "    <tr>\n",
       "      <th>34310</th>\n",
       "      <td>lottery club</td>\n",
       "      <td>world vision</td>\n",
       "      <td>kwa mahundi</td>\n",
       "      <td>majengo</td>\n",
       "      <td>ngorika</td>\n",
       "      <td>nyumba ya mungu pipe scheme</td>\n",
       "    </tr>\n",
       "    <tr>\n",
       "      <th>67743</th>\n",
       "      <td>unicef</td>\n",
       "      <td>unicef</td>\n",
       "      <td>zahanati ya nanyumbu</td>\n",
       "      <td>mahakamani</td>\n",
       "      <td>nanyumbu</td>\n",
       "      <td></td>\n",
       "    </tr>\n",
       "    <tr>\n",
       "      <th>19728</th>\n",
       "      <td>action in a</td>\n",
       "      <td>artisan</td>\n",
       "      <td>shuleni</td>\n",
       "      <td>kyanyamisa</td>\n",
       "      <td>nyakasimbi</td>\n",
       "      <td></td>\n",
       "    </tr>\n",
       "  </tbody>\n",
       "</table>\n",
       "</div>"
      ],
      "text/plain": [
       "             funder     installer              wpt_name  subvillage  \\\n",
       "id                                                                    \n",
       "69572         roman         roman                  none    mnyusi b   \n",
       "8776        grumeti       grumeti              zahanati     nyamara   \n",
       "34310  lottery club  world vision           kwa mahundi     majengo   \n",
       "67743        unicef        unicef  zahanati ya nanyumbu  mahakamani   \n",
       "19728   action in a       artisan               shuleni  kyanyamisa   \n",
       "\n",
       "             ward                  scheme_name  \n",
       "id                                              \n",
       "69572    mundindi                        roman  \n",
       "8776        natta                               \n",
       "34310     ngorika  nyumba ya mungu pipe scheme  \n",
       "67743    nanyumbu                               \n",
       "19728  nyakasimbi                               "
      ]
     },
     "execution_count": 307,
     "metadata": {},
     "output_type": "execute_result"
    }
   ],
   "source": [
    "RAW_X[cols_categorical_check].head()"
   ]
  },
  {
   "cell_type": "code",
   "execution_count": null,
   "metadata": {
    "collapsed": true
   },
   "outputs": [],
   "source": []
  },
  {
   "cell_type": "code",
   "execution_count": 369,
   "metadata": {
    "collapsed": true
   },
   "outputs": [],
   "source": [
    "ss = RAW_X[col].value_counts() / 594"
   ]
  },
  {
   "cell_type": "code",
   "execution_count": 375,
   "metadata": {
    "collapsed": false
   },
   "outputs": [
    {
     "data": {
      "text/plain": [
       "                                         47.417508\n",
       "k                                        48.597643\n",
       "none                                     49.723906\n",
       "borehole                                 50.643098\n",
       "chalinze wate                            51.326599\n",
       "m                                        52.001684\n",
       "danida                                   52.639731\n",
       "government                               53.178451\n",
       "bagamoyo wate                            53.676768\n",
       "ngana water supplied scheme              54.131313\n",
       "wanging ombe water supply s              54.570707\n",
       "wanging ombe supply scheme               54.968013\n",
       "i                                        55.353535\n",
       "uroki bomang ombe water sup              55.713805\n",
       "lyamungo umbwe water supply              56.070707\n",
       "n                                        56.414141\n",
       "losaa kia water supply                   56.757576\n",
       "kirua kahe gravity water supply trust    57.082492\n",
       "machumba estate pipe line                57.393939\n",
       "makwale water supplied sche              57.673401\n",
       "kijiji                                   57.944444\n",
       "mkongoro one                             58.208754\n",
       "s                                        58.468013\n",
       "mtwango water supply scheme              58.723906\n",
       "h eni trunk main h                       58.979798\n",
       "mkongoro two                             59.232323\n",
       "roman                                    59.466330\n",
       "upper ruvu                               59.690236\n",
       "maambreni gravity water supply           59.900673\n",
       "shallow well                             60.101010\n",
       "                                           ...    \n",
       "kigogo gravity water supply              83.688552\n",
       "mbati water supply                       83.715488\n",
       "ch                                       83.742424\n",
       "saga                                     83.769360\n",
       "iduo                                     83.796296\n",
       "ruvu juu                                 83.823232\n",
       "kiuwassa                                 83.850168\n",
       "kigw                                     83.877104\n",
       "ivalal                                   83.904040\n",
       "nghu                                     83.929293\n",
       "rwamgurusi miti w                        83.954545\n",
       "lwanzali water supply schem              83.979798\n",
       "itipingi gravity water sche              84.005051\n",
       "ukange                                   84.030303\n",
       "ilunda pumping scheme                    84.055556\n",
       "kiba                                     84.080808\n",
       "urambo water supply                      84.106061\n",
       "nyamabale spring source                  84.131313\n",
       "huru materuni water supply               84.156566\n",
       "mradi wa maji wa kabila                  84.181818\n",
       "utaruni pipeline                         84.207071\n",
       "chil                                     84.232323\n",
       "nkenja                                   84.257576\n",
       "ugabwa                                   84.282828\n",
       "muruseno spring source                   84.308081\n",
       "us embassy borehole scheme               84.333333\n",
       "mbimbi water gravity scheme              84.358586\n",
       "ngelen                                   84.383838\n",
       "mfumbi                                   84.409091\n",
       "olikimo water project                    84.434343\n",
       "Name: scheme_name, dtype: float64"
      ]
     },
     "execution_count": 375,
     "metadata": {},
     "output_type": "execute_result"
    }
   ],
   "source": [
    "ss.cumsum().head(500)"
   ]
  },
  {
   "cell_type": "code",
   "execution_count": 374,
   "metadata": {
    "collapsed": false
   },
   "outputs": [
    {
     "data": {
      "text/plain": [
       "<matplotlib.axes._subplots.AxesSubplot at 0x1136c88d0>"
      ]
     },
     "execution_count": 374,
     "metadata": {},
     "output_type": "execute_result"
    },
    {
     "data": {
      "image/png": "[encoded data removed]",
      "text/plain": [
       "<matplotlib.figure.Figure at 0x11b7867d0>"
      ]
     },
     "metadata": {},
     "output_type": "display_data"
    }
   ],
   "source": [
    "sns.distplot(ss.cumsum().head(500), kde=False)"
   ]
  },
  {
   "cell_type": "code",
   "execution_count": 310,
   "metadata": {
    "collapsed": false
   },
   "outputs": [
    {
     "data": {
      "text/plain": [
       "['funder', 'installer', 'wpt_name', 'subvillage', 'ward', 'scheme_name']"
      ]
     },
     "execution_count": 310,
     "metadata": {},
     "output_type": "execute_result"
    }
   ],
   "source": [
    "cols_categorical_check"
   ]
  },
  {
   "cell_type": "code",
   "execution_count": 361,
   "metadata": {
    "collapsed": false
   },
   "outputs": [
    {
     "data": {
      "text/plain": [
       "(2485,)"
      ]
     },
     "execution_count": 361,
     "metadata": {},
     "output_type": "execute_result"
    }
   ],
   "source": [
    "data_vc.shape"
   ]
  },
  {
   "cell_type": "code",
   "execution_count": 497,
   "metadata": {
    "collapsed": false
   },
   "outputs": [],
   "source": [
    "from collections import defaultdict\n",
    "\n",
    "from helper import CUST_CATEGORY_LABELER"
   ]
  },
  {
   "cell_type": "raw",
   "metadata": {},
   "source": [
    "labler = CUST_CATEGORY_LABELER()\n",
    "labler.fit(RAW_X.funder)\n",
    "\n",
    "# To check groups & data coverage throughly\n",
    "def f(x=50):\n",
    "    labler.transform_analysis(data_coverage=x)\n",
    "\n",
    "ii1 = interact(lambda data_coverage : , data_coverage=(50, 100, .5))\n",
    "\n",
    "# To check data cover alone - outline only\n",
    "def f(x=80):\n",
    "    labler.get_coverage_groups_count(x)\n",
    "    \n",
    "ii2 = interact(f, x=(80, 100., .5))"
   ]
  },
  {
   "cell_type": "code",
   "execution_count": 494,
   "metadata": {
    "collapsed": false
   },
   "outputs": [
    {
     "name": "stdout",
     "output_type": "stream",
     "text": [
      "Total number of groups in top 80 data: 97\n"
     ]
    }
   ],
   "source": [
    "custom_labler = defaultdict(CUST_CATEGORY_LABELER)\n",
    "\n",
    "col = 'funder'\n",
    "\n",
    "labler = custom_labler[col]\n",
    "RAW_X[col] = labler.fit_transform(RAW_X[col])"
   ]
  },
  {
   "cell_type": "code",
   "execution_count": 496,
   "metadata": {
    "collapsed": false
   },
   "outputs": [
    {
     "data": {
      "text/plain": [
       "98"
      ]
     },
     "execution_count": 496,
     "metadata": {},
     "output_type": "execute_result"
    }
   ],
   "source": [
    "len(RAW_X.funder.value_counts())"
   ]
  },
  {
   "cell_type": "markdown",
   "metadata": {},
   "source": [
    "## Label Encoder\n",
    "\n",
    "Label Encoder with DefaultDict for quick data transformation\n",
    "http://stackoverflow.com/questions/24458645/label-encoding-across-multiple-columns-in-scikit-learn"
   ]
  },
  {
   "cell_type": "code",
   "execution_count": 217,
   "metadata": {
    "collapsed": true
   },
   "outputs": [],
   "source": [
    "from collections import defaultdict\n",
    "from sklearn import preprocessing"
   ]
  },
  {
   "cell_type": "code",
   "execution_count": 218,
   "metadata": {
    "collapsed": false
   },
   "outputs": [
    {
     "name": "stdout",
     "output_type": "stream",
     "text": [
      "(59400, 43) (14850, 43)\n"
     ]
    }
   ],
   "source": [
    "print RAW_X.shape, RAW_TEST_X.shape"
   ]
  },
  {
   "cell_type": "code",
   "execution_count": null,
   "metadata": {
    "collapsed": false
   },
   "outputs": [],
   "source": [
    "RAW_X.columns"
   ]
  },
  {
   "cell_type": "code",
   "execution_count": null,
   "metadata": {
    "collapsed": false,
    "scrolled": true
   },
   "outputs": [],
   "source": [
    "d = defaultdict(preprocessing.LabelEncoder)\n",
    "\n",
    "# Labels Fit\n",
    "sam = pd.concat([RAW_X, RAW_TEST_X]).apply(lambda x: d[x.name].fit(x))\n",
    "\n",
    "# Labels Transform - Training Data\n",
    "X = RAW_X.apply(lambda x: d[x.name].transform(x))\n",
    "TEST_X = RAW_TEST_X.apply(lambda x: d[x.name].transform(x))\n",
    "\n",
    "le = preprocessing.LabelEncoder().fit(RAW_y[u'status_group'])\n",
    "y = le.transform(RAW_y[u'status_group'])"
   ]
  },
  {
   "cell_type": "code",
   "execution_count": null,
   "metadata": {
    "collapsed": false
   },
   "outputs": [],
   "source": [
    "X.head(5)"
   ]
  },
  {
   "cell_type": "code",
   "execution_count": null,
   "metadata": {
    "collapsed": false
   },
   "outputs": [],
   "source": [
    "y[:5]"
   ]
  },
  {
   "cell_type": "markdown",
   "metadata": {},
   "source": [
    "## Pickle\n",
    "\n",
    "** Pickle Save **"
   ]
  },
  {
   "cell_type": "code",
   "execution_count": null,
   "metadata": {
    "collapsed": false,
    "scrolled": true
   },
   "outputs": [],
   "source": [
    "pickle.dump(X, open('X.pkl', 'w'))\n",
    "pickle.dump(TEST_X, open('TEST_X.pkl', 'w'))\n",
    "pickle.dump(y, open('y.pkl', 'w'))\n",
    "pickle.dump(d, open('d.pkl', 'w'))\n",
    "pickle.dump(le, open('le.pkl', 'w'))"
   ]
  },
  {
   "cell_type": "markdown",
   "metadata": {},
   "source": [
    "** Pickle Load **"
   ]
  },
  {
   "cell_type": "code",
   "execution_count": null,
   "metadata": {
    "collapsed": true
   },
   "outputs": [],
   "source": [
    "X = pickle.load(open('X.pkl'))\n",
    "y = pickle.load(open('y.pkl'))"
   ]
  },
  {
   "cell_type": "code",
   "execution_count": null,
   "metadata": {
    "collapsed": false,
    "scrolled": true
   },
   "outputs": [],
   "source": [
    "# Load this when you are about to do text transformation and submission\n",
    "\n",
    "TEST_X = pickle.load(open('TEST_X.pkl'))\n",
    "d = pickle.load(open('d.pkl'))\n",
    "le = pickle.load(open('le.pkl'))"
   ]
  },
  {
   "cell_type": "code",
   "execution_count": null,
   "metadata": {
    "collapsed": false,
    "scrolled": true
   },
   "outputs": [],
   "source": [
    "X.shape, y.shape"
   ]
  },
  {
   "cell_type": "code",
   "execution_count": null,
   "metadata": {
    "collapsed": false
   },
   "outputs": [],
   "source": [
    "y[:5]"
   ]
  },
  {
   "cell_type": "markdown",
   "metadata": {},
   "source": [
    "# Feature Selection\n"
   ]
  },
  {
   "cell_type": "markdown",
   "metadata": {},
   "source": [
    "### Variance Threshold\n",
    "\n",
    "To remove all features that are either one or zero (on or off) in more than 80% of the samples.\n",
    "\n",
    "http://scikit-learn.org/stable/modules/feature_selection.html#removing-features-with-low-variance\n",
    "\n",
    "http://stackoverflow.com/questions/29298973/removing-features-with-low-variance-scikit-learn/34850639#34850639"
   ]
  },
  {
   "cell_type": "code",
   "execution_count": null,
   "metadata": {
    "collapsed": false
   },
   "outputs": [],
   "source": [
    "from sklearn.feature_selection import VarianceThreshold\n",
    "\n",
    "def get_low_variance_columns(dframe=None, columns=[],\n",
    "                             skip_columns=[], threshold=0.0,\n",
    "                             autoremove=False):\n",
    "    \"\"\"\n",
    "    Wrapper for sklearn VarianceThreshold for use on pandas dataframes.\n",
    "    \"\"\"\n",
    "    print(\"Finding low-variance features.\")\n",
    "    removed_features = []\n",
    "    ranking_variance_thresholds = {}\n",
    "    try:\n",
    "        # get list of all the original df columns\n",
    "        all_columns = dframe.columns\n",
    "\n",
    "        # remove `skip_columns`\n",
    "        remaining_columns = all_columns.drop(skip_columns)\n",
    "\n",
    "        # get length of new index\n",
    "        max_index = len(remaining_columns) - 1\n",
    "\n",
    "        # get indices for `skip_columns`\n",
    "        skipped_idx = [all_columns.get_loc(col)\n",
    "                       for col\n",
    "                       in skip_columns]\n",
    "\n",
    "        # adjust insert location by the number of columns removed\n",
    "        # (for non-zero insertion locations) to keep relative\n",
    "        # locations intact\n",
    "        for idx, item in enumerate(skipped_idx):\n",
    "            if item > max_index:\n",
    "                diff = item - max_index\n",
    "                skipped_idx[idx] -= diff\n",
    "            if item == max_index:\n",
    "                diff = item - len(skip_columns)\n",
    "                skipped_idx[idx] -= diff\n",
    "            if idx == 0:\n",
    "                skipped_idx[idx] = item\n",
    "\n",
    "        # get values of `skip_columns`\n",
    "        skipped_values = dframe.iloc[:, skipped_idx].values\n",
    "\n",
    "        # get dataframe values\n",
    "        X = dframe.loc[:, remaining_columns].values\n",
    "\n",
    "        # instantiate VarianceThreshold object\n",
    "        vt = VarianceThreshold(threshold=threshold)\n",
    "\n",
    "        # fit vt to data\n",
    "        vt.fit(X)\n",
    "\n",
    "        # threshold ranking\n",
    "        ranking_variance_thresholds = dict(zip(remaining_columns, vt.variances_))\n",
    "\n",
    "        # get the indices of the features that are being kept\n",
    "        feature_indices = vt.get_support(indices=True)\n",
    "\n",
    "        # remove low-variance columns from index\n",
    "        feature_names = [remaining_columns[idx]\n",
    "                         for idx, _\n",
    "                         in enumerate(remaining_columns)\n",
    "                         if idx\n",
    "                         in feature_indices]\n",
    "\n",
    "        # get the columns to be removed\n",
    "        removed_features = list(np.setdiff1d(remaining_columns,\n",
    "                                             feature_names))\n",
    "        print(\"Found {0} low-variance columns.\"\n",
    "              .format(len(removed_features)))\n",
    "\n",
    "        # remove the columns\n",
    "        if autoremove:\n",
    "            print(\"Removing low-variance features.\")\n",
    "            # remove the low-variance columns\n",
    "            X_removed = vt.transform(X)\n",
    "\n",
    "            print(\"Reassembling the dataframe (with low-variance \"\n",
    "                  \"features removed).\")\n",
    "            # re-assemble the dataframe\n",
    "            dframe = pd.DataFrame(data=X_removed,\n",
    "                                  columns=feature_names)\n",
    "\n",
    "            # add back the `skip_columns`\n",
    "            for idx, index in enumerate(skipped_idx):\n",
    "                dframe.insert(loc=index,\n",
    "                              column=skip_columns[idx],\n",
    "                              value=skipped_values[:, idx])\n",
    "            print(\"Succesfully removed low-variance columns.\")\n",
    "\n",
    "        # do not remove columns\n",
    "        else:\n",
    "            print(\"No changes have been made to the dataframe.\")\n",
    "\n",
    "    except Exception as e:\n",
    "        print(e)\n",
    "        print(\"Could not remove low-variance features. Something \"\n",
    "              \"went wrong.\")\n",
    "        return dframe, [], {}\n",
    "\n",
    "    return dframe, removed_features, ranking_variance_thresholds"
   ]
  },
  {
   "cell_type": "code",
   "execution_count": null,
   "metadata": {
    "collapsed": false,
    "scrolled": true
   },
   "outputs": [],
   "source": [
    "X, removed_features, ranking_variance_thresholds = get_low_variance_columns(dframe=X,\n",
    "                                                                            threshold=(0.85 * (1 - 0.85)),\n",
    "                                                                            autoremove=True)\n",
    "\n",
    "print '\\nLow Variance Columns', removed_features\n",
    "print 'Shape of X is', X.shape"
   ]
  },
  {
   "cell_type": "code",
   "execution_count": null,
   "metadata": {
    "collapsed": false,
    "scrolled": true
   },
   "outputs": [],
   "source": [
    "TEST_X.drop(removed_features, axis=1, inplace=True)"
   ]
  },
  {
   "cell_type": "code",
   "execution_count": null,
   "metadata": {
    "collapsed": false
   },
   "outputs": [],
   "source": [
    "print 'Shape of X is', X.shape\n",
    "print 'Shape of TEST_X is', TEST_X.shape"
   ]
  },
  {
   "cell_type": "markdown",
   "metadata": {},
   "source": [
    "### Select K Best\n",
    "\n",
    "* For regression: f_regression, mutual_info_regression\n",
    "* For classification: chi2, f_classif, mutual_info_classif\n",
    "\n",
    "\n",
    "Random Forest Classifier score: RandomForestClassifier(n_estimators=150, criterion='entropy', class_weight=\"balanced_subsample\", n_jobs=-1)\n",
    "* chi2 0.81225589225589223\n",
    "*  f_classic 0.81138047138047142\n",
    "* mutual_info_classif 0.81037037037037041"
   ]
  },
  {
   "cell_type": "code",
   "execution_count": null,
   "metadata": {
    "collapsed": false
   },
   "outputs": [],
   "source": [
    "from sklearn.feature_selection import SelectKBest\n",
    "from sklearn.feature_selection import chi2, f_classif, mutual_info_classif"
   ]
  },
  {
   "cell_type": "code",
   "execution_count": null,
   "metadata": {
    "collapsed": true
   },
   "outputs": [],
   "source": [
    "SelectKBest?"
   ]
  },
  {
   "cell_type": "code",
   "execution_count": null,
   "metadata": {
    "collapsed": false,
    "scrolled": false
   },
   "outputs": [],
   "source": [
    "K_BEST_COLS = 30\n",
    "\n",
    "fit = SelectKBest(score_func=chi2, k=K_BEST_COLS).fit(X, y)\n",
    "cols_names = X.columns\n",
    "\n",
    "np.set_printoptions(precision=2)\n",
    "\n",
    "ranking_selectkbest = dict(zip(cols_names, fit.scores_))\n",
    "selected_cols =  [_ for _ in cols_names[:K_BEST_COLS]]"
   ]
  },
  {
   "cell_type": "code",
   "execution_count": null,
   "metadata": {
    "collapsed": false
   },
   "outputs": [],
   "source": [
    "print 'Removed Columns:\\n\\t', '\\t'.join([ _ for _ in X.columns if _ not in selected_cols ])\n",
    "selected_cols.sort()\n",
    "print '\\nSelected Columns:\\n\\t', '\\n\\t'.join(selected_cols)"
   ]
  },
  {
   "cell_type": "code",
   "execution_count": null,
   "metadata": {
    "collapsed": true
   },
   "outputs": [],
   "source": [
    "features = pd.DataFrame(fit.transform(X))\n",
    "features.columns = selected_cols"
   ]
  },
  {
   "cell_type": "code",
   "execution_count": null,
   "metadata": {
    "collapsed": false,
    "scrolled": false
   },
   "outputs": [],
   "source": [
    "# % pprint\n",
    "ranking_selectkbest"
   ]
  },
  {
   "cell_type": "code",
   "execution_count": null,
   "metadata": {
    "collapsed": false
   },
   "outputs": [],
   "source": [
    "print X.shape, features.shape, len(y)"
   ]
  },
  {
   "cell_type": "code",
   "execution_count": null,
   "metadata": {
    "collapsed": false
   },
   "outputs": [],
   "source": [
    "print X.shape, features.shape"
   ]
  },
  {
   "cell_type": "code",
   "execution_count": null,
   "metadata": {
    "collapsed": false,
    "scrolled": true
   },
   "outputs": [],
   "source": [
    "X = pd.DataFrame(fit.transform(X))\n",
    "X.columns = selected_cols\n",
    "\n",
    "print\n",
    "\n",
    "# TEST_X = pd.DataFrame(fit.transform(TEST_X))\n",
    "# TEST_X.columns = selected_cols"
   ]
  },
  {
   "cell_type": "code",
   "execution_count": null,
   "metadata": {
    "collapsed": false
   },
   "outputs": [],
   "source": [
    "TEST_X = pd.DataFrame(fit.transform(TEST_X))\n",
    "\n",
    "print TEST_X.shape, X.shape"
   ]
  },
  {
   "cell_type": "code",
   "execution_count": null,
   "metadata": {
    "collapsed": true
   },
   "outputs": [],
   "source": [
    "pickle.dump(X, open('processed_X.pkl', 'w'))\n",
    "pickle.dump(TEST_X, open('processed_TEST_X.pkl', 'w'))\n",
    "pickle.dump(y, open('processed_y.pkl', 'w'))"
   ]
  },
  {
   "cell_type": "markdown",
   "metadata": {},
   "source": [
    "### PCA"
   ]
  },
  {
   "cell_type": "markdown",
   "metadata": {},
   "source": [
    "** Loading Pre-Processed Data **"
   ]
  },
  {
   "cell_type": "code",
   "execution_count": null,
   "metadata": {
    "collapsed": true
   },
   "outputs": [],
   "source": [
    "X = pickle.load(open('processed_X.pkl'))\n",
    "TEST_X = pickle.load(open('processed_TEST_X.pkl'))\n",
    "y = pickle.load(open('processed_y.pkl'))"
   ]
  },
  {
   "cell_type": "markdown",
   "metadata": {},
   "source": [
    "** PCA **"
   ]
  },
  {
   "cell_type": "code",
   "execution_count": null,
   "metadata": {
    "collapsed": false
   },
   "outputs": [],
   "source": [
    "from sklearn.decomposition import PCA"
   ]
  },
  {
   "cell_type": "code",
   "execution_count": null,
   "metadata": {
    "collapsed": false
   },
   "outputs": [],
   "source": [
    "# feature extraction\n",
    "pca = PCA(n_components=7)\n",
    "fit = pca.fit(X)"
   ]
  },
  {
   "cell_type": "code",
   "execution_count": null,
   "metadata": {
    "collapsed": false
   },
   "outputs": [],
   "source": [
    "plt.figure(figsize=(12, 3))\n",
    "\n",
    "_ = plt.scatter (range(len(fit.explained_variance_ratio_)), fit.explained_variance_ratio_.cumsum())\n",
    "\n",
    "_ = plt.xlabel('cumsum of explained variance')\n",
    "\n",
    "print fit.explained_variance_ratio_.cumsum()"
   ]
  },
  {
   "cell_type": "code",
   "execution_count": null,
   "metadata": {
    "collapsed": true
   },
   "outputs": [],
   "source": [
    "X = pca.transform(X)\n",
    "TEST_X = pca.transform(TEST_X)"
   ]
  },
  {
   "cell_type": "markdown",
   "metadata": {},
   "source": [
    "** Saving Processed Data **"
   ]
  },
  {
   "cell_type": "code",
   "execution_count": null,
   "metadata": {
    "collapsed": true
   },
   "outputs": [],
   "source": [
    "pickle.dump(X, open('processed_X.pkl', 'w'))\n",
    "pickle.dump(TEST_X, open('processed_TEST_X.pkl', 'w'))\n",
    "pickle.dump(y, open('processed_y.pkl', 'w'))"
   ]
  },
  {
   "cell_type": "markdown",
   "metadata": {},
   "source": [
    "# Unsupervised Learning\n",
    "\n",
    "* Unsupervised Learning Exploration(Gaussian Process, Neural Nets)"
   ]
  },
  {
   "cell_type": "markdown",
   "metadata": {},
   "source": [
    "** Loading Pre-Processed Data **"
   ]
  },
  {
   "cell_type": "code",
   "execution_count": null,
   "metadata": {
    "collapsed": true
   },
   "outputs": [],
   "source": [
    "X = pickle.load(open('processed_X.pkl'))\n",
    "TEST_X = pickle.load(open('processed_TEST_X.pkl'))\n",
    "y = pickle.load(open('processed_y.pkl'))"
   ]
  },
  {
   "cell_type": "code",
   "execution_count": null,
   "metadata": {
    "collapsed": false
   },
   "outputs": [],
   "source": [
    "print X.shape, y.shape, TEST_X.shape"
   ]
  },
  {
   "cell_type": "markdown",
   "metadata": {},
   "source": [
    "### Gaussian"
   ]
  },
  {
   "cell_type": "code",
   "execution_count": null,
   "metadata": {
    "collapsed": false
   },
   "outputs": [],
   "source": [
    "from sklearn import mixture\n",
    "import itertools\n",
    "from scipy import linalg\n",
    "import matplotlib as mpl\n",
    "\n",
    "try:\n",
    "    import renders as rs\n",
    "except:\n",
    "    print 'Not able to import renders'\n",
    "    pass\n",
    "import seaborn as sb\n",
    "from IPython.display import display"
   ]
  },
  {
   "cell_type": "code",
   "execution_count": null,
   "metadata": {
    "collapsed": true
   },
   "outputs": [],
   "source": [
    "from sklearn.mixture import GaussianMixture as GMM\n",
    "from sklearn.metrics import silhouette_score"
   ]
  },
  {
   "cell_type": "code",
   "execution_count": null,
   "metadata": {
    "collapsed": false,
    "scrolled": false
   },
   "outputs": [],
   "source": [
    "# For future analysis\n",
    "GMM_Centers = []\n",
    "\n",
    "__check_for  = 1000\n",
    "\n",
    "for i in range(2, 7):\n",
    "    # TODO: Apply your clustering algorithm of choice to the reduced data \n",
    "    clusterer = GMM(n_components=i, random_state=42)\n",
    "    clusterer.fit(X)\n",
    "\n",
    "    # TODO: Predict the cluster for each data point\n",
    "    preds = clusterer.predict(X)\n",
    "\n",
    "    # TODO: Find the cluster centers\n",
    "    GMM_Centers.append(clusterer.means_)\n",
    "\n",
    "    # score = silhouette_score(X, preds)\n",
    "    score = silhouette_score(X[:__check_for], preds[:__check_for])\n",
    "\n",
    "    print i, score"
   ]
  },
  {
   "cell_type": "markdown",
   "metadata": {},
   "source": [
    "### KMeans"
   ]
  },
  {
   "cell_type": "code",
   "execution_count": null,
   "metadata": {
    "collapsed": true
   },
   "outputs": [],
   "source": [
    "from sklearn.cluster import KMeans\n",
    "from sklearn.metrics import silhouette_score"
   ]
  },
  {
   "cell_type": "code",
   "execution_count": null,
   "metadata": {
    "collapsed": false
   },
   "outputs": [],
   "source": [
    "# For future analysis\n",
    "KMM_Centers = []\n",
    "\n",
    "# Testing each category\n",
    "for i in range(2, 7):\n",
    "\n",
    "    clusterer = KMeans(init='k-means++', n_clusters=i, n_init=10)\n",
    "    clusterer.fit(X)\n",
    "\n",
    "    preds = clusterer.predict(X)\n",
    "\n",
    "    centers = clusterer.cluster_centers_\n",
    "    \n",
    "    KMM_Centers.append(centers)\n",
    "\n",
    "#     score = silhouette_score(X, preds)\n",
    "    score = silhouette_score(X[:__check_for], preds[:__check_for])\n",
    "    print i, score"
   ]
  },
  {
   "cell_type": "code",
   "execution_count": null,
   "metadata": {
    "collapsed": false
   },
   "outputs": [],
   "source": [
    "i = 2\n",
    "\n",
    "clusterer = KMeans(init='k-means++', n_clusters=i, n_init=10)\n",
    "clusterer.fit(X)\n",
    "preds = clusterer.predict(X)"
   ]
  },
  {
   "cell_type": "code",
   "execution_count": null,
   "metadata": {
    "collapsed": false
   },
   "outputs": [],
   "source": [
    "score = silhouette_score(X[:__check_for], preds[:__check_for])\n",
    "print i, score"
   ]
  },
  {
   "cell_type": "code",
   "execution_count": null,
   "metadata": {
    "collapsed": false
   },
   "outputs": [],
   "source": [
    "print X.shape, TEST_X.shape"
   ]
  },
  {
   "cell_type": "code",
   "execution_count": null,
   "metadata": {
    "collapsed": false
   },
   "outputs": [],
   "source": [
    "X = pd.DataFrame(X)\n",
    "X['new'] = clusterer.predict(X)"
   ]
  },
  {
   "cell_type": "code",
   "execution_count": null,
   "metadata": {
    "collapsed": false
   },
   "outputs": [],
   "source": [
    "TEST_X = pd.DataFrame(TEST_X)\n",
    "TEST_X['new'] = clusterer.predict(TEST_X)"
   ]
  },
  {
   "cell_type": "code",
   "execution_count": null,
   "metadata": {
    "collapsed": false
   },
   "outputs": [],
   "source": [
    "print X.shape, TEST_X.shape"
   ]
  },
  {
   "cell_type": "markdown",
   "metadata": {},
   "source": [
    "# Supervised Learning\n",
    "\n",
    "* Supervised Learning(GBT Trees, Nearest Neighbours, RF, One-vs-One)"
   ]
  },
  {
   "cell_type": "markdown",
   "metadata": {},
   "source": [
    "### Test-Train Split"
   ]
  },
  {
   "cell_type": "code",
   "execution_count": null,
   "metadata": {
    "collapsed": false
   },
   "outputs": [],
   "source": [
    "from sklearn.model_selection import train_test_split\n",
    "\n",
    "from sklearn.tree import DecisionTreeClassifier\n",
    "\n",
    "X_train, X_test, y_train, y_test = train_test_split(X, y, test_size=0.25, random_state=42, stratify=y)\n",
    "\n",
    "# print features.shape\n",
    "# X_train, X_test, y_train, y_test = train_test_split(features, y, test_size=0.25, random_state=42, stratify=y)"
   ]
  },
  {
   "cell_type": "markdown",
   "metadata": {},
   "source": [
    "### GBT Trees"
   ]
  },
  {
   "cell_type": "code",
   "execution_count": null,
   "metadata": {
    "collapsed": true
   },
   "outputs": [],
   "source": [
    "from sklearn.ensemble import GradientBoostingClassifier"
   ]
  },
  {
   "cell_type": "code",
   "execution_count": null,
   "metadata": {
    "collapsed": false
   },
   "outputs": [],
   "source": [
    "gbt_clf = GradientBoostingClassifier(n_estimators=150, max_depth=5)"
   ]
  },
  {
   "cell_type": "code",
   "execution_count": null,
   "metadata": {
    "collapsed": false
   },
   "outputs": [],
   "source": [
    "gbt_clf = gbt_clf.fit(X_train, y_train)\n",
    "\n",
    "print 'score:', gbt_clf.score(X_test, y_test)\n",
    "\n",
    "# score: 0.787272727273"
   ]
  },
  {
   "cell_type": "markdown",
   "metadata": {},
   "source": [
    "### Nearest Neighbours"
   ]
  },
  {
   "cell_type": "code",
   "execution_count": null,
   "metadata": {
    "collapsed": true
   },
   "outputs": [],
   "source": [
    "from sklearn.neighbors import KNeighborsClassifier"
   ]
  },
  {
   "cell_type": "code",
   "execution_count": null,
   "metadata": {
    "collapsed": true
   },
   "outputs": [],
   "source": [
    "knn_clf = KNeighborsClassifier()"
   ]
  },
  {
   "cell_type": "code",
   "execution_count": null,
   "metadata": {
    "collapsed": false
   },
   "outputs": [],
   "source": [
    "knn_clf.fit(X_test, y_test)"
   ]
  },
  {
   "cell_type": "code",
   "execution_count": null,
   "metadata": {
    "collapsed": false
   },
   "outputs": [],
   "source": [
    "knn_clf.score(X_train, y_train)"
   ]
  },
  {
   "cell_type": "markdown",
   "metadata": {},
   "source": [
    "### Random Forest"
   ]
  },
  {
   "cell_type": "code",
   "execution_count": null,
   "metadata": {
    "collapsed": true
   },
   "outputs": [],
   "source": [
    "from sklearn.ensemble import RandomForestClassifier"
   ]
  },
  {
   "cell_type": "code",
   "execution_count": null,
   "metadata": {
    "collapsed": false,
    "scrolled": true
   },
   "outputs": [],
   "source": [
    "rf_clf = RandomForestClassifier(n_estimators=150, criterion='entropy', class_weight=\"balanced_subsample\", n_jobs=-1)\n",
    "# class_weight=\"balanced_subsample\"/\"balanced\"\n",
    "# criterion=\"gini\"/\"entropy\"\n",
    "\n",
    "rf_clf = rf_clf.fit(X_train, y_train)\n",
    "# pred = rf_clf.predict_proba(X_test)\n",
    "rf_clf.score(X_test, y_test)\n",
    "\n",
    "# (n_estimators=100, class_weight=\"balanced_subsample\", n_jobs=-1) 0.80782828282828278\n",
    "# (n_estimators=100, class_weight=\"balanced_subsample\", n_jobs=-1) 0.81186868686868685\n",
    "# (n_estimators=150, class_weight=\"balanced_subsample\", n_jobs=-1) 0.8113636363636364\n",
    "\n",
    "# (n_estimators=150, criterion='gini', class_weight=\"balanced_subsample\", n_jobs=-1) 0.81018518518518523\n",
    "# (n_estimators=150, criterion='gini', class_weight=\"balanced\", n_jobs=-1) 0.80858585858585863\n",
    "# (n_estimators=150, criterion='gini', n_jobs=-1) 0.80942760942760938\n",
    "# (n_estimators=150, criterion='entropy', n_jobs=-1) 0.81060606060606055\n",
    "\n",
    "# (n_estimators=10, criterion='gini', class_weight=\"balanced_subsample\", n_jobs=-1) 0.79781144781144786\n",
    "# (n_estimators=10, criterion='entropy', class_weight=\"balanced_subsample\", n_jobs=-1) 0.80185185185185182\n",
    "# (n_estimators=150, criterion='entropy', class_weight=\"balanced_subsample\", n_jobs=-1) 0.8113636363636364\n",
    "# (n_estimators=150, criterion='gini', class_weight=\"balanced\", n_jobs=-1) 0.80984848484848482\n",
    "\n",
    "# (n_estimators=150, criterion='gini', class_weight=\"balanced\", n_jobs=-1) 0.81259259259259264\n",
    "# (n_estimators=150, criterion='gini', class_weight=\"balanced_subsample\", n_jobs=-1) 0.81259259259259264\n",
    "# (n_estimators=150, criterion='entropy', class_weight=\"balanced_subsample\", n_jobs=-1) 0.81252525252525254\n",
    "\n",
    "# 0.81198653198653203"
   ]
  },
  {
   "cell_type": "markdown",
   "metadata": {},
   "source": [
    "### Multi Class"
   ]
  },
  {
   "cell_type": "code",
   "execution_count": null,
   "metadata": {
    "collapsed": true
   },
   "outputs": [],
   "source": [
    "from sklearn.multiclass import OneVsOneClassifier, OneVsRestClassifier"
   ]
  },
  {
   "cell_type": "markdown",
   "metadata": {},
   "source": [
    "** One Vs One **"
   ]
  },
  {
   "cell_type": "code",
   "execution_count": null,
   "metadata": {
    "collapsed": true
   },
   "outputs": [],
   "source": [
    "multiclass_rf_clf = OneVsOneClassifier(RandomForestClassifier(n_estimators=100,\n",
    "                                                        criterion='entropy',\n",
    "#                                                         class_weight=\"balanced_subsample\",\n",
    "                                                        n_jobs=-1))\n",
    "\n",
    "# 0.81265993265993264"
   ]
  },
  {
   "cell_type": "code",
   "execution_count": null,
   "metadata": {
    "collapsed": true
   },
   "outputs": [],
   "source": [
    "multiclass_rf_clf = multiclass_rf_clf.fit(X_train, y_train)\n",
    "\n",
    "print 'Classifier:', multiclass_rf_clf\n",
    "\n",
    "print 'Score:', multiclass_rf_clf.score(X_test, y_test)"
   ]
  },
  {
   "cell_type": "markdown",
   "metadata": {},
   "source": [
    "** One vs Rest **"
   ]
  },
  {
   "cell_type": "code",
   "execution_count": null,
   "metadata": {
    "collapsed": true
   },
   "outputs": [],
   "source": [
    "multiclass_rf_clf = OneVsRestClassifier(RandomForestClassifier(n_estimators=200,\n",
    "                                                        criterion='entropy',\n",
    "                                                        class_weight=\"balanced_subsample\",\n",
    "                                                        n_jobs=-1))\n",
    "\n",
    "# 0.81393939393939396\n",
    "\n",
    "# 0.81272727272727274\n",
    "\n",
    "# 0.81131313131313132"
   ]
  },
  {
   "cell_type": "code",
   "execution_count": null,
   "metadata": {
    "collapsed": false
   },
   "outputs": [],
   "source": [
    "multiclass_rf_clf = multiclass_rf_clf.fit(X_train, y_train)\n",
    "\n",
    "print 'Classifier:', multiclass_rf_clf\n",
    "\n",
    "print 'Score:', multiclass_rf_clf.score(X_test, y_test)"
   ]
  },
  {
   "cell_type": "markdown",
   "metadata": {},
   "source": [
    "## Parameter tuning"
   ]
  },
  {
   "cell_type": "code",
   "execution_count": null,
   "metadata": {
    "collapsed": true
   },
   "outputs": [],
   "source": [
    "from sklearn.model_selection import GridSearchCV\n",
    "from sklearn.model_selection import RandomizedSearchCV"
   ]
  },
  {
   "cell_type": "code",
   "execution_count": null,
   "metadata": {
    "collapsed": false,
    "scrolled": true
   },
   "outputs": [],
   "source": [
    "parameters = {\n",
    "    'n_estimators': [50, 100, 150],\n",
    "    'class_weight': 'balanced_subsample balanced'.split(),\n",
    "    'criterion': 'gini entropy'.split()\n",
    "}\n",
    "GS_CV = GridSearchCV(estimator=RandomForestClassifier(), param_grid=parameters, n_jobs=-1)\n",
    "# GS_CV = RandomizedSearchCV(RandomForestClassifier(), parameters)\n",
    "\n",
    "GS_CV.fit(X, y)"
   ]
  },
  {
   "cell_type": "code",
   "execution_count": null,
   "metadata": {
    "collapsed": false
   },
   "outputs": [],
   "source": [
    "print GS_CV.best_params_, GS_CV.best_score_"
   ]
  },
  {
   "cell_type": "code",
   "execution_count": null,
   "metadata": {
    "collapsed": false
   },
   "outputs": [],
   "source": [
    "for each in GS_CV.grid_scores_:\n",
    "    print str(each).replace(' ', '')"
   ]
  },
  {
   "cell_type": "markdown",
   "metadata": {},
   "source": [
    "\n",
    "* Checking \"rf_clf\" RF performance"
   ]
  },
  {
   "cell_type": "code",
   "execution_count": null,
   "metadata": {
    "collapsed": false
   },
   "outputs": [],
   "source": [
    "len(rf_clf.feature_importances_)"
   ]
  },
  {
   "cell_type": "code",
   "execution_count": null,
   "metadata": {
    "collapsed": false,
    "scrolled": false
   },
   "outputs": [],
   "source": [
    "plt.figure(figsize=(12, 3))\n",
    "\n",
    "tmp = rf_clf.feature_importances_\n",
    "\n",
    "# making importance relative\n",
    "a, b = min(tmp), max(tmp)\n",
    "cols_imp = (tmp - a) /b\n",
    "_ = plt.scatter(range(len(cols_imp)), cols_imp)\n",
    "\n",
    "# line plots\n",
    "_ = plt.plot((0, len(cols_imp)), (0.25, 0.25), '-g')\n",
    "_ = plt.plot((0, len(cols_imp)), (0.55, 0.55), '-b')\n",
    "_ = plt.plot((0, len(cols_imp)), (0.75, 0.75), '-r')\n",
    "\n",
    "_ = plt.xlabel('Columns')\n",
    "_ = plt.ylabel('Relative Col Importance')"
   ]
  },
  {
   "cell_type": "raw",
   "metadata": {
    "collapsed": false
   },
   "source": [
    "print map(lambda x: len(x), [X_test, y_test])\n",
    "\n",
    "clf.score(X_test, y_test) # 0.81097643097643102"
   ]
  },
  {
   "cell_type": "raw",
   "metadata": {
    "collapsed": false,
    "scrolled": false
   },
   "source": [
    "sam_confusion_maxtrix(y_test, clf.predict(X_test))"
   ]
  },
  {
   "cell_type": "markdown",
   "metadata": {},
   "source": [
    "## XGBOOST"
   ]
  },
  {
   "cell_type": "code",
   "execution_count": null,
   "metadata": {
    "collapsed": true
   },
   "outputs": [],
   "source": [
    "import xgboost as xgb"
   ]
  },
  {
   "cell_type": "code",
   "execution_count": null,
   "metadata": {
    "collapsed": false
   },
   "outputs": [],
   "source": [
    "gbm = xgb.XGBClassifier(max_depth=3, n_estimators=100, learning_rate=0.05).fit(X_train, y_train)\n",
    "\n",
    "gbm_predictions = gbm.predict(X_test)"
   ]
  },
  {
   "cell_type": "code",
   "execution_count": null,
   "metadata": {
    "collapsed": false
   },
   "outputs": [],
   "source": [
    "print sum(gbm_predictions == y_test)/ (1.0 * len(y_test)) # 0.7279461279461279"
   ]
  },
  {
   "cell_type": "raw",
   "metadata": {},
   "source": [
    "sam_confusion_maxtrix(y_test, predictions)"
   ]
  },
  {
   "cell_type": "markdown",
   "metadata": {},
   "source": [
    "# Submission"
   ]
  },
  {
   "cell_type": "markdown",
   "metadata": {},
   "source": [
    "**Model Selection**\n",
    "\n",
    "+ Check for which model is performing best and using it.\n",
    "+ Check to apply the one-vs-many//one-vs-one wrapper.\n",
    "+ Check for 'test_train_split' for which X,y to be used for training"
   ]
  },
  {
   "cell_type": "code",
   "execution_count": null,
   "metadata": {
    "collapsed": true
   },
   "outputs": [],
   "source": [
    "rf_clf = RandomForestClassifier(n_estimators=150, criterion='entropy', class_weight=\"balanced_subsample\", n_jobs=-1)\n",
    "\n",
    "rf_clf = rf_clf.fit(X, y)"
   ]
  },
  {
   "cell_type": "code",
   "execution_count": null,
   "metadata": {
    "collapsed": false
   },
   "outputs": [],
   "source": [
    "# saving the index\n",
    "test_ids = RAW_TEST_X.index\n",
    "\n",
    "# predicint the values\n",
    "predictions = clf.predict(TEST_X)\n",
    "print (predictions.shape)\n",
    "\n",
    "# Converting int to its respective Labels\n",
    "predictions_labels = le.inverse_transform(predictions)\n",
    "\n",
    "# setting up column name & save file\n",
    "sub = pd.DataFrame(predictions_labels, columns=['status_group'])\n",
    "sub.head()\n",
    "sub.insert(loc=0, column='id', value=test_ids)\n",
    "sub.reset_index()\n",
    "sub.to_csv('submit.csv', index = False)\n",
    "sub.head()"
   ]
  }
 ],
 "metadata": {
  "anaconda-cloud": {},
  "kernelspec": {
   "display_name": "Python [default]",
   "language": "python",
   "name": "python2"
  },
  "language_info": {
   "codemirror_mode": {
    "name": "ipython",
    "version": 2
   },
   "file_extension": ".py",
   "mimetype": "text/x-python",
   "name": "python",
   "nbconvert_exporter": "python",
   "pygments_lexer": "ipython2",
   "version": "2.7.12"
  },
  "widgets": {
   "state": {
    "3eec9ad7aae14a8d8ebb5e291536dc0e": {
     "views": [
      {
       "cell_index": 72
      }
     ]
    },
    "8b2ff8dd7bc94aeba29ebb032d4b92ad": {
     "views": [
      {
       "cell_index": 54
      }
     ]
    }
   },
   "version": "1.2.0"
  }
 },
 "nbformat": 4,
 "nbformat_minor": 0
}
