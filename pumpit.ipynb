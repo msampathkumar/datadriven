{
 "cells": [
  {
   "cell_type": "markdown",
   "metadata": {
    "collapsed": false
   },
   "source": [
    "# PUMP IT UP\n"
   ]
  },
  {
   "cell_type": "markdown",
   "metadata": {},
   "source": [
    "**Introduction:**\n",
    "Using the data gathered from Taarifa and the Tanzanian Ministry of Water, can we predict which pumps are functional, which need some repairs, and which don't work at all? Predicting one of these three classes based and a smart understanding of which waterpoints will fail, can improve the maintenance operations and ensure that clean, potable water is available to communities across Tanzania.\n",
    "\n",
    "This is also an intermediate-level competition by [DataDriven][1]! All code & support scripts are in [Github Repo][2]\n",
    "\n",
    "[1]: https://www.drivendata.org/competitions/7/ \"Link to Competetion Page\"\n",
    "[2]: https://github.com/msampathkumar/datadriven_pumpit \"User Code\""
   ]
  },
  {
   "cell_type": "markdown",
   "metadata": {},
   "source": [
    "# Imports"
   ]
  },
  {
   "cell_type": "code",
   "execution_count": 1,
   "metadata": {
    "collapsed": false
   },
   "outputs": [],
   "source": [
    "import pickle\n",
    "\n",
    "import numpy as np\n",
    "import pandas as pd\n",
    "import matplotlib.pyplot as plt\n",
    "import seaborn as sns\n",
    "\n",
    "\n",
    "%matplotlib inline\n",
    "# %load_ext writeandexecute\n",
    "\n",
    "plt.style.use('ggplot')\n",
    "sns.set(color_codes=True)\n",
    "\n",
    "# seed\n",
    "np.random.seed(69572)\n",
    "\n",
    "# import sys\n",
    "# sys.path = sys.path + ['/Users/sampathkumarm/Desktop/devbox/Sam-DS/Kaggle/datadriven']\n",
    "\n",
    "import scripts\n",
    "\n",
    "import imp\n",
    "imp.reload(scripts)\n",
    "\n",
    "from scripts.sam_value_counts import sam_dataframe_cols_value_count_analysis, sam_dataframe_markup_value_counts\n",
    "from scripts.sam_confusion_matrix import sam_plot_confusion_matrix, sam_confusion_maxtrix\n",
    "\n",
    "import sys\n",
    "\n",
    "from __future__ import absolute_import\n",
    "from IPython.core.getipython import get_ipython\n",
    "from IPython.core.magic import (Magics, magics_class,  cell_magic)\n",
    "\n",
    "try:\n",
    "    from StringIO import StringIO\n",
    "except ImportError:\n",
    "    from io import StringIO\n",
    "\n",
    "from markdown import markdown\n",
    "from IPython.core.display import HTML\n",
    "from IPython.display import display\n",
    "\n",
    "@magics_class\n",
    "class MarkdownMagics(Magics):\n",
    " \n",
    "    @cell_magic\n",
    "    def asmarkdown(self, line, cell):\n",
    "        buffer = StringIO()\n",
    "        stdout = sys.stdout\n",
    "        sys.stdout = buffer\n",
    "        try:\n",
    "            exec(cell, locals(), self.shell.user_ns)\n",
    "        except:\n",
    "            sys.stdout = stdout\n",
    "            raise\n",
    "        sys.stdout = stdout\n",
    "        return HTML(\"<p>{}</p>\".format(markdown(buffer.getvalue(), extensions=['markdown.extensions.extra'])))\n",
    "        return buffer.getvalue() + 'test'\n",
    "    \n",
    "    def timer_message(self, start_time):\n",
    "#         print self\n",
    "        time_diff = (now() - start_time).total_seconds()\n",
    "        if time_diff < 0.001:\n",
    "            time_diff = 0\n",
    "            print('\\n<pre>In', time_diff, 'Secs</pre>')\n",
    "        else:\n",
    "            print('\\n<pre>In', time_diff, 'Secs</pre>')\n",
    "\n",
    "    @cell_magic\n",
    "    def timer(self, line, cell):\n",
    "        import datetime\n",
    "        now = datetime.datetime.now\n",
    "        start_time = now()\n",
    "        buffer = StringIO()\n",
    "        stdout = sys.stdout\n",
    "        sys.stdout = buffer\n",
    "        try:\n",
    "            exec(cell, locals(), self.shell.user_ns)\n",
    "            self.timer_message(start_time)\n",
    "        except:\n",
    "            sys.stdout = stdout\n",
    "            raise\n",
    "        sys.stdout = stdout\n",
    "        return HTML(\"<p>{}</p>\".format(markdown(buffer.getvalue(), extensions=['markdown.extensions.extra'])))\n",
    "        return buffer.getvalue() + 'test'\n",
    " \n",
    "get_ipython().register_magics(MarkdownMagics)"
   ]
  },
  {
   "cell_type": "markdown",
   "metadata": {},
   "source": [
    "# Data Analysis"
   ]
  },
  {
   "cell_type": "code",
   "execution_count": 2,
   "metadata": {
    "collapsed": false
   },
   "outputs": [],
   "source": [
    "RAW_X = pd.read_csv('data/traning_set_values.csv', index_col='id')\n",
    "RAW_y = pd.read_csv('data/training_set_labels.csv', index_col='id')\n",
    "RAW_TEST_X = pd.read_csv('data/test_set_values.csv', index_col='id')"
   ]
  },
  {
   "cell_type": "code",
   "execution_count": null,
   "metadata": {
    "collapsed": false
   },
   "outputs": [],
   "source": [
    "# proportion of labels  available\n",
    "RAW_y.status_group.value_counts() / RAW_y.size"
   ]
  },
  {
   "cell_type": "code",
   "execution_count": null,
   "metadata": {
    "collapsed": false,
    "scrolled": true
   },
   "outputs": [],
   "source": [
    "print('Shape of RAW_X', RAW_X.shape)\n",
    "print('Shape of RAW_y', RAW_y.shape)\n",
    "print('Shape of RAW_TEST_X', RAW_TEST_X.shape)\n",
    "\n",
    "# ('Shape of RAW_X', (59400, 39))\n",
    "# ('Shape of RAW_y', (59400, 1))\n",
    "# ('Shape of RAW_TEST_X', (14850, 39))"
   ]
  },
  {
   "cell_type": "code",
   "execution_count": null,
   "metadata": {
    "collapsed": false
   },
   "outputs": [],
   "source": [
    "for i, col in enumerate(RAW_X.columns):\n",
    "    print('|%d|%s|%d|' % (i, col, len(RAW_X[col].value_counts())))"
   ]
  },
  {
   "cell_type": "code",
   "execution_count": null,
   "metadata": {
    "collapsed": false,
    "scrolled": true
   },
   "outputs": [],
   "source": [
    "# integer colums\n",
    "cols_ints = '''amount_tsh\n",
    "gps_height\n",
    "longitude\n",
    "latitude\n",
    "num_private\n",
    "region_code\n",
    "district_code\n",
    "population\n",
    "construction_year'''.splitlines()\n",
    "\n",
    "# bool\n",
    "cols_bool = 'public_meeting permit'.split()\n",
    "\n",
    "# date\n",
    "cols_date = ['date_recorded']\n",
    "\n",
    "print('INT COlS: ', len(cols_ints))\n",
    "print('BOOL COLS:', len(cols_bool))\n",
    "print('Date COLS:', len(cols_date))"
   ]
  },
  {
   "cell_type": "code",
   "execution_count": null,
   "metadata": {
    "collapsed": false
   },
   "outputs": [],
   "source": [
    "len(RAW_X.columns)"
   ]
  },
  {
   "cell_type": "code",
   "execution_count": 3,
   "metadata": {
    "collapsed": true
   },
   "outputs": [],
   "source": [
    "def show_object_dtypes(df,others=True):\n",
    "    dtype = object\n",
    "    if others:\n",
    "        return df.dtypes[df.dtypes == dtype]\n",
    "    else:\n",
    "        return df.dtypes[df.dtypes != dtype]"
   ]
  },
  {
   "cell_type": "code",
   "execution_count": null,
   "metadata": {
    "collapsed": false
   },
   "outputs": [],
   "source": [
    "show_object_dtypes(RAW_TEST_X, True)"
   ]
  },
  {
   "cell_type": "code",
   "execution_count": null,
   "metadata": {
    "collapsed": false
   },
   "outputs": [],
   "source": [
    "show_object_dtypes(RAW_TEST_X, False)"
   ]
  },
  {
   "cell_type": "markdown",
   "metadata": {},
   "source": [
    "### cols_values_counts_dataframe\n",
    "\n",
    "As we can see in above *describe* output, we seem to have lots of categorical values so let start exploring them a bit.\n",
    "\n",
    "Lets start taking into believe everything is a Categorical Columns and check their data"
   ]
  },
  {
   "cell_type": "code",
   "execution_count": 4,
   "metadata": {
    "collapsed": false
   },
   "outputs": [],
   "source": [
    "columns = RAW_X.columns\n",
    "values_counts_bag = [len(RAW_X[column].value_counts()) for column in columns]"
   ]
  },
  {
   "cell_type": "code",
   "execution_count": 5,
   "metadata": {
    "collapsed": false,
    "scrolled": false
   },
   "outputs": [
    {
     "data": {
      "image/png": "[encoded data removed]",
      "text/plain": [
       "<matplotlib.figure.Figure at 0x104927668>"
      ]
     },
     "metadata": {},
     "output_type": "display_data"
    }
   ],
   "source": [
    "_ = sns.distplot(values_counts_bag, hist=True, kde=False,)"
   ]
  },
  {
   "cell_type": "markdown",
   "metadata": {},
   "source": [
    "** Example of how np-log transforms data**\n",
    "\n",
    "    >>> np.log([0.001, 0.01, 0.1, 1, 10, 100, 1000])\n",
    "\n",
    "    array([-6.90775528, -4.60517019, -2.30258509,  0.        ,  2.30258509,\n",
    "            4.60517019,  6.90775528])\n",
    "\n",
    "As you can see in np-log example, we can learn that when a list of values vary significantly(exponentially) then their logarithms moves linearly. As we(I) feel comfortable in studying linear plot and linear information, we did a np.log to values counts."
   ]
  },
  {
   "cell_type": "code",
   "execution_count": 6,
   "metadata": {
    "collapsed": true
   },
   "outputs": [],
   "source": [
    "cols_values_counts_dataframe = pd.DataFrame(np.log(values_counts_bag), index=columns, columns=['Value Counts'])"
   ]
  },
  {
   "cell_type": "code",
   "execution_count": null,
   "metadata": {
    "collapsed": false
   },
   "outputs": [],
   "source": [
    "print('Values Counts:', values_counts_bag)\n",
    "\n",
    "print('\\nLog of Values Counts:', cols_values_counts_dataframe.T.values)\n",
    "\n",
    "_ = sns.distplot(cols_values_counts_dataframe.T.values, hist=True, kde=False,)\n",
    "\n",
    "plt.title('Historgram of  Object Feature`s (log2 of) Unique Values counts')\n",
    "plt.xlabel('Features')"
   ]
  },
  {
   "cell_type": "code",
   "execution_count": null,
   "metadata": {
    "collapsed": false
   },
   "outputs": [],
   "source": [
    "cols_values_counts_dataframe.plot(kind='barh', figsize=(12, 12))\n",
    "_ = plt.plot((2, 2), (0, 38))\n",
    "_ = plt.plot((4, 4), (0, 38), '-g')\n",
    "_ = plt.plot((6, 6), (0, 38), '-r')\n",
    "_ = plt.plot((8, 8), (0, 38), '-y')\n",
    "print('We seem to have some special categories where value counts are high.')\n",
    "\n",
    "plt.title('Features Values Counts for comparision')\n",
    "plt.xlabel ('Log of Unique Values')"
   ]
  },
  {
   "cell_type": "code",
   "execution_count": null,
   "metadata": {
    "collapsed": false
   },
   "outputs": [],
   "source": [
    "sam_dataframe_cols_value_count_analysis(RAW_X)"
   ]
  },
  {
   "cell_type": "markdown",
   "metadata": {},
   "source": [
    "** Checking rest of the columns**"
   ]
  },
  {
   "cell_type": "code",
   "execution_count": 7,
   "metadata": {
    "collapsed": false
   },
   "outputs": [
    {
     "name": "stdout",
     "output_type": "stream",
     "text": [
      "Total Number of Records: 59400 - Log val is: 10.9920495054\n",
      "1.0 percent of Number of Records: 594.0  - Log val is: 6.38687931936\n"
     ]
    }
   ],
   "source": [
    "cols_value_count_limit_fraction = 0.01\n",
    "cols_value_count_limit_log_value = np.log(RAW_X.shape[0] * cols_value_count_limit_fraction)\n",
    "\n",
    "\n",
    "print('Total Number of Records:', RAW_X.shape[0], '- Log val is:', np.log(RAW_X.shape[0]))\n",
    "print('%s percent of Number of Records:' % (cols_value_count_limit_fraction * 100),\\\n",
    "      RAW_X.shape[0] * cols_value_count_limit_fraction,\\\n",
    "      ' - Log val is:',  cols_value_count_limit_log_value)"
   ]
  },
  {
   "cell_type": "markdown",
   "metadata": {},
   "source": [
    "### cols_categorical_check\n",
    "\n",
    "Here in this project, `cols_categorical_check` refers to list of columns for which caution check is considered. Reason for this check is, we would need more data to explain other columns & target cols with respect to it.\n",
    "\n",
    "Lets consider these columns with more 5% of values as non categorical values and since our problem statement is choosing which category, we will try to minimise the category and see how our performance changes(improves or not)\n",
    "\n",
    "To begin we will consider that those categories with more than `cols_value_count_limit_fraction` percentage as the upper limit allowed. Any column with other data will pruged to become some to other information"
   ]
  },
  {
   "cell_type": "raw",
   "metadata": {
    "collapsed": false
   },
   "source": [
    "show_object_dtypes(RAW_X, True)"
   ]
  },
  {
   "cell_type": "raw",
   "metadata": {
    "collapsed": false
   },
   "source": [
    "show_object_dtypes(RAW_X, False)"
   ]
  },
  {
   "cell_type": "code",
   "execution_count": 8,
   "metadata": {
    "collapsed": false
   },
   "outputs": [],
   "source": [
    "cols_non_categorical = show_object_dtypes(RAW_X, True).index.tolist()\n",
    "\n",
    "cols_date_numerics = show_object_dtypes(RAW_X, True).index.tolist()"
   ]
  },
  {
   "cell_type": "raw",
   "metadata": {
    "collapsed": false
   },
   "source": [
    "list(cols_date_numerics)\n"
   ]
  },
  {
   "cell_type": "code",
   "execution_count": 9,
   "metadata": {
    "collapsed": false
   },
   "outputs": [
    {
     "name": "stdout",
     "output_type": "stream",
     "text": [
      "Columns we need to moderate are: ['funder', 'installer', 'wpt_name', 'subvillage', 'ward', 'scheme_name']\n"
     ]
    }
   ],
   "source": [
    "cols_categorical_check = []\n",
    "\n",
    "for col, vc in cols_values_counts_dataframe.iterrows():\n",
    "    if col in cols_non_categorical:\n",
    "        if float(vc) > cols_value_count_limit_log_value:\n",
    "            cols_categorical_check.append(col)\n",
    "\n",
    "print('Columns we need to moderate are:', cols_categorical_check)"
   ]
  },
  {
   "cell_type": "markdown",
   "metadata": {},
   "source": [
    "All `cols_date_numerics`, are date & other numeric data which can be made into buckets or reducing precision. Thus we can bound number of categories in data as the more variety of data we have, we need more information specific to each category which all might end with **curse of dimensionality**.\n",
    "\n",
    "During pre-processing states we shall do following\n",
    "TODO\n",
    "* limiting check experiments on our **`cols_date_numerics`** & **`cols_categorical_check`** to be under **`cols_value_count_limit_fraction`**"
   ]
  },
  {
   "cell_type": "raw",
   "metadata": {
    "collapsed": false
   },
   "source": [
    "print('Log limit for categories:', cols_value_count_limit_log_value)\n",
    "print('Actual limit for categories:', cols_value_count_limit_fraction * RAW_X.shape[0])\n",
    "\n",
    "RAW_X[cols_categorical_check].head()"
   ]
  },
  {
   "cell_type": "raw",
   "metadata": {
    "collapsed": false,
    "scrolled": false
   },
   "source": [
    "RAW_X[cols_categorical_check].head(15)"
   ]
  },
  {
   "cell_type": "raw",
   "metadata": {
    "collapsed": false
   },
   "source": [
    "_ = sns.distplot(RAW_X.gps_height, hist=True, kde=False, rug=False)"
   ]
  },
  {
   "cell_type": "raw",
   "metadata": {
    "collapsed": false
   },
   "source": [
    "_ = sns.distplot(RAW_X.population, hist=True, kde=False, rug=False)"
   ]
  },
  {
   "cell_type": "raw",
   "metadata": {
    "collapsed": false
   },
   "source": [
    "_ = sns.jointplot(x='longitude', y='latitude', data=RAW_X)\n",
    "plt.xlabel('longitude')\n",
    "plt.ylabel('latitude')"
   ]
  },
  {
   "cell_type": "raw",
   "metadata": {
    "collapsed": false,
    "scrolled": false
   },
   "source": [
    "%%asmarkdown\n",
    "\n",
    "# To generate a Markup Table\n",
    "tmp = sam_dataframe_markup_value_counts(dataframe=RAW_X, max_print_value_counts=10, show_plots=False, figsize=(9, 2))\n",
    "\n",
    "for each in tmp:\n",
    "    print(each)"
   ]
  },
  {
   "cell_type": "markdown",
   "metadata": {},
   "source": [
    "# Observations & TODO\n",
    "\n",
    "* Most of the data seems categorical\n",
    "\n",
    "* Need to check **cols_date_numerics**(TODO1)\n",
    "    * we shall convert date -> day, month, year, weekday, total_no_of_day_from_reference_point. These splits for two reasons.\n",
    "        * Reason1: It might be possible that in some location all specific set of complaints are registered on a start/mid/at end of the month. It might also be possible that they are registered on every Monday or so.\n",
    "        * Reason2: Taking as much information as possible.\n",
    "* Need to check **cols_categorical_check**(TODO2) \n",
    "    * longitutude & latitude seem to hold (0,0) instead of NULL which is acting as outlier for now\n",
    "\n",
    "* Following pairs looks closesly related - cleanup (TODO3)\n",
    "    * quantity & quantity_group\n",
    "    * quality_group & water_quality\n",
    "    * extraction_type, extraction_type_class & extraction_type_group\n",
    "\n",
    "* Other - cleanup (TODO4)\n",
    "    * recorded_by, seems to hold only a single value\n",
    "    * population & amount_tsh, values are for some given as zero"
   ]
  },
  {
   "cell_type": "markdown",
   "metadata": {},
   "source": [
    "# Data Processing"
   ]
  },
  {
   "cell_type": "markdown",
   "metadata": {},
   "source": [
    "## Generic Transformations\n",
    "** Num/Bool Tranformations **\n",
    "\n",
    "* date_recorded to Int\n",
    "* public_meeting to Int\n",
    "* permit to Int\n",
    "* longitude to Float(less precision)\n",
    "* latitude to Float(less precision)\n",
    "\n",
    "Precision Description of Longititude and Latitude is available here at below [link](http://gis.stackexchange.com/questions/8650/measuring-accuracy-of-latitude-and-longitude)\n",
    "\n",
    "\n",
    "\n"
   ]
  },
  {
   "cell_type": "code",
   "execution_count": 10,
   "metadata": {
    "collapsed": false
   },
   "outputs": [],
   "source": [
    "# Reloading the data\n",
    "\n",
    "RAW_X = pd.read_csv('data/traning_set_values.csv', index_col='id')\n",
    "RAW_y = pd.read_csv('data/training_set_labels.csv', index_col='id')\n",
    "RAW_TEST_X = pd.read_csv('data/test_set_values.csv', index_col='id')"
   ]
  },
  {
   "cell_type": "markdown",
   "metadata": {},
   "source": [
    "### Int Transformations"
   ]
  },
  {
   "cell_type": "code",
   "execution_count": 11,
   "metadata": {
    "collapsed": false
   },
   "outputs": [],
   "source": [
    "import datetime\n",
    "\n",
    "strptime = datetime.datetime.strptime\n",
    "\n",
    "DATE_FORMAT = \"%Y-%m-%d\"\n",
    "REFERENCE_DATE_POINT = strptime('2000-01-01', DATE_FORMAT)\n",
    "\n",
    "if RAW_X.date_recorded.dtype == 'O':\n",
    "\n",
    "    # convert it to datetime format\n",
    "    f = lambda x: strptime(str(x), DATE_FORMAT)\n",
    "    RAW_X.date_recorded = RAW_X.date_recorded.apply(f)\n",
    "    RAW_TEST_X.date_recorded = RAW_TEST_X.date_recorded.apply(f)\n",
    "\n",
    "    # week day\n",
    "    f = lambda x: x.weekday()\n",
    "    RAW_X['date_recorded_weekday'] = RAW_X.date_recorded.apply(f)\n",
    "    RAW_TEST_X['date_recorded_weekday'] = RAW_TEST_X.date_recorded.apply(f)\n",
    "\n",
    "    # date\n",
    "    f = lambda x: x.day\n",
    "    RAW_X['date_recorded_date'] = RAW_X.date_recorded.apply(f)\n",
    "    RAW_TEST_X['date_recorded_date'] = RAW_TEST_X.date_recorded.apply(f)\n",
    "\n",
    "    # month\n",
    "    f = lambda x: x.month\n",
    "    RAW_X['date_recorded_month'] = RAW_X.date_recorded.apply(f)\n",
    "    RAW_TEST_X['date_recorded_month'] = RAW_TEST_X.date_recorded.apply(f)\n",
    "\n",
    "    # year\n",
    "    f = lambda x: x.year\n",
    "    RAW_X['date_recorded_year'] = RAW_X.date_recorded.apply(f)\n",
    "    RAW_TEST_X['date_recorded_year'] = RAW_TEST_X.date_recorded.apply(f)\n",
    "\n",
    "    # total days\n",
    "    f = lambda x: (x - REFERENCE_DATE_POINT).days\n",
    "    RAW_X.date_recorded = RAW_X.date_recorded.apply(f)\n",
    "    RAW_TEST_X.date_recorded = RAW_TEST_X.date_recorded.apply(f)"
   ]
  },
  {
   "cell_type": "code",
   "execution_count": 12,
   "metadata": {
    "collapsed": true
   },
   "outputs": [],
   "source": [
    "# Longitude & Latitude -- zero values fix\n",
    "\n",
    "# Filling Missing/OUTLIAR Values\n",
    "_ = np.mean(RAW_X[u'latitude'][RAW_X.latitude < -1.0].values)\n",
    "\n",
    "if not RAW_X.loc[RAW_X.latitude >= -1.0, u'latitude'].empty:\n",
    "    RAW_X.loc[RAW_X.latitude >= -1.0, u'latitude'] = _\n",
    "    RAW_TEST_X.loc[RAW_TEST_X.latitude >= -1.0, u'latitude'] = _\n",
    "\n",
    "\n",
    "# Filling Missing/OUTLIAR Values\n",
    "_ = np.mean(RAW_X[u'longitude'][RAW_X[u'longitude'] > 1.0].values)\n",
    "\n",
    "if not RAW_X.loc[RAW_X[u'longitude'] <= 1.0, u'longitude'].empty:\n",
    "    RAW_X.loc[RAW_X[u'longitude'] <= 1.0, u'longitude'] = _\n",
    "    RAW_TEST_X.loc[RAW_TEST_X[u'longitude'] <= 1.0, u'longitude'] = _"
   ]
  },
  {
   "cell_type": "code",
   "execution_count": 13,
   "metadata": {
    "collapsed": false
   },
   "outputs": [
    {
     "name": "stdout",
     "output_type": "stream",
     "text": [
      "Dtype of public_meetings & permit: int64 int64\n",
      "\n",
      "All in Good Shape\n"
     ]
    }
   ],
   "source": [
    "def f(x):\n",
    "    if x is True:\n",
    "        return 1\n",
    "    elif x is False:\n",
    "        return 2\n",
    "    else:\n",
    "        return 3\n",
    "\n",
    "\n",
    "if (RAW_X.public_meeting.dtype != 'bool') and (RAW_X.permit.dtype != 'bool'):\n",
    "\n",
    "    # public_meeting\n",
    "    RAW_X.public_meeting = RAW_X.public_meeting.apply(f)\n",
    "    RAW_TEST_X.public_meeting = RAW_TEST_X.public_meeting.apply(f)\n",
    "\n",
    "    # permit\n",
    "    RAW_X.permit = RAW_X.permit.apply(f)\n",
    "    RAW_TEST_X.permit = RAW_TEST_X.permit.apply(f)\n",
    "\n",
    "print('Dtype of public_meetings & permit:',RAW_X.public_meeting.dtype, RAW_X.permit.dtype)\n",
    "print('')\n",
    "# checking\n",
    "if list(RAW_TEST_X.dtypes[RAW_TEST_X.dtypes != RAW_X.dtypes]):\n",
    "    raise Exception('RAW_X.dtypes and RAW_TEST_X.dtypes are not in Sync')\n",
    "else:\n",
    "    print('All in Good Shape')"
   ]
  },
  {
   "cell_type": "code",
   "execution_count": 14,
   "metadata": {
    "collapsed": false
   },
   "outputs": [
    {
     "data": {
      "text/plain": [
       "funder                   object\n",
       "installer                object\n",
       "wpt_name                 object\n",
       "basin                    object\n",
       "subvillage               object\n",
       "region                   object\n",
       "lga                      object\n",
       "ward                     object\n",
       "recorded_by              object\n",
       "scheme_management        object\n",
       "scheme_name              object\n",
       "extraction_type          object\n",
       "extraction_type_group    object\n",
       "extraction_type_class    object\n",
       "management               object\n",
       "management_group         object\n",
       "payment                  object\n",
       "payment_type             object\n",
       "water_quality            object\n",
       "quality_group            object\n",
       "quantity                 object\n",
       "quantity_group           object\n",
       "source                   object\n",
       "source_type              object\n",
       "source_class             object\n",
       "waterpoint_type          object\n",
       "waterpoint_type_group    object\n",
       "dtype: object"
      ]
     },
     "execution_count": 14,
     "metadata": {},
     "output_type": "execute_result"
    }
   ],
   "source": [
    "show_object_dtypes(RAW_X, True)"
   ]
  },
  {
   "cell_type": "code",
   "execution_count": 15,
   "metadata": {
    "collapsed": false
   },
   "outputs": [
    {
     "data": {
      "text/plain": [
       "amount_tsh               float64\n",
       "date_recorded              int64\n",
       "gps_height                 int64\n",
       "longitude                float64\n",
       "latitude                 float64\n",
       "num_private                int64\n",
       "region_code                int64\n",
       "district_code              int64\n",
       "population                 int64\n",
       "public_meeting             int64\n",
       "permit                     int64\n",
       "construction_year          int64\n",
       "date_recorded_weekday      int64\n",
       "date_recorded_date         int64\n",
       "date_recorded_month        int64\n",
       "date_recorded_year         int64\n",
       "dtype: object"
      ]
     },
     "execution_count": 15,
     "metadata": {},
     "output_type": "execute_result"
    }
   ],
   "source": [
    "show_object_dtypes(RAW_X, False)"
   ]
  },
  {
   "cell_type": "code",
   "execution_count": 16,
   "metadata": {
    "collapsed": true
   },
   "outputs": [],
   "source": [
    "# Reducing geo location precision to 11 meters\n",
    "LONG_LAT_PRECISION = 0.001\n",
    "\n",
    "# Reducing Precision of Lat.\n",
    "if RAW_X.longitude.mean() < 50:\n",
    "    RAW_X.longitude = RAW_X.longitude // LONG_LAT_PRECISION\n",
    "    RAW_X.latitude = RAW_X.latitude // LONG_LAT_PRECISION\n",
    "    RAW_TEST_X.longitude = RAW_TEST_X.longitude // LONG_LAT_PRECISION\n",
    "    RAW_TEST_X.latitude = RAW_TEST_X.latitude // LONG_LAT_PRECISION"
   ]
  },
  {
   "cell_type": "raw",
   "metadata": {
    "collapsed": false
   },
   "source": [
    "_ = sns.jointplot(x='longitude', y='latitude', data=RAW_X)"
   ]
  },
  {
   "cell_type": "markdown",
   "metadata": {},
   "source": [
    "### Text Data Tranformations\n",
    "\n",
    "For **cols_categorical_check**, we are going to basic clean action like, lower and upper case issue. Clearning of non ascii values."
   ]
  },
  {
   "cell_type": "code",
   "execution_count": 17,
   "metadata": {
    "collapsed": true
   },
   "outputs": [],
   "source": [
    "def text_transformation(name):\n",
    "    \"\"\"Cleanup basic text issue in name(input).\n",
    "    \n",
    "    Removes text capitalisation, case, space and other non text ascii charecters\n",
    "        except space.\n",
    "    \"\"\"\n",
    "    if name:\n",
    "        name = name.lower().strip()\n",
    "        name = ''.join([i if 96 < ord(i) < 128 else ' ' for i in name])\n",
    "        if 'and' in name:\n",
    "            name = name.replace('and', ' ')\n",
    "\n",
    "        # clear double space\n",
    "        while '  ' in name:\n",
    "            name = name.replace('  ', ' ')\n",
    "        return name.strip()\n",
    "    return ''"
   ]
  },
  {
   "cell_type": "raw",
   "metadata": {
    "collapsed": false,
    "scrolled": false
   },
   "source": [
    "%%asmarkdown\n",
    "\n",
    "print('''\n",
    "|Column|Prev.|Current|\n",
    "|------|-----|-------|''')\n",
    "for col in cols_categorical_check:\n",
    "    aa = len(RAW_X[col].unique())\n",
    "    RAW_X[col] = RAW_X[col].fillna('').apply(text_transformation)\n",
    "    RAW_TEST_X[col] = RAW_TEST_X[col].fillna('').apply(text_transformation)\n",
    "    bb = len(RAW_X[col].unique())\n",
    "    if aa != bb:\n",
    "        print('|%s|%i|%i|' % (col, aa, bb))"
   ]
  },
  {
   "cell_type": "code",
   "execution_count": 18,
   "metadata": {
    "collapsed": false,
    "scrolled": false
   },
   "outputs": [],
   "source": [
    "# saving transformed data\n",
    "pickle.dump(obj=RAW_X, file=open('tmp\\clean_X.pkl', 'wb'))\n",
    "pickle.dump(RAW_TEST_X, open('tmp\\clean_TEST_X.pkl', 'wb'))\n",
    "# pickle.dump(y, open('tmp\\y.pkl', 'wb'))\n",
    "\n",
    "TEST_X, X = RAW_TEST_X, RAW_X"
   ]
  },
  {
   "cell_type": "markdown",
   "metadata": {},
   "source": [
    "## Custom Labeler\n",
    "\n",
    "Loading Custom Labeler is for the the purpose of reducing categories varieties by ignoring groups with lower frequencies and covering 80%(default) of the original data."
   ]
  },
  {
   "cell_type": "code",
   "execution_count": 19,
   "metadata": {
    "collapsed": false
   },
   "outputs": [],
   "source": [
    "from collections import defaultdict\n",
    "from __future__ import print_function\n",
    "from ipywidgets import interact, interactive, fixed\n",
    "import ipywidgets as widgets\n",
    "\n",
    "from scripts import sam_custom_labeler\n",
    "\n",
    "CUST_CATEGORY_LABELER = sam_custom_labeler.CUST_CATEGORY_LABELER"
   ]
  },
  {
   "cell_type": "raw",
   "metadata": {
    "collapsed": false
   },
   "source": [
    "help(CUST_CATEGORY_LABELER)"
   ]
  },
  {
   "cell_type": "raw",
   "metadata": {
    "collapsed": false
   },
   "source": [
    "#\n",
    "# Run this to iteratively genertae following data\n",
    "# \n",
    "\n",
    "\n",
    "\n",
    "\n",
    "labler = CUST_CATEGORY_LABELER()\n",
    "\n",
    "def select_col(col):\n",
    "    global labler\n",
    "    labler = CUST_CATEGORY_LABELER()\n",
    "    labler.fit(RAW_TEST_X[col])\n",
    "    print('Selected', col)\n",
    "\n",
    "ii = interact(select_col, col=['funder', 'installer', 'wpt_name', 'subvillage', 'ward', 'scheme_name'])\n",
    "\n",
    "# To check data coverage\n",
    "def f1(data=80):\n",
    "    labler.check_data_coverage(data_coverage=data)\n",
    "\n",
    "ii1 = interact(f1, data=(70, 100, .5))\n",
    "\n",
    "# To check groups coverage\n",
    "def f2(groups=80):\n",
    "    labler.check_group_coverage(groups)\n",
    "    \n",
    "ii2 = interact(f2, groups=(50, 100., .5))\n",
    "\n",
    "_ = '''\n",
    "Please select one of these slider to chose among the\n",
    " data coverage or groups coverage\n",
    "'''"
   ]
  },
  {
   "cell_type": "markdown",
   "metadata": {},
   "source": [
    "* funder:\n",
    "    * 100.0 percentage of DATA coverage mean, 1881 (in number) groups\n",
    "    * 97.0 percentage of DATA coverage mean, 592 (in number) groups ##\n",
    "    * 90.5 percentage of DATA coverage mean, 237 (in number) groups\n",
    "* installer:\n",
    "    * 100.0 percentage of DATA coverage mean, 1867 (in number) groups\n",
    "    * 97.0 percentage of DATA coverage mean, 599 (in number) groups ##\n",
    "\n",
    "* wpt_name:\n",
    "    * 80.0 percentage of DATA coverage mean, 24838 (in number) groups ##\n",
    "\n",
    "* subvillage:\n",
    "    * 80.5 percentage of DATA coverage mean, 8715 (in number) groups ##\n",
    "    * 83.0 percentage of DATA coverage mean, 9458 (in number) groups\n",
    "* ward:\n",
    "    * 80.0 percentage of DATA coverage mean, 998 (in number) groups ##\n",
    "    * 91.5 percentage of DATA coverage mean, 1397 (in number) groups\n",
    "    * 100.0 percentage of DATA coverage mean, 2093 (in number) groups\n",
    "* scheme_name:\n",
    "    * 100.0 percentage of DATA coverage mean, 2486 (in number) groups\n",
    "    * 91.5 percentage of DATA coverage mean, 870 (in number) groups\n",
    "    * 80.5 percentage of DATA coverage mean, 363 (in number) groups\n",
    "    * 85.0 percentage of DATA coverage mean, 524 (in number) groups ##    \n",
    "** NOTE **:\n",
    "    Marked with double hashes are the selected values for coverage\n"
   ]
  },
  {
   "cell_type": "raw",
   "metadata": {
    "collapsed": false
   },
   "source": [
    "##################################\n",
    "######### TESTING ################\n",
    "#################################\n",
    "\n",
    "labler = CUST_CATEGORY_LABELER()\n",
    "labler.fit(X.installer)\n",
    "\n",
    "# default data coverage is 80\n",
    "tmp = labler.transform()\n",
    "\n",
    "print('data coveraged', labler.DATA_COVERAGE_LIMIT)\n",
    "print('grous coveraged', len(tmp.value_counts()))\n",
    "\n",
    "print('---------------------')\n",
    "labler.DATA_COVERAGE_LIMIT = 90\n",
    "tmp = labler.transform()\n",
    "\n",
    "print('data coveraged', labler.DATA_COVERAGE_LIMIT)\n",
    "print('grous coveraged', len(tmp.value_counts()))\n"
   ]
  },
  {
   "cell_type": "code",
   "execution_count": 20,
   "metadata": {
    "collapsed": false
   },
   "outputs": [
    {
     "name": "stdout",
     "output_type": "stream",
     "text": [
      "\n",
      "--------------- SUBVILLAGE\n",
      "80 percentage of DATA coverage mean, 8822 (in number) groups\n",
      "\n",
      "--------------- FUNDER\n",
      "97 percentage of DATA coverage mean, 1898 (in number) groups\n",
      "\n",
      "--------------- WPT_NAME\n",
      "80 percentage of DATA coverage mean, 25521 (in number) groups\n",
      "\n",
      "--------------- SCHEME_NAME\n",
      "85 percentage of DATA coverage mean, 2697 (in number) groups\n",
      "\n",
      "--------------- WARD\n",
      "80 percentage of DATA coverage mean, 998 (in number) groups\n",
      "\n",
      "--------------- INSTALLER\n",
      "97 percentage of DATA coverage mean, 2146 (in number) groups\n",
      "(59400, 43) (14850, 43) True\n"
     ]
    }
   ],
   "source": [
    "##################################\n",
    "######### IMPLEMENT ##############\n",
    "#################################\n",
    "\n",
    "if 'custom_labler' not in dir():\n",
    "    custom_labler = defaultdict(CUST_CATEGORY_LABELER)\n",
    "    tmp = { 'funder': 97,\n",
    "      'installer': 97,\n",
    "      'wpt_name': 80,\n",
    "      'subvillage': 80,\n",
    "      'ward': 80,\n",
    "      'scheme_name': 85\n",
    "      }\n",
    "\n",
    "    for col, limit  in tmp.items():\n",
    "        labler = custom_labler[col]\n",
    "        labler.DATA_COVERAGE_LIMIT = limit\n",
    "        labler.fit(X[col])\n",
    "        print('')\n",
    "        print('-' * 15, col.upper())\n",
    "\n",
    "    #     custom_labler[col].check_data_coverage(limit)\n",
    "        RAW_X[col] = labler.transform()\n",
    "else:\n",
    "    print('\"custom_labler\" seems is already defined, please check')\n",
    "    \n",
    "print(RAW_X.shape, RAW_TEST_X.shape, all(RAW_X.columns == RAW_TEST_X.columns))"
   ]
  },
  {
   "cell_type": "raw",
   "metadata": {
    "collapsed": false,
    "scrolled": false
   },
   "source": [
    "drop_cols = ['wpt_name',]\n",
    "\n",
    "RAW_X.drop(drop_cols, axis=1, inplace=True)\n",
    "RAW_TEST_X.drop(drop_cols, axis=1, inplace=True)\n",
    "print('Removed Cols:', drop_cols)"
   ]
  },
  {
   "cell_type": "markdown",
   "metadata": {},
   "source": [
    "## Label Encoder\n",
    "\n",
    "Label Encoder with DefaultDict for quick data transformation\n",
    "http://stackoverflow.com/questions/24458645/label-encoding-across-multiple-columns-in-scikit-learn"
   ]
  },
  {
   "cell_type": "code",
   "execution_count": 21,
   "metadata": {
    "collapsed": true
   },
   "outputs": [],
   "source": [
    "from collections import defaultdict\n",
    "from sklearn import preprocessing"
   ]
  },
  {
   "cell_type": "code",
   "execution_count": 22,
   "metadata": {
    "collapsed": false,
    "scrolled": true
   },
   "outputs": [
    {
     "name": "stdout",
     "output_type": "stream",
     "text": [
      "(59400, 43) (14850, 43)\n"
     ]
    }
   ],
   "source": [
    "print(RAW_X.shape, RAW_TEST_X.shape)"
   ]
  },
  {
   "cell_type": "code",
   "execution_count": 27,
   "metadata": {
    "collapsed": false
   },
   "outputs": [
    {
     "data": {
      "text/plain": [
       "['funder',\n",
       " 'installer',\n",
       " 'wpt_name',\n",
       " 'basin',\n",
       " 'subvillage',\n",
       " 'region',\n",
       " 'lga',\n",
       " 'ward',\n",
       " 'recorded_by',\n",
       " 'scheme_management',\n",
       " 'scheme_name',\n",
       " 'extraction_type',\n",
       " 'extraction_type_group',\n",
       " 'extraction_type_class',\n",
       " 'management',\n",
       " 'management_group',\n",
       " 'payment',\n",
       " 'payment_type',\n",
       " 'water_quality',\n",
       " 'quality_group',\n",
       " 'quantity',\n",
       " 'quantity_group',\n",
       " 'source',\n",
       " 'source_type',\n",
       " 'source_class',\n",
       " 'waterpoint_type',\n",
       " 'waterpoint_type_group']"
      ]
     },
     "execution_count": 27,
     "metadata": {},
     "output_type": "execute_result"
    }
   ],
   "source": [
    "RAW_X.dtypes[RAW_X.dtypes == 'O'].index.tolist()"
   ]
  },
  {
   "cell_type": "code",
   "execution_count": 28,
   "metadata": {
    "collapsed": true
   },
   "outputs": [],
   "source": [
    "RAW_X.fillna()"
   ]
  },
  {
   "cell_type": "code",
   "execution_count": 31,
   "metadata": {
    "collapsed": false,
    "scrolled": false
   },
   "outputs": [],
   "source": [
    "d = defaultdict(preprocessing.LabelEncoder)\n",
    "\n",
    "tmp = RAW_X.dtypes[RAW_X.dtypes == 'O'].index.tolist()\n",
    "\n",
    "RAW_X[tmp] = RAW_X[tmp].fillna('Other')\n",
    "RAW_TEST_X[tmp] = RAW_TEST_X[tmp].fillna('Other')\n",
    "\n",
    "# Labels Fit\n",
    "sam = pd.concat([RAW_X, RAW_TEST_X]).apply(lambda x: d[x.name].fit(x))\n",
    "\n",
    "# Labels Transform - Training Data\n",
    "X = RAW_X.apply(lambda x: d[x.name].transform(x))\n",
    "TEST_X = RAW_TEST_X.apply(lambda x: d[x.name].transform(x))\n",
    "\n",
    "le = preprocessing.LabelEncoder().fit(RAW_y[u'status_group'])\n",
    "y = le.transform(RAW_y[u'status_group'])"
   ]
  },
  {
   "cell_type": "code",
   "execution_count": 32,
   "metadata": {
    "collapsed": false
   },
   "outputs": [
    {
     "data": {
      "text/plain": [
       "funder                   object\n",
       "installer                object\n",
       "wpt_name                 object\n",
       "basin                    object\n",
       "subvillage               object\n",
       "region                   object\n",
       "lga                      object\n",
       "ward                     object\n",
       "recorded_by              object\n",
       "scheme_management        object\n",
       "scheme_name              object\n",
       "extraction_type          object\n",
       "extraction_type_group    object\n",
       "extraction_type_class    object\n",
       "management               object\n",
       "management_group         object\n",
       "payment                  object\n",
       "payment_type             object\n",
       "water_quality            object\n",
       "quality_group            object\n",
       "quantity                 object\n",
       "quantity_group           object\n",
       "source                   object\n",
       "source_type              object\n",
       "source_class             object\n",
       "waterpoint_type          object\n",
       "waterpoint_type_group    object\n",
       "dtype: object"
      ]
     },
     "execution_count": 32,
     "metadata": {},
     "output_type": "execute_result"
    }
   ],
   "source": [
    "show_object_dtypes(RAW_X, True)"
   ]
  },
  {
   "cell_type": "code",
   "execution_count": 33,
   "metadata": {
    "collapsed": false
   },
   "outputs": [
    {
     "data": {
      "text/plain": [
       "Series([], dtype: object)"
      ]
     },
     "execution_count": 33,
     "metadata": {},
     "output_type": "execute_result"
    }
   ],
   "source": [
    "show_object_dtypes(X, True)"
   ]
  },
  {
   "cell_type": "raw",
   "metadata": {
    "collapsed": false
   },
   "source": [
    "sam_dataframe_cols_value_count_analysis(X)"
   ]
  },
  {
   "cell_type": "markdown",
   "metadata": {},
   "source": [
    "## Pickle\n",
    "\n",
    "** Pickle Save **"
   ]
  },
  {
   "cell_type": "code",
   "execution_count": 34,
   "metadata": {
    "collapsed": false,
    "scrolled": true
   },
   "outputs": [],
   "source": [
    "# saving transformed data\n",
    "pickle.dump(X, open('tmp\\processed_X.pkl', 'wb'))\n",
    "pickle.dump(TEST_X, open('tmp\\processed_TEST_X.pkl', 'wb'))\n",
    "pickle.dump(y, open('tmp\\processed_y.pkl', 'wb'))\n",
    "\n",
    "# saving label transformers\n",
    "pickle.dump(d, open('tmp\\d.pkl', 'wb'))\n",
    "pickle.dump(le, open('tmp\\le.pkl', 'wb'))"
   ]
  },
  {
   "cell_type": "markdown",
   "metadata": {},
   "source": [
    "# Feature Selection\n"
   ]
  },
  {
   "cell_type": "code",
   "execution_count": 35,
   "metadata": {
    "collapsed": false
   },
   "outputs": [
    {
     "name": "stdout",
     "output_type": "stream",
     "text": [
      "(59400, 43) (59400,) [0 0 0 2 0]\n"
     ]
    }
   ],
   "source": [
    "X = pickle.load(open('tmp\\processed_X.pkl', 'rb'))\n",
    "TEST_X = pickle.load(open('tmp\\processed_TEST_X.pkl', 'rb'))\n",
    "y = pickle.load(open('tmp\\processed_y.pkl', 'rb'))\n",
    "\n",
    "# # Load this when you are about to do text transformation and submission\n",
    "# d = pickle.load(open('tmp\\d.pkl'))\n",
    "# le = pickle.load(open('tmp\\le.pkl'))\n",
    "\n",
    "print(X.shape, y.shape, y[:5])"
   ]
  },
  {
   "cell_type": "raw",
   "metadata": {},
   "source": [
    "### Correlation Threshold\n",
    "\n",
    "To remove all feature with correlaiton more than 80%"
   ]
  },
  {
   "cell_type": "raw",
   "metadata": {
    "collapsed": false
   },
   "source": [
    "if list(X.dtypes[X.dtypes == 'O']):\n",
    "    print('Please check there are still some OBJECT COLUMNS PRESENT')\n",
    "else:\n",
    "    ss = X.corr().fillna(0)\n",
    "\n",
    "    # postive or negitive - both good\n",
    "    ss = ss.applymap(lambda x: x if x and x > 0 else -1 * x)\n",
    "    \n",
    "    # wish to know only strong corr\n",
    "    plt.figure(figsize=(15, 15))\n",
    "    sns.heatmap(ss)"
   ]
  },
  {
   "cell_type": "raw",
   "metadata": {
    "collapsed": false
   },
   "source": [
    "# wish to know only strong corr\n",
    "plt.figure(figsize=(18, 18))\n",
    "sns.heatmap(ss.applymap(lambda x: x if x > 0.90 else 0))\n",
    "\n",
    "len(X[_col_].value_counts()), len(X[_row_].value_counts())"
   ]
  },
  {
   "cell_type": "raw",
   "metadata": {
    "collapsed": false,
    "scrolled": true
   },
   "source": [
    "np.set_printoptions(precision=2)\n",
    "\n",
    "bag = []\n",
    "\n",
    "for _col_ in ss.index:\n",
    "    for _row_ in ss.columns:\n",
    "        if _col_ not in bag:\n",
    "            if (ss[_col_][_row_] > 0.8 and (ss[_col_][_row_] < 1.0)):\n",
    "                try:\n",
    "                    print((_col_, len(X[_col_].value_counts()),\n",
    "                           _row_, len(X[_row_].value_counts()),\n",
    "                           ss[_col_][_row_]))\n",
    "                except KeyError:\n",
    "                    # few extra cols are added\n",
    "                    pass\n",
    "#         bag.append(_row_)\n",
    "#         bag.append(_col_)\n",
    "\n",
    "del _col_, _row_, bag"
   ]
  },
  {
   "cell_type": "raw",
   "metadata": {
    "collapsed": false,
    "scrolled": false
   },
   "source": [
    "%%asmarkdown\n",
    "\n",
    "print ('''\n",
    "|Column Name|VCount|Column Name|VCount|Corr|\n",
    "|-----------|------|-----------|------|----|''')\n",
    "\n",
    "tmp = '''\n",
    "('date_recorded', 356, 'date_recorded_year', 5, 0.95920911743658788)\n",
    "('extraction_type', 18, 'extraction_type_group', 13, 0.94952351098756882)\n",
    "('extraction_type_group', 13, 'extraction_type', 18, 0.94952351098756882)\n",
    "('source', 10, 'source_type', 7, 0.94381787586073784)\n",
    "('source_type', 7, 'source', 10, 0.94381787586073784)\n",
    "('waterpoint_type', 7, 'waterpoint_type_group', 6, 0.98215380609123037)\n",
    "('waterpoint_type_group', 6, 'waterpoint_type', 7, 0.98215380609123037)\n",
    "('date_recorded_year', 5, 'date_recorded', 356, 0.95920911743658788)\n",
    "'''\n",
    "\n",
    "while ' ' in tmp:\n",
    "    tmp = tmp.replace(' ', '')\n",
    "\n",
    "tmp = tmp.strip().replace('\\'', '')\n",
    "print(tmp.replace(\",\", '|').replace('(', '|').replace(')', '|'))\n",
    "\n",
    "del tmp"
   ]
  },
  {
   "cell_type": "markdown",
   "metadata": {},
   "source": [
    "### Variance Threshold\n",
    "\n",
    "To remove all features that are either one or zero (on or off) in more than 80% of the samples.\n",
    "\n",
    "http://scikit-learn.org/stable/modules/feature_selection.html#removing-features-with-low-variance\n",
    "\n",
    "http://stackoverflow.com/questions/29298973/removing-features-with-low-variance-scikit-learn/34850639#34850639"
   ]
  },
  {
   "cell_type": "code",
   "execution_count": 41,
   "metadata": {
    "collapsed": false,
    "scrolled": false
   },
   "outputs": [
    {
     "data": {
      "text/plain": [
       "Series([], dtype: object)"
      ]
     },
     "execution_count": 41,
     "metadata": {},
     "output_type": "execute_result"
    }
   ],
   "source": [
    "X.dtypes[X.dtypes != np.int64]"
   ]
  },
  {
   "cell_type": "code",
   "execution_count": 42,
   "metadata": {
    "collapsed": false
   },
   "outputs": [],
   "source": [
    "from scripts.sam_variance_check import get_low_variance_columns"
   ]
  },
  {
   "cell_type": "code",
   "execution_count": 43,
   "metadata": {
    "collapsed": false,
    "scrolled": true
   },
   "outputs": [
    {
     "name": "stdout",
     "output_type": "stream",
     "text": [
      "Finding low-variance features.\n",
      "Found 1 low-variance columns.\n",
      "                \n",
      "Removing low-variance features.\n",
      "Reassembling the dataframe (with low-variance features removed).\n",
      "Succesfully removed low-variance columns.\n",
      "\n",
      "Low Variance Columns ['recorded_by']\n",
      "cleanup completed!\n"
     ]
    }
   ],
   "source": [
    "X, removed_features, ranking_variance_thresholds = get_low_variance_columns(dframe=X,\n",
    "                                                                            threshold=(0.85 * (1 - 0.85)),\n",
    "                                                                            autoremove=True)\n",
    "\n",
    "print('\\nLow Variance Columns', removed_features)\n",
    "\n",
    "if removed_features:\n",
    "    TEST_X.drop(removed_features, axis=1, inplace=True)\n",
    "    print('cleanup completed!')"
   ]
  },
  {
   "cell_type": "code",
   "execution_count": 45,
   "metadata": {
    "collapsed": false,
    "scrolled": true
   },
   "outputs": [
    {
     "name": "stdout",
     "output_type": "stream",
     "text": [
      "Shape of X is (59400, 42)\n",
      "Shape of TEST_X is (14850, 42)\n"
     ]
    }
   ],
   "source": [
    "print('Shape of X is', X.shape)\n",
    "print('Shape of TEST_X is', TEST_X.shape)"
   ]
  },
  {
   "cell_type": "markdown",
   "metadata": {},
   "source": [
    "### Select K Best\n",
    "\n",
    "* For regression: f_regression, mutual_info_regression\n",
    "* For classification: chi2, f_classif, mutual_info_classif\n",
    "\n",
    "\n",
    "Random Forest Classifier score: RandomForestClassifier(n_estimators=150, criterion='entropy', class_weight=\"balanced_subsample\", n_jobs=-1)\n",
    "* chi2 0.81225589225589223\n",
    "*  f_classic 0.81138047138047142\n",
    "* mutual_info_classif 0.81037037037037041"
   ]
  },
  {
   "cell_type": "code",
   "execution_count": 46,
   "metadata": {
    "collapsed": false
   },
   "outputs": [],
   "source": [
    "from sklearn.feature_selection import SelectKBest\n",
    "from sklearn.feature_selection import chi2, f_classif, mutual_info_classif"
   ]
  },
  {
   "cell_type": "code",
   "execution_count": 47,
   "metadata": {
    "collapsed": true
   },
   "outputs": [],
   "source": [
    "X.copy?"
   ]
  },
  {
   "cell_type": "code",
   "execution_count": 58,
   "metadata": {
    "collapsed": false
   },
   "outputs": [],
   "source": [
    "from sklearn.ensemble import RandomForestClassifier, GradientBoostingClassifier\n",
    "from sklearn.model_selection import train_test_split\n",
    "\n",
    "def game(X, y, model='rf'):\n",
    "#     print(X.shape, y.shape[0])\n",
    "    X_train, X_test, y_train, y_test = train_test_split(X.copy(), y.copy(), test_size=0.25, random_state=42, stratify=y)\n",
    "    \n",
    "    if model == 'rf':\n",
    "        clf = RandomForestClassifier(n_jobs=-1, random_state=192)\n",
    "    if model == 'gbt':\n",
    "        clf = GradientBoostingClassifier(random_state=192)\n",
    "    clf = clf.fit(X_train, y_train)\n",
    "    \n",
    "    train_score = clf.score(X_train, y_train)\n",
    "    test_score = clf.score(X_test, y_test)\n",
    "#     print('Train Score', train_score)\n",
    "#     print('Test  Score', test_score)\n",
    "    return train_score, test_score"
   ]
  },
  {
   "cell_type": "raw",
   "metadata": {},
   "source": [
    "ranking_selectkbest = dict(zip(cols_names, fit.scores_))\n",
    "kbest_selected_cols =  [_ for _ in cols_names[:kbest_cols]]\n",
    "% pprint\n",
    "ranking_selectkbest\n",
    "print('Removed Columns:\\n\\t', ','.join([ _ for _ in X.columns if _ not in kbest_selected_cols ]))\n",
    "print('\\nSelected Columns:\\n\\t', ','.join(kbest_selected_cols))"
   ]
  },
  {
   "cell_type": "code",
   "execution_count": 64,
   "metadata": {
    "collapsed": false
   },
   "outputs": [
    {
     "data": {
      "text/plain": [
       "(42, 'mutual_info_classif')"
      ]
     },
     "execution_count": 64,
     "metadata": {},
     "output_type": "execute_result"
    }
   ],
   "source": [
    "len(X.columns) , str(fns.__name__)"
   ]
  },
  {
   "cell_type": "code",
   "execution_count": 66,
   "metadata": {
    "collapsed": false
   },
   "outputs": [
    {
     "name": "stdout",
     "output_type": "stream",
     "text": [
      "('Shape of X:', (59400, 42))\n",
      "('chi2', (0.98478114478114476, 0.79548821548821547))\n",
      "('f_classif', (0.98381593714927051, 0.79569023569023567))\n",
      "('mutual_info_classif', (0.98505050505050507, 0.79919191919191923))\n",
      "('chi2', (0.75800224466891131, 0.75535353535353533))\n",
      "('f_classif', (0.75755331088664424, 0.75575757575757574))\n",
      "('mutual_info_classif', (0.75795735129068464, 0.75515151515151513))\n"
     ]
    }
   ],
   "source": [
    "kbest_cols = len(X.columns) -5\n",
    "\n",
    "print(('Shape of X:', X.shape))\n",
    "for fns in [chi2, f_classif, mutual_info_classif]:\n",
    "    print((str(fns.__name__),game(SelectKBest(score_func=fns, k=kbest_cols).fit(X, y).transform(X), y, model='rf')))\n",
    "\n",
    "for fns in [chi2, f_classif, mutual_info_classif]:\n",
    "    print((str(fns.__name__),game(SelectKBest(score_func=fns, k=kbest_cols).fit(X, y).transform(X), y, model='gbt')))"
   ]
  },
  {
   "cell_type": "code",
   "execution_count": 67,
   "metadata": {
    "collapsed": false
   },
   "outputs": [
    {
     "name": "stdout",
     "output_type": "stream",
     "text": [
      "\n",
      "|chi2|0.98404040404040405|0.79643097643097638|\n",
      "|f_classif|0.98404040404040405|0.79643097643097638|\n",
      "|mutual_info_classif|0.98404040404040405|0.79643097643097638|\n",
      "\n",
      "\n",
      "|chi2|0.75914702581369253|0.75914702581369253|\n",
      "|f_classif,0.75914702581369253|0.75589225589225584|\n",
      "|mutual_info_classif|75914702581369253|0.75589225589225584|\n",
      "\n",
      "\n",
      "|'Shape of X:'|59400|42|\n",
      "|'chi2'|0.98478114478114476|0.79548821548821547|\n",
      "|'f_classif'|0.98381593714927051|0.79569023569023567|\n",
      "|'mutual_info_classif'|0.98505050505050507|0.79919191919191923|\n",
      "|'chi2'|0.75800224466891131|0.75535353535353533|\n",
      "|'f_classif'|0.75755331088664424|0.75575757575757574|\n",
      "|'mutual_info_classif'|0.75795735129068464|0.75515151515151513|\n",
      "\n"
     ]
    }
   ],
   "source": [
    "print('''\n",
    "('Shape of X:', (59400, 42))\n",
    "\n",
    "('chi2', (0.98478114478114476, 0.79548821548821547))\n",
    "('f_classif', (0.98381593714927051, 0.79569023569023567))\n",
    "('mutual_info_classif', (0.98505050505050507, 0.79919191919191923))\n",
    "\n",
    "('chi2', (0.75800224466891131, 0.75535353535353533))\n",
    "('f_classif', (0.75755331088664424, 0.75575757575757574))\n",
    "('mutual_info_classif', (0.75795735129068464, 0.75515151515151513))\n",
    "'''.replace(', (', ', ').replace('))', ')').replace('(', '|').replace(')', '|').replace(', ', '|'))"
   ]
  },
  {
   "cell_type": "code",
   "execution_count": 103,
   "metadata": {
    "collapsed": true
   },
   "outputs": [],
   "source": [
    "bag  = [\n",
    "# {'cols': 1, 'test': 0.5511111111111111, 'train': 0.5545679012345679},\n",
    "#  {'cols': 9, 'test': 0.650976430976431, 'train': 0.658294051627385},\n",
    " {'cols': 17, 'test': 0.7022895622895623, 'train': 0.7092480359147025},\n",
    " {'cols': 25, 'test': 0.7517171717171717, 'train': 0.7534455667789001},\n",
    " {'cols': 25, 'test': 0.75171717171717167, 'train': 0.75344556677890007},\n",
    " {'cols': 28, 'test': 0.7531986531986532, 'train': 0.75537598204264866},\n",
    " {'cols': 31, 'test': 0.75346801346801351, 'train': 0.7551290684624018},\n",
    " {'cols': 33, 'test': 0.7545454545454545, 'train': 0.7562738496071829},\n",
    " {'cols': 34, 'test': 0.75535353535353533, 'train': 0.75658810325476988},\n",
    " {'cols': 35, 'test': 0.75542087542087544, 'train': 0.75665544332210999},\n",
    " {'cols': 36, 'test': 0.75427609427609432, 'train': 0.75586980920314251},\n",
    " {'cols': 37, 'test': 0.75535353535353533, 'train': 0.75800224466891131},\n",
    " {'cols': 38, 'test': 0.75582491582491584, 'train': 0.75797979797979798},\n",
    " {'cols': 39, 'test': 0.75589225589225584, 'train': 0.75797979797979798}]"
   ]
  },
  {
   "cell_type": "code",
   "execution_count": 104,
   "metadata": {
    "collapsed": false,
    "scrolled": true
   },
   "outputs": [
    {
     "data": {
      "text/plain": [
       "[{'cols': 17, 'test': 0.7022895622895623, 'train': 0.7092480359147025},\n",
       " {'cols': 25, 'test': 0.7517171717171717, 'train': 0.7534455667789001},\n",
       " {'cols': 25, 'test': 0.7517171717171717, 'train': 0.7534455667789001},\n",
       " {'cols': 28, 'test': 0.7531986531986532, 'train': 0.7553759820426487},\n",
       " {'cols': 31, 'test': 0.7534680134680135, 'train': 0.7551290684624018},\n",
       " {'cols': 33, 'test': 0.7545454545454545, 'train': 0.7562738496071829},\n",
       " {'cols': 34, 'test': 0.7553535353535353, 'train': 0.7565881032547699},\n",
       " {'cols': 35, 'test': 0.7554208754208754, 'train': 0.75665544332211},\n",
       " {'cols': 36, 'test': 0.7542760942760943, 'train': 0.7558698092031425},\n",
       " {'cols': 37, 'test': 0.7553535353535353, 'train': 0.7580022446689113},\n",
       " {'cols': 38, 'test': 0.7558249158249158, 'train': 0.757979797979798},\n",
       " {'cols': 39, 'test': 0.7558922558922558, 'train': 0.757979797979798},\n",
       " {'cols': 18, 'test': 0.70430976430976433, 'train': 0.70985409652076314},\n",
       " {'cols': 19, 'test': 0.70430976430976433, 'train': 0.70985409652076314},\n",
       " {'cols': 20, 'test': 0.70484848484848484, 'train': 0.70904601571268233},\n",
       " {'cols': 21, 'test': 0.70397306397306403, 'train': 0.71160493827160498},\n",
       " {'cols': 22, 'test': 0.70801346801346798, 'train': 0.71331088664421993},\n",
       " {'cols': 23, 'test': 0.75077441077441076, 'train': 0.75173961840628511},\n",
       " {'cols': 24, 'test': 0.75077441077441076, 'train': 0.75173961840628511}]"
      ]
     },
     "execution_count": 104,
     "metadata": {},
     "output_type": "execute_result"
    }
   ],
   "source": [
    "\n",
    "for kbest_cols in range(18, 25):\n",
    "# for kbest_cols in range(23, 33, 2):\n",
    "# for kbest_cols in range(26, 29):\n",
    "    fit = SelectKBest(score_func=chi2, k=kbest_cols).fit(X, y)\n",
    "    cols_names = X.columns\n",
    "    kbest_selected_cols =  [_ for _ in cols_names[:kbest_cols]]\n",
    "\n",
    "    kbest_X = pd.DataFrame(fit.transform(X.copy()))\n",
    "    kbest_TEST_X = pd.DataFrame(fit.transform(TEST_X.copy()))\n",
    "#     kbest_X.columns = kbest_selected_cols\n",
    "#     kbest_TEST_X.columns = kbest_selected_cols\n",
    "\n",
    "    # print('Before KBest', X.shape, TEST_X.shape, len(y))\n",
    "    # print('After KBest', kbest_X.shape, kbest_TEST_X.shape, len(y))\n",
    "\n",
    "    train_score, test_score = game(kbest_X, y, model='gbt')\n",
    "    bag.append({'cols': kbest_cols, 'train': train_score, 'test': test_score})\n",
    "\n",
    "# print(', '.join(kbest_selected_cols).upper())\n",
    "\n",
    "bag"
   ]
  },
  {
   "cell_type": "code",
   "execution_count": 106,
   "metadata": {
    "collapsed": false
   },
   "outputs": [],
   "source": [
    "# sorted(bag, key=lambda x : x['cols'])\n",
    "bag  = [\n",
    "# {'cols': 1, 'test': 0.5511111111111111, 'train': 0.5545679012345679},\n",
    "#  {'cols': 9, 'test': 0.650976430976431, 'train': 0.658294051627385},\n",
    " {'cols': 17, 'test': 0.7022895622895623, 'train': 0.7092480359147025},\n",
    " {'cols': 25, 'test': 0.7517171717171717, 'train': 0.7534455667789001},\n",
    " {'cols': 28, 'test': 0.7531986531986532, 'train': 0.75537598204264866},\n",
    " {'cols': 31, 'test': 0.75346801346801351, 'train': 0.7551290684624018},\n",
    " {'cols': 33, 'test': 0.7545454545454545, 'train': 0.7562738496071829},\n",
    " {'cols': 34, 'test': 0.75535353535353533, 'train': 0.75658810325476988},\n",
    " {'cols': 35, 'test': 0.75542087542087544, 'train': 0.75665544332210999},\n",
    " {'cols': 36, 'test': 0.75427609427609432, 'train': 0.75586980920314251},\n",
    " {'cols': 37, 'test': 0.75535353535353533, 'train': 0.75800224466891131},\n",
    " {'cols': 38, 'test': 0.75582491582491584, 'train': 0.75797979797979798},\n",
    " {'cols': 39, 'test': 0.75589225589225584, 'train': 0.75797979797979798},\n",
    " {'cols': 18, 'test': 0.70430976430976433, 'train': 0.70985409652076314},\n",
    " {'cols': 19, 'test': 0.70430976430976433, 'train': 0.70985409652076314},\n",
    " {'cols': 20, 'test': 0.70484848484848484, 'train': 0.70904601571268233},\n",
    " {'cols': 21, 'test': 0.70397306397306403, 'train': 0.71160493827160498},\n",
    " {'cols': 22, 'test': 0.70801346801346798, 'train': 0.71331088664421993},\n",
    " {'cols': 23, 'test': 0.75077441077441076, 'train': 0.75173961840628511},\n",
    " {'cols': 24, 'test': 0.75077441077441076, 'train': 0.75173961840628511}]\n",
    "\n",
    "bag = pd.DataFrame(bag)"
   ]
  },
  {
   "cell_type": "code",
   "execution_count": 108,
   "metadata": {
    "collapsed": true
   },
   "outputs": [],
   "source": [
    "plt.legend?"
   ]
  },
  {
   "cell_type": "code",
   "execution_count": 113,
   "metadata": {
    "collapsed": false
   },
   "outputs": [
    {
     "data": {
      "text/plain": [
       "<matplotlib.text.Text at 0x110183e80>"
      ]
     },
     "execution_count": 113,
     "metadata": {},
     "output_type": "execute_result"
    },
    {
     "data": {
      "image/png": "[encoded data removed]",
      "text/plain": [
       "<matplotlib.figure.Figure at 0x110152240>"
      ]
     },
     "metadata": {},
     "output_type": "display_data"
    }
   ],
   "source": [
    "sns.pointplot(x='cols', y='test', data=bag, color='green')\n",
    "sns.pointplot(x='cols', y='train', data=bag, color='red', markers=\"x\", linestyles='--')\n",
    "plt.title('GBT KBest Columns Selection')\n",
    "plt.legend(['test(green)',' train(red)'], )\n",
    "plt.ylabel('GBT Score')"
   ]
  },
  {
   "cell_type": "markdown",
   "metadata": {},
   "source": [
    "** kbest conclusion **:\n",
    "\n",
    "Best selected columns\n",
    "```\n",
    "AMOUNT_TSH, DATE_RECORDED, FUNDER, GPS_HEIGHT, INSTALLER, LONGITUDE, LATITUDE, NUM_PRIVATE, BASIN, SUBVILLAGE, REGION, REGION_CODE, DISTRICT_CODE, LGA, WARD, POPULATION, PUBLIC_MEETING, SCHEME_MANAGEMENT, SCHEME_NAME, PERMIT, CONSTRUCTION_YEAR, EXTRACTION_TYPE, EXTRACTION_TYPE_GROUP, EXTRACTION_TYPE_CLASS, MANAGEMENT, MANAGEMENT_GROUP, PAYMENT, PAYMENT_TYPE\n",
    "```\n",
    "\n",
    "``` Python\n",
    "# results of previous runs\n",
    "[{'cols': 1, 'test': 0.52659932659932662, 'train': 0.57483726150392822},\n",
    " {'cols': 5, 'test': 0.68962962962962959, 'train': 0.94240179573512906},\n",
    " {'cols': 9, 'test': 0.7211447811447812, 'train': 0.97638608305274976},\n",
    " {'cols': 13, 'test': 0.75380471380471381, 'train': 0.97955106621773291},\n",
    " {'cols': 17, 'test': 0.76134680134680133, 'train': 0.98071829405162736},\n",
    " {'cols': 21, 'test': 0.76511784511784509, 'train': 0.98076318742985413},\n",
    " {'cols': 25, 'test': 0.80033670033670035, 'train': 0.98316498316498313},\n",
    " {'cols': 29, 'test': 0.80053872053872055, 'train': 0.98379349046015707},\n",
    " {'cols': 33, 'test': 0.80040404040404045, 'train': 0.98390572390572395},\n",
    " {'cols': 37, 'test': 0.79993265993265994, 'train': 0.98341189674523011}]\n",
    "\n",
    "[{'cols': 23, 'test': 0.7976430976430976, 'train': 0.9836812570145903},\n",
    " {'cols': 25, 'test': 0.80033670033670035, 'train': 0.98316498316498313},\n",
    " {'cols': 27, 'test': 0.80101010101010106, 'train': 0.9829405162738496},\n",
    " {'cols': 29, 'test': 0.80053872053872055, 'train': 0.98379349046015707},\n",
    " {'cols': 31, 'test': 0.80000000000000004, 'train': 0.98381593714927051}]\n",
    "\n",
    "[{'cols': 26, 'test': 0.80309764309764309, 'train': 0.98359147025813698},\n",
    " {'cols': 27, 'test': 0.80101010101010106, 'train': 0.9829405162738496},\n",
    " {'cols': 28, 'test': 0.80222222222222217, 'train': 0.98334455667789}]\n",
    "```\n",
    "\n",
    "\n",
    "As per Okham Razor's rules, we are going to select the simplest and well performing. Luckily, we have got kbest_selected_cols at **26** which is comparitively top performer among other K-selections and also lower than actualy number of columns\n"
   ]
  },
  {
   "cell_type": "code",
   "execution_count": 114,
   "metadata": {
    "collapsed": false
   },
   "outputs": [],
   "source": [
    "kbest_cols = 26\n",
    "kbest_cols = 23\n",
    "\n",
    "fit = SelectKBest(score_func=chi2, k=kbest_cols).fit(X, y)\n",
    "cols_names = X.columns\n",
    "kbest_selected_cols =  [_ for _ in cols_names[:kbest_cols]]\n",
    "\n",
    "kbest_X = pd.DataFrame(fit.transform(X))\n",
    "kbest_TEST_X = pd.DataFrame(fit.transform(TEST_X))"
   ]
  },
  {
   "cell_type": "code",
   "execution_count": 115,
   "metadata": {
    "collapsed": false
   },
   "outputs": [
    {
     "data": {
      "text/plain": [
       "((59400, 23), (14850, 23), (59400,))"
      ]
     },
     "execution_count": 115,
     "metadata": {},
     "output_type": "execute_result"
    }
   ],
   "source": [
    "kbest_X.shape, kbest_TEST_X.shape, y.shape"
   ]
  },
  {
   "cell_type": "code",
   "execution_count": 116,
   "metadata": {
    "collapsed": true
   },
   "outputs": [],
   "source": [
    "pickle.dump(kbest_X, open('tmp\\kbest_X.pkl', 'wb'))\n",
    "pickle.dump(kbest_TEST_X, open('tmp\\kbest_TEST_X.pkl', 'wb'))\n",
    "pickle.dump(y, open('tmp\\kbest_y.pkl', 'wb'))"
   ]
  },
  {
   "cell_type": "markdown",
   "metadata": {},
   "source": [
    "### PCA"
   ]
  },
  {
   "cell_type": "code",
   "execution_count": 118,
   "metadata": {
    "collapsed": false
   },
   "outputs": [
    {
     "name": "stdout",
     "output_type": "stream",
     "text": [
      "Loading KBest Processed Data\n"
     ]
    }
   ],
   "source": [
    "load = 2\n",
    "\n",
    "if load == 2:\n",
    "    # this will load kbest\n",
    "    print('Loading KBest Processed Data')\n",
    "    X = pickle.load(open('tmp\\kbest_X.pkl', 'rb'))\n",
    "    TEST_X = pickle.load(open('tmp\\kbest_TEST_X.pkl', 'rb'))\n",
    "    y = pickle.load(open('tmp\\kbest_y.pkl', 'rb'))\n",
    "elif load == 1:\n",
    "    # this will load processed data\n",
    "    print('Loading Normal Processed Data')\n",
    "    X = pickle.load(open('tmp\\processed_X.pkl', 'rb'))\n",
    "    TEST_X = pickle.load(open('tmp\\processed_TEST_X.pkl', 'rb'))\n",
    "\n",
    "# # y = pickle.load(open('tmp\\processed_y.pkl'))"
   ]
  },
  {
   "cell_type": "markdown",
   "metadata": {},
   "source": [
    "** PCA **"
   ]
  },
  {
   "cell_type": "code",
   "execution_count": 119,
   "metadata": {
    "collapsed": false
   },
   "outputs": [],
   "source": [
    "from sklearn.decomposition import PCA\n",
    "from sklearn.discriminant_analysis import LinearDiscriminantAnalysis"
   ]
  },
  {
   "cell_type": "code",
   "execution_count": 122,
   "metadata": {
    "collapsed": false
   },
   "outputs": [
    {
     "name": "stdout",
     "output_type": "stream",
     "text": [
      "[ 0.8   0.9   0.96  0.98  0.99  0.99  1.    1.    1.    1.    1.    1.    1.\n",
      "  1.    1.  ]\n",
      "\n",
      "('Score', (0.66249158249158246, 0.64868686868686865))\n"
     ]
    },
    {
     "data": {
      "image/png": "[encoded data removed]",
      "text/plain": [
       "<matplotlib.figure.Figure at 0x111449c50>"
      ]
     },
     "metadata": {},
     "output_type": "display_data"
    }
   ],
   "source": [
    "# feature extraction\n",
    "pca = PCA(n_components=15)\n",
    "fit = pca.fit(X)\n",
    "\n",
    "plt.figure(figsize=(12, 3))\n",
    "\n",
    "_ = plt.scatter(range(len(fit.explained_variance_ratio_)), fit.explained_variance_ratio_.cumsum())\n",
    "\n",
    "_ = plt.xlabel('cumilative sum of explained variance')\n",
    "_ = plt.ylabel('score')\n",
    "\n",
    "\n",
    "print(fit.explained_variance_ratio_.cumsum())\n",
    "print()\n",
    "print(('Score', game(pca.transform(X), y, 'gbt')))\n",
    "\n",
    "\n",
    "# (0.97580246913580249, 0.60511784511784517) # KBest dataset\n",
    "# (0.97564534231200895, 0.60552188552188557) # Normal Dataset"
   ]
  },
  {
   "cell_type": "code",
   "execution_count": 123,
   "metadata": {
    "collapsed": false
   },
   "outputs": [
    {
     "data": {
      "text/html": [
       "<div>\n",
       "<table border=\"1\" class=\"dataframe\">\n",
       "  <thead>\n",
       "    <tr style=\"text-align: right;\">\n",
       "      <th></th>\n",
       "      <th>count</th>\n",
       "      <th>mean</th>\n",
       "      <th>std</th>\n",
       "      <th>min</th>\n",
       "      <th>25%</th>\n",
       "      <th>50%</th>\n",
       "      <th>75%</th>\n",
       "      <th>max</th>\n",
       "    </tr>\n",
       "  </thead>\n",
       "  <tbody>\n",
       "    <tr>\n",
       "      <th>0</th>\n",
       "      <td>15.0</td>\n",
       "      <td>0.096302</td>\n",
       "      <td>0.247847</td>\n",
       "      <td>4.504287e-05</td>\n",
       "      <td>0.000900</td>\n",
       "      <td>0.002783</td>\n",
       "      <td>0.015159</td>\n",
       "      <td>0.849020</td>\n",
       "    </tr>\n",
       "    <tr>\n",
       "      <th>1</th>\n",
       "      <td>15.0</td>\n",
       "      <td>0.080919</td>\n",
       "      <td>0.253789</td>\n",
       "      <td>3.973587e-04</td>\n",
       "      <td>0.003773</td>\n",
       "      <td>0.010563</td>\n",
       "      <td>0.021802</td>\n",
       "      <td>0.995650</td>\n",
       "    </tr>\n",
       "    <tr>\n",
       "      <th>2</th>\n",
       "      <td>15.0</td>\n",
       "      <td>0.108541</td>\n",
       "      <td>0.242499</td>\n",
       "      <td>5.882517e-05</td>\n",
       "      <td>0.000777</td>\n",
       "      <td>0.011918</td>\n",
       "      <td>0.035890</td>\n",
       "      <td>0.732635</td>\n",
       "    </tr>\n",
       "    <tr>\n",
       "      <th>3</th>\n",
       "      <td>15.0</td>\n",
       "      <td>0.099642</td>\n",
       "      <td>0.246557</td>\n",
       "      <td>3.362971e-03</td>\n",
       "      <td>0.006130</td>\n",
       "      <td>0.008864</td>\n",
       "      <td>0.047812</td>\n",
       "      <td>0.954429</td>\n",
       "    </tr>\n",
       "    <tr>\n",
       "      <th>4</th>\n",
       "      <td>15.0</td>\n",
       "      <td>0.105409</td>\n",
       "      <td>0.243975</td>\n",
       "      <td>1.274758e-04</td>\n",
       "      <td>0.001257</td>\n",
       "      <td>0.008575</td>\n",
       "      <td>0.032017</td>\n",
       "      <td>0.729299</td>\n",
       "    </tr>\n",
       "    <tr>\n",
       "      <th>5</th>\n",
       "      <td>15.0</td>\n",
       "      <td>0.108107</td>\n",
       "      <td>0.242707</td>\n",
       "      <td>2.059109e-04</td>\n",
       "      <td>0.003286</td>\n",
       "      <td>0.009600</td>\n",
       "      <td>0.043677</td>\n",
       "      <td>0.765533</td>\n",
       "    </tr>\n",
       "    <tr>\n",
       "      <th>6</th>\n",
       "      <td>15.0</td>\n",
       "      <td>0.102791</td>\n",
       "      <td>0.245169</td>\n",
       "      <td>3.238621e-04</td>\n",
       "      <td>0.001620</td>\n",
       "      <td>0.011157</td>\n",
       "      <td>0.019574</td>\n",
       "      <td>0.770023</td>\n",
       "    </tr>\n",
       "    <tr>\n",
       "      <th>7</th>\n",
       "      <td>15.0</td>\n",
       "      <td>0.069505</td>\n",
       "      <td>0.257396</td>\n",
       "      <td>9.174385e-07</td>\n",
       "      <td>0.000046</td>\n",
       "      <td>0.000306</td>\n",
       "      <td>0.005395</td>\n",
       "      <td>0.999759</td>\n",
       "    </tr>\n",
       "    <tr>\n",
       "      <th>8</th>\n",
       "      <td>15.0</td>\n",
       "      <td>0.074523</td>\n",
       "      <td>0.255887</td>\n",
       "      <td>2.485064e-05</td>\n",
       "      <td>0.000261</td>\n",
       "      <td>0.001838</td>\n",
       "      <td>0.016749</td>\n",
       "      <td>0.998500</td>\n",
       "    </tr>\n",
       "    <tr>\n",
       "      <th>9</th>\n",
       "      <td>15.0</td>\n",
       "      <td>0.038089</td>\n",
       "      <td>0.130943</td>\n",
       "      <td>2.026404e-06</td>\n",
       "      <td>0.000165</td>\n",
       "      <td>0.001233</td>\n",
       "      <td>0.004497</td>\n",
       "      <td>0.510243</td>\n",
       "    </tr>\n",
       "    <tr>\n",
       "      <th>10</th>\n",
       "      <td>15.0</td>\n",
       "      <td>0.056434</td>\n",
       "      <td>0.201257</td>\n",
       "      <td>1.284842e-05</td>\n",
       "      <td>0.000495</td>\n",
       "      <td>0.001003</td>\n",
       "      <td>0.007058</td>\n",
       "      <td>0.783427</td>\n",
       "    </tr>\n",
       "    <tr>\n",
       "      <th>11</th>\n",
       "      <td>15.0</td>\n",
       "      <td>0.074904</td>\n",
       "      <td>0.255635</td>\n",
       "      <td>3.844576e-05</td>\n",
       "      <td>0.001935</td>\n",
       "      <td>0.005665</td>\n",
       "      <td>0.018346</td>\n",
       "      <td>0.998328</td>\n",
       "    </tr>\n",
       "    <tr>\n",
       "      <th>12</th>\n",
       "      <td>15.0</td>\n",
       "      <td>0.082356</td>\n",
       "      <td>0.253301</td>\n",
       "      <td>9.873276e-05</td>\n",
       "      <td>0.002617</td>\n",
       "      <td>0.010776</td>\n",
       "      <td>0.025956</td>\n",
       "      <td>0.993248</td>\n",
       "    </tr>\n",
       "    <tr>\n",
       "      <th>13</th>\n",
       "      <td>15.0</td>\n",
       "      <td>0.085568</td>\n",
       "      <td>0.252158</td>\n",
       "      <td>8.306415e-05</td>\n",
       "      <td>0.004314</td>\n",
       "      <td>0.014586</td>\n",
       "      <td>0.022518</td>\n",
       "      <td>0.991591</td>\n",
       "    </tr>\n",
       "    <tr>\n",
       "      <th>14</th>\n",
       "      <td>15.0</td>\n",
       "      <td>0.106874</td>\n",
       "      <td>0.243291</td>\n",
       "      <td>4.820660e-04</td>\n",
       "      <td>0.001860</td>\n",
       "      <td>0.023771</td>\n",
       "      <td>0.075452</td>\n",
       "      <td>0.946146</td>\n",
       "    </tr>\n",
       "    <tr>\n",
       "      <th>15</th>\n",
       "      <td>15.0</td>\n",
       "      <td>0.098226</td>\n",
       "      <td>0.247121</td>\n",
       "      <td>2.998113e-05</td>\n",
       "      <td>0.000333</td>\n",
       "      <td>0.004022</td>\n",
       "      <td>0.019687</td>\n",
       "      <td>0.849083</td>\n",
       "    </tr>\n",
       "    <tr>\n",
       "      <th>16</th>\n",
       "      <td>15.0</td>\n",
       "      <td>0.018429</td>\n",
       "      <td>0.063930</td>\n",
       "      <td>1.418049e-06</td>\n",
       "      <td>0.000137</td>\n",
       "      <td>0.000339</td>\n",
       "      <td>0.003972</td>\n",
       "      <td>0.249284</td>\n",
       "    </tr>\n",
       "    <tr>\n",
       "      <th>17</th>\n",
       "      <td>15.0</td>\n",
       "      <td>0.016429</td>\n",
       "      <td>0.055601</td>\n",
       "      <td>1.837794e-06</td>\n",
       "      <td>0.000091</td>\n",
       "      <td>0.000731</td>\n",
       "      <td>0.001947</td>\n",
       "      <td>0.216938</td>\n",
       "    </tr>\n",
       "    <tr>\n",
       "      <th>18</th>\n",
       "      <td>15.0</td>\n",
       "      <td>0.007257</td>\n",
       "      <td>0.023261</td>\n",
       "      <td>3.227127e-06</td>\n",
       "      <td>0.000112</td>\n",
       "      <td>0.000250</td>\n",
       "      <td>0.000931</td>\n",
       "      <td>0.090871</td>\n",
       "    </tr>\n",
       "    <tr>\n",
       "      <th>19</th>\n",
       "      <td>15.0</td>\n",
       "      <td>0.003007</td>\n",
       "      <td>0.006344</td>\n",
       "      <td>1.878930e-07</td>\n",
       "      <td>0.000046</td>\n",
       "      <td>0.000288</td>\n",
       "      <td>0.002521</td>\n",
       "      <td>0.023530</td>\n",
       "    </tr>\n",
       "    <tr>\n",
       "      <th>20</th>\n",
       "      <td>15.0</td>\n",
       "      <td>0.000836</td>\n",
       "      <td>0.002317</td>\n",
       "      <td>9.374768e-07</td>\n",
       "      <td>0.000027</td>\n",
       "      <td>0.000063</td>\n",
       "      <td>0.000540</td>\n",
       "      <td>0.009100</td>\n",
       "    </tr>\n",
       "    <tr>\n",
       "      <th>21</th>\n",
       "      <td>15.0</td>\n",
       "      <td>0.005585</td>\n",
       "      <td>0.017218</td>\n",
       "      <td>3.516753e-06</td>\n",
       "      <td>0.000042</td>\n",
       "      <td>0.000153</td>\n",
       "      <td>0.001264</td>\n",
       "      <td>0.067319</td>\n",
       "    </tr>\n",
       "    <tr>\n",
       "      <th>22</th>\n",
       "      <td>15.0</td>\n",
       "      <td>0.003966</td>\n",
       "      <td>0.011770</td>\n",
       "      <td>2.294226e-06</td>\n",
       "      <td>0.000047</td>\n",
       "      <td>0.000112</td>\n",
       "      <td>0.001165</td>\n",
       "      <td>0.045980</td>\n",
       "    </tr>\n",
       "  </tbody>\n",
       "</table>\n",
       "</div>"
      ],
      "text/plain": [
       "    count      mean       std           min       25%       50%       75%  \\\n",
       "0    15.0  0.096302  0.247847  4.504287e-05  0.000900  0.002783  0.015159   \n",
       "1    15.0  0.080919  0.253789  3.973587e-04  0.003773  0.010563  0.021802   \n",
       "2    15.0  0.108541  0.242499  5.882517e-05  0.000777  0.011918  0.035890   \n",
       "3    15.0  0.099642  0.246557  3.362971e-03  0.006130  0.008864  0.047812   \n",
       "4    15.0  0.105409  0.243975  1.274758e-04  0.001257  0.008575  0.032017   \n",
       "5    15.0  0.108107  0.242707  2.059109e-04  0.003286  0.009600  0.043677   \n",
       "6    15.0  0.102791  0.245169  3.238621e-04  0.001620  0.011157  0.019574   \n",
       "7    15.0  0.069505  0.257396  9.174385e-07  0.000046  0.000306  0.005395   \n",
       "8    15.0  0.074523  0.255887  2.485064e-05  0.000261  0.001838  0.016749   \n",
       "9    15.0  0.038089  0.130943  2.026404e-06  0.000165  0.001233  0.004497   \n",
       "10   15.0  0.056434  0.201257  1.284842e-05  0.000495  0.001003  0.007058   \n",
       "11   15.0  0.074904  0.255635  3.844576e-05  0.001935  0.005665  0.018346   \n",
       "12   15.0  0.082356  0.253301  9.873276e-05  0.002617  0.010776  0.025956   \n",
       "13   15.0  0.085568  0.252158  8.306415e-05  0.004314  0.014586  0.022518   \n",
       "14   15.0  0.106874  0.243291  4.820660e-04  0.001860  0.023771  0.075452   \n",
       "15   15.0  0.098226  0.247121  2.998113e-05  0.000333  0.004022  0.019687   \n",
       "16   15.0  0.018429  0.063930  1.418049e-06  0.000137  0.000339  0.003972   \n",
       "17   15.0  0.016429  0.055601  1.837794e-06  0.000091  0.000731  0.001947   \n",
       "18   15.0  0.007257  0.023261  3.227127e-06  0.000112  0.000250  0.000931   \n",
       "19   15.0  0.003007  0.006344  1.878930e-07  0.000046  0.000288  0.002521   \n",
       "20   15.0  0.000836  0.002317  9.374768e-07  0.000027  0.000063  0.000540   \n",
       "21   15.0  0.005585  0.017218  3.516753e-06  0.000042  0.000153  0.001264   \n",
       "22   15.0  0.003966  0.011770  2.294226e-06  0.000047  0.000112  0.001165   \n",
       "\n",
       "         max  \n",
       "0   0.849020  \n",
       "1   0.995650  \n",
       "2   0.732635  \n",
       "3   0.954429  \n",
       "4   0.729299  \n",
       "5   0.765533  \n",
       "6   0.770023  \n",
       "7   0.999759  \n",
       "8   0.998500  \n",
       "9   0.510243  \n",
       "10  0.783427  \n",
       "11  0.998328  \n",
       "12  0.993248  \n",
       "13  0.991591  \n",
       "14  0.946146  \n",
       "15  0.849083  \n",
       "16  0.249284  \n",
       "17  0.216938  \n",
       "18  0.090871  \n",
       "19  0.023530  \n",
       "20  0.009100  \n",
       "21  0.067319  \n",
       "22  0.045980  "
      ]
     },
     "metadata": {},
     "output_type": "display_data"
    },
    {
     "data": {
      "text/plain": [
       "<matplotlib.axes._subplots.AxesSubplot at 0x1118cdeb8>"
      ]
     },
     "execution_count": 123,
     "metadata": {},
     "output_type": "execute_result"
    },
    {
     "data": {
      "image/png": "[encoded data removed]",
      "text/plain": [
       "<matplotlib.figure.Figure at 0x1118feb00>"
      ]
     },
     "metadata": {},
     "output_type": "display_data"
    }
   ],
   "source": [
    "ss = pd.DataFrame(fit.components_)\n",
    "ss = ss.applymap(lambda x: x if x > 0 else -1 * x)\n",
    "display(ss.describe().T)\n",
    "\n",
    "ss.plot(kind='bar', figsize=(125, 10))"
   ]
  },
  {
   "cell_type": "code",
   "execution_count": 124,
   "metadata": {
    "collapsed": false
   },
   "outputs": [
    {
     "name": "stdout",
     "output_type": "stream",
     "text": [
      "[ 0.88  1.  ]\n",
      "('\\nScore', (0.97129068462401791, 0.61952861952861948))\n"
     ]
    },
    {
     "data": {
      "image/png": "[encoded data removed]",
      "text/plain": [
       "<matplotlib.figure.Figure at 0x1131d5b38>"
      ]
     },
     "metadata": {},
     "output_type": "display_data"
    }
   ],
   "source": [
    "# feature extraction\n",
    "lda = LinearDiscriminantAnalysis(n_components=16)\n",
    "fit = lda.fit(X, y)\n",
    "\n",
    "plt.figure(figsize=(12, 3))\n",
    "\n",
    "_ = plt.scatter (range(len(fit.explained_variance_ratio_)), fit.explained_variance_ratio_.cumsum())\n",
    "\n",
    "_ = plt.xlabel('cumilative sum of explained variance')\n",
    "_ = plt.ylabel('score')\n",
    "\n",
    "\n",
    "print(fit.explained_variance_ratio_.cumsum())\n",
    "\n",
    "print(('\\nScore', game(lda.transform(X), y)))\n",
    "\n",
    "\n",
    "# (0.97580246913580249, 0.60511784511784517) # KBest dataset\n",
    "# (0.97564534231200895, 0.60552188552188557) # Normal Dataset"
   ]
  },
  {
   "cell_type": "code",
   "execution_count": 125,
   "metadata": {
    "collapsed": false
   },
   "outputs": [
    {
     "data": {
      "text/html": [
       "<div>\n",
       "<table border=\"1\" class=\"dataframe\">\n",
       "  <thead>\n",
       "    <tr style=\"text-align: right;\">\n",
       "      <th></th>\n",
       "      <th>count</th>\n",
       "      <th>mean</th>\n",
       "      <th>std</th>\n",
       "      <th>min</th>\n",
       "      <th>25%</th>\n",
       "      <th>50%</th>\n",
       "      <th>75%</th>\n",
       "      <th>max</th>\n",
       "    </tr>\n",
       "  </thead>\n",
       "  <tbody>\n",
       "    <tr>\n",
       "      <th>0</th>\n",
       "      <td>3.0</td>\n",
       "      <td>1.108074e-02</td>\n",
       "      <td>0.003284</td>\n",
       "      <td>9.063794e-03</td>\n",
       "      <td>9.185965e-03</td>\n",
       "      <td>9.308136e-03</td>\n",
       "      <td>0.012089</td>\n",
       "      <td>0.014870</td>\n",
       "    </tr>\n",
       "    <tr>\n",
       "      <th>1</th>\n",
       "      <td>3.0</td>\n",
       "      <td>1.174177e-03</td>\n",
       "      <td>0.001319</td>\n",
       "      <td>2.774013e-04</td>\n",
       "      <td>4.167604e-04</td>\n",
       "      <td>5.561196e-04</td>\n",
       "      <td>0.001623</td>\n",
       "      <td>0.002689</td>\n",
       "    </tr>\n",
       "    <tr>\n",
       "      <th>2</th>\n",
       "      <td>3.0</td>\n",
       "      <td>1.018929e-04</td>\n",
       "      <td>0.000026</td>\n",
       "      <td>7.478031e-05</td>\n",
       "      <td>9.003538e-05</td>\n",
       "      <td>1.052904e-04</td>\n",
       "      <td>0.000115</td>\n",
       "      <td>0.000126</td>\n",
       "    </tr>\n",
       "    <tr>\n",
       "      <th>3</th>\n",
       "      <td>3.0</td>\n",
       "      <td>1.628712e-04</td>\n",
       "      <td>0.000115</td>\n",
       "      <td>6.100187e-05</td>\n",
       "      <td>1.007610e-04</td>\n",
       "      <td>1.405202e-04</td>\n",
       "      <td>0.000214</td>\n",
       "      <td>0.000287</td>\n",
       "    </tr>\n",
       "    <tr>\n",
       "      <th>4</th>\n",
       "      <td>3.0</td>\n",
       "      <td>6.015722e-05</td>\n",
       "      <td>0.000024</td>\n",
       "      <td>3.430149e-05</td>\n",
       "      <td>4.916040e-05</td>\n",
       "      <td>6.401932e-05</td>\n",
       "      <td>0.000073</td>\n",
       "      <td>0.000082</td>\n",
       "    </tr>\n",
       "    <tr>\n",
       "      <th>5</th>\n",
       "      <td>3.0</td>\n",
       "      <td>4.454017e-05</td>\n",
       "      <td>0.000059</td>\n",
       "      <td>6.568694e-07</td>\n",
       "      <td>1.129328e-05</td>\n",
       "      <td>2.192970e-05</td>\n",
       "      <td>0.000066</td>\n",
       "      <td>0.000111</td>\n",
       "    </tr>\n",
       "    <tr>\n",
       "      <th>6</th>\n",
       "      <td>3.0</td>\n",
       "      <td>3.769291e-05</td>\n",
       "      <td>0.000005</td>\n",
       "      <td>3.233087e-05</td>\n",
       "      <td>3.492518e-05</td>\n",
       "      <td>3.751949e-05</td>\n",
       "      <td>0.000040</td>\n",
       "      <td>0.000043</td>\n",
       "    </tr>\n",
       "    <tr>\n",
       "      <th>7</th>\n",
       "      <td>3.0</td>\n",
       "      <td>8.539647e-07</td>\n",
       "      <td>0.000001</td>\n",
       "      <td>1.957044e-08</td>\n",
       "      <td>2.003436e-07</td>\n",
       "      <td>3.811167e-07</td>\n",
       "      <td>0.000001</td>\n",
       "      <td>0.000002</td>\n",
       "    </tr>\n",
       "    <tr>\n",
       "      <th>8</th>\n",
       "      <td>3.0</td>\n",
       "      <td>2.612714e-06</td>\n",
       "      <td>0.000001</td>\n",
       "      <td>1.441797e-06</td>\n",
       "      <td>2.102581e-06</td>\n",
       "      <td>2.763365e-06</td>\n",
       "      <td>0.000003</td>\n",
       "      <td>0.000004</td>\n",
       "    </tr>\n",
       "    <tr>\n",
       "      <th>9</th>\n",
       "      <td>3.0</td>\n",
       "      <td>2.475112e-03</td>\n",
       "      <td>0.002323</td>\n",
       "      <td>9.310126e-04</td>\n",
       "      <td>1.139246e-03</td>\n",
       "      <td>1.347480e-03</td>\n",
       "      <td>0.003247</td>\n",
       "      <td>0.005147</td>\n",
       "    </tr>\n",
       "    <tr>\n",
       "      <th>10</th>\n",
       "      <td>3.0</td>\n",
       "      <td>1.559174e-03</td>\n",
       "      <td>0.000502</td>\n",
       "      <td>1.196766e-03</td>\n",
       "      <td>1.272623e-03</td>\n",
       "      <td>1.348480e-03</td>\n",
       "      <td>0.001740</td>\n",
       "      <td>0.002132</td>\n",
       "    </tr>\n",
       "    <tr>\n",
       "      <th>11</th>\n",
       "      <td>3.0</td>\n",
       "      <td>3.751383e-03</td>\n",
       "      <td>0.002943</td>\n",
       "      <td>1.223295e-03</td>\n",
       "      <td>2.136379e-03</td>\n",
       "      <td>3.049463e-03</td>\n",
       "      <td>0.005015</td>\n",
       "      <td>0.006981</td>\n",
       "    </tr>\n",
       "    <tr>\n",
       "      <th>12</th>\n",
       "      <td>3.0</td>\n",
       "      <td>3.473865e-05</td>\n",
       "      <td>0.000012</td>\n",
       "      <td>2.691714e-05</td>\n",
       "      <td>2.790232e-05</td>\n",
       "      <td>2.888750e-05</td>\n",
       "      <td>0.000039</td>\n",
       "      <td>0.000048</td>\n",
       "    </tr>\n",
       "    <tr>\n",
       "      <th>13</th>\n",
       "      <td>3.0</td>\n",
       "      <td>2.648119e-04</td>\n",
       "      <td>0.000045</td>\n",
       "      <td>2.240634e-04</td>\n",
       "      <td>2.407875e-04</td>\n",
       "      <td>2.575115e-04</td>\n",
       "      <td>0.000285</td>\n",
       "      <td>0.000313</td>\n",
       "    </tr>\n",
       "    <tr>\n",
       "      <th>14</th>\n",
       "      <td>3.0</td>\n",
       "      <td>4.816019e-05</td>\n",
       "      <td>0.000010</td>\n",
       "      <td>3.927859e-05</td>\n",
       "      <td>4.297404e-05</td>\n",
       "      <td>4.666950e-05</td>\n",
       "      <td>0.000053</td>\n",
       "      <td>0.000059</td>\n",
       "    </tr>\n",
       "    <tr>\n",
       "      <th>15</th>\n",
       "      <td>3.0</td>\n",
       "      <td>7.092491e-03</td>\n",
       "      <td>0.003665</td>\n",
       "      <td>3.138510e-03</td>\n",
       "      <td>5.450240e-03</td>\n",
       "      <td>7.761970e-03</td>\n",
       "      <td>0.009069</td>\n",
       "      <td>0.010377</td>\n",
       "    </tr>\n",
       "    <tr>\n",
       "      <th>16</th>\n",
       "      <td>3.0</td>\n",
       "      <td>1.841236e-02</td>\n",
       "      <td>0.025574</td>\n",
       "      <td>6.585605e-04</td>\n",
       "      <td>3.755660e-03</td>\n",
       "      <td>6.852759e-03</td>\n",
       "      <td>0.027289</td>\n",
       "      <td>0.047726</td>\n",
       "    </tr>\n",
       "    <tr>\n",
       "      <th>17</th>\n",
       "      <td>3.0</td>\n",
       "      <td>5.164589e-02</td>\n",
       "      <td>0.004827</td>\n",
       "      <td>4.611302e-02</td>\n",
       "      <td>4.997209e-02</td>\n",
       "      <td>5.383116e-02</td>\n",
       "      <td>0.054412</td>\n",
       "      <td>0.054993</td>\n",
       "    </tr>\n",
       "    <tr>\n",
       "      <th>18</th>\n",
       "      <td>3.0</td>\n",
       "      <td>1.832696e-01</td>\n",
       "      <td>0.047620</td>\n",
       "      <td>1.448069e-01</td>\n",
       "      <td>1.566383e-01</td>\n",
       "      <td>1.684697e-01</td>\n",
       "      <td>0.202501</td>\n",
       "      <td>0.236532</td>\n",
       "    </tr>\n",
       "    <tr>\n",
       "      <th>19</th>\n",
       "      <td>3.0</td>\n",
       "      <td>4.051723e-02</td>\n",
       "      <td>0.037401</td>\n",
       "      <td>1.571639e-02</td>\n",
       "      <td>1.900761e-02</td>\n",
       "      <td>2.229883e-02</td>\n",
       "      <td>0.052918</td>\n",
       "      <td>0.083536</td>\n",
       "    </tr>\n",
       "    <tr>\n",
       "      <th>20</th>\n",
       "      <td>3.0</td>\n",
       "      <td>2.292375e-01</td>\n",
       "      <td>0.101101</td>\n",
       "      <td>1.243159e-01</td>\n",
       "      <td>1.808435e-01</td>\n",
       "      <td>2.373711e-01</td>\n",
       "      <td>0.281698</td>\n",
       "      <td>0.326026</td>\n",
       "    </tr>\n",
       "    <tr>\n",
       "      <th>21</th>\n",
       "      <td>3.0</td>\n",
       "      <td>8.663763e-02</td>\n",
       "      <td>0.017751</td>\n",
       "      <td>7.195919e-02</td>\n",
       "      <td>7.677322e-02</td>\n",
       "      <td>8.158726e-02</td>\n",
       "      <td>0.093977</td>\n",
       "      <td>0.106366</td>\n",
       "    </tr>\n",
       "    <tr>\n",
       "      <th>22</th>\n",
       "      <td>3.0</td>\n",
       "      <td>1.418513e-01</td>\n",
       "      <td>0.139988</td>\n",
       "      <td>2.921430e-02</td>\n",
       "      <td>6.348933e-02</td>\n",
       "      <td>9.776436e-02</td>\n",
       "      <td>0.198170</td>\n",
       "      <td>0.298575</td>\n",
       "    </tr>\n",
       "  </tbody>\n",
       "</table>\n",
       "</div>"
      ],
      "text/plain": [
       "    count          mean       std           min           25%           50%  \\\n",
       "0     3.0  1.108074e-02  0.003284  9.063794e-03  9.185965e-03  9.308136e-03   \n",
       "1     3.0  1.174177e-03  0.001319  2.774013e-04  4.167604e-04  5.561196e-04   \n",
       "2     3.0  1.018929e-04  0.000026  7.478031e-05  9.003538e-05  1.052904e-04   \n",
       "3     3.0  1.628712e-04  0.000115  6.100187e-05  1.007610e-04  1.405202e-04   \n",
       "4     3.0  6.015722e-05  0.000024  3.430149e-05  4.916040e-05  6.401932e-05   \n",
       "5     3.0  4.454017e-05  0.000059  6.568694e-07  1.129328e-05  2.192970e-05   \n",
       "6     3.0  3.769291e-05  0.000005  3.233087e-05  3.492518e-05  3.751949e-05   \n",
       "7     3.0  8.539647e-07  0.000001  1.957044e-08  2.003436e-07  3.811167e-07   \n",
       "8     3.0  2.612714e-06  0.000001  1.441797e-06  2.102581e-06  2.763365e-06   \n",
       "9     3.0  2.475112e-03  0.002323  9.310126e-04  1.139246e-03  1.347480e-03   \n",
       "10    3.0  1.559174e-03  0.000502  1.196766e-03  1.272623e-03  1.348480e-03   \n",
       "11    3.0  3.751383e-03  0.002943  1.223295e-03  2.136379e-03  3.049463e-03   \n",
       "12    3.0  3.473865e-05  0.000012  2.691714e-05  2.790232e-05  2.888750e-05   \n",
       "13    3.0  2.648119e-04  0.000045  2.240634e-04  2.407875e-04  2.575115e-04   \n",
       "14    3.0  4.816019e-05  0.000010  3.927859e-05  4.297404e-05  4.666950e-05   \n",
       "15    3.0  7.092491e-03  0.003665  3.138510e-03  5.450240e-03  7.761970e-03   \n",
       "16    3.0  1.841236e-02  0.025574  6.585605e-04  3.755660e-03  6.852759e-03   \n",
       "17    3.0  5.164589e-02  0.004827  4.611302e-02  4.997209e-02  5.383116e-02   \n",
       "18    3.0  1.832696e-01  0.047620  1.448069e-01  1.566383e-01  1.684697e-01   \n",
       "19    3.0  4.051723e-02  0.037401  1.571639e-02  1.900761e-02  2.229883e-02   \n",
       "20    3.0  2.292375e-01  0.101101  1.243159e-01  1.808435e-01  2.373711e-01   \n",
       "21    3.0  8.663763e-02  0.017751  7.195919e-02  7.677322e-02  8.158726e-02   \n",
       "22    3.0  1.418513e-01  0.139988  2.921430e-02  6.348933e-02  9.776436e-02   \n",
       "\n",
       "         75%       max  \n",
       "0   0.012089  0.014870  \n",
       "1   0.001623  0.002689  \n",
       "2   0.000115  0.000126  \n",
       "3   0.000214  0.000287  \n",
       "4   0.000073  0.000082  \n",
       "5   0.000066  0.000111  \n",
       "6   0.000040  0.000043  \n",
       "7   0.000001  0.000002  \n",
       "8   0.000003  0.000004  \n",
       "9   0.003247  0.005147  \n",
       "10  0.001740  0.002132  \n",
       "11  0.005015  0.006981  \n",
       "12  0.000039  0.000048  \n",
       "13  0.000285  0.000313  \n",
       "14  0.000053  0.000059  \n",
       "15  0.009069  0.010377  \n",
       "16  0.027289  0.047726  \n",
       "17  0.054412  0.054993  \n",
       "18  0.202501  0.236532  \n",
       "19  0.052918  0.083536  \n",
       "20  0.281698  0.326026  \n",
       "21  0.093977  0.106366  \n",
       "22  0.198170  0.298575  "
      ]
     },
     "metadata": {},
     "output_type": "display_data"
    },
    {
     "data": {
      "text/plain": [
       "<matplotlib.axes._subplots.AxesSubplot at 0x116a898d0>"
      ]
     },
     "execution_count": 125,
     "metadata": {},
     "output_type": "execute_result"
    },
    {
     "data": {
      "image/png": "[encoded data removed]",
      "text/plain": [
       "<matplotlib.figure.Figure at 0x110567080>"
      ]
     },
     "metadata": {},
     "output_type": "display_data"
    }
   ],
   "source": [
    "ss = pd.DataFrame(fit.coef_)\n",
    "ss = ss.applymap(lambda x: x if x > 0 else -1 * x)\n",
    "display(ss.describe().T)\n",
    "\n",
    "ss.plot(kind='bar', figsize=(125, 10))"
   ]
  },
  {
   "cell_type": "code",
   "execution_count": 126,
   "metadata": {
    "collapsed": false
   },
   "outputs": [],
   "source": [
    "X = pca.transform(X)\n",
    "TEST_X = pca.transform(TEST_X)"
   ]
  },
  {
   "cell_type": "code",
   "execution_count": 127,
   "metadata": {
    "collapsed": false
   },
   "outputs": [
    {
     "data": {
      "text/plain": [
       "((59400, 15), (14850, 15))"
      ]
     },
     "execution_count": 127,
     "metadata": {},
     "output_type": "execute_result"
    }
   ],
   "source": [
    "X.shape, TEST_X.shape"
   ]
  },
  {
   "cell_type": "markdown",
   "metadata": {},
   "source": [
    "** Saving Processed Data **"
   ]
  },
  {
   "cell_type": "code",
   "execution_count": 128,
   "metadata": {
    "collapsed": true
   },
   "outputs": [],
   "source": [
    "pickle.dump(X, open('tmp\\pca_X.pkl', 'wb'))\n",
    "pickle.dump(TEST_X, open('tmp\\pca_TEST_X.pkl', 'wb'))\n",
    "# pickle.dump(y, open('tmp\\pca_y.pkl', 'wb'))"
   ]
  },
  {
   "cell_type": "markdown",
   "metadata": {},
   "source": [
    "# Unsupervised Learning\n",
    "\n",
    "* Unsupervised Learning Exploration(Gaussian Process, Neural Nets)"
   ]
  },
  {
   "cell_type": "markdown",
   "metadata": {},
   "source": [
    "** Loading Pre-Processed Data **"
   ]
  },
  {
   "cell_type": "code",
   "execution_count": 129,
   "metadata": {
    "collapsed": false
   },
   "outputs": [
    {
     "name": "stdout",
     "output_type": "stream",
     "text": [
      "Loading KBest Processed Data\n"
     ]
    }
   ],
   "source": [
    "load = 2\n",
    "\n",
    "if load == 1:\n",
    "    print('Loading PCA Processed Data')\n",
    "    X = pickle.load(open('tmp\\pca_X.pkl', 'rb'))\n",
    "    TEST_X = pickle.load(open('tmp\\pca_TEST_X.pkl', 'rb'))\n",
    "\n",
    "elif load == 2:\n",
    "    # this will load kbest\n",
    "    print('Loading KBest Processed Data')\n",
    "    X = pickle.load(open('tmp\\kbest_X.pkl', 'rb'))\n",
    "    TEST_X = pickle.load(open('tmp\\kbest_TEST_X.pkl', 'rb'))\n",
    "elif load == 3:\n",
    "    # this will load processed data\n",
    "    print('Loading normal Processed Data')\n",
    "    X = pickle.load(open('tmp\\processed_X.pkl', 'rb'))\n",
    "    TEST_X = pickle.load(open('tmp\\processed_TEST_X.pkl', 'rb'))\n",
    "\n",
    "# # y = pickle.load(open('tmp\\processed_y.pkl'))"
   ]
  },
  {
   "cell_type": "code",
   "execution_count": 130,
   "metadata": {
    "collapsed": false
   },
   "outputs": [
    {
     "name": "stdout",
     "output_type": "stream",
     "text": [
      "(59400, 23) (59400,) (14850, 23)\n"
     ]
    }
   ],
   "source": [
    "print(X.shape, y.shape, TEST_X.shape)"
   ]
  },
  {
   "cell_type": "markdown",
   "metadata": {},
   "source": [
    "### Gaussian"
   ]
  },
  {
   "cell_type": "code",
   "execution_count": 131,
   "metadata": {
    "collapsed": true
   },
   "outputs": [],
   "source": [
    "from sklearn.mixture import GaussianMixture as GMM\n",
    "from sklearn.metrics import silhouette_score"
   ]
  },
  {
   "cell_type": "code",
   "execution_count": 132,
   "metadata": {
    "collapsed": false
   },
   "outputs": [
    {
     "name": "stdout",
     "output_type": "stream",
     "text": [
      "clusters | score for top 1000\n",
      "2 0.00551632260574\n",
      "3 -0.0114975666729\n",
      "4 -0.0123932060665\n",
      "5 -0.0224948384065\n",
      "6 -0.0373774778972\n"
     ]
    }
   ],
   "source": [
    "# For future analysis\n",
    "GMM_Centers = []\n",
    "\n",
    "__check_for  = 1000\n",
    "\n",
    "print ('clusters | score for top 1000')\n",
    "\n",
    "for i in range(2, 7):\n",
    "    # TODO: Apply your clustering algorithm of choice to the reduced data \n",
    "    clusterer = GMM(n_components=i, random_state=42)\n",
    "    clusterer.fit(X)\n",
    "\n",
    "    # TODO: Predict the cluster for each data point\n",
    "    preds = clusterer.predict(X)\n",
    "\n",
    "    # TODO: Find the cluster centers\n",
    "    GMM_Centers.append(clusterer.means_)\n",
    "\n",
    "    # score = silhouette_score(X, preds)\n",
    "    score = silhouette_score(X[:__check_for], preds[:__check_for])\n",
    "\n",
    "    print(i, score)\n",
    "    \n",
    "# clusters | score for top 1000\n",
    "# 2 0.484879234998\n",
    "# 3 0.377180934294\n",
    "# 4 0.334333476259\n",
    "# 5 0.29213724894\n",
    "# 6 0.27643712696"
   ]
  },
  {
   "cell_type": "markdown",
   "metadata": {},
   "source": [
    "### KMeans"
   ]
  },
  {
   "cell_type": "code",
   "execution_count": null,
   "metadata": {
    "collapsed": true
   },
   "outputs": [],
   "source": [
    "from sklearn.cluster import KMeans\n",
    "from sklearn.metrics import silhouette_score"
   ]
  },
  {
   "cell_type": "code",
   "execution_count": null,
   "metadata": {
    "collapsed": false
   },
   "outputs": [],
   "source": [
    "# For future analysis\n",
    "KMM_Centers = []\n",
    "\n",
    "# Testing each category\n",
    "for i in range(2, 7):\n",
    "\n",
    "    clusterer = KMeans(init='k-means++', n_clusters=i, n_init=10)\n",
    "    clusterer.fit(X)\n",
    "\n",
    "    preds = clusterer.predict(X)\n",
    "\n",
    "    centers = clusterer.cluster_centers_\n",
    "    \n",
    "    KMM_Centers.append(centers)\n",
    "\n",
    "#     score = silhouette_score(X, preds)\n",
    "    score = silhouette_score(X[:__check_for], preds[:__check_for])\n",
    "    print(i, score)\n",
    "    \n",
    "# clusters | score for top 1000\n",
    "# 2 0.502005229628\n",
    "# 3 0.377168744959\n",
    "# 4 0.325091546516\n",
    "# 5 0.303811069492\n",
    "# 6 0.304265445159"
   ]
  },
  {
   "cell_type": "code",
   "execution_count": null,
   "metadata": {
    "collapsed": false
   },
   "outputs": [],
   "source": [
    "i = 2\n",
    "\n",
    "clusterer = KMeans(init='k-means++', n_clusters=i, n_init=10)\n",
    "clusterer.fit(X)\n",
    "preds = clusterer.predict(X)"
   ]
  },
  {
   "cell_type": "code",
   "execution_count": null,
   "metadata": {
    "collapsed": false
   },
   "outputs": [],
   "source": [
    "score = silhouette_score(X[:__check_for], preds[:__check_for])\n",
    "print(i, score)"
   ]
  },
  {
   "cell_type": "code",
   "execution_count": null,
   "metadata": {
    "collapsed": false
   },
   "outputs": [],
   "source": [
    "X = pd.DataFrame(X)\n",
    "X['new'] = clusterer.predict(X)"
   ]
  },
  {
   "cell_type": "code",
   "execution_count": null,
   "metadata": {
    "collapsed": false
   },
   "outputs": [],
   "source": [
    "TEST_X = pd.DataFrame(TEST_X)\n",
    "TEST_X['new'] = clusterer.predict(TEST_X)"
   ]
  },
  {
   "cell_type": "code",
   "execution_count": null,
   "metadata": {
    "collapsed": false
   },
   "outputs": [],
   "source": [
    "print(X.shape, TEST_X.shape)"
   ]
  },
  {
   "cell_type": "markdown",
   "metadata": {},
   "source": [
    "# Supervised Learning\n",
    "\n",
    "* Supervised Learning(GBT Trees, Nearest Neighbours, RF, One-vs-One)"
   ]
  },
  {
   "cell_type": "markdown",
   "metadata": {},
   "source": [
    "### Test-Train Split"
   ]
  },
  {
   "cell_type": "code",
   "execution_count": 133,
   "metadata": {
    "collapsed": false
   },
   "outputs": [
    {
     "name": "stdout",
     "output_type": "stream",
     "text": [
      "------------------------------------------------\n",
      "Loading KBest Processed Data\n",
      "------------------------------------------------\n",
      "(59400, 23) (59400,)\n"
     ]
    }
   ],
   "source": [
    "from sklearn.model_selection import train_test_split\n",
    "from sklearn.metrics import auc\n",
    "from sklearn.metrics import roc_auc_score\n",
    "\n",
    "load = 2\n",
    "\n",
    "np.set_printoptions(precision=4)\n",
    "\n",
    "print('------------------------------------------------')\n",
    "\n",
    "if load == 1:\n",
    "    print('Loading PCA Processed Data')\n",
    "    X = pickle.load(open('tmp\\pca_X.pkl', 'rb'))\n",
    "    TEST_X = pickle.load(open('tmp\\pca_TEST_X.pkl', 'rb'))\n",
    "\n",
    "elif load == 2:\n",
    "    # this will load kbest\n",
    "    print('Loading KBest Processed Data')\n",
    "    X = pickle.load(open('tmp\\kbest_X.pkl', 'rb'))\n",
    "    TEST_X = pickle.load(open('tmp\\kbest_TEST_X.pkl', 'rb'))\n",
    "elif load == 3:\n",
    "    # this will load processed data\n",
    "    print('Loading normal Processed Data')\n",
    "    X = pickle.load(open('tmp\\processed_X.pkl', 'rb'))\n",
    "    TEST_X = pickle.load(open('tmp\\processed_TEST_X.pkl', 'rb'))\n",
    "\n",
    "print('------------------------------------------------')\n",
    "\n",
    "y = pickle.load(open('tmp\\processed_y.pkl', 'rb'))\n",
    "\n",
    "\n",
    "X_train, X_test, y_train, y_test = train_test_split(X, y, test_size=0.25, random_state=42, stratify=y)\n",
    "\n",
    "print(X.shape, y.shape)\n",
    "\n",
    "import sklearn.metrics as sk_metrics\n",
    "\n",
    "def check_metric(y_pred, y_test, show_cm=True):\n",
    "    if show_cm:\n",
    "        print('------------------------------------------------')\n",
    "        print(sk_metrics.classification_report(y_pred, y_test))\n",
    "    print('------------------------------------------------')\n",
    "    print('AC Score:', sk_metrics.accuracy_score(y_pred, y_test))\n",
    "    print('F1 Score:', sk_metrics.f1_score(y_pred, y_test, average='weighted'))"
   ]
  },
  {
   "cell_type": "markdown",
   "metadata": {},
   "source": [
    "### GBT Trees"
   ]
  },
  {
   "cell_type": "code",
   "execution_count": 134,
   "metadata": {
    "collapsed": false
   },
   "outputs": [
    {
     "name": "stdout",
     "output_type": "stream",
     "text": [
      "GradientBoostingClassifier(random_state=192)\n",
      "----------\n",
      "Tranining Score\n",
      "------------------------------------------------\n",
      "AC Score: 0.751739618406\n",
      "F1 Score: 0.774174095186\n",
      "Testing Score\n",
      "------------------------------------------------\n",
      "AC Score: 0.750774410774\n",
      "F1 Score: 0.77397900953\n"
     ]
    }
   ],
   "source": [
    "from sklearn.ensemble import GradientBoostingClassifier\n",
    "\n",
    "clf_gbt = GradientBoostingClassifier(random_state=192)\n",
    "\n",
    "clf_gbt = clf_gbt.fit(X_train, y_train)\n",
    "\n",
    "# metric\n",
    "y_train_pred = clf_gbt.predict(X_train)\n",
    "y_pred = clf_gbt.predict(X_test)\n",
    "print('GradientBoostingClassifier(random_state=192)')\n",
    "print('----------')\n",
    "print('Tranining Score')\n",
    "check_metric(y_train_pred, y_train, show_cm=False)\n",
    "print('Testing Score')\n",
    "check_metric(y_pred, y_test, show_cm=False)"
   ]
  },
  {
   "cell_type": "markdown",
   "metadata": {},
   "source": [
    "### Nearest Neighbours"
   ]
  },
  {
   "cell_type": "code",
   "execution_count": 136,
   "metadata": {
    "collapsed": false
   },
   "outputs": [
    {
     "name": "stdout",
     "output_type": "stream",
     "text": [
      "KNeighborsClassifier()\n",
      "----------\n",
      "Tranining Score\n",
      "------------------------------------------------\n",
      "AC Score: 0.559169472503\n",
      "F1 Score: 0.578654986254\n",
      "Testing Score\n",
      "------------------------------------------------\n",
      "AC Score: 0.697575757576\n",
      "F1 Score: 0.712123828668\n"
     ]
    }
   ],
   "source": [
    "from sklearn.neighbors import KNeighborsClassifier\n",
    "\n",
    "# modelling\n",
    "clf_knn = KNeighborsClassifier()\n",
    "clf_knn.fit(X_test, y_test)\n",
    "\n",
    "# metric\n",
    "y_train_pred = clf_knn.predict(X_train)\n",
    "y_pred = clf_knn.predict(X_test)\n",
    "print('KNeighborsClassifier()')\n",
    "print('----------')\n",
    "print('Tranining Score')\n",
    "check_metric(y_train_pred, y_train, show_cm=False)\n",
    "print('Testing Score')\n",
    "check_metric(y_pred, y_test, show_cm=False)"
   ]
  },
  {
   "cell_type": "markdown",
   "metadata": {},
   "source": [
    "### Random Forest"
   ]
  },
  {
   "cell_type": "code",
   "execution_count": 139,
   "metadata": {
    "collapsed": false,
    "scrolled": false
   },
   "outputs": [
    {
     "name": "stdout",
     "output_type": "stream",
     "text": [
      "RandomForestClassifier(random_state=192)\n",
      "----------\n",
      "Tranining Score\n",
      "------------------------------------------------\n",
      "AC Score: 0.984646464646\n",
      "F1 Score: 0.984711501502\n",
      "Testing Score\n",
      "------------------------------------------------\n",
      "AC Score: 0.796498316498\n",
      "F1 Score: 0.803530383556\n"
     ]
    }
   ],
   "source": [
    "from sklearn.ensemble import RandomForestClassifier\n",
    "\n",
    "clf_rf = RandomForestClassifier(random_state=192)\n",
    "clf_rf = clf_rf.fit(X_train, y_train)\n",
    "\n",
    "y_pred = clf_rf.predict(X_test)\n",
    "\n",
    "# metric\n",
    "y_train_pred = clf_rf.predict(X_train)\n",
    "y_pred = clf_rf.predict(X_test)\n",
    "print('RandomForestClassifier(random_state=192)')\n",
    "print('----------')\n",
    "print('Tranining Score')\n",
    "check_metric(y_train_pred, y_train, show_cm=False)\n",
    "print('Testing Score')\n",
    "check_metric(y_pred, y_test, show_cm=False)"
   ]
  },
  {
   "cell_type": "code",
   "execution_count": null,
   "metadata": {
    "collapsed": false
   },
   "outputs": [],
   "source": [
    "print(list(zip(X.columns, clf_rf.feature_importances_)))"
   ]
  },
  {
   "cell_type": "raw",
   "metadata": {
    "collapsed": false
   },
   "source": [
    "plt.title('Random Forest - Features Importance - Histogram')\n",
    "plt.ylabel('No.of Features')\n",
    "plt.xlabel('Feature Importance')\n",
    "\n",
    "_ = sns.distplot(clf_rf.feature_importances_ * 100, bins=20, hist=True, kde=False)"
   ]
  },
  {
   "cell_type": "raw",
   "metadata": {
    "collapsed": false
   },
   "source": [
    "plt.title('Random Forest - Features (relative*) Importance - Histogram')\n",
    "plt.ylabel('No.of Features')\n",
    "plt.xlabel('Feature Importance - Bin size is 5')\n",
    "\n",
    "tmp = 100 * (clf_rf.feature_importances_  - min(clf_rf.feature_importances_)) / max(clf_rf.feature_importances_)\n",
    "\n",
    "_ = sns.distplot(tmp, bins=20, hist=True, kde=False)"
   ]
  },
  {
   "cell_type": "raw",
   "metadata": {
    "collapsed": false,
    "scrolled": true
   },
   "source": [
    "bag = []\n",
    "kbest_selected_cols = []\n",
    "for col, score in zip(X.columns, tmp):\n",
    "    if score < 5:\n",
    "        bag.append(col)\n",
    "    else:\n",
    "        kbest_selected_cols.append(col)\n",
    "\n",
    "print('Removed Cols:', bag)\n",
    "print('Rest of Cols', kbest_selected_cols)"
   ]
  },
  {
   "cell_type": "code",
   "execution_count": null,
   "metadata": {
    "collapsed": false
   },
   "outputs": [],
   "source": [
    "X[kbest_selected_cols].size / 40., X[kbest_selected_cols].shape"
   ]
  },
  {
   "cell_type": "code",
   "execution_count": null,
   "metadata": {
    "collapsed": false,
    "scrolled": false
   },
   "outputs": [],
   "source": [
    "\n",
    "# n_estimators=150, criterion='entropy', class_weight=\"balanced_subsample\", \n",
    "\n",
    "clf_rf = RandomForestClassifier(random_state=192, n_jobs=-1)\n",
    "# class_weight=\"balanced_subsample\"/\"balanced\"\n",
    "# criterion=\"gini\"/\"entropy\"\n",
    "\n",
    "clf_rf = clf_rf.fit(X_train[kbest_selected_cols], y_train)\n",
    "# pred = clf_rf.predict_proba(X_test)\n",
    "clf_rf.score(X_test[kbest_selected_cols], y_test)"
   ]
  },
  {
   "cell_type": "raw",
   "metadata": {},
   "source": [
    "# Random Forest with KBEST"
   ]
  },
  {
   "cell_type": "raw",
   "metadata": {},
   "source": [
    "\n",
    "# n_estimators=150, criterion='entropy', class_weight=\"balanced_subsample\", \n",
    "\n",
    "clf_rf = RandomForestClassifier(random_state=192, n_jobs=-1)\n",
    "# class_weight=\"balanced_subsample\"/\"balanced\"\n",
    "# criterion=\"gini\"/\"entropy\"\n",
    "\n",
    "clf_rf = clf_rf.fit(X_train[kbest_selected_cols], y_train)\n",
    "# pred = clf_rf.predict_proba(X_test)\n",
    "clf_rf.score(X_test[kbest_selected_cols], y_test)\n",
    "\n",
    "### SVM"
   ]
  },
  {
   "cell_type": "raw",
   "metadata": {
    "collapsed": true
   },
   "source": [
    "from sklearn import svm\n",
    "\n",
    "clf_svm = svm.SVC(kernel='linear')\n",
    "\n",
    "limit = 500\n",
    "clf_svm = clf_svm.fit(X_train[:limit], y_train[:limit])\n",
    "print('')\n",
    "print('Score:' + str(clf_svm.score(X_test, y_test)))\n",
    "print('')"
   ]
  },
  {
   "cell_type": "markdown",
   "metadata": {},
   "source": [
    "## Model selection Evaluation"
   ]
  },
  {
   "cell_type": "code",
   "execution_count": null,
   "metadata": {
    "collapsed": false,
    "scrolled": false
   },
   "outputs": [],
   "source": [
    "# metric\n",
    "for clf in [clf_gbt,\n",
    "#             clf_knn,\n",
    "            clf_rf]:\n",
    "    y_train_pred = clf.predict(X_train)\n",
    "    y_pred = clf.predict(X_test)\n",
    "    print(clf)\n",
    "#     print('----------')\n",
    "#     print('Training Score')\n",
    "#     check_metric(y_train_pred, y_train)\n",
    "    print('----------')\n",
    "    print('Testing Score')\n",
    "    check_metric(y_pred, y_test)"
   ]
  },
  {
   "cell_type": "markdown",
   "metadata": {},
   "source": [
    "### Multi Class"
   ]
  },
  {
   "cell_type": "code",
   "execution_count": null,
   "metadata": {
    "collapsed": true
   },
   "outputs": [],
   "source": [
    "from sklearn.multiclass import OneVsOneClassifier, OneVsRestClassifier"
   ]
  },
  {
   "cell_type": "markdown",
   "metadata": {},
   "source": [
    "** One Vs One **"
   ]
  },
  {
   "cell_type": "code",
   "execution_count": null,
   "metadata": {
    "collapsed": false
   },
   "outputs": [],
   "source": [
    "clf_multiclass_rf = OneVsOneClassifier(RandomForestClassifier(\n",
    "    n_estimators=200,criterion='entropy', class_weight=\"balanced_subsample\",\n",
    "    random_state=192, n_jobs=-1\n",
    "))\n",
    "\n",
    "clf_multiclass_rf = clf_multiclass_rf.fit(X_train, y_train)\n",
    "\n",
    "print('Classifier:', clf_multiclass_rf)\n",
    "\n",
    "print('Score:', clf_multiclass_rf.score(X_train, y_train))\n",
    "# print('Score:', clf_multiclass_rf.score(X_test, y_test))\n",
    "\n",
    "y_pred = clf_multiclass_rf.predict(X_test)\n",
    "check_metric(y_pred, y_test)\n",
    "# Score: 0.999775533109\n",
    "# Score: 0.813602693603"
   ]
  },
  {
   "cell_type": "markdown",
   "metadata": {},
   "source": [
    "** One vs Rest **"
   ]
  },
  {
   "cell_type": "code",
   "execution_count": null,
   "metadata": {
    "collapsed": false,
    "scrolled": true
   },
   "outputs": [],
   "source": [
    "clf_multiclass_rf = OneVsRestClassifier(RandomForestClassifier(\n",
    "    n_estimators=200,criterion='entropy', class_weight=\"balanced_subsample\",\n",
    "    random_state=192, n_jobs=-1\n",
    "))\n",
    "\n",
    "clf_multiclass_rf = clf_multiclass_rf.fit(X_train, y_train)\n",
    "\n",
    "print('Classifier:', clf_multiclass_rf)\n",
    "print('Train Score: ', clf_multiclass_rf.score(X_train, y_train))\n",
    "# print('Test Score:', clf_multiclass_rf.score(X_test, y_test))\n",
    "\n",
    "y_pred = clf_multiclass_rf.predict(X_test)\n",
    "check_metric(y_pred, y_test)"
   ]
  },
  {
   "cell_type": "markdown",
   "metadata": {},
   "source": [
    "## Multiclass Model Selection"
   ]
  },
  {
   "cell_type": "code",
   "execution_count": null,
   "metadata": {
    "collapsed": false
   },
   "outputs": [],
   "source": [
    "# Random Forest\n",
    "clf_multiclass1_rf = OneVsOneClassifier(RandomForestClassifier(\n",
    "    random_state=192, n_jobs=-1\n",
    "))\n",
    "clf_multiclass2_rf = OneVsRestClassifier(RandomForestClassifier(\n",
    "    random_state=192, n_jobs=-1\n",
    "))\n",
    "\n",
    "# Gradient Boosting\n",
    "clf_multiclass1_gb = OneVsOneClassifier(GradientBoostingClassifier(\n",
    "    random_state=192\n",
    "))\n",
    "clf_multiclass2_gb = OneVsRestClassifier(GradientBoostingClassifier(\n",
    "    random_state=192\n",
    "))\n",
    "\n",
    "\n",
    "clf_multiclass1_rf = clf_multiclass1_rf.fit(X_train, y_train)\n",
    "clf_multiclass2_rf = clf_multiclass2_rf.fit(X_train, y_train)\n",
    "clf_multiclass1_gb = clf_multiclass1_gb.fit(X_train, y_train)\n",
    "clf_multiclass2_gb = clf_multiclass2_gb.fit(X_train, y_train)"
   ]
  },
  {
   "cell_type": "code",
   "execution_count": null,
   "metadata": {
    "collapsed": false,
    "scrolled": false
   },
   "outputs": [],
   "source": [
    "for clf in [clf_multiclass1_gb, clf_multiclass2_gb, clf_multiclass1_rf, clf_multiclass2_rf]:\n",
    "    y_train_pred = clf.predict(X_train)\n",
    "    y_pred = clf.predict(X_test)\n",
    "    print('---------------------------------------------------------------------------')\n",
    "    print(clf)\n",
    "    print('---------------------------------------------------------------------------')\n",
    "    print('Training Score')\n",
    "    check_metric(y_train_pred, y_train)\n",
    "    print('---------------------------------------------------------------------------')\n",
    "    print('Testing Score')\n",
    "    check_metric(y_pred, y_test)"
   ]
  },
  {
   "cell_type": "markdown",
   "metadata": {},
   "source": [
    "## Parameter tuning\n",
    "\n",
    "\n",
    "From above analysis we can see that Random Forest CLF performed better than most other and so here we shall optimise it."
   ]
  },
  {
   "cell_type": "code",
   "execution_count": 141,
   "metadata": {
    "collapsed": true
   },
   "outputs": [],
   "source": [
    "from sklearn.model_selection import GridSearchCV\n",
    "from sklearn.model_selection import RandomizedSearchCV"
   ]
  },
  {
   "cell_type": "markdown",
   "metadata": {},
   "source": [
    "### Random Forest"
   ]
  },
  {
   "cell_type": "code",
   "execution_count": null,
   "metadata": {
    "collapsed": false
   },
   "outputs": [],
   "source": [
    "# max_features\n",
    "np.sqrt(len(X_train.columns)), np.log(len(X_train.columns))"
   ]
  },
  {
   "cell_type": "code",
   "execution_count": null,
   "metadata": {
    "collapsed": false
   },
   "outputs": [],
   "source": [
    "np.log2(len(X_train.columns)), np.sqrt (len(X_train.columns)), len(X_train.columns)"
   ]
  },
  {
   "cell_type": "code",
   "execution_count": null,
   "metadata": {
    "collapsed": false
   },
   "outputs": [],
   "source": [
    "'balanced_subsample balanced'.split(), 'gini entropy'.split()"
   ]
  },
  {
   "cell_type": "code",
   "execution_count": null,
   "metadata": {
    "collapsed": false
   },
   "outputs": [],
   "source": [
    "parameters = {\n",
    "    'n_estimators': [10, 50, 100, 150, 200],\n",
    "    'class_weight': ['balanced_subsample', 'balanced'],\n",
    "    'criterion': ['gini', 'entropy'],\n",
    "    'max_features': ['log2', 'auto', 25],\n",
    "    'random_state': [192]\n",
    "}\n",
    "\n",
    "# clf_rf = RandomForestClassifier(n_estimators=150, criterion='entropy', class_weight=\"balanced_subsample\", n_jobs=-1, random_state=192)\n",
    "# 0.81346801346801345\n",
    "\n",
    "GS_CV = RandomizedSearchCV(RandomForestClassifier(), parameters)\n",
    "\n",
    "GS_CV.fit(X, y)"
   ]
  },
  {
   "cell_type": "code",
   "execution_count": null,
   "metadata": {
    "collapsed": false
   },
   "outputs": [],
   "source": [
    "print(GS_CV.best_params_, GS_CV.best_score_)\n",
    "# {'n_estimators': 200, 'max_features': 'log2', 'random_state': 192, 'criterion': 'entropy',\n",
    "#  'class_weight': 'balanced_subsample'} 0.806717171717"
   ]
  },
  {
   "cell_type": "code",
   "execution_count": null,
   "metadata": {
    "collapsed": true
   },
   "outputs": [],
   "source": [
    "cv_results = pd.DataFrame(GS_CV.cv_results_, columns=[u'mean_fit_time', u'mean_score_time', u'mean_test_score',\n",
    "       u'mean_train_score', u'param_class_weight', u'param_criterion',\n",
    "       u'param_max_features', u'param_n_estimators', u'params'])"
   ]
  },
  {
   "cell_type": "code",
   "execution_count": null,
   "metadata": {
    "collapsed": false
   },
   "outputs": [],
   "source": [
    "cv_results.head(2)"
   ]
  },
  {
   "cell_type": "code",
   "execution_count": null,
   "metadata": {
    "collapsed": true
   },
   "outputs": [],
   "source": [
    "import seaborn as sns\n",
    "sns.set(color_codes=True)\n",
    "\n",
    "np.random.seed(sum(map(ord, \"regression\")))\n",
    "tips = sns.load_dataset(\"tips\")"
   ]
  },
  {
   "cell_type": "code",
   "execution_count": null,
   "metadata": {
    "collapsed": false
   },
   "outputs": [],
   "source": [
    "ax=plt.figure(figsize=(8,8))\n",
    "_ = sns.lmplot(x=\"mean_test_score\", y=\"mean_train_score\", hue=\"param_max_features\", data=cv_results)"
   ]
  },
  {
   "cell_type": "markdown",
   "metadata": {},
   "source": [
    "\n",
    "* Checking \"clf_rf\" RF performance"
   ]
  },
  {
   "cell_type": "raw",
   "metadata": {
    "collapsed": false
   },
   "source": [
    "sam_confusion_maxtrix(y_test, clf_rf.predict(X_test), ['func', 'non f', 'repair'])"
   ]
  },
  {
   "cell_type": "markdown",
   "metadata": {},
   "source": [
    "### GBT"
   ]
  },
  {
   "cell_type": "code",
   "execution_count": 143,
   "metadata": {
    "collapsed": true
   },
   "outputs": [],
   "source": [
    "GradientBoostingClassifier?"
   ]
  },
  {
   "cell_type": "code",
   "execution_count": null,
   "metadata": {
    "collapsed": true
   },
   "outputs": [],
   "source": [
    "parameters = {\n",
    "    '': [],\n",
    "}"
   ]
  },
  {
   "cell_type": "code",
   "execution_count": null,
   "metadata": {
    "collapsed": true
   },
   "outputs": [],
   "source": []
  },
  {
   "cell_type": "markdown",
   "metadata": {},
   "source": [
    "## XGBOOST"
   ]
  },
  {
   "cell_type": "raw",
   "metadata": {
    "collapsed": true
   },
   "source": [
    "import xgboost as xgb"
   ]
  },
  {
   "cell_type": "raw",
   "metadata": {
    "collapsed": false
   },
   "source": [
    "gbm = xgb.XGBClassifier(max_depth=3, n_estimators=100, learning_rate=0.05).fit(X_train, y_train)\n",
    "\n",
    "gbm_predictions = gbm.predict(X_test)"
   ]
  },
  {
   "cell_type": "raw",
   "metadata": {
    "collapsed": false
   },
   "source": [
    "print(sum(gbm_predictions == y_test)/ (1.0 * len(y_test)) # 0.7279461279461279)"
   ]
  },
  {
   "cell_type": "raw",
   "metadata": {},
   "source": [
    "sam_confusion_maxtrix(y_test, predictions)"
   ]
  },
  {
   "cell_type": "markdown",
   "metadata": {},
   "source": [
    "# Submission"
   ]
  },
  {
   "cell_type": "markdown",
   "metadata": {},
   "source": [
    "**Model Selection**\n",
    "\n",
    "+ Check for which model is performing best and using it.\n",
    "+ Check to apply the one-vs-many//one-vs-one wrapper.\n",
    "+ Check for 'test_train_split' for which X,y to be used for training"
   ]
  },
  {
   "cell_type": "code",
   "execution_count": null,
   "metadata": {
    "collapsed": false
   },
   "outputs": [],
   "source": [
    "GS_CV.best_params_"
   ]
  },
  {
   "cell_type": "code",
   "execution_count": null,
   "metadata": {
    "collapsed": false,
    "scrolled": false
   },
   "outputs": [],
   "source": [
    "clf_rf = OneVsOneClassifier(RandomForestClassifier(n_estimators=150,\n",
    "random_state=192,\n",
    "max_features='log2',\n",
    "class_weight='balanced_subsample',\n",
    "criterion='gini'))\n",
    "\n",
    "print (clf_rf)\n",
    "\n",
    "clf_rf = clf_rf.fit(X, y)"
   ]
  },
  {
   "cell_type": "code",
   "execution_count": null,
   "metadata": {
    "collapsed": false
   },
   "outputs": [],
   "source": [
    "# saving the index\n",
    "test_ids = RAW_TEST_X.index\n",
    "\n",
    "# predicint the values\n",
    "predictions = clf_rf.predict(TEST_X)\n",
    "print(predictions.shape)\n",
    "\n",
    "# Converting int to its respective Labels\n",
    "predictions_labels = le.inverse_transform(predictions)\n",
    "\n",
    "# setting up column name & save file\n",
    "sub = pd.DataFrame(predictions_labels, columns=['status_group'])\n",
    "sub.head()\n",
    "sub.insert(loc=0, column='id', value=test_ids)\n",
    "sub.reset_index()\n",
    "sub.to_csv('submit.csv', index=False)\n",
    "sub.head()"
   ]
  },
  {
   "cell_type": "code",
   "execution_count": null,
   "metadata": {
    "collapsed": true
   },
   "outputs": [],
   "source": []
  },
  {
   "cell_type": "code",
   "execution_count": null,
   "metadata": {
    "collapsed": false
   },
   "outputs": [],
   "source": []
  },
  {
   "cell_type": "code",
   "execution_count": null,
   "metadata": {
    "collapsed": true
   },
   "outputs": [],
   "source": []
  }
 ],
 "metadata": {
  "anaconda-cloud": {},
  "kernelspec": {
   "display_name": "Python 3",
   "language": "python",
   "name": "python3"
  },
  "language_info": {
   "codemirror_mode": {
    "name": "ipython",
    "version": 3
   },
   "file_extension": ".py",
   "mimetype": "text/x-python",
   "name": "python",
   "nbconvert_exporter": "python",
   "pygments_lexer": "ipython3",
   "version": "3.5.2"
  },
  "toc": {
   "colors": {
    "hover_highlight": "#DAA520",
    "running_highlight": "#FF0000",
    "selected_highlight": "#FFD700"
   },
   "moveMenuLeft": true,
   "nav_menu": {
    "height": "462px",
    "width": "252px"
   },
   "navigate_menu": true,
   "number_sections": true,
   "sideBar": true,
   "threshold": 4,
   "toc_cell": false,
   "toc_section_display": "block",
   "toc_window_display": false
  },
  "widgets": {
   "state": {
    "034ac6993cda42e0a3b7dacf79b00d2f": {
     "views": [
      {
       "cell_index": 56
      }
     ]
    },
    "c731c422cc3b43088c7b596ce39cf111": {
     "views": [
      {
       "cell_index": 56
      }
     ]
    },
    "cabc57e5eef349e0bdb49ef3bdf9c4e7": {
     "views": [
      {
       "cell_index": 56
      }
     ]
    }
   },
   "version": "1.2.0"
  }
 },
 "nbformat": 4,
 "nbformat_minor": 0
}
