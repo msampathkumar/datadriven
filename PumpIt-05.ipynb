{
 "cells": [
  {
   "cell_type": "markdown",
   "metadata": {},
   "source": [
    "# Refinement"
   ]
  },
  {
   "cell_type": "markdown",
   "metadata": {},
   "source": [
    "Mostly a replicaiton of what was done if Pump-02, where we did data transformation and GridCV Selection.\n",
    "\n",
    "As we futher took the data transformation of Variance Threshold checking and KBest Features selection, we need to recheck our evaluation methods"
   ]
  },
  {
   "cell_type": "code",
   "execution_count": 60,
   "metadata": {
    "collapsed": true
   },
   "outputs": [],
   "source": [
    "import numpy as np\n",
    "import pandas as pd\n",
    "import matplotlib.pyplot as plt\n",
    "import seaborn as sns\n",
    "import pickle\n",
    "import xgboost as xgb\n",
    "\n",
    "from sklearn.model_selection import cross_val_score, train_test_split, GridSearchCV, RandomizedSearchCV\n",
    "from scripts.tools import sam_pickle_load, df_check_stats, check_metric\n",
    "from sklearn.pipeline import Pipeline, FeatureUnion\n",
    "from sklearn.model_selection import GridSearchCV, RandomizedSearchCV\n",
    "from sklearn.feature_selection import chi2, SelectPercentile, VarianceThreshold, SelectKBest\n",
    "from sklearn.ensemble import GradientBoostingClassifier\n",
    "\n",
    "%matplotlib inline\n",
    "\n",
    "\n",
    "np.set_printoptions(precision=5)\n",
    "np.random.seed(69572)\n",
    "plt.style.use('ggplot')\n",
    "sns.set(color_codes=True)\n",
    "\n",
    "crazy_list = dir()"
   ]
  },
  {
   "cell_type": "code",
   "execution_count": 61,
   "metadata": {
    "collapsed": false
   },
   "outputs": [
    {
     "name": "stdout",
     "output_type": "stream",
     "text": [
      "Length of dir(): 150\n"
     ]
    }
   ],
   "source": [
    "for each in dir():\n",
    "    if each not in crazy_list:\n",
    "        del each\n",
    "\n",
    "print('Length of dir():', len(dir()))"
   ]
  },
  {
   "cell_type": "code",
   "execution_count": 62,
   "metadata": {
    "collapsed": false
   },
   "outputs": [
    {
     "name": "stdout",
     "output_type": "stream",
     "text": [
      "LOAD PREFIX USED:  tmp/Iteration2_final_\n"
     ]
    }
   ],
   "source": [
    "X, y, TEST_X = sam_pickle_load(prefix='tmp/Iteration2_final_')\n",
    "\n",
    "# preprocess dataset, split into training and test part\n",
    "# X_train, X_test, y_train, y_test =  train_test_split(X, y, test_size=.25, random_state=42)"
   ]
  },
  {
   "cell_type": "code",
   "execution_count": 63,
   "metadata": {
    "collapsed": false
   },
   "outputs": [
    {
     "data": {
      "text/html": [
       "<div>\n",
       "<table border=\"1\" class=\"dataframe\">\n",
       "  <thead>\n",
       "    <tr style=\"text-align: right;\">\n",
       "      <th></th>\n",
       "      <th>date_recorded</th>\n",
       "      <th>funder</th>\n",
       "      <th>gps_height</th>\n",
       "      <th>installer</th>\n",
       "      <th>longitude</th>\n",
       "      <th>latitude</th>\n",
       "      <th>basin</th>\n",
       "      <th>region</th>\n",
       "      <th>population</th>\n",
       "      <th>public_meeting</th>\n",
       "      <th>...</th>\n",
       "      <th>payment_type</th>\n",
       "      <th>quality_group</th>\n",
       "      <th>quantity</th>\n",
       "      <th>quantity_group</th>\n",
       "      <th>source</th>\n",
       "      <th>waterpoint_type</th>\n",
       "      <th>date_recorded_month</th>\n",
       "      <th>Area</th>\n",
       "      <th>Population02</th>\n",
       "      <th>Population12</th>\n",
       "    </tr>\n",
       "    <tr>\n",
       "      <th>id</th>\n",
       "      <th></th>\n",
       "      <th></th>\n",
       "      <th></th>\n",
       "      <th></th>\n",
       "      <th></th>\n",
       "      <th></th>\n",
       "      <th></th>\n",
       "      <th></th>\n",
       "      <th></th>\n",
       "      <th></th>\n",
       "      <th></th>\n",
       "      <th></th>\n",
       "      <th></th>\n",
       "      <th></th>\n",
       "      <th></th>\n",
       "      <th></th>\n",
       "      <th></th>\n",
       "      <th></th>\n",
       "      <th></th>\n",
       "      <th></th>\n",
       "      <th></th>\n",
       "    </tr>\n",
       "  </thead>\n",
       "  <tbody>\n",
       "    <tr>\n",
       "      <th>69572</th>\n",
       "      <td>54</td>\n",
       "      <td>704</td>\n",
       "      <td>1443</td>\n",
       "      <td>789</td>\n",
       "      <td>33612</td>\n",
       "      <td>6653</td>\n",
       "      <td>1</td>\n",
       "      <td>3</td>\n",
       "      <td>109</td>\n",
       "      <td>1</td>\n",
       "      <td>...</td>\n",
       "      <td>0</td>\n",
       "      <td>2</td>\n",
       "      <td>1</td>\n",
       "      <td>1</td>\n",
       "      <td>8</td>\n",
       "      <td>1</td>\n",
       "      <td>2</td>\n",
       "      <td>10</td>\n",
       "      <td>2</td>\n",
       "      <td>1</td>\n",
       "    </tr>\n",
       "    <tr>\n",
       "      <th>8776</th>\n",
       "      <td>322</td>\n",
       "      <td>793</td>\n",
       "      <td>1452</td>\n",
       "      <td>789</td>\n",
       "      <td>30637</td>\n",
       "      <td>62952</td>\n",
       "      <td>4</td>\n",
       "      <td>9</td>\n",
       "      <td>279</td>\n",
       "      <td>0</td>\n",
       "      <td>...</td>\n",
       "      <td>2</td>\n",
       "      <td>2</td>\n",
       "      <td>2</td>\n",
       "      <td>2</td>\n",
       "      <td>5</td>\n",
       "      <td>1</td>\n",
       "      <td>2</td>\n",
       "      <td>5</td>\n",
       "      <td>10</td>\n",
       "      <td>11</td>\n",
       "    </tr>\n",
       "    <tr>\n",
       "      <th>34310</th>\n",
       "      <td>313</td>\n",
       "      <td>793</td>\n",
       "      <td>738</td>\n",
       "      <td>962</td>\n",
       "      <td>53202</td>\n",
       "      <td>46457</td>\n",
       "      <td>5</td>\n",
       "      <td>8</td>\n",
       "      <td>250</td>\n",
       "      <td>1</td>\n",
       "      <td>...</td>\n",
       "      <td>5</td>\n",
       "      <td>2</td>\n",
       "      <td>1</td>\n",
       "      <td>1</td>\n",
       "      <td>0</td>\n",
       "      <td>2</td>\n",
       "      <td>1</td>\n",
       "      <td>14</td>\n",
       "      <td>4</td>\n",
       "      <td>7</td>\n",
       "    </tr>\n",
       "    <tr>\n",
       "      <th>67743</th>\n",
       "      <td>285</td>\n",
       "      <td>894</td>\n",
       "      <td>315</td>\n",
       "      <td>884</td>\n",
       "      <td>59963</td>\n",
       "      <td>611</td>\n",
       "      <td>7</td>\n",
       "      <td>12</td>\n",
       "      <td>58</td>\n",
       "      <td>1</td>\n",
       "      <td>...</td>\n",
       "      <td>2</td>\n",
       "      <td>2</td>\n",
       "      <td>0</td>\n",
       "      <td>0</td>\n",
       "      <td>3</td>\n",
       "      <td>2</td>\n",
       "      <td>0</td>\n",
       "      <td>3</td>\n",
       "      <td>7</td>\n",
       "      <td>4</td>\n",
       "    </tr>\n",
       "    <tr>\n",
       "      <th>19728</th>\n",
       "      <td>111</td>\n",
       "      <td>793</td>\n",
       "      <td>1114</td>\n",
       "      <td>789</td>\n",
       "      <td>5831</td>\n",
       "      <td>64510</td>\n",
       "      <td>4</td>\n",
       "      <td>4</td>\n",
       "      <td>0</td>\n",
       "      <td>1</td>\n",
       "      <td>...</td>\n",
       "      <td>2</td>\n",
       "      <td>2</td>\n",
       "      <td>3</td>\n",
       "      <td>3</td>\n",
       "      <td>5</td>\n",
       "      <td>1</td>\n",
       "      <td>6</td>\n",
       "      <td>7</td>\n",
       "      <td>17</td>\n",
       "      <td>17</td>\n",
       "    </tr>\n",
       "  </tbody>\n",
       "</table>\n",
       "<p>5 rows × 25 columns</p>\n",
       "</div>"
      ],
      "text/plain": [
       "       date_recorded  funder  gps_height  installer  longitude  latitude  \\\n",
       "id                                                                         \n",
       "69572             54     704        1443        789      33612      6653   \n",
       "8776             322     793        1452        789      30637     62952   \n",
       "34310            313     793         738        962      53202     46457   \n",
       "67743            285     894         315        884      59963       611   \n",
       "19728            111     793        1114        789       5831     64510   \n",
       "\n",
       "       basin  region  population  public_meeting      ...       payment_type  \\\n",
       "id                                                    ...                      \n",
       "69572      1       3         109               1      ...                  0   \n",
       "8776       4       9         279               0      ...                  2   \n",
       "34310      5       8         250               1      ...                  5   \n",
       "67743      7      12          58               1      ...                  2   \n",
       "19728      4       4           0               1      ...                  2   \n",
       "\n",
       "       quality_group  quantity  quantity_group  source  waterpoint_type  \\\n",
       "id                                                                        \n",
       "69572              2         1               1       8                1   \n",
       "8776               2         2               2       5                1   \n",
       "34310              2         1               1       0                2   \n",
       "67743              2         0               0       3                2   \n",
       "19728              2         3               3       5                1   \n",
       "\n",
       "       date_recorded_month  Area  Population02  Population12  \n",
       "id                                                            \n",
       "69572                    2    10             2             1  \n",
       "8776                     2     5            10            11  \n",
       "34310                    1    14             4             7  \n",
       "67743                    0     3             7             4  \n",
       "19728                    6     7            17            17  \n",
       "\n",
       "[5 rows x 25 columns]"
      ]
     },
     "execution_count": 63,
     "metadata": {},
     "output_type": "execute_result"
    }
   ],
   "source": [
    "X.head()"
   ]
  },
  {
   "cell_type": "code",
   "execution_count": 64,
   "metadata": {
    "collapsed": false
   },
   "outputs": [
    {
     "data": {
      "text/plain": [
       "(59400, 25)"
      ]
     },
     "execution_count": 64,
     "metadata": {},
     "output_type": "execute_result"
    }
   ],
   "source": [
    "X.shape"
   ]
  },
  {
   "cell_type": "code",
   "execution_count": 65,
   "metadata": {
    "collapsed": false
   },
   "outputs": [
    {
     "data": {
      "text/plain": [
       "date_recorded          int64\n",
       "funder                 int64\n",
       "gps_height             int64\n",
       "installer              int64\n",
       "longitude              int64\n",
       "latitude               int64\n",
       "basin                  int64\n",
       "region                 int64\n",
       "population             int64\n",
       "public_meeting         int64\n",
       "scheme_management      int64\n",
       "permit                 int64\n",
       "construction_year      int64\n",
       "extraction_type        int64\n",
       "management             int64\n",
       "payment_type           int64\n",
       "quality_group          int64\n",
       "quantity               int64\n",
       "quantity_group         int64\n",
       "source                 int64\n",
       "waterpoint_type        int64\n",
       "date_recorded_month    int64\n",
       "Area                   int64\n",
       "Population02           int64\n",
       "Population12           int64\n",
       "dtype: object"
      ]
     },
     "execution_count": 65,
     "metadata": {},
     "output_type": "execute_result"
    }
   ],
   "source": [
    "X.dtypes"
   ]
  },
  {
   "cell_type": "markdown",
   "metadata": {},
   "source": [
    "# XGboost Learning Curve\n",
    "\n",
    "Understanding of how well the models trains might help us to know if the model if learning as time procceds or its stagnated after learning just few sample of data."
   ]
  },
  {
   "cell_type": "code",
   "execution_count": 66,
   "metadata": {
    "collapsed": true
   },
   "outputs": [],
   "source": [
    "import xgboost as xgb"
   ]
  },
  {
   "cell_type": "code",
   "execution_count": 67,
   "metadata": {
    "collapsed": true
   },
   "outputs": [],
   "source": [
    "from sklearn.model_selection import learning_curve\n",
    "\n",
    "def plot_learning_curve(estimator, title, X, y, ylim=None, cv=None,\n",
    "                        n_jobs=1, train_sizes=np.linspace(.1, 1.0, 5)):\n",
    "    \"\"\"\n",
    "    Generate a simple plot of the test and training learning curve.\n",
    "\n",
    "    Parameters\n",
    "    ----------\n",
    "    estimator : object type that implements the \"fit\" and \"predict\" methods\n",
    "        An object of that type which is cloned for each validation.\n",
    "\n",
    "    title : string\n",
    "        Title for the chart.\n",
    "\n",
    "    X : array-like, shape (n_samples, n_features)\n",
    "        Training vector, where n_samples is the number of samples and\n",
    "        n_features is the number of features.\n",
    "\n",
    "    y : array-like, shape (n_samples) or (n_samples, n_features), optional\n",
    "        Target relative to X for classification or regression;\n",
    "        None for unsupervised learning.\n",
    "\n",
    "    ylim : tuple, shape (ymin, ymax), optional\n",
    "        Defines minimum and maximum yvalues plotted.\n",
    "\n",
    "    cv : int, cross-validation generator or an iterable, optional\n",
    "        Determines the cross-validation splitting strategy.\n",
    "        Possible inputs for cv are:\n",
    "          - None, to use the default 3-fold cross-validation,\n",
    "          - integer, to specify the number of folds.\n",
    "          - An object to be used as a cross-validation generator.\n",
    "          - An iterable yielding train/test splits.\n",
    "\n",
    "        For integer/None inputs, if ``y`` is binary or multiclass,\n",
    "        :class:`StratifiedKFold` used. If the estimator is not a classifier\n",
    "        or if ``y`` is neither binary nor multiclass, :class:`KFold` is used.\n",
    "\n",
    "        Refer :ref:`User Guide <cross_validation>` for the various\n",
    "        cross-validators that can be used here.\n",
    "\n",
    "    n_jobs : integer, optional\n",
    "        Number of jobs to run in parallel (default 1).\n",
    "    \"\"\"\n",
    "    plt.figure(figsize=(12, 5))\n",
    "    plt.title(title, fontsize=9)\n",
    "    if ylim is not None:\n",
    "        plt.ylim(*ylim)\n",
    "    plt.xlabel(\"Training examples\", fontsize=8)\n",
    "    plt.ylabel(\"Score\", fontsize=8)\n",
    "    plt.xticks(fontsize=8)\n",
    "    plt.yticks(fontsize=8)\n",
    "    train_sizes, train_scores, test_scores = learning_curve(\n",
    "        estimator, X, y, cv=cv, n_jobs=n_jobs, train_sizes=train_sizes)\n",
    "\n",
    "    print('---------------------------------------')\n",
    "    print('train_sizes', train_sizes)\n",
    "    print('train_scores', train_scores)\n",
    "    print('test_scores', test_scores)\n",
    "    print('---------------------------------------')\n",
    "\n",
    "    train_scores_mean = np.mean(train_scores, axis=1)\n",
    "    train_scores_std = np.std(train_scores, axis=1)\n",
    "    test_scores_mean = np.mean(test_scores, axis=1)\n",
    "    test_scores_std = np.std(test_scores, axis=1)\n",
    "    plt.grid()\n",
    "\n",
    "    plt.fill_between(train_sizes, train_scores_mean - train_scores_std,\n",
    "                     train_scores_mean + train_scores_std, alpha=0.1,\n",
    "                     color=\"r\")\n",
    "    plt.fill_between(train_sizes, test_scores_mean - test_scores_std,\n",
    "                     test_scores_mean + test_scores_std, alpha=0.1, color=\"g\")\n",
    "    plt.plot(train_sizes, train_scores_mean, 'o-', color=\"r\",\n",
    "             label=\"Training score\")\n",
    "    plt.plot(train_sizes, test_scores_mean, 'o-', color=\"g\",\n",
    "             label=\"Cross-validation score\")\n",
    "\n",
    "    plt.legend(loc=\"best\")\n",
    "    return plt"
   ]
  },
  {
   "cell_type": "code",
   "execution_count": 68,
   "metadata": {
    "collapsed": false,
    "scrolled": false
   },
   "outputs": [
    {
     "name": "stdout",
     "output_type": "stream",
     "text": [
      "---------------------------------------\n",
      "train_sizes [ 4751 10861 16971 23080 29190 35299 41409 47519]\n",
      "train_scores [[ 0.76468  0.75879  0.75879  0.75879  0.75879]\n",
      " [ 0.75251  0.74993  0.74993  0.74993  0.74993]\n",
      " [ 0.75594  0.75317  0.7524   0.7524   0.7524 ]\n",
      " [ 0.74866  0.74467  0.74987  0.74987  0.74987]\n",
      " [ 0.74752  0.74573  0.7469   0.75067  0.75067]\n",
      " [ 0.74719  0.74676  0.74824  0.74492  0.74492]\n",
      " [ 0.74822  0.74781  0.74636  0.74602  0.74629]\n",
      " [ 0.74833  0.74806  0.74863  0.74768  0.7465 ]]\n",
      "test_scores [[ 0.73933  0.72721  0.72929  0.72971  0.73363]\n",
      " [ 0.74312  0.73479  0.73569  0.7367   0.7428 ]\n",
      " [ 0.74506  0.73698  0.73998  0.7415   0.74592]\n",
      " [ 0.74674  0.73731  0.7415   0.74234  0.74836]\n",
      " [ 0.74413  0.74009  0.74268  0.74402  0.74962]\n",
      " [ 0.74657  0.74144  0.74487  0.742    0.74701]\n",
      " [ 0.74506  0.74219  0.74192  0.74436  0.74912]\n",
      " [ 0.74573  0.74127  0.74192  0.74369  0.75004]]\n",
      "---------------------------------------\n"
     ]
    },
    {
     "data": {
      "text/plain": [
       "<module 'matplotlib.pyplot' from '/Users/sampathm/miniconda3/lib/python3.5/site-packages/matplotlib/pyplot.py'>"
      ]
     },
     "execution_count": 68,
     "metadata": {},
     "output_type": "execute_result"
    },
    {
     "data": {
      "image/png": "[encoded data removed]",
      "text/plain": [
       "<matplotlib.figure.Figure at 0x109c31940>"
      ]
     },
     "metadata": {},
     "output_type": "display_data"
    }
   ],
   "source": [
    "estimator = xgb.XGBClassifier()\n",
    "\n",
    "plot_learning_curve(estimator=estimator, title='XGB Learning Curve', X=X, y=y, ylim=None, cv=5,\n",
    "                        n_jobs=1, train_sizes=np.linspace(.1, 1.0, 8))"
   ]
  },
  {
   "cell_type": "code",
   "execution_count": 69,
   "metadata": {
    "collapsed": false
   },
   "outputs": [
    {
     "data": {
      "text/plain": [
       "array([ 0.1    ,  0.22857,  0.35714,  0.48571,  0.61429,  0.74286,\n",
       "        0.87143,  1.     ])"
      ]
     },
     "execution_count": 69,
     "metadata": {},
     "output_type": "execute_result"
    }
   ],
   "source": [
    "np.linspace(.1, 1.0, 8)"
   ]
  },
  {
   "cell_type": "code",
   "execution_count": 70,
   "metadata": {
    "collapsed": false
   },
   "outputs": [
    {
     "data": {
      "text/plain": [
       "XGBClassifier(base_score=0.5, colsample_bylevel=1, colsample_bytree=1,\n",
       "       gamma=0, learning_rate=0.1, max_delta_step=0, max_depth=3,\n",
       "       min_child_weight=1, missing=None, n_estimators=100, nthread=-1,\n",
       "       objective='binary:logistic', reg_alpha=0, reg_lambda=1,\n",
       "       scale_pos_weight=1, seed=0, silent=True, subsample=1)"
      ]
     },
     "execution_count": 70,
     "metadata": {},
     "output_type": "execute_result"
    }
   ],
   "source": [
    "estimator"
   ]
  },
  {
   "cell_type": "markdown",
   "metadata": {},
   "source": [
    "As you can see from above diagram, there are 3 features to identify\n",
    "\n",
    "* Sudden drop at 10K sample point.\n",
    "* Light Green Aura of Green Line & Green Line is slowly reducing till it reached 30K sample.\n",
    "* After 30K Sample point, both the score and the green Aura sighly declined.\n",
    "* After 30K Sample point, Red Aura slowly started decreasing futher.\n",
    "\n",
    "\n",
    "Based on these features, I believe we can understand that our Xgboost learning kind of stagnated aroudn 30K records point. Overall, we can learn that Algorithm is learning well and reached it stagnation point with current parameters. So either we tune the Algorithm feature to keep learning or we can limit the training data at 30K Limit.\n",
    "\n",
    "I believe limiting data is bad as it would be a waste of valuble data, we will continue parameter tuning to keep learning."
   ]
  },
  {
   "cell_type": "code",
   "execution_count": null,
   "metadata": {
    "collapsed": true
   },
   "outputs": [],
   "source": []
  },
  {
   "cell_type": "code",
   "execution_count": null,
   "metadata": {
    "collapsed": true
   },
   "outputs": [],
   "source": []
  },
  {
   "cell_type": "code",
   "execution_count": null,
   "metadata": {
    "collapsed": true
   },
   "outputs": [],
   "source": []
  },
  {
   "cell_type": "code",
   "execution_count": null,
   "metadata": {
    "collapsed": true
   },
   "outputs": [],
   "source": []
  },
  {
   "cell_type": "markdown",
   "metadata": {},
   "source": [
    "# Fine Tuning\n",
    "\n",
    "Pipeling is a meathod of combining several transformaiton techniques and a classifier to run them one after the other"
   ]
  },
  {
   "cell_type": "code",
   "execution_count": 4,
   "metadata": {
    "collapsed": false
   },
   "outputs": [
    {
     "name": "stdout",
     "output_type": "stream",
     "text": [
      "Length of dir(): 48\n",
      "Length of dir(): 48\n"
     ]
    }
   ],
   "source": [
    "print('Length of dir():', len(dir()))\n",
    "\n",
    "for each in dir():\n",
    "    if each not in crazy_list:\n",
    "        del each\n",
    "\n",
    "print('Length of dir():', len(dir()))"
   ]
  },
  {
   "cell_type": "code",
   "execution_count": 5,
   "metadata": {
    "collapsed": false
   },
   "outputs": [
    {
     "name": "stdout",
     "output_type": "stream",
     "text": [
      "LOAD PREFIX USED:  tmp/Iteration2_final_\n"
     ]
    }
   ],
   "source": [
    "X, y, TEST_X = sam_pickle_load(prefix='tmp/Iteration2_final_')\n",
    "\n",
    "# preprocess dataset, split into training and test part\n",
    "# X_train, X_test, y_train, y_test =  train_test_split(X, y, test_size=.25, random_state=42)"
   ]
  },
  {
   "cell_type": "code",
   "execution_count": 6,
   "metadata": {
    "collapsed": false
   },
   "outputs": [
    {
     "data": {
      "text/plain": [
       "(59400, 25)"
      ]
     },
     "execution_count": 6,
     "metadata": {},
     "output_type": "execute_result"
    }
   ],
   "source": [
    "X.shape"
   ]
  },
  {
   "cell_type": "code",
   "execution_count": 8,
   "metadata": {
    "collapsed": false
   },
   "outputs": [],
   "source": [
    "threshold_fns = lambda x: (x * (1 - x))"
   ]
  },
  {
   "cell_type": "code",
   "execution_count": 17,
   "metadata": {
    "collapsed": false
   },
   "outputs": [
    {
     "data": {
      "text/plain": [
       "<matplotlib.text.Text at 0x1135dd438>"
      ]
     },
     "execution_count": 17,
     "metadata": {},
     "output_type": "execute_result"
    },
    {
     "data": {
      "image/png": "[encoded data removed]",
      "text/plain": [
       "<matplotlib.figure.Figure at 0x11358b710>"
      ]
     },
     "metadata": {},
     "output_type": "display_data"
    }
   ],
   "source": [
    "plt.figure(figsize=(12, 5))\n",
    "\n",
    "plt.title('Variance Threshold Fns : x * ( 1 - x )')\n",
    "plt.plot(np.linspace(0, 1, 15), [threshold_fns(_) for _ in np.linspace(0, 1, 15)])\n",
    "plt.xlabel('Input')\n",
    "plt.ylabel('Outuput - Threshold Values')"
   ]
  },
  {
   "cell_type": "markdown",
   "metadata": {},
   "source": [
    "Variance Threshold func, is to set the variance limit of a columns throught a Threshold Limit. Thus doing variance threshold check and removing features which more than threshold generally help ML algorithms to understand patterns.\n",
    "\n",
    "Also removing such features which has too high threshold also help ML Algo, to focus on exsiting data rather than wasting time and resource on difficult to learn features."
   ]
  },
  {
   "cell_type": "code",
   "execution_count": 20,
   "metadata": {
    "collapsed": false
   },
   "outputs": [],
   "source": [
    "#############################################################################\n",
    "# Variance Check\n",
    "vt = VarianceThreshold(threshold=(0.85 * (1 - 0.85)))\n",
    "threshold_fns = lambda x: (x * (1 - x))\n",
    "# Select K Best\n",
    "selection = SelectKBest(chi2)\n",
    "# Features Selector - Union\n",
    "combined_features = FeatureUnion([(\"vt\", vt), (\"univ_select\", selection)])\n",
    "#############################################################################\n",
    "# Classifier\n",
    "clf = xgb.XGBClassifier()\n",
    "#############################################################################\n",
    "# Piplining\n",
    "pipeline = Pipeline([(\"features\", combined_features), (\"clf\", clf)])\n",
    "\n",
    "param_grid = dict(features__vt__threshold=[threshold_fns(.65), threshold_fns(.75), threshold_fns(.85)],\n",
    "                  features__univ_select__k=[15, 20, 25],\n",
    "                  clf__n_estimators=[100, 150],\n",
    "                  clf__max_depth=[3, 5],\n",
    "                  clf__learning_rate=[.3, .1]\n",
    "                  )\n",
    "\n",
    "# grid_search = GridSearchCV(pipeline, param_grid=param_grid, verbose=10, n_jobs=3)"
   ]
  },
  {
   "cell_type": "code",
   "execution_count": 25,
   "metadata": {
    "collapsed": true
   },
   "outputs": [],
   "source": [
    "#############################################################################\n",
    "# Variance Check\n",
    "vt = VarianceThreshold(threshold=(0.85 * (1 - 0.85)))\n",
    "threshold_fns = lambda x: (x * (1 - x))\n",
    "# Select K Best\n",
    "selection = SelectKBest(chi2)\n",
    "# Features Selector - Union\n",
    "combined_features = FeatureUnion([(\"vt\", vt), (\"univ_select\", selection)])\n",
    "#############################################################################\n",
    "# Classifier\n",
    "clf = xgb.XGBClassifier()\n",
    "#############################################################################\n",
    "# Piplining\n",
    "pipeline = Pipeline([(\"features\", combined_features), (\"clf\", clf)])\n",
    "\n",
    "\n",
    "param_grid = dict(features__vt__threshold=[threshold_fns(.65), threshold_fns(.75), threshold_fns(.85)],\n",
    "                  features__univ_select__k=[15, 20, 25],\n",
    "                  clf__n_estimators=[100, 150],\n",
    "                  clf__max_depth=[3, 5],\n",
    "                  clf__learning_rate=[.3, .1]\n",
    "                  )\n",
    "\n",
    "RS = RandomizedSearchCV(pipeline, param_grid, n_iter=10, n_jobs=-1, verbose=1)"
   ]
  },
  {
   "cell_type": "code",
   "execution_count": 26,
   "metadata": {
    "collapsed": false
   },
   "outputs": [
    {
     "data": {
      "text/plain": [
       "RandomizedSearchCV(cv=None, error_score='raise',\n",
       "          estimator=Pipeline(steps=[('features', FeatureUnion(n_jobs=1,\n",
       "       transformer_list=[('vt', VarianceThreshold(threshold=0.1275)), ('univ_select', SelectKBest(k=10, score_func=<function chi2 at 0x10dfd6d90>))],\n",
       "       transformer_weights=None)), ('clf', XGBClassifier(base_score=0.5, colsample_bylevel=1, colsample_byt...logistic', reg_alpha=0, reg_lambda=1,\n",
       "       scale_pos_weight=1, seed=0, silent=True, subsample=1))]),\n",
       "          fit_params={}, iid=True, n_iter=10, n_jobs=-1,\n",
       "          param_distributions={'clf__max_depth': [3, 5], 'features__vt__threshold': [0.22749999999999998, 0.1875, 0.1275], 'clf__n_estimators': [100, 150], 'clf__learning_rate': [0.3, 0.1], 'features__univ_select__k': [15, 20, 25]},\n",
       "          pre_dispatch='2*n_jobs', random_state=None, refit=True,\n",
       "          return_train_score=True, scoring=None, verbose=1)"
      ]
     },
     "execution_count": 26,
     "metadata": {},
     "output_type": "execute_result"
    }
   ],
   "source": [
    "RS"
   ]
  },
  {
   "cell_type": "code",
   "execution_count": 27,
   "metadata": {
    "collapsed": false
   },
   "outputs": [
    {
     "name": "stdout",
     "output_type": "stream",
     "text": [
      "Fitting 3 folds for each of 10 candidates, totalling 30 fits\n"
     ]
    },
    {
     "name": "stderr",
     "output_type": "stream",
     "text": [
      "[Parallel(n_jobs=-1)]: Done  30 out of  30 | elapsed:  6.7min finished\n"
     ]
    },
    {
     "data": {
      "text/plain": [
       "RandomizedSearchCV(cv=None, error_score='raise',\n",
       "          estimator=Pipeline(steps=[('features', FeatureUnion(n_jobs=1,\n",
       "       transformer_list=[('vt', VarianceThreshold(threshold=0.1275)), ('univ_select', SelectKBest(k=10, score_func=<function chi2 at 0x10dfd6d90>))],\n",
       "       transformer_weights=None)), ('clf', XGBClassifier(base_score=0.5, colsample_bylevel=1, colsample_byt...logistic', reg_alpha=0, reg_lambda=1,\n",
       "       scale_pos_weight=1, seed=0, silent=True, subsample=1))]),\n",
       "          fit_params={}, iid=True, n_iter=10, n_jobs=-1,\n",
       "          param_distributions={'clf__max_depth': [3, 5], 'features__vt__threshold': [0.22749999999999998, 0.1875, 0.1275], 'clf__n_estimators': [100, 150], 'clf__learning_rate': [0.3, 0.1], 'features__univ_select__k': [15, 20, 25]},\n",
       "          pre_dispatch='2*n_jobs', random_state=None, refit=True,\n",
       "          return_train_score=True, scoring=None, verbose=1)"
      ]
     },
     "execution_count": 27,
     "metadata": {},
     "output_type": "execute_result"
    }
   ],
   "source": [
    "RS.fit(X,y)"
   ]
  },
  {
   "cell_type": "code",
   "execution_count": 28,
   "metadata": {
    "collapsed": false
   },
   "outputs": [
    {
     "data": {
      "text/plain": [
       "Pipeline(steps=[('features', FeatureUnion(n_jobs=1,\n",
       "       transformer_list=[('vt', VarianceThreshold(threshold=0.22749999999999998)), ('univ_select', SelectKBest(k=15, score_func=<function chi2 at 0x10dfd6d90>))],\n",
       "       transformer_weights=None)), ('clf', XGBClassifier(base_score=0.5, colsample_bylevel=1, ...softprob', reg_alpha=0, reg_lambda=1,\n",
       "       scale_pos_weight=1, seed=0, silent=True, subsample=1))])"
      ]
     },
     "execution_count": 28,
     "metadata": {},
     "output_type": "execute_result"
    }
   ],
   "source": [
    "RS.best_estimator_"
   ]
  },
  {
   "cell_type": "code",
   "execution_count": 30,
   "metadata": {
    "collapsed": false,
    "scrolled": true
   },
   "outputs": [
    {
     "data": {
      "text/plain": [
       "({'clf__learning_rate': 0.3,\n",
       "  'clf__max_depth': 5,\n",
       "  'clf__n_estimators': 100,\n",
       "  'features__univ_select__k': 15,\n",
       "  'features__vt__threshold': 0.22749999999999998},\n",
       " 0.79138047138047141)"
      ]
     },
     "execution_count": 30,
     "metadata": {},
     "output_type": "execute_result"
    }
   ],
   "source": [
    "RS.best_params_, RS.best_score_"
   ]
  },
  {
   "cell_type": "markdown",
   "metadata": {},
   "source": [
    "__ Learning Curve of Best Param __"
   ]
  },
  {
   "cell_type": "code",
   "execution_count": 31,
   "metadata": {
    "collapsed": true
   },
   "outputs": [],
   "source": [
    "#############################################################################\n",
    "# Variance Check\n",
    "vt = VarianceThreshold(threshold=0.22749999999999998)\n",
    "\n",
    "# Select K Best\n",
    "selection = SelectKBest(chi2, k=15)\n",
    "\n",
    "# Features Selector - Union\n",
    "combined_features = FeatureUnion([(\"vt\", vt), (\"univ_select\", selection)])\n",
    "#############################################################################\n",
    "# Classifier\n",
    "clf = xgb.XGBClassifier(learning_rate=0.3, n_estimators=100, max_depth=5)\n",
    "#############################################################################\n",
    "# Piplining\n",
    "# pipeline = Pipeline([(\"features\", combined_features), (\"clf\", clf)])"
   ]
  },
  {
   "cell_type": "code",
   "execution_count": 34,
   "metadata": {
    "collapsed": true
   },
   "outputs": [],
   "source": [
    "X_new = combined_features.fit_transform(X, y)"
   ]
  },
  {
   "cell_type": "code",
   "execution_count": 45,
   "metadata": {
    "collapsed": false
   },
   "outputs": [
    {
     "data": {
      "text/plain": [
       "array([ 0.1    ,  0.22857,  0.35714,  0.48571,  0.61429,  0.74286,\n",
       "        0.87143,  1.     ])"
      ]
     },
     "execution_count": 45,
     "metadata": {},
     "output_type": "execute_result"
    }
   ],
   "source": [
    "np.linspace(.1, 1.0, 8)"
   ]
  },
  {
   "cell_type": "code",
   "execution_count": 46,
   "metadata": {
    "collapsed": false
   },
   "outputs": [
    {
     "name": "stdout",
     "output_type": "stream",
     "text": [
      "---------------------------------------\n",
      "train_sizes [24325 29417 34508 39600]\n",
      "train_scores [[ 0.83651  0.83276  0.83959]\n",
      " [ 0.82881  0.82857  0.83258]\n",
      " [ 0.82595  0.82613  0.82987]\n",
      " [ 0.82629  0.82409  0.82439]]\n",
      "test_scores [[ 0.78394  0.78783  0.78434]\n",
      " [ 0.78697  0.78793  0.78591]\n",
      " [ 0.78798  0.79288  0.78758]\n",
      " [ 0.78985  0.79495  0.78934]]\n",
      "---------------------------------------\n"
     ]
    },
    {
     "data": {
      "text/plain": [
       "<module 'matplotlib.pyplot' from '/Users/sampathm/miniconda3/lib/python3.5/site-packages/matplotlib/pyplot.py'>"
      ]
     },
     "execution_count": 46,
     "metadata": {},
     "output_type": "execute_result"
    },
    {
     "data": {
      "image/png": "[encoded data removed]",
      "text/plain": [
       "<matplotlib.figure.Figure at 0x11491a6a0>"
      ]
     },
     "metadata": {},
     "output_type": "display_data"
    }
   ],
   "source": [
    "plot_learning_curve(estimator=clf,\n",
    "                    title='Tuned - XGB Learning Curve',\n",
    "#                     X=X, # Optimised to X_new\n",
    "                    X=X_new,\n",
    "                    y=y, ylim=None, cv=3,\n",
    "                    n_jobs=1,\n",
    "#                     train_sizes=np.linspace(.1, 1.0, 8), # optimising search space\n",
    "                    train_sizes=[0.61429, 0.74286, 0.87143, 1.0 ]\n",
    "                   )"
   ]
  },
  {
   "cell_type": "markdown",
   "metadata": {},
   "source": [
    "# Submit"
   ]
  },
  {
   "cell_type": "code",
   "execution_count": 57,
   "metadata": {
    "collapsed": false
   },
   "outputs": [
    {
     "name": "stdout",
     "output_type": "stream",
     "text": [
      "LOAD PREFIX USED:  tmp/Iteration2_final_\n"
     ]
    }
   ],
   "source": [
    "# Load Data\n",
    "X, y, TEST_X = sam_pickle_load(prefix='tmp/Iteration2_final_')\n",
    "\n",
    "# Variance Check\n",
    "vt = VarianceThreshold(threshold=0.22749999999999998)\n",
    "\n",
    "# Select K Best\n",
    "selection = SelectKBest(chi2, k=15)\n",
    "\n",
    "# Features Selector - Union\n",
    "combined_features = FeatureUnion([(\"vt\", vt), (\"univ_select\", selection)])\n",
    "\n",
    "# saving the index\n",
    "test_ids = TEST_X.index\n",
    "\n",
    "# Data Transformations\n",
    "X = combined_features.fit_transform(X, y)\n",
    "TEST_X = combined_features.transform(TEST_X)"
   ]
  },
  {
   "cell_type": "code",
   "execution_count": 58,
   "metadata": {
    "collapsed": false
   },
   "outputs": [],
   "source": [
    "# Classifier modeling\n",
    "clf = xgb.XGBClassifier(learning_rate=0.3, n_estimators=100, max_depth=5)\n",
    "\n",
    "# Classifier training\n",
    "clf = clf.fit(X_new, y)"
   ]
  },
  {
   "cell_type": "code",
   "execution_count": 59,
   "metadata": {
    "collapsed": false
   },
   "outputs": [
    {
     "name": "stdout",
     "output_type": "stream",
     "text": [
      "(14850,)\n"
     ]
    },
    {
     "data": {
      "text/html": [
       "<div>\n",
       "<table border=\"1\" class=\"dataframe\">\n",
       "  <thead>\n",
       "    <tr style=\"text-align: right;\">\n",
       "      <th></th>\n",
       "      <th>id</th>\n",
       "      <th>status_group</th>\n",
       "    </tr>\n",
       "  </thead>\n",
       "  <tbody>\n",
       "    <tr>\n",
       "      <th>0</th>\n",
       "      <td>50785</td>\n",
       "      <td>functional</td>\n",
       "    </tr>\n",
       "    <tr>\n",
       "      <th>1</th>\n",
       "      <td>51630</td>\n",
       "      <td>functional</td>\n",
       "    </tr>\n",
       "    <tr>\n",
       "      <th>2</th>\n",
       "      <td>17168</td>\n",
       "      <td>functional</td>\n",
       "    </tr>\n",
       "    <tr>\n",
       "      <th>3</th>\n",
       "      <td>45559</td>\n",
       "      <td>non functional</td>\n",
       "    </tr>\n",
       "    <tr>\n",
       "      <th>4</th>\n",
       "      <td>49871</td>\n",
       "      <td>functional</td>\n",
       "    </tr>\n",
       "  </tbody>\n",
       "</table>\n",
       "</div>"
      ],
      "text/plain": [
       "      id    status_group\n",
       "0  50785      functional\n",
       "1  51630      functional\n",
       "2  17168      functional\n",
       "3  45559  non functional\n",
       "4  49871      functional"
      ]
     },
     "execution_count": 59,
     "metadata": {},
     "output_type": "execute_result"
    }
   ],
   "source": [
    "# loading pickle to de-transform y into lables\n",
    "le = pickle.load(open('tmp/le.pkl', 'rb'))\n",
    "\n",
    "# predicint the values\n",
    "predictions = clf.predict(TEST_X)\n",
    "print(predictions.shape)\n",
    "\n",
    "# Converting int to its respective Labels\n",
    "predictions_labels = le.inverse_transform(predictions)\n",
    "\n",
    "# setting up column name & save file\n",
    "sub = pd.DataFrame(predictions_labels, columns=['status_group'])\n",
    "sub.head()\n",
    "sub.insert(loc=0, column='id', value=test_ids)\n",
    "sub.reset_index()\n",
    "sub.to_csv('submit.csv', index=False)\n",
    "sub.head()"
   ]
  }
 ],
 "metadata": {
  "kernelspec": {
   "display_name": "Python 3",
   "language": "python",
   "name": "python3"
  },
  "language_info": {
   "codemirror_mode": {
    "name": "ipython",
    "version": 3
   },
   "file_extension": ".py",
   "mimetype": "text/x-python",
   "name": "python",
   "nbconvert_exporter": "python",
   "pygments_lexer": "ipython3",
   "version": "3.5.2"
  }
 },
 "nbformat": 4,
 "nbformat_minor": 2
}
