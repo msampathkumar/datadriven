{
 "cells": [
  {
   "cell_type": "markdown",
   "metadata": {},
   "source": [
    "# Benchmark"
   ]
  },
  {
   "cell_type": "markdown",
   "metadata": {},
   "source": [
    "**Introduction:**\n",
    "Using the data gathered from Taarifa and the Tanzanian Ministry of Water, can we predict which pumps are functional, which need some repairs, and which don't work at all? Predicting one of these three classes based and a smart understanding of which waterpoints will fail, can improve the maintenance operations and ensure that clean, potable water is available to communities across Tanzania.\n",
    "\n",
    "This is also an intermediate-level competition by [DataDriven][1]! All code & support scripts are in [Github Repo][2]\n",
    "\n",
    "[1]: https://www.drivendata.org/competitions/7/ \"Link to Competetion Page\"\n",
    "[2]: https://github.com/msampathkumar/datadriven_pumpit \"User Code\""
   ]
  },
  {
   "cell_type": "code",
   "execution_count": 1,
   "metadata": {
    "collapsed": true
   },
   "outputs": [],
   "source": [
    "import numpy as np\n",
    "import pandas as pd\n",
    "import matplotlib.pyplot as plt\n",
    "import seaborn as sns\n",
    "import pickle\n",
    "\n",
    "from scripts.sam_value_counts import sam_dataframe_cols_value_count_analysis, sam_dataframe_markup_value_counts\n",
    "from scripts.sam_confusion_matrix import sam_plot_confusion_matrix, sam_confusion_maxtrix\n",
    "from scripts.sam_variance_check import get_low_variance_columns\n",
    "from scripts.tools import check_metric, data_transformations, df_check_stats, game\n",
    "\n",
    "from sklearn.model_selection import train_test_split\n",
    "from sklearn.feature_selection import SelectKBest\n",
    "from sklearn.feature_selection import chi2\n",
    "\n",
    "from sklearn.decomposition import PCA\n",
    "\n",
    "np.set_printoptions(precision=5)\n",
    "np.random.seed(69572)\n",
    "plt.style.use('ggplot')\n",
    "sns.set(color_codes=True)\n",
    "\n",
    "%matplotlib inline"
   ]
  },
  {
   "cell_type": "raw",
   "metadata": {
    "collapsed": false,
    "scrolled": true
   },
   "source": [
    "# data collection\n",
    "RAW_X = pd.read_csv('data/traning_set_values.csv', index_col='id')\n",
    "RAW_y = pd.read_csv('data/training_set_labels.csv', index_col='id')\n",
    "RAW_TEST_X = pd.read_csv('data/test_set_values.csv', index_col='id')\n",
    "\n",
    "df_check_stats(RAW_X, RAW_y, RAW_TEST_X)\n",
    "\n",
    "# bool columns\n",
    "tmp = ['public_meeting', 'permit']\n",
    "RAW_X[tmp] = RAW_X[tmp].fillna(True)\n",
    "RAW_TEST_X[tmp] = RAW_TEST_X[tmp].fillna(True)\n",
    "\n",
    "# object columns list\n",
    "obj_cols = RAW_X.dtypes[RAW_X.dtypes == 'O'].index.tolist()\n",
    "\n",
    "# object columns\n",
    "RAW_X[obj_cols] = RAW_X[obj_cols].fillna('Other')\n",
    "RAW_TEST_X[obj_cols] = RAW_TEST_X[obj_cols].fillna('Other')\n",
    "\n",
    "# Just assining new names to transformed dataframe pointers\n",
    "X, y, TEST_X = data_transformations(RAW_X, RAW_y, RAW_TEST_X)"
   ]
  },
  {
   "cell_type": "raw",
   "metadata": {},
   "source": [
    "from scripts.tools import sam_pickle_load, sam_pickle_save\n",
    "\n",
    "X, y, TEST_X = sam_pickle_load(prefix=\"tmp/Iteration2_final_\")\n",
    "df_check_stats(X, y, TEST_X)"
   ]
  },
  {
   "cell_type": "code",
   "execution_count": 4,
   "metadata": {
    "collapsed": false
   },
   "outputs": [
    {
     "name": "stdout",
     "output_type": "stream",
     "text": [
      "------------------------------------------------\n",
      "AC Score: 0.984893378227 F1 Score: 0.984967486314\n",
      "------------------------------------------------\n",
      "AC Score: 0.800269360269 F1 Score: 0.807050785296\n"
     ]
    }
   ],
   "source": [
    "# benchmark\n",
    "X_train, X_test, y_train, y_test = train_test_split(X, y, test_size=0.25,random_state=42, stratify=y)\n",
    "clf = game(X_train, X_test, y_train, y_test, algo='rf', )"
   ]
  },
  {
   "cell_type": "code",
   "execution_count": 59,
   "metadata": {
    "collapsed": false
   },
   "outputs": [
    {
     "name": "stdout",
     "output_type": "stream",
     "text": [
      "------------------------------------------------\n",
      "AC Score: 0.984848484848 F1 Score: 0.984906895824\n",
      "------------------------------------------------\n",
      "AC Score: 0.799865319865 F1 Score: 0.806462319165\n"
     ]
    }
   ],
   "source": [
    "# benchmark\n",
    "X_train, X_test, y_train, y_test = train_test_split(X, y, test_size=0.25,random_state=42, stratify=y)\n",
    "clf = game(X_train, X_test, y_train, y_test, algo='rf', )"
   ]
  },
  {
   "cell_type": "code",
   "execution_count": 5,
   "metadata": {
    "collapsed": false
   },
   "outputs": [
    {
     "name": "stdout",
     "output_type": "stream",
     "text": [
      "SAVE PREFIX USED:  tmp/Iteration0_\n",
      "Data Frame Shape: (59400, 43) TotColumns: 43 ObjectCols: 0\n",
      "Numpy Array Size: 59400\n",
      "Data Frame Shape: (14850, 43) TotColumns: 43 ObjectCols: 0\n"
     ]
    }
   ],
   "source": [
    "sam_pickle_save(X, y, TEST_X, prefix=\"tmp/Iteration0_\")\n",
    "df_check_stats(X, y, TEST_X)"
   ]
  },
  {
   "cell_type": "code",
   "execution_count": 6,
   "metadata": {
    "collapsed": false
   },
   "outputs": [
    {
     "name": "stdout",
     "output_type": "stream",
     "text": [
      "------------------------------------------------\n",
      "AC Score: 0.758249158249 F1 Score: 0.779364337278\n",
      "------------------------------------------------\n",
      "AC Score: 0.756565656566 F1 Score: 0.778507572352\n"
     ]
    }
   ],
   "source": [
    "# benchmark\n",
    "gbt_clf = game(X_train, X_test, y_train, y_test, algo='gb')"
   ]
  },
  {
   "cell_type": "code",
   "execution_count": 7,
   "metadata": {
    "collapsed": false
   },
   "outputs": [
    {
     "name": "stdout",
     "output_type": "stream",
     "text": [
      "------------------------------------------------\n",
      "AC Score: 0.727227833895 F1 Score: 0.736122325812\n",
      "------------------------------------------------\n",
      "AC Score: 0.603703703704 F1 Score: 0.616028952754\n"
     ]
    }
   ],
   "source": [
    "knn_clf = game(X_train, X_test, y_train, y_test, algo='knn')"
   ]
  },
  {
   "cell_type": "code",
   "execution_count": 8,
   "metadata": {
    "collapsed": false,
    "scrolled": true
   },
   "outputs": [
    {
     "name": "stdout",
     "output_type": "stream",
     "text": [
      "Data Frame Shape: (59400, 43) TotColumns: 43 ObjectCols: 0\n",
      "Numpy Array Size: 59400\n",
      "Data Frame Shape: (14850, 43) TotColumns: 43 ObjectCols: 0\n"
     ]
    }
   ],
   "source": [
    "df_check_stats(X, y, TEST_X)"
   ]
  },
  {
   "cell_type": "code",
   "execution_count": 9,
   "metadata": {
    "collapsed": false
   },
   "outputs": [
    {
     "name": "stdout",
     "output_type": "stream",
     "text": [
      "LOAD PREFIX USED:  tmp/Iteration0_\n",
      "Data Frame Shape: (59400, 43) TotColumns: 43 ObjectCols: 0\n",
      "Numpy Array Size: 59400\n",
      "Data Frame Shape: (14850, 43) TotColumns: 43 ObjectCols: 0\n"
     ]
    }
   ],
   "source": [
    "X, y, TEST_X = sam_pickle_load(prefix=\"tmp/Iteration0_\")\n",
    "df_check_stats(X, y, TEST_X)"
   ]
  },
  {
   "cell_type": "code",
   "execution_count": 10,
   "metadata": {
    "collapsed": false
   },
   "outputs": [
    {
     "name": "stdout",
     "output_type": "stream",
     "text": [
      "Finding low-variance features.\n",
      "Found 2 low-variance columns.\n",
      "                \n",
      "Removing low-variance features.\n",
      "Reassembling the dataframe (with low-variance features removed).\n",
      "Succesfully removed low-variance columns.\n",
      "------------------------------------------------\n",
      "AC Score: 0.800067340067 F1 Score: 0.806963721079\n"
     ]
    }
   ],
   "source": [
    "# Variance Threshold\n",
    "X, removed_features, ranking_variance_thresholds = get_low_variance_columns(dframe=X, threshold=(0.85 * (1 - 0.85)), autoremove=True)\n",
    "TEST_X.drop(removed_features, axis=1, inplace=True)\n",
    "\n",
    "# Benchmark\n",
    "X_train, X_test, y_train, y_test = train_test_split(X, y, test_size=0.25,random_state=42, stratify=y)\n",
    "clf = game(X_train, X_test, y_train, y_test, algo='rf', show_train_scores=False)"
   ]
  },
  {
   "cell_type": "code",
   "execution_count": 11,
   "metadata": {
    "collapsed": false
   },
   "outputs": [
    {
     "name": "stdout",
     "output_type": "stream",
     "text": [
      "['public_meeting', 'recorded_by']\n"
     ]
    }
   ],
   "source": [
    "print(removed_features)"
   ]
  },
  {
   "cell_type": "code",
   "execution_count": 12,
   "metadata": {
    "collapsed": true
   },
   "outputs": [],
   "source": [
    "def sam_pickle_save(df_x, df_y, df_test_x, prefix=\"tmp/Iteration1_\"):\n",
    "    print('SAVE PREFIX USED: ', prefix)\n",
    "    pickle.dump(df_x, open(prefix + 'df_x.pkl', 'wb'))\n",
    "    pickle.dump(df_y, open(prefix + 'df_y.pkl', 'wb'))\n",
    "    pickle.dump(df_test_x, open(prefix + 'df_test_x.pkl', 'wb'))\n",
    "    return\n",
    "\n",
    "def sam_pickle_load(prefix='tmp/Iteration1_'):\n",
    "    print('LOAD PREFIX USED: ', prefix)\n",
    "    df_x = pickle.load(open(prefix + 'df_x.pkl', 'rb'))\n",
    "    df_y = pickle.load(open(prefix + 'df_y.pkl', 'rb'))\n",
    "    df_test_x = pickle.load(open(prefix + 'df_test_x.pkl', 'rb'))\n",
    "    return df_x, df_y, df_test_x"
   ]
  },
  {
   "cell_type": "code",
   "execution_count": 13,
   "metadata": {
    "collapsed": false
   },
   "outputs": [
    {
     "name": "stdout",
     "output_type": "stream",
     "text": [
      "SAVE PREFIX USED:  tmp/Iteration1_vt_\n"
     ]
    }
   ],
   "source": [
    "sam_pickle_save(X, y, TEST_X, prefix=\"tmp/Iteration1_vt_\")"
   ]
  },
  {
   "cell_type": "code",
   "execution_count": 14,
   "metadata": {
    "collapsed": false
   },
   "outputs": [
    {
     "name": "stdout",
     "output_type": "stream",
     "text": [
      "LOAD PREFIX USED:  tmp/Iteration1_vt_\n"
     ]
    },
    {
     "data": {
      "text/plain": [
       "41"
      ]
     },
     "execution_count": 14,
     "metadata": {},
     "output_type": "execute_result"
    }
   ],
   "source": [
    "X, y, TEST_X = sam_pickle_load(prefix='tmp/Iteration1_vt_')\n",
    "\n",
    "len(X.columns)"
   ]
  },
  {
   "cell_type": "code",
   "execution_count": 19,
   "metadata": {
    "collapsed": true
   },
   "outputs": [],
   "source": [
    "# KBest Selection\n",
    "def find_kbest_cols_count(start=10, stop=37, step=3):\n",
    "    for kbest_cols in range(start, stop, step):\n",
    "        print('============================================================', kbest_cols)\n",
    "\n",
    "        # Load Data\n",
    "        X, y, TEST_X = sam_pickle_load(prefix='tmp/Iteration1_vt_')\n",
    "\n",
    "        fit = SelectKBest(score_func=chi2, k=kbest_cols).fit(X, y)\n",
    "        cols_names = X.columns\n",
    "        kbest_selected_cols =  [_ for _ in cols_names[:kbest_cols]]\n",
    "\n",
    "        # transformation\n",
    "        X = pd.DataFrame(fit.transform(X))\n",
    "        TEST_X = pd.DataFrame(fit.transform(TEST_X))\n",
    "\n",
    "        # check\n",
    "        # df_check_stats(X, y)\n",
    "\n",
    "        # benchmark\n",
    "        X_train, X_test, y_train, y_test = train_test_split(X, y, test_size=0.25,random_state=42, stratify=y)\n",
    "        clf = game(X_train, X_test, y_train, y_test, algo='rf', show_train_scores=False)\n",
    "    return fit, kbest_selected_cols"
   ]
  },
  {
   "cell_type": "code",
   "execution_count": 21,
   "metadata": {
    "collapsed": false
   },
   "outputs": [
    {
     "name": "stdout",
     "output_type": "stream",
     "text": [
      "============================================================ 10\n",
      "LOAD PREFIX USED:  tmp/Iteration1_vt_\n",
      "------------------------------------------------\n",
      "AC Score: 0.71771043771 F1 Score: 0.723951739882\n",
      "============================================================ 13\n",
      "LOAD PREFIX USED:  tmp/Iteration1_vt_\n",
      "------------------------------------------------\n",
      "AC Score: 0.727138047138 F1 Score: 0.734099387049\n",
      "============================================================ 16\n",
      "LOAD PREFIX USED:  tmp/Iteration1_vt_\n",
      "------------------------------------------------\n",
      "AC Score: 0.758922558923 F1 Score: 0.765612373538\n",
      "============================================================ 19\n",
      "LOAD PREFIX USED:  tmp/Iteration1_vt_\n",
      "------------------------------------------------\n",
      "AC Score: 0.755151515152 F1 Score: 0.761918045089\n",
      "============================================================ 22\n",
      "LOAD PREFIX USED:  tmp/Iteration1_vt_\n",
      "------------------------------------------------\n",
      "AC Score: 0.75898989899 F1 Score: 0.76618084531\n",
      "============================================================ 25\n",
      "LOAD PREFIX USED:  tmp/Iteration1_vt_\n",
      "------------------------------------------------\n",
      "AC Score: 0.796296296296 F1 Score: 0.802938757174\n",
      "============================================================ 28\n",
      "LOAD PREFIX USED:  tmp/Iteration1_vt_\n",
      "------------------------------------------------\n",
      "AC Score: 0.797239057239 F1 Score: 0.803260880721\n",
      "============================================================ 31\n",
      "LOAD PREFIX USED:  tmp/Iteration1_vt_\n",
      "------------------------------------------------\n",
      "AC Score: 0.800336700337 F1 Score: 0.806794962674\n",
      "============================================================ 34\n",
      "LOAD PREFIX USED:  tmp/Iteration1_vt_\n",
      "------------------------------------------------\n",
      "AC Score: 0.798114478114 F1 Score: 0.804644856414\n",
      "============================================================ 37\n",
      "LOAD PREFIX USED:  tmp/Iteration1_vt_\n",
      "------------------------------------------------\n",
      "AC Score: 0.798181818182 F1 Score: 0.80500555388\n",
      "============================================================ 40\n",
      "LOAD PREFIX USED:  tmp/Iteration1_vt_\n",
      "------------------------------------------------\n",
      "AC Score: 0.797037037037 F1 Score: 0.803555396421\n"
     ]
    }
   ],
   "source": [
    "fit, cols =  find_kbest_cols_count(start=10, stop=len(X.columns), step=3)"
   ]
  },
  {
   "cell_type": "code",
   "execution_count": 24,
   "metadata": {
    "collapsed": false
   },
   "outputs": [
    {
     "data": {
      "text/plain": [
       "<matplotlib.text.Text at 0x1112e2cc0>"
      ]
     },
     "execution_count": 24,
     "metadata": {},
     "output_type": "execute_result"
    },
    {
     "data": {
      "image/png": "[encoded data removed]",
      "text/plain": [
       "<matplotlib.figure.Figure at 0x1118bc518>"
      ]
     },
     "metadata": {},
     "output_type": "display_data"
    }
   ],
   "source": [
    "data = '''\n",
    "============================================================ 10\n",
    "LOAD PREFIX USED:  tmp/Iteration1_vt_\n",
    "------------------------------------------------\n",
    "AC Score: 0.71771043771 F1 Score: 0.723951739882\n",
    "============================================================ 13\n",
    "LOAD PREFIX USED:  tmp/Iteration1_vt_\n",
    "------------------------------------------------\n",
    "AC Score: 0.727138047138 F1 Score: 0.734099387049\n",
    "============================================================ 16\n",
    "LOAD PREFIX USED:  tmp/Iteration1_vt_\n",
    "------------------------------------------------\n",
    "AC Score: 0.758922558923 F1 Score: 0.765612373538\n",
    "============================================================ 19\n",
    "LOAD PREFIX USED:  tmp/Iteration1_vt_\n",
    "------------------------------------------------\n",
    "AC Score: 0.755151515152 F1 Score: 0.761918045089\n",
    "============================================================ 22\n",
    "LOAD PREFIX USED:  tmp/Iteration1_vt_\n",
    "------------------------------------------------\n",
    "AC Score: 0.75898989899 F1 Score: 0.76618084531\n",
    "============================================================ 23\n",
    "LOAD PREFIX USED:  tmp/Iteration1_vt_\n",
    "------------------------------------------------\n",
    "AC Score: 0.793602693603 F1 Score: 0.800408397206\n",
    "============================================================ 24\n",
    "LOAD PREFIX USED:  tmp/Iteration1_vt_\n",
    "------------------------------------------------\n",
    "AC Score: 0.798787878788 F1 Score: 0.805653347673\n",
    "============================================================ 25\n",
    "LOAD PREFIX USED:  tmp/Iteration1_vt_\n",
    "------------------------------------------------\n",
    "AC Score: 0.796296296296 F1 Score: 0.802938757174\n",
    "============================================================ 26\n",
    "LOAD PREFIX USED:  tmp/Iteration1_vt_\n",
    "------------------------------------------------\n",
    "AC Score: 0.7967003367 F1 Score: 0.803590422061\n",
    "============================================================ 27\n",
    "LOAD PREFIX USED:  tmp/Iteration1_vt_\n",
    "------------------------------------------------\n",
    "AC Score: 0.798316498316 F1 Score: 0.804857599344\n",
    "============================================================ 28\n",
    "LOAD PREFIX USED:  tmp/Iteration1_vt_\n",
    "------------------------------------------------\n",
    "AC Score: 0.797239057239 F1 Score: 0.803260880721\n",
    "============================================================ 31\n",
    "LOAD PREFIX USED:  tmp/Iteration1_vt_\n",
    "------------------------------------------------\n",
    "AC Score: 0.800336700337 F1 Score: 0.806794962674\n",
    "============================================================ 34\n",
    "LOAD PREFIX USED:  tmp/Iteration1_vt_\n",
    "------------------------------------------------\n",
    "AC Score: 0.798114478114 F1 Score: 0.804644856414\n",
    "============================================================ 37\n",
    "LOAD PREFIX USED:  tmp/Iteration1_vt_\n",
    "------------------------------------------------\n",
    "AC Score: 0.798181818182 F1 Score: 0.80500555388\n",
    "============================================================ 40\n",
    "LOAD PREFIX USED:  tmp/Iteration1_vt_\n",
    "------------------------------------------------\n",
    "AC Score: 0.797037037037 F1 Score: 0.803555396421\n",
    "'''\n",
    "\n",
    "data_k_selections = []\n",
    "data_k_ac_scores = []\n",
    "data_k_f1_scores = []\n",
    "\n",
    "for line in data.strip().splitlines():\n",
    "    if line.startswith('===='):\n",
    "        data_k_selections.append(int(line.split()[-1]))\n",
    "    if line.startswith('AC Score'):\n",
    "        line = line.split()\n",
    "        data_k_ac_scores.append(float(line[2]))\n",
    "        data_k_f1_scores.append(float(line[-1]))\n",
    "\n",
    "# print(data_k_selections)\n",
    "# print(data_k_ac_scores)\n",
    "# print(data_k_f1_scores)\n",
    "\n",
    "plt.figure(figsize=(12, 3))\n",
    "plt.plot(data_k_selections, data_k_ac_scores)\n",
    "plt.xticks(data_k_selections)\n",
    "plt.xlabel('No.of Columns')\n",
    "plt.ylabel('Scores')\n",
    "plt.title('KBest Columns Selection')"
   ]
  },
  {
   "cell_type": "code",
   "execution_count": null,
   "metadata": {
    "collapsed": false,
    "scrolled": false
   },
   "outputs": [],
   "source": [
    "data = '''\n",
    "============================================================ 10\n",
    "LOAD PREFIX USED:  tmp/Iteration1_vt_\n",
    "------------------------------------------------\n",
    "AC Score: 0.711919191919 F1 Score: 0.720536764767\n",
    "============================================================ 13\n",
    "LOAD PREFIX USED:  tmp/Iteration1_vt_\n",
    "------------------------------------------------\n",
    "AC Score: 0.726734006734 F1 Score: 0.734890085175\n",
    "============================================================ 16\n",
    "LOAD PREFIX USED:  tmp/Iteration1_vt_\n",
    "------------------------------------------------\n",
    "AC Score: 0.757171717172 F1 Score: 0.764712247986\n",
    "============================================================ 19\n",
    "LOAD PREFIX USED:  tmp/Iteration1_vt_\n",
    "------------------------------------------------\n",
    "AC Score: 0.761279461279 F1 Score: 0.769056776288\n",
    "============================================================ 22\n",
    "LOAD PREFIX USED:  tmp/Iteration1_vt_\n",
    "------------------------------------------------\n",
    "AC Score: 0.76303030303 F1 Score: 0.769985851326\n",
    "============================================================ 25\n",
    "LOAD PREFIX USED:  tmp/Iteration1_vt_\n",
    "------------------------------------------------\n",
    "AC Score: 0.799797979798 F1 Score: 0.806818418096\n",
    "============================================================ 28\n",
    "LOAD PREFIX USED:  tmp/Iteration1_vt_\n",
    "------------------------------------------------\n",
    "AC Score: 0.799797979798 F1 Score: 0.806270223927\n",
    "============================================================ 31\n",
    "LOAD PREFIX USED:  tmp/Iteration1_vt_\n",
    "------------------------------------------------\n",
    "AC Score: 0.795016835017 F1 Score: 0.802364133642\n",
    "============================================================ 34\n",
    "LOAD PREFIX USED:  tmp/Iteration1_vt_\n",
    "------------------------------------------------\n",
    "AC Score: 0.796767676768 F1 Score: 0.803839413982\n",
    "'''\n",
    "\n",
    "data_k_selections = []\n",
    "data_k_ac_scores = []\n",
    "data_k_f1_scores = []\n",
    "\n",
    "for line in data.strip().splitlines():\n",
    "    if line.startswith('===='):\n",
    "        data_k_selections.append(int(line.split()[-1]))\n",
    "    if line.startswith('AC Score'):\n",
    "        line = line.split()\n",
    "        data_k_ac_scores.append(float(line[2]))\n",
    "        data_k_f1_scores.append(float(line[-1]))\n",
    "\n",
    "# print(data_k_selections)\n",
    "# print(data_k_ac_scores)\n",
    "# print(data_k_f1_scores)\n",
    "\n",
    "plt.figure(figsize=(12, 3))\n",
    "plt.plot(data_k_selections, data_k_ac_scores)\n",
    "plt.xticks(data_k_selections)\n",
    "plt.xlabel('No.of Columns')\n",
    "plt.ylabel('Scores')\n",
    "plt.title('KBest Columns Selection')"
   ]
  },
  {
   "cell_type": "code",
   "execution_count": 23,
   "metadata": {
    "collapsed": false
   },
   "outputs": [
    {
     "name": "stdout",
     "output_type": "stream",
     "text": [
      "============================================================ 23\n",
      "LOAD PREFIX USED:  tmp/Iteration1_vt_\n",
      "------------------------------------------------\n",
      "AC Score: 0.793602693603 F1 Score: 0.800408397206\n",
      "============================================================ 24\n",
      "LOAD PREFIX USED:  tmp/Iteration1_vt_\n",
      "------------------------------------------------\n",
      "AC Score: 0.798787878788 F1 Score: 0.805653347673\n",
      "============================================================ 25\n",
      "LOAD PREFIX USED:  tmp/Iteration1_vt_\n",
      "------------------------------------------------\n",
      "AC Score: 0.796296296296 F1 Score: 0.802938757174\n",
      "============================================================ 26\n",
      "LOAD PREFIX USED:  tmp/Iteration1_vt_\n",
      "------------------------------------------------\n",
      "AC Score: 0.7967003367 F1 Score: 0.803590422061\n",
      "============================================================ 27\n",
      "LOAD PREFIX USED:  tmp/Iteration1_vt_\n",
      "------------------------------------------------\n",
      "AC Score: 0.798316498316 F1 Score: 0.804857599344\n"
     ]
    },
    {
     "data": {
      "text/plain": [
       "(SelectKBest(k=27, score_func=<function chi2 at 0x10def2488>),\n",
       " ['amount_tsh',\n",
       "  'date_recorded',\n",
       "  'funder',\n",
       "  'gps_height',\n",
       "  'installer',\n",
       "  'longitude',\n",
       "  'latitude',\n",
       "  'wpt_name',\n",
       "  'num_private',\n",
       "  'basin',\n",
       "  'subvillage',\n",
       "  'region',\n",
       "  'region_code',\n",
       "  'district_code',\n",
       "  'lga',\n",
       "  'ward',\n",
       "  'population',\n",
       "  'scheme_management',\n",
       "  'scheme_name',\n",
       "  'permit',\n",
       "  'construction_year',\n",
       "  'extraction_type',\n",
       "  'extraction_type_group',\n",
       "  'extraction_type_class',\n",
       "  'management',\n",
       "  'management_group',\n",
       "  'payment'])"
      ]
     },
     "execution_count": 23,
     "metadata": {},
     "output_type": "execute_result"
    }
   ],
   "source": [
    "# KBest Selection\n",
    "find_kbest_cols_count(start=23, stop=28, step=1)"
   ]
  },
  {
   "cell_type": "code",
   "execution_count": 112,
   "metadata": {
    "collapsed": false
   },
   "outputs": [
    {
     "data": {
      "text/plain": [
       "<matplotlib.text.Text at 0x10e51de48>"
      ]
     },
     "execution_count": 112,
     "metadata": {},
     "output_type": "execute_result"
    },
    {
     "data": {
      "image/png": "[encoded data removed]",
      "text/plain": [
       "<matplotlib.figure.Figure at 0x11009c668>"
      ]
     },
     "metadata": {},
     "output_type": "display_data"
    }
   ],
   "source": [
    "data = '''\n",
    "============================================================ 10\n",
    "LOAD PREFIX USED:  tmp/Iteration1_vt_\n",
    "------------------------------------------------\n",
    "AC Score: 0.711919191919 F1 Score: 0.720536764767\n",
    "============================================================ 13\n",
    "LOAD PREFIX USED:  tmp/Iteration1_vt_\n",
    "------------------------------------------------\n",
    "AC Score: 0.726734006734 F1 Score: 0.734890085175\n",
    "============================================================ 16\n",
    "LOAD PREFIX USED:  tmp/Iteration1_vt_\n",
    "------------------------------------------------\n",
    "AC Score: 0.757171717172 F1 Score: 0.764712247986\n",
    "============================================================ 19\n",
    "LOAD PREFIX USED:  tmp/Iteration1_vt_\n",
    "------------------------------------------------\n",
    "AC Score: 0.761279461279 F1 Score: 0.769056776288\n",
    "============================================================ 22\n",
    "LOAD PREFIX USED:  tmp/Iteration1_vt_\n",
    "------------------------------------------------\n",
    "AC Score: 0.76303030303 F1 Score: 0.769985851326\n",
    "============================================================ 23\n",
    "LOAD PREFIX USED:  tmp/Iteration1_vt_\n",
    "------------------------------------------------\n",
    "AC Score: 0.798249158249 F1 Score: 0.80539129644\n",
    "============================================================ 24\n",
    "LOAD PREFIX USED:  tmp/Iteration1_vt_\n",
    "------------------------------------------------\n",
    "AC Score: 0.79569023569 F1 Score: 0.802599368819\n",
    "============================================================ 25\n",
    "LOAD PREFIX USED:  tmp/Iteration1_vt_\n",
    "------------------------------------------------\n",
    "AC Score: 0.799797979798 F1 Score: 0.806818418096\n",
    "============================================================ 26\n",
    "LOAD PREFIX USED:  tmp/Iteration1_vt_\n",
    "------------------------------------------------\n",
    "AC Score: 0.798316498316 F1 Score: 0.804709836423\n",
    "============================================================ 27\n",
    "LOAD PREFIX USED:  tmp/Iteration1_vt_\n",
    "------------------------------------------------\n",
    "AC Score: 0.799057239057 F1 Score: 0.805970155845\n",
    "============================================================ 28\n",
    "LOAD PREFIX USED:  tmp/Iteration1_vt_\n",
    "------------------------------------------------\n",
    "AC Score: 0.799797979798 F1 Score: 0.806270223927\n",
    "============================================================ 31\n",
    "LOAD PREFIX USED:  tmp/Iteration1_vt_\n",
    "------------------------------------------------\n",
    "AC Score: 0.795016835017 F1 Score: 0.802364133642\n",
    "============================================================ 34\n",
    "LOAD PREFIX USED:  tmp/Iteration1_vt_\n",
    "------------------------------------------------\n",
    "AC Score: 0.796767676768 F1 Score: 0.803839413982\n",
    "'''\n",
    "\n",
    "data_k_selections = []\n",
    "data_k_ac_scores = []\n",
    "data_k_f1_scores = []\n",
    "\n",
    "for line in data.strip().splitlines():\n",
    "    if line.startswith('===='):\n",
    "        data_k_selections.append(int(line.split()[-1]))\n",
    "    if line.startswith('AC Score'):\n",
    "        line = line.split()\n",
    "        data_k_ac_scores.append(float(line[2]))\n",
    "        data_k_f1_scores.append(float(line[-1]))\n",
    "\n",
    "# print(data_k_selections)\n",
    "# print(data_k_ac_scores)\n",
    "# print(data_k_f1_scores)\n",
    "\n",
    "plt.figure(figsize=(12, 3))\n",
    "plt.plot(data_k_selections, data_k_ac_scores)\n",
    "plt.xticks(data_k_selections)\n",
    "plt.xlabel('No.of Columns')\n",
    "plt.ylabel('Scores')\n",
    "plt.title('KBest Columns Selection')"
   ]
  },
  {
   "cell_type": "code",
   "execution_count": 124,
   "metadata": {
    "collapsed": false,
    "scrolled": true
   },
   "outputs": [
    {
     "name": "stdout",
     "output_type": "stream",
     "text": [
      "============================================================ 25\n",
      "LOAD PREFIX USED:  tmp/Iteration1_vt_\n",
      "Data Frame Shape: (59400, 25) TotColumns: 25 ObjectCols: 0\n",
      "Numpy Array Size: 59400\n",
      "------------------------------------------------\n",
      "AC Score: 0.799797979798 F1 Score: 0.806818418096\n"
     ]
    }
   ],
   "source": [
    "# KBEST SELECTION\n",
    "\n",
    "kbest_cols = 25\n",
    "print('============================================================', kbest_cols)\n",
    "\n",
    "# Load Data\n",
    "X, y, TEST_X = sam_pickle_load(prefix='tmp/Iteration1_vt_')\n",
    "\n",
    "fit = SelectKBest(score_func=chi2, k=kbest_cols).fit(X, y)\n",
    "cols_names = X.columns\n",
    "kbest_selected_cols =  [_ for _ in cols_names[:kbest_cols]]\n",
    "\n",
    "# transformation\n",
    "X = pd.DataFrame(fit.transform(X))\n",
    "TEST_X = pd.DataFrame(fit.transform(TEST_X))\n",
    "\n",
    "# check\n",
    "df_check_stats(X, y)\n",
    "\n",
    "# benchmark\n",
    "X_train, X_test, y_train, y_test = train_test_split(X, y, test_size=0.25,random_state=42, stratify=y)\n",
    "clf = game(X_train, X_test, y_train, y_test, algo='rf', show_train_scores=False)"
   ]
  },
  {
   "cell_type": "code",
   "execution_count": 125,
   "metadata": {
    "collapsed": false
   },
   "outputs": [
    {
     "name": "stdout",
     "output_type": "stream",
     "text": [
      "SAVE PREFIX USED:  tmp/Iteration1_vt_kb_\n"
     ]
    }
   ],
   "source": [
    "sam_pickle_save(X, y, TEST_X, prefix='tmp/Iteration1_vt_kb_')"
   ]
  },
  {
   "cell_type": "code",
   "execution_count": 130,
   "metadata": {
    "collapsed": false
   },
   "outputs": [
    {
     "name": "stdout",
     "output_type": "stream",
     "text": [
      "LOAD PREFIX USED:  tmp/Iteration1_vt_kb_\n",
      "Data Frame Shape: (59400, 25) TotColumns: 25 ObjectCols: 0\n",
      "Numpy Array Size: 59400\n",
      "Data Frame Shape: (14850, 25) TotColumns: 25 ObjectCols: 0\n"
     ]
    }
   ],
   "source": [
    "X, y, TEST_X = sam_pickle_load(prefix='tmp/Iteration1_vt_kb_')\n",
    "df_check_stats(X, y, TEST_X)"
   ]
  },
  {
   "cell_type": "code",
   "execution_count": 126,
   "metadata": {
    "collapsed": true
   },
   "outputs": [],
   "source": [
    "# PCA\n",
    "from sklearn.decomposition import PCA"
   ]
  },
  {
   "cell_type": "code",
   "execution_count": 132,
   "metadata": {
    "collapsed": false
   },
   "outputs": [
    {
     "name": "stdout",
     "output_type": "stream",
     "text": [
      "------------------------------------------------\n",
      "AC Score: 0.779393939394 F1 Score: 0.787564863498\n"
     ]
    }
   ],
   "source": [
    "pca = PCA()\n",
    "fit = pca.fit(X)\n",
    "\n",
    "X = fit.transform(X)\n",
    "\n",
    "# benchmark\n",
    "X_train, X_test, y_train, y_test = train_test_split(X, y, test_size=0.25,random_state=42, stratify=y)\n",
    "clf = game(X_train, X_test, y_train, y_test, algo='rf', show_train_scores=False)"
   ]
  },
  {
   "cell_type": "code",
   "execution_count": 144,
   "metadata": {
    "collapsed": false
   },
   "outputs": [
    {
     "data": {
      "text/plain": [
       "(59400, 10)"
      ]
     },
     "execution_count": 144,
     "metadata": {},
     "output_type": "execute_result"
    }
   ],
   "source": [
    "X[:, :10].shape"
   ]
  }
 ],
 "metadata": {
  "kernelspec": {
   "display_name": "Python 3",
   "language": "python",
   "name": "python3"
  },
  "language_info": {
   "codemirror_mode": {
    "name": "ipython",
    "version": 3
   },
   "file_extension": ".py",
   "mimetype": "text/x-python",
   "name": "python",
   "nbconvert_exporter": "python",
   "pygments_lexer": "ipython3",
   "version": "3.5.2"
  }
 },
 "nbformat": 4,
 "nbformat_minor": 2
}
