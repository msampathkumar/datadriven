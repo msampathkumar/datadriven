{
 "cells": [
  {
   "cell_type": "markdown",
   "metadata": {},
   "source": [
    "# Data Transformations"
   ]
  },
  {
   "cell_type": "markdown",
   "metadata": {},
   "source": [
    "**Introduction:**\n",
    "Using the data gathered from Taarifa and the Tanzanian Ministry of Water, can we predict which pumps are functional, which need some repairs, and which don't work at all? Predicting one of these three classes based and a smart understanding of which waterpoints will fail, can improve the maintenance operations and ensure that clean, potable water is available to communities across Tanzania.\n",
    "\n",
    "This is also an intermediate-level competition by [DataDriven][1]! All code & support scripts are in [Github Repo][2]\n",
    "\n",
    "[1]: https://www.drivendata.org/competitions/7/ \"Link to Competetion Page\"\n",
    "[2]: https://github.com/msampathkumar/datadriven_pumpit \"User Code\""
   ]
  },
  {
   "cell_type": "code",
   "execution_count": 1,
   "metadata": {
    "collapsed": true
   },
   "outputs": [],
   "source": [
    "import pickle\n",
    "import datetime\n",
    "from collections import defaultdict\n",
    "\n",
    "import numpy as np\n",
    "import pandas as pd\n",
    "import matplotlib.pyplot as plt\n",
    "import seaborn as sns\n",
    "\n",
    "from scripts.sam_value_counts import sam_dataframe_cols_value_count_analysis, sam_dataframe_markup_value_counts\n",
    "from scripts.sam_confusion_matrix import sam_plot_confusion_matrix, sam_confusion_maxtrix\n",
    "from scripts.sam_variance_check import get_low_variance_columns\n",
    "from scripts.sam_custom_labeler import CUST_CATEGORY_LABELER\n",
    "from scripts.tools import check_metric, data_transformations, df_check_stats, game, sam_pickle_load, sam_pickle_save\n",
    "\n",
    "from sklearn.model_selection import train_test_split\n",
    "from sklearn.feature_selection import SelectKBest\n",
    "from sklearn.feature_selection import chi2\n",
    "from sklearn.decomposition import PCA\n",
    "\n",
    "%matplotlib inline\n",
    "\n",
    "np.set_printoptions(precision=5)\n",
    "np.random.seed(69572)\n",
    "plt.style.use('ggplot')\n",
    "sns.set(color_codes=True)\n",
    "\n",
    "\n",
    "crazy_list = dir()"
   ]
  },
  {
   "cell_type": "code",
   "execution_count": 2,
   "metadata": {
    "collapsed": false
   },
   "outputs": [],
   "source": [
    "for each in dir():\n",
    "    if each not in crazy_list:\n",
    "        del each"
   ]
  },
  {
   "cell_type": "markdown",
   "metadata": {
    "collapsed": false,
    "scrolled": false
   },
   "source": [
    "# Data Transformation\n",
    "\n",
    "Normal Transformations\n",
    "* Date\n",
    "* Bool\n",
    "* Longi, Lati missing values\n",
    "* Longi, Lati precision check"
   ]
  },
  {
   "cell_type": "code",
   "execution_count": 3,
   "metadata": {
    "collapsed": false
   },
   "outputs": [
    {
     "name": "stderr",
     "output_type": "stream",
     "text": [
      "/Users/sampathm/miniconda3/lib/python3.5/site-packages/ipykernel/__main__.py:46: SettingWithCopyWarning: \n",
      "A value is trying to be set on a copy of a slice from a DataFrame\n",
      "\n",
      "See the caveats in the documentation: http://pandas.pydata.org/pandas-docs/stable/indexing.html#indexing-view-versus-copy\n"
     ]
    },
    {
     "name": "stdout",
     "output_type": "stream",
     "text": [
      "SAVE PREFIX USED:  tmp/Iteration2_dt1_\n",
      "Data Frame Shape: (59400, 43) TotColumns: 43 ObjectCols: 0\n",
      "Data Frame Shape: (59400, 1) TotColumns: 1 ObjectCols: 0\n",
      "Data Frame Shape: (14850, 43) TotColumns: 43 ObjectCols: 0\n"
     ]
    }
   ],
   "source": [
    "# data collection\n",
    "RAW_X = pd.read_csv('data/traning_set_values.csv', index_col='id')\n",
    "RAW_y = pd.read_csv('data/training_set_labels.csv', index_col='id')\n",
    "RAW_TEST_X = pd.read_csv('data/test_set_values.csv', index_col='id')\n",
    "\n",
    "# df_check_stats(RAW_X, RAW_y, RAW_TEST_X)\n",
    "\n",
    "strptime = datetime.datetime.strptime\n",
    "\n",
    "DATE_FORMAT = \"%Y-%m-%d\"\n",
    "REFERENCE_DATE_POINT = strptime('2000-01-01', DATE_FORMAT)\n",
    "\n",
    "if RAW_X.date_recorded.dtype == 'O':\n",
    "\n",
    "    # convert it to datetime format\n",
    "    f = lambda x: strptime(str(x), DATE_FORMAT)\n",
    "    RAW_X.date_recorded = RAW_X.date_recorded.apply(f)\n",
    "    RAW_TEST_X.date_recorded = RAW_TEST_X.date_recorded.apply(f)\n",
    "\n",
    "    # week day\n",
    "    f = lambda x: x.weekday()\n",
    "    RAW_X['date_recorded_weekday'] = RAW_X.date_recorded.apply(f)\n",
    "    RAW_TEST_X['date_recorded_weekday'] = RAW_TEST_X.date_recorded.apply(f)\n",
    "\n",
    "    # date\n",
    "    f = lambda x: x.day\n",
    "    RAW_X['date_recorded_date'] = RAW_X.date_recorded.apply(f)\n",
    "    RAW_TEST_X['date_recorded_date'] = RAW_TEST_X.date_recorded.apply(f)\n",
    "\n",
    "    # month\n",
    "    f = lambda x: x.month\n",
    "    RAW_X['date_recorded_month'] = RAW_X.date_recorded.apply(f)\n",
    "    RAW_TEST_X['date_recorded_month'] = RAW_TEST_X.date_recorded.apply(f)\n",
    "\n",
    "    # year\n",
    "    f = lambda x: x.year\n",
    "    RAW_X['date_recorded_year'] = RAW_X.date_recorded.apply(f)\n",
    "    RAW_TEST_X['date_recorded_year'] = RAW_TEST_X.date_recorded.apply(f)\n",
    "\n",
    "    # total days\n",
    "    f = lambda x: (x - REFERENCE_DATE_POINT).days\n",
    "    RAW_X.date_recorded = RAW_X.date_recorded.apply(f)\n",
    "    RAW_TEST_X.date_recorded = RAW_TEST_X.date_recorded.apply(f)\n",
    "\n",
    "# GPS Height\n",
    "RAW_X.gps_height[RAW_X.gps_height <= 5] = 0\n",
    "\n",
    "# Longitude & Latitude -- zero values fix\n",
    "\n",
    "# Filling Missing\n",
    "if not RAW_X.loc[RAW_X.latitude >= -1.0, u'latitude'].empty:\n",
    "    tmp = np.mean(RAW_X[u'latitude'][RAW_X.latitude < -1.0].values)\n",
    "    RAW_X.loc[RAW_X.latitude >= -1.0, u'latitude'] = tmp\n",
    "    RAW_TEST_X.loc[RAW_TEST_X.latitude >= -1.0, u'latitude'] = tmp\n",
    "\n",
    "\n",
    "# Filling Missing\n",
    "if not RAW_X.loc[RAW_X[u'longitude'] <= 1.0, u'longitude'].empty:\n",
    "    tmp = np.mean(RAW_X[u'longitude'][RAW_X[u'longitude'] > 1.0].values)\n",
    "    RAW_X.loc[RAW_X[u'longitude'] <= 1.0, u'longitude'] = tmp\n",
    "    RAW_TEST_X.loc[RAW_TEST_X[u'longitude'] <= 1.0, u'longitude'] = tmp\n",
    "\n",
    "    \n",
    "# Reducing geo location precision to 11 meters\n",
    "LONG_LAT_PRECISION = 0.00001\n",
    "fns_lola =lambda x: (x//LONG_LAT_PRECISION) * LONG_LAT_PRECISION\n",
    "\n",
    "# Reducing Precision of Lat.\n",
    "RAW_X.longitude = RAW_X.longitude.map(fns_lola)\n",
    "RAW_X.latitude = RAW_X.latitude.map(fns_lola)\n",
    "RAW_TEST_X.longitude = RAW_TEST_X.longitude.map(fns_lola)\n",
    "RAW_TEST_X.latitude = RAW_TEST_X.latitude.map(fns_lola)\n",
    "\n",
    "###############################################################################\n",
    "##### Note Below transformation are to make sure Label Encoding works fine ####\n",
    "###############################################################################\n",
    "\n",
    "# bool columns\n",
    "tmp = ['public_meeting', 'permit']\n",
    "RAW_X[tmp] = RAW_X[tmp].fillna(False)\n",
    "RAW_TEST_X[tmp] = RAW_TEST_X[tmp].fillna(False)\n",
    "\n",
    "# object columns list\n",
    "obj_cols = RAW_X.dtypes[RAW_X.dtypes == 'O'].index.tolist()\n",
    "\n",
    "# object columns\n",
    "RAW_X[obj_cols] = RAW_X[obj_cols].fillna('Other')\n",
    "RAW_TEST_X[obj_cols] = RAW_TEST_X[obj_cols].fillna('Other')\n",
    "\n",
    "\n",
    "sam_pickle_save(RAW_X, RAW_y, RAW_TEST_X, prefix=\"tmp/Iteration2_dt1_\")\n",
    "df_check_stats(RAW_X, RAW_y, RAW_TEST_X)"
   ]
  },
  {
   "cell_type": "code",
   "execution_count": 4,
   "metadata": {
    "collapsed": false,
    "scrolled": false
   },
   "outputs": [
    {
     "name": "stdout",
     "output_type": "stream",
     "text": [
      "------------------------------------------------\n",
      "AC Score: 0.985162738496 F1 Score: 0.985229315286\n",
      "------------------------------------------------\n",
      "AC Score: 0.800538720539 F1 Score: 0.80662530668\n"
     ]
    }
   ],
   "source": [
    "# Just assining new names to transformed dataframe pointers\n",
    "X, y, TEST_X = data_transformations(RAW_X, RAW_y, RAW_TEST_X, pickle_path='tmp/')\n",
    "X_train, X_test, y_train, y_test = train_test_split(X, y, test_size=0.25,random_state=42, stratify=y)\n",
    "\n",
    "# benchmark\n",
    "clf = game(X_train, X_test, y_train, y_test, algo='rf', )"
   ]
  },
  {
   "cell_type": "code",
   "execution_count": 5,
   "metadata": {
    "collapsed": false
   },
   "outputs": [
    {
     "name": "stdout",
     "output_type": "stream",
     "text": [
      "------------------------------------------------\n",
      "AC Score: 0.757822671156 F1 Score: 0.77973617372\n",
      "------------------------------------------------\n",
      "AC Score: 0.754882154882 F1 Score: 0.777529930132\n"
     ]
    }
   ],
   "source": [
    "# benchmark\n",
    "clf = game(X_train, X_test, y_train, y_test, algo='gb', )"
   ]
  },
  {
   "cell_type": "code",
   "execution_count": 6,
   "metadata": {
    "collapsed": false,
    "scrolled": false
   },
   "outputs": [],
   "source": [
    "for each in dir():\n",
    "    if each not in crazy_list:\n",
    "        del each"
   ]
  },
  {
   "cell_type": "markdown",
   "metadata": {},
   "source": [
    "# Data Transformation\n",
    "\n",
    "Normal Transformations\n",
    "* Date\n",
    "* Bool\n",
    "* Longi, Lati missing values\n",
    "* Longi, Lati precision check\n",
    "\n",
    "\n",
    "# Data Transformation - 2nd Trail\n",
    "\n",
    "* Custom Labler\n"
   ]
  },
  {
   "cell_type": "code",
   "execution_count": 7,
   "metadata": {
    "collapsed": false,
    "scrolled": false
   },
   "outputs": [
    {
     "name": "stdout",
     "output_type": "stream",
     "text": [
      "LOAD PREFIX USED:  tmp/Iteration2_dt1_\n",
      "Data Frame Shape: (59400, 43) TotColumns: 43 ObjectCols: 0\n",
      "Data Frame Shape: (59400, 1) TotColumns: 1 ObjectCols: 0\n",
      "Data Frame Shape: (14850, 43) TotColumns: 43 ObjectCols: 0\n"
     ]
    }
   ],
   "source": [
    "RAW_X, RAW_y, RAW_TEST_X = sam_pickle_load(prefix=\"tmp/Iteration2_dt1_\")\n",
    "df_check_stats(RAW_X, RAW_y, RAW_TEST_X)"
   ]
  },
  {
   "cell_type": "code",
   "execution_count": 8,
   "metadata": {
    "collapsed": false,
    "scrolled": false
   },
   "outputs": [
    {
     "name": "stdout",
     "output_type": "stream",
     "text": [
      "funder 27 15\n",
      "installer 295 152\n",
      "wpt_name 1146 227\n",
      "basin 0 0\n",
      "subvillage 207 76\n",
      "region 0 0\n",
      "lga 0 0\n",
      "ward 2 0\n",
      "recorded_by 0 0\n",
      "scheme_management 0 0\n",
      "scheme_name 217 98\n",
      "extraction_type 0 0\n",
      "extraction_type_group 0 0\n",
      "extraction_type_class 0 0\n",
      "management 0 0\n",
      "management_group 0 0\n",
      "payment 0 0\n",
      "payment_type 0 0\n",
      "water_quality 0 0\n",
      "quality_group 0 0\n",
      "quantity 0 0\n",
      "quantity_group 0 0\n",
      "source 0 0\n",
      "source_type 0 0\n",
      "source_class 0 0\n",
      "waterpoint_type 0 0\n",
      "waterpoint_type_group 0 0\n"
     ]
    }
   ],
   "source": [
    "def text_transformation(name):\n",
    "    \"\"\"Cleanup basic text issue in name(input).\n",
    "    \n",
    "    Removes text capitalisation, case, space and other non text ascii charecters\n",
    "        except space.\n",
    "    \"\"\"\n",
    "    if name:\n",
    "        name = str(name).lower().strip()\n",
    "        name = ''.join([i if 96 < ord(i) < 128 else ' ' for i in name])\n",
    "\n",
    "        # clear double space\n",
    "#         while '  ' in name:\n",
    "#             name = name.replace('  ', ' ')\n",
    "        name = name.replace(\" \", \"\")\n",
    "        return name.strip()\n",
    "    return ''\n",
    "\n",
    "for col in obj_cols:\n",
    "    a, b, c = (col, len(RAW_X[col].value_counts()), len(RAW_TEST_X[col].value_counts()))\n",
    "    RAW_X[col] = RAW_X[col].apply(text_transformation)\n",
    "    RAW_TEST_X[col] = RAW_TEST_X[col].apply(text_transformation)\n",
    "    d, e = len(RAW_X[col].value_counts()), len(RAW_TEST_X[col].value_counts())\n",
    "    print(a, b - d, c - e)\n",
    "    if col is 'installer': break"
   ]
  },
  {
   "cell_type": "code",
   "execution_count": 9,
   "metadata": {
    "collapsed": false
   },
   "outputs": [],
   "source": [
    "# Just assining new names to transformed dataframe pointers\n",
    "X, y, TEST_X = data_transformations(RAW_X, RAW_y, RAW_TEST_X, pickle_path='tmp/')\n",
    "X_train, X_test, y_train, y_test = train_test_split(X, y, test_size=0.25,random_state=42, stratify=y)"
   ]
  },
  {
   "cell_type": "code",
   "execution_count": 10,
   "metadata": {
    "collapsed": false
   },
   "outputs": [
    {
     "name": "stdout",
     "output_type": "stream",
     "text": [
      "------------------------------------------------\n",
      "AC Score: 0.985005611672 F1 Score: 0.985069945887\n",
      "------------------------------------------------\n",
      "AC Score: 0.801212121212 F1 Score: 0.808015256502\n"
     ]
    }
   ],
   "source": [
    "# benchmark\n",
    "clf = game(X_train, X_test, y_train, y_test, algo='rf')"
   ]
  },
  {
   "cell_type": "code",
   "execution_count": 11,
   "metadata": {
    "collapsed": false
   },
   "outputs": [
    {
     "name": "stdout",
     "output_type": "stream",
     "text": [
      "------------------------------------------------\n",
      "AC Score: 0.756879910213 F1 Score: 0.778488552734\n",
      "------------------------------------------------\n",
      "AC Score: 0.754343434343 F1 Score: 0.776337580177\n"
     ]
    }
   ],
   "source": [
    "# benchmark\n",
    "clf = game(X_train, X_test, y_train, y_test, algo='gb')"
   ]
  },
  {
   "cell_type": "markdown",
   "metadata": {},
   "source": [
    "__Conclusion:__\n",
    "* As you can see there is a slightly improvement in the RF AC score(0.012) given the data transformations.\n",
    "* Also you can that the gap between GB scores have slightly reduced.(0.0004 in AC Test Train Scores)\n"
   ]
  },
  {
   "cell_type": "markdown",
   "metadata": {},
   "source": [
    "### Custom Labler"
   ]
  },
  {
   "cell_type": "code",
   "execution_count": 12,
   "metadata": {
    "collapsed": false,
    "scrolled": false
   },
   "outputs": [
    {
     "name": "stdout",
     "output_type": "stream",
     "text": [
      "-------------------------------------------------------- wpt_name\n",
      "80 percentage of DATA coverage mean, 24375 (in number) groups\n",
      "36254 24376\n",
      "80 percentage of DATA coverage mean, 24375 (in number) groups\n",
      "10613 2231\n",
      "-------------------------------------------------------- ward\n",
      "80 percentage of DATA coverage mean, 997 (in number) groups\n",
      "2090 998\n",
      "80 percentage of DATA coverage mean, 997 (in number) groups\n",
      "1959 992\n",
      "-------------------------------------------------------- subvillage\n",
      "80 percentage of DATA coverage mean, 8505 (in number) groups\n",
      "19081 8506\n",
      "80 percentage of DATA coverage mean, 8505 (in number) groups\n",
      "8368 4294\n",
      "-------------------------------------------------------- installer\n",
      "97 percentage of DATA coverage mean, 591 (in number) groups\n",
      "1851 592\n",
      "97 percentage of DATA coverage mean, 591 (in number) groups\n",
      "940 516\n",
      "-------------------------------------------------------- funder\n",
      "97 percentage of DATA coverage mean, 587 (in number) groups\n",
      "1871 588\n",
      "97 percentage of DATA coverage mean, 587 (in number) groups\n",
      "966 528\n",
      "-------------------------------------------------------- scheme_name\n",
      "85 percentage of DATA coverage mean, 523 (in number) groups\n",
      "2480 524\n",
      "85 percentage of DATA coverage mean, 523 (in number) groups\n",
      "1692 519\n",
      "(59400, 43) (14850, 43) True\n"
     ]
    }
   ],
   "source": [
    "##################################\n",
    "######### IMPLEMENT ##############\n",
    "#################################\n",
    "\n",
    "custom_labler = defaultdict(CUST_CATEGORY_LABELER)\n",
    "tmp = { 'funder': 97,\n",
    "  'installer': 97,\n",
    "  'wpt_name': 80,\n",
    "  'subvillage': 80,\n",
    "  'ward': 80,\n",
    "  'scheme_name': 85\n",
    "  }\n",
    "\n",
    "for col, limit  in tmp.items():\n",
    "    print('--------------------------------------------------------', col)\n",
    "    labler = custom_labler[col]\n",
    "    labler.DATA_COVERAGE_LIMIT = limit\n",
    "    labler.fit(RAW_X[col])\n",
    "    tmp = labler.fit_transform(RAW_X[col])\n",
    "    print(len(RAW_X[col].value_counts()), len(tmp.value_counts()))\n",
    "    RAW_X[col] = tmp\n",
    "    tmp = labler.etransform(RAW_TEST_X[col])\n",
    "    print(len(RAW_TEST_X[col].value_counts()), len(tmp.value_counts()))\n",
    "\n",
    "print(RAW_X.shape, RAW_TEST_X.shape, all(RAW_X.columns == RAW_TEST_X.columns))"
   ]
  },
  {
   "cell_type": "code",
   "execution_count": 13,
   "metadata": {
    "collapsed": false
   },
   "outputs": [
    {
     "name": "stdout",
     "output_type": "stream",
     "text": [
      "SAVE PREFIX USED:  tmp/Iteration2_dt2_\n",
      "Data Frame Shape: (59400, 43) TotColumns: 43 ObjectCols: 0\n",
      "Numpy Array Size: 59400\n",
      "Data Frame Shape: (14850, 43) TotColumns: 43 ObjectCols: 0\n"
     ]
    }
   ],
   "source": [
    "sam_pickle_save(RAW_X, RAW_y, RAW_TEST_X, prefix=\"tmp/Iteration2_dt2_\")\n",
    "df_check_stats(X, y, TEST_X)"
   ]
  },
  {
   "cell_type": "code",
   "execution_count": 14,
   "metadata": {
    "collapsed": false
   },
   "outputs": [],
   "source": [
    "# Just assining new names to transformed dataframe pointers\n",
    "X, y, TEST_X = data_transformations(RAW_X, RAW_y, RAW_TEST_X)\n",
    "X_train, X_test, y_train, y_test = train_test_split(X, y, test_size=0.25,random_state=42, stratify=y)"
   ]
  },
  {
   "cell_type": "code",
   "execution_count": 15,
   "metadata": {
    "collapsed": false
   },
   "outputs": [
    {
     "name": "stdout",
     "output_type": "stream",
     "text": [
      "------------------------------------------------\n",
      "AC Score: 0.985342312009 F1 Score: 0.985408921295\n",
      "------------------------------------------------\n",
      "AC Score: 0.800673400673 F1 Score: 0.806862879864\n"
     ]
    }
   ],
   "source": [
    "# benchmark\n",
    "clf = game(X_train, X_test, y_train, y_test, algo='rf', )"
   ]
  },
  {
   "cell_type": "code",
   "execution_count": 16,
   "metadata": {
    "collapsed": false
   },
   "outputs": [
    {
     "name": "stdout",
     "output_type": "stream",
     "text": [
      "------------------------------------------------\n",
      "AC Score: 0.758451178451 F1 Score: 0.77953282745\n",
      "------------------------------------------------\n",
      "AC Score: 0.755420875421 F1 Score: 0.777454236688\n"
     ]
    }
   ],
   "source": [
    "# benchmark\n",
    "clf = game(X_train, X_test, y_train, y_test, algo='gb', )"
   ]
  },
  {
   "cell_type": "code",
   "execution_count": 17,
   "metadata": {
    "collapsed": false
   },
   "outputs": [
    {
     "name": "stdout",
     "output_type": "stream",
     "text": [
      "SAVE PREFIX USED:  tmp/Iteration2_final_\n",
      "Data Frame Shape: (59400, 43) TotColumns: 43 ObjectCols: 0\n",
      "Numpy Array Size: 59400\n",
      "Data Frame Shape: (14850, 43) TotColumns: 43 ObjectCols: 0\n"
     ]
    }
   ],
   "source": [
    "sam_pickle_save(X, y, TEST_X, prefix=\"tmp/Iteration2_final_\")\n",
    "df_check_stats(X, y, TEST_X)"
   ]
  },
  {
   "cell_type": "code",
   "execution_count": 18,
   "metadata": {
    "collapsed": true
   },
   "outputs": [],
   "source": [
    "for each in dir():\n",
    "    if each not in crazy_list:\n",
    "        del each"
   ]
  },
  {
   "cell_type": "markdown",
   "metadata": {},
   "source": [
    "# Analysis\n",
    "\n",
    "Lets us check how did our data improvement worked till now. To summarise we have done two data transformation till now. First level of data transformation is minimal set of data transformation to make sure we can label encode the data. Second level of data transformaiton is some more data transformation and in the third level of data transformation we are concentrated in object columns to improve the data quality by reducing the entropy in data with out loss of much information."
   ]
  },
  {
   "cell_type": "code",
   "execution_count": 19,
   "metadata": {
    "collapsed": false
   },
   "outputs": [
    {
     "name": "stdout",
     "output_type": "stream",
     "text": [
      "LOAD PREFIX USED:  tmp/Iteration2_final_\n",
      "Data Frame Shape: (59400, 43) TotColumns: 43 ObjectCols: 0\n",
      "Numpy Array Size: 59400\n",
      "Data Frame Shape: (14850, 43) TotColumns: 43 ObjectCols: 0\n"
     ]
    }
   ],
   "source": [
    "X, y, TEST_X = sam_pickle_load(prefix=\"tmp/Iteration2_final_\")\n",
    "df_check_stats(X, y, TEST_X)"
   ]
  },
  {
   "cell_type": "code",
   "execution_count": 26,
   "metadata": {
    "collapsed": true
   },
   "outputs": [],
   "source": [
    "names = ['Benchmark(Iteration2_dt1_)',\n",
    "        'First DT',\n",
    "        'Second DT(Iteration2_final_)']\n",
    "\n",
    "gb_tr_scores = [0.757822671156, 0.756879910213, 0.758024691358]\n",
    "gb_te_scores = [0.754882154882, 0.754343434343, 0.755218855219]\n",
    "gb_diff = [ a -b for a,b in zip(gb_tr_scores, gb_te_scores)]"
   ]
  },
  {
   "cell_type": "code",
   "execution_count": 27,
   "metadata": {
    "collapsed": false
   },
   "outputs": [
    {
     "data": {
      "text/plain": [
       "(array([ 0.    ,  0.0005,  0.001 ,  0.0015,  0.002 ,  0.0025,  0.003 ]),\n",
       " <a list of 7 Text yticklabel objects>)"
      ]
     },
     "execution_count": 27,
     "metadata": {},
     "output_type": "execute_result"
    },
    {
     "data": {
      "image/png": "[encoded data removed]",
      "text/plain": [
       "<matplotlib.figure.Figure at 0x116b65438>"
      ]
     },
     "metadata": {},
     "output_type": "display_data"
    },
    {
     "data": {
      "image/png": "[encoded data removed]",
      "text/plain": [
       "<matplotlib.figure.Figure at 0x117901240>"
      ]
     },
     "metadata": {},
     "output_type": "display_data"
    }
   ],
   "source": [
    "plt.figure(figsize=(5, 3))\n",
    "plt.plot(range(3), gb_tr_scores)\n",
    "plt.plot(range(3), gb_te_scores)\n",
    "plt.title('GB Test-Train Score growth with Data Transformation', fontsize=8)\n",
    "plt.yticks(fontsize=8)\n",
    "\n",
    "plt.figure(figsize=(5, 3))\n",
    "plt.bar(range(3), gb_diff)\n",
    "plt.title('GB Test-Train Score Differences during Data Transformation(DT) stages', fontsize=8)\n",
    "plt.xticks(np.arange(len(names)) + .4, names, fontsize=8)\n",
    "plt.yticks(fontsize=8)"
   ]
  },
  {
   "cell_type": "code",
   "execution_count": 24,
   "metadata": {
    "collapsed": true
   },
   "outputs": [],
   "source": [
    "# rf - random forest\n",
    "\n",
    "rf_tr_scores = [0.985162738496, 0.985005611672, 0.985342312009]\n",
    "rf_te_scores = [0.800538720539, 0.801212121212, 0.800740740741]\n",
    "rf_diff = [ a - b for a, b in zip(rf_tr_scores, rf_te_scores)]"
   ]
  },
  {
   "cell_type": "code",
   "execution_count": 25,
   "metadata": {
    "collapsed": false
   },
   "outputs": [
    {
     "data": {
      "text/plain": [
       "(array([ 0.  ,  0.05,  0.1 ,  0.15,  0.2 ,  0.25]),\n",
       " <a list of 6 Text yticklabel objects>)"
      ]
     },
     "execution_count": 25,
     "metadata": {},
     "output_type": "execute_result"
    },
    {
     "data": {
      "image/png": "[encoded data removed]",
      "text/plain": [
       "<matplotlib.figure.Figure at 0x113658898>"
      ]
     },
     "metadata": {},
     "output_type": "display_data"
    },
    {
     "data": {
      "image/png": "[encoded data removed]",
      "text/plain": [
       "<matplotlib.figure.Figure at 0x1169beb70>"
      ]
     },
     "metadata": {},
     "output_type": "display_data"
    }
   ],
   "source": [
    "plt.figure(figsize=(5, 3))\n",
    "plt.plot(range(3), rf_tr_scores)\n",
    "plt.plot(range(3), rf_te_scores)\n",
    "plt.title('GB Test-Train Score growth with Data Transformation', fontsize=8)\n",
    "plt.yticks(fontsize=8)\n",
    "\n",
    "plt.figure(figsize=(5, 3))\n",
    "plt.bar(range(3), rf_diff)\n",
    "plt.title('GB Test-Train Score Differences during Data Transformation(DT) stages', fontsize=8)\n",
    "plt.xticks(np.arange(len(names)) + .4, names, fontsize=8)\n",
    "plt.yticks(fontsize=8)"
   ]
  },
  {
   "cell_type": "code",
   "execution_count": 28,
   "metadata": {
    "collapsed": true
   },
   "outputs": [],
   "source": [
    "for each in dir():\n",
    "    if each not in crazy_list:\n",
    "        del each"
   ]
  }
 ],
 "metadata": {
  "kernelspec": {
   "display_name": "Python 3",
   "language": "python",
   "name": "python3"
  },
  "language_info": {
   "codemirror_mode": {
    "name": "ipython",
    "version": 3
   },
   "file_extension": ".py",
   "mimetype": "text/x-python",
   "name": "python",
   "nbconvert_exporter": "python",
   "pygments_lexer": "ipython3",
   "version": "3.5.2"
  }
 },
 "nbformat": 4,
 "nbformat_minor": 2
}
