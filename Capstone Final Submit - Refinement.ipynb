{
 "cells": [
  {
   "cell_type": "code",
   "execution_count": 1,
   "metadata": {
    "collapsed": true
   },
   "outputs": [],
   "source": [
    "import numpy as np\n",
    "import pandas as pd\n",
    "import matplotlib.pyplot as plt\n",
    "import seaborn as sns\n",
    "import pickle\n",
    "\n",
    "# from scripts.sam_value_counts import sam_dataframe_cols_value_count_analysis, sam_dataframe_markup_value_counts\n",
    "# from scripts.sam_confusion_matrix import sam_plot_confusion_matrix, sam_confusion_maxtrix\n",
    "# from scripts.sam_variance_check import get_low_variance_columns\n",
    "from scripts.tools import check_metric, data_transformations, df_check_stats, game, sam_pickle_save, sam_pickle_load\n",
    "\n",
    "\n",
    "from sklearn.model_selection import train_test_split, GridSearchCV, RandomizedSearchCV\n",
    "\n",
    "from sklearn.ensemble import RandomForestClassifier\n",
    "from sklearn.multiclass import OneVsOneClassifier, OneVsRestClassifier\n",
    "\n",
    "np.set_printoptions(precision=5)\n",
    "np.random.seed(69572)\n",
    "plt.style.use('ggplot')\n",
    "sns.set(color_codes=True)\n",
    "\n",
    "%matplotlib inline"
   ]
  },
  {
   "cell_type": "code",
   "execution_count": 2,
   "metadata": {
    "collapsed": true
   },
   "outputs": [],
   "source": [
    "crazy_list = dir()"
   ]
  },
  {
   "cell_type": "code",
   "execution_count": 3,
   "metadata": {
    "collapsed": true
   },
   "outputs": [],
   "source": [
    "for each in dir():\n",
    "    if each not in crazy_list:\n",
    "        del each"
   ]
  },
  {
   "cell_type": "markdown",
   "metadata": {},
   "source": [
    "## MultiClass"
   ]
  },
  {
   "cell_type": "code",
   "execution_count": 10,
   "metadata": {
    "collapsed": false,
    "scrolled": true
   },
   "outputs": [
    {
     "name": "stdout",
     "output_type": "stream",
     "text": [
      "LOAD PREFIX USED:  tmp/Iteration2_final_\n",
      "Data Frame Shape: (59400, 43) TotColumns: 43 ObjectCols: 0\n",
      "Numpy Array Size: 59400\n",
      "Data Frame Shape: (14850, 43) TotColumns: 43 ObjectCols: 0\n",
      "--\n"
     ]
    }
   ],
   "source": [
    "X, y, TEST_X = sam_pickle_load(prefix=\"tmp/Iteration2_final_\")\n",
    "df_check_stats(X, y, TEST_X)\n",
    "print('--')\n",
    "# X_train, X_test, y_train, y_test = train_test_split(X, y, test_size=0.25,random_state=42, stratify=y)\n",
    "# clf = game(X_train, X_test, y_train, y_test, algo='rf',)"
   ]
  },
  {
   "cell_type": "code",
   "execution_count": 11,
   "metadata": {
    "collapsed": true
   },
   "outputs": [],
   "source": [
    "from sklearn.model_selection import cross_val_score"
   ]
  },
  {
   "cell_type": "code",
   "execution_count": 13,
   "metadata": {
    "collapsed": false
   },
   "outputs": [],
   "source": [
    "clf = OneVsOneClassifier(RandomForestClassifier(random_state=192))\n",
    "\n",
    "scores = cross_val_score(clf, X, y, cv=5)"
   ]
  },
  {
   "cell_type": "code",
   "execution_count": 17,
   "metadata": {
    "collapsed": false
   },
   "outputs": [
    {
     "data": {
      "text/plain": [
       "0.8018012331593759"
      ]
     },
     "execution_count": 17,
     "metadata": {},
     "output_type": "execute_result"
    }
   ],
   "source": [
    "sum(scores) / 5"
   ]
  },
  {
   "cell_type": "code",
   "execution_count": 18,
   "metadata": {
    "collapsed": true
   },
   "outputs": [],
   "source": [
    "clf = OneVsRestClassifier(RandomForestClassifier(random_state=192))\n",
    "\n",
    "scores = cross_val_score(clf, X, y, cv=5)"
   ]
  },
  {
   "cell_type": "code",
   "execution_count": 19,
   "metadata": {
    "collapsed": false
   },
   "outputs": [
    {
     "data": {
      "text/plain": [
       "0.80018511404371573"
      ]
     },
     "execution_count": 19,
     "metadata": {},
     "output_type": "execute_result"
    }
   ],
   "source": [
    "sum(scores) / 5"
   ]
  },
  {
   "cell_type": "markdown",
   "metadata": {},
   "source": [
    "## Fine Tuning"
   ]
  },
  {
   "cell_type": "code",
   "execution_count": null,
   "metadata": {
    "collapsed": true
   },
   "outputs": [],
   "source": [
    "X, y, TEST_X = sam_pickle_load(prefix=\"tmp/Iteration2_final_\")\n",
    "df_check_stats(X, y, TEST_X)\n",
    "print('--')\n",
    "# X_train, X_test, y_train, y_test = train_test_split(X, y, test_size=0.25,random_state=42, stratify=y)\n",
    "# clf = game(X_train, X_test, y_train, y_test, algo='rf',)"
   ]
  },
  {
   "cell_type": "code",
   "execution_count": 5,
   "metadata": {
    "collapsed": false
   },
   "outputs": [
    {
     "data": {
      "text/plain": [
       "RandomizedSearchCV(cv=None, error_score='raise',\n",
       "          estimator=RandomForestClassifier(bootstrap=True, class_weight=None, criterion='gini',\n",
       "            max_depth=None, max_features='auto', max_leaf_nodes=None,\n",
       "            min_impurity_split=1e-07, min_samples_leaf=1,\n",
       "            min_samples_split=2, min_weight_fraction_leaf=0.0,\n",
       "            n_estimators=10, n_jobs=1, oob_score=False, random_state=None,\n",
       "            verbose=0, warm_start=False),\n",
       "          fit_params={}, iid=True, n_iter=10, n_jobs=1,\n",
       "          param_distributions={'max_features': ['log2', 'auto', 25], 'random_state': [192], 'n_estimators': [10, 50, 100, 150, 200], 'class_weight': ['balanced_subsample', 'balanced'], 'criterion': ['gini', 'entropy']},\n",
       "          pre_dispatch='2*n_jobs', random_state=None, refit=True,\n",
       "          return_train_score=True, scoring=None, verbose=0)"
      ]
     },
     "execution_count": 5,
     "metadata": {},
     "output_type": "execute_result"
    }
   ],
   "source": [
    "parameters = {\n",
    "    'n_estimators': [10, 50, 100, 150, 200],\n",
    "    'class_weight': ['balanced_subsample', 'balanced'],\n",
    "    'criterion': ['gini', 'entropy'],\n",
    "    'max_features': ['log2', 'auto', 25],\n",
    "    'random_state': [192]\n",
    "}\n",
    "\n",
    "# clf_rf = RandomForestClassifier(n_estimators=150, criterion='entropy', class_weight=\"balanced_subsample\", n_jobs=-1, random_state=192)\n",
    "# 0.81346801346801345\n",
    "\n",
    "GS_CV = RandomizedSearchCV(RandomForestClassifier(), parameters)\n",
    "\n",
    "GS_CV.fit(X, y)"
   ]
  },
  {
   "cell_type": "code",
   "execution_count": 7,
   "metadata": {
    "collapsed": false
   },
   "outputs": [
    {
     "name": "stdout",
     "output_type": "stream",
     "text": [
      "{'class_weight': 'balanced', 'random_state': 192, 'n_estimators': 200, 'criterion': 'gini', 'max_features': 'auto'} 0.807053872054\n"
     ]
    }
   ],
   "source": [
    "print(GS_CV.best_params_, GS_CV.best_score_)\n",
    "\n",
    "cv_results = pd.DataFrame(GS_CV.cv_results_, columns=[u'mean_fit_time', u'mean_score_time', u'mean_test_score',\n",
    "       u'mean_train_score', u'param_class_weight', u'param_criterion',\n",
    "       u'param_max_features', u'param_n_estimators', u'params'])"
   ]
  },
  {
   "cell_type": "code",
   "execution_count": 8,
   "metadata": {
    "collapsed": false
   },
   "outputs": [
    {
     "data": {
      "text/html": [
       "<div>\n",
       "<table border=\"1\" class=\"dataframe\">\n",
       "  <thead>\n",
       "    <tr style=\"text-align: right;\">\n",
       "      <th></th>\n",
       "      <th>mean_fit_time</th>\n",
       "      <th>mean_score_time</th>\n",
       "      <th>mean_test_score</th>\n",
       "      <th>mean_train_score</th>\n",
       "      <th>param_class_weight</th>\n",
       "      <th>param_criterion</th>\n",
       "      <th>param_max_features</th>\n",
       "      <th>param_n_estimators</th>\n",
       "      <th>params</th>\n",
       "    </tr>\n",
       "  </thead>\n",
       "  <tbody>\n",
       "    <tr>\n",
       "      <th>0</th>\n",
       "      <td>19.282804</td>\n",
       "      <td>1.360089</td>\n",
       "      <td>0.807054</td>\n",
       "      <td>0.999949</td>\n",
       "      <td>balanced</td>\n",
       "      <td>gini</td>\n",
       "      <td>auto</td>\n",
       "      <td>200</td>\n",
       "      <td>{'class_weight': 'balanced', 'random_state': 1...</td>\n",
       "    </tr>\n",
       "    <tr>\n",
       "      <th>1</th>\n",
       "      <td>66.549496</td>\n",
       "      <td>0.916581</td>\n",
       "      <td>0.805943</td>\n",
       "      <td>0.999949</td>\n",
       "      <td>balanced_subsample</td>\n",
       "      <td>entropy</td>\n",
       "      <td>25</td>\n",
       "      <td>150</td>\n",
       "      <td>{'class_weight': 'balanced_subsample', 'random...</td>\n",
       "    </tr>\n",
       "    <tr>\n",
       "      <th>2</th>\n",
       "      <td>5.008238</td>\n",
       "      <td>0.325644</td>\n",
       "      <td>0.805152</td>\n",
       "      <td>0.999377</td>\n",
       "      <td>balanced_subsample</td>\n",
       "      <td>gini</td>\n",
       "      <td>auto</td>\n",
       "      <td>50</td>\n",
       "      <td>{'class_weight': 'balanced_subsample', 'random...</td>\n",
       "    </tr>\n",
       "    <tr>\n",
       "      <th>3</th>\n",
       "      <td>1.137362</td>\n",
       "      <td>0.064202</td>\n",
       "      <td>0.794343</td>\n",
       "      <td>0.984655</td>\n",
       "      <td>balanced_subsample</td>\n",
       "      <td>entropy</td>\n",
       "      <td>log2</td>\n",
       "      <td>10</td>\n",
       "      <td>{'class_weight': 'balanced_subsample', 'random...</td>\n",
       "    </tr>\n",
       "    <tr>\n",
       "      <th>4</th>\n",
       "      <td>0.909334</td>\n",
       "      <td>0.067301</td>\n",
       "      <td>0.794024</td>\n",
       "      <td>0.984453</td>\n",
       "      <td>balanced_subsample</td>\n",
       "      <td>gini</td>\n",
       "      <td>log2</td>\n",
       "      <td>10</td>\n",
       "      <td>{'class_weight': 'balanced_subsample', 'random...</td>\n",
       "    </tr>\n",
       "    <tr>\n",
       "      <th>5</th>\n",
       "      <td>8.789265</td>\n",
       "      <td>0.646884</td>\n",
       "      <td>0.806178</td>\n",
       "      <td>0.999933</td>\n",
       "      <td>balanced_subsample</td>\n",
       "      <td>gini</td>\n",
       "      <td>log2</td>\n",
       "      <td>100</td>\n",
       "      <td>{'class_weight': 'balanced_subsample', 'random...</td>\n",
       "    </tr>\n",
       "    <tr>\n",
       "      <th>6</th>\n",
       "      <td>86.707606</td>\n",
       "      <td>1.251047</td>\n",
       "      <td>0.806145</td>\n",
       "      <td>0.999949</td>\n",
       "      <td>balanced_subsample</td>\n",
       "      <td>entropy</td>\n",
       "      <td>25</td>\n",
       "      <td>200</td>\n",
       "      <td>{'class_weight': 'balanced_subsample', 'random...</td>\n",
       "    </tr>\n",
       "    <tr>\n",
       "      <th>7</th>\n",
       "      <td>41.695712</td>\n",
       "      <td>0.599706</td>\n",
       "      <td>0.805556</td>\n",
       "      <td>0.999924</td>\n",
       "      <td>balanced</td>\n",
       "      <td>entropy</td>\n",
       "      <td>25</td>\n",
       "      <td>100</td>\n",
       "      <td>{'class_weight': 'balanced', 'random_state': 1...</td>\n",
       "    </tr>\n",
       "    <tr>\n",
       "      <th>8</th>\n",
       "      <td>66.118829</td>\n",
       "      <td>1.253683</td>\n",
       "      <td>0.805320</td>\n",
       "      <td>0.999949</td>\n",
       "      <td>balanced</td>\n",
       "      <td>gini</td>\n",
       "      <td>25</td>\n",
       "      <td>200</td>\n",
       "      <td>{'class_weight': 'balanced', 'random_state': 1...</td>\n",
       "    </tr>\n",
       "    <tr>\n",
       "      <th>9</th>\n",
       "      <td>32.725240</td>\n",
       "      <td>0.642278</td>\n",
       "      <td>0.804630</td>\n",
       "      <td>0.999916</td>\n",
       "      <td>balanced</td>\n",
       "      <td>gini</td>\n",
       "      <td>25</td>\n",
       "      <td>100</td>\n",
       "      <td>{'class_weight': 'balanced', 'random_state': 1...</td>\n",
       "    </tr>\n",
       "  </tbody>\n",
       "</table>\n",
       "</div>"
      ],
      "text/plain": [
       "   mean_fit_time  mean_score_time  mean_test_score  mean_train_score  \\\n",
       "0      19.282804         1.360089         0.807054          0.999949   \n",
       "1      66.549496         0.916581         0.805943          0.999949   \n",
       "2       5.008238         0.325644         0.805152          0.999377   \n",
       "3       1.137362         0.064202         0.794343          0.984655   \n",
       "4       0.909334         0.067301         0.794024          0.984453   \n",
       "5       8.789265         0.646884         0.806178          0.999933   \n",
       "6      86.707606         1.251047         0.806145          0.999949   \n",
       "7      41.695712         0.599706         0.805556          0.999924   \n",
       "8      66.118829         1.253683         0.805320          0.999949   \n",
       "9      32.725240         0.642278         0.804630          0.999916   \n",
       "\n",
       "   param_class_weight param_criterion param_max_features param_n_estimators  \\\n",
       "0            balanced            gini               auto                200   \n",
       "1  balanced_subsample         entropy                 25                150   \n",
       "2  balanced_subsample            gini               auto                 50   \n",
       "3  balanced_subsample         entropy               log2                 10   \n",
       "4  balanced_subsample            gini               log2                 10   \n",
       "5  balanced_subsample            gini               log2                100   \n",
       "6  balanced_subsample         entropy                 25                200   \n",
       "7            balanced         entropy                 25                100   \n",
       "8            balanced            gini                 25                200   \n",
       "9            balanced            gini                 25                100   \n",
       "\n",
       "                                              params  \n",
       "0  {'class_weight': 'balanced', 'random_state': 1...  \n",
       "1  {'class_weight': 'balanced_subsample', 'random...  \n",
       "2  {'class_weight': 'balanced_subsample', 'random...  \n",
       "3  {'class_weight': 'balanced_subsample', 'random...  \n",
       "4  {'class_weight': 'balanced_subsample', 'random...  \n",
       "5  {'class_weight': 'balanced_subsample', 'random...  \n",
       "6  {'class_weight': 'balanced_subsample', 'random...  \n",
       "7  {'class_weight': 'balanced', 'random_state': 1...  \n",
       "8  {'class_weight': 'balanced', 'random_state': 1...  \n",
       "9  {'class_weight': 'balanced', 'random_state': 1...  "
      ]
     },
     "execution_count": 8,
     "metadata": {},
     "output_type": "execute_result"
    }
   ],
   "source": [
    "cv_results"
   ]
  },
  {
   "cell_type": "markdown",
   "metadata": {},
   "source": [
    "# Results"
   ]
  },
  {
   "cell_type": "code",
   "execution_count": 20,
   "metadata": {
    "collapsed": false,
    "scrolled": true
   },
   "outputs": [
    {
     "data": {
      "text/plain": [
       "{'class_weight': 'balanced',\n",
       " 'criterion': 'gini',\n",
       " 'max_features': 'auto',\n",
       " 'n_estimators': 200,\n",
       " 'random_state': 192}"
      ]
     },
     "execution_count": 20,
     "metadata": {},
     "output_type": "execute_result"
    }
   ],
   "source": [
    "GS_CV.best_params_"
   ]
  },
  {
   "cell_type": "code",
   "execution_count": 21,
   "metadata": {
    "collapsed": false
   },
   "outputs": [
    {
     "name": "stdout",
     "output_type": "stream",
     "text": [
      "[ 0.81803  0.8113   0.81456  0.80926  0.80931]\n"
     ]
    }
   ],
   "source": [
    "clf = OneVsRestClassifier(RandomForestClassifier(n_estimators=200, criterion='gini', max_features='auto', random_state=192))\n",
    "\n",
    "scores = cross_val_score(clf, X, y, cv=5)\n",
    "\n",
    "print(scores)"
   ]
  },
  {
   "cell_type": "code",
   "execution_count": 22,
   "metadata": {
    "collapsed": false
   },
   "outputs": [
    {
     "data": {
      "text/plain": [
       "0.81249140233220185"
      ]
     },
     "execution_count": 22,
     "metadata": {},
     "output_type": "execute_result"
    }
   ],
   "source": [
    "sum(scores)/ 5"
   ]
  },
  {
   "cell_type": "markdown",
   "metadata": {},
   "source": [
    "# Submit"
   ]
  },
  {
   "cell_type": "code",
   "execution_count": null,
   "metadata": {
    "collapsed": true
   },
   "outputs": [],
   "source": [
    "clf = OneVsRestClassifier(RandomForestClassifier(n_estimators=200, criterion='gini', max_features='auto', random_state=192))\n",
    "clf = clf.fit(X, y)\n",
    "\n",
    "# saving the index\n",
    "test_ids = RAW_TEST_X.index\n",
    "\n",
    "# predicint the values\n",
    "predictions = clf.predict(TEST_X)\n",
    "print(predictions.shape)\n",
    "\n",
    "# Converting int to its respective Labels\n",
    "predictions_labels = le.inverse_transform(predictions)\n",
    "\n",
    "# setting up column name & save file\n",
    "sub = pd.DataFrame(predictions_labels, columns=['status_group'])\n",
    "sub.head()\n",
    "sub.insert(loc=0, column='id', value=test_ids)\n",
    "sub.reset_index()\n",
    "sub.to_csv('submit.csv', index=False)\n",
    "sub.head()"
   ]
  },
  {
   "cell_type": "code",
   "execution_count": null,
   "metadata": {
    "collapsed": true
   },
   "outputs": [],
   "source": []
  }
 ],
 "metadata": {
  "kernelspec": {
   "display_name": "Python 3",
   "language": "python",
   "name": "python3"
  },
  "language_info": {
   "codemirror_mode": {
    "name": "ipython",
    "version": 3
   },
   "file_extension": ".py",
   "mimetype": "text/x-python",
   "name": "python",
   "nbconvert_exporter": "python",
   "pygments_lexer": "ipython3",
   "version": "3.5.2"
  }
 },
 "nbformat": 4,
 "nbformat_minor": 2
}
